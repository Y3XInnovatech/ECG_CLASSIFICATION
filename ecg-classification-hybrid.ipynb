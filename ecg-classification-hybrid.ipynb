{
 "cells": [
  {
   "cell_type": "code",
   "execution_count": 2,
   "id": "f654cbd4",
   "metadata": {
    "execution": {
     "iopub.execute_input": "2024-11-16T17:31:26.315661Z",
     "iopub.status.busy": "2024-11-16T17:31:26.315248Z",
     "iopub.status.idle": "2024-11-16T17:31:39.078538Z",
     "shell.execute_reply": "2024-11-16T17:31:39.077426Z",
     "shell.execute_reply.started": "2024-11-16T17:31:26.315623Z"
    },
    "id": "27xqfiI1axUM",
    "papermill": {
     "duration": 0.986306,
     "end_time": "2024-08-07T05:33:43.602883",
     "exception": false,
     "start_time": "2024-08-07T05:33:42.616577",
     "status": "completed"
    },
    "tags": [],
    "trusted": true
   },
   "outputs": [
    {
     "name": "stdout",
     "output_type": "stream",
     "text": [
      "Collecting wfdb\n",
      "  Downloading wfdb-4.1.2-py3-none-any.whl.metadata (4.3 kB)\n",
      "Requirement already satisfied: SoundFile>=0.10.0 in /opt/conda/lib/python3.10/site-packages (from wfdb) (0.12.1)\n",
      "Requirement already satisfied: matplotlib>=3.2.2 in /opt/conda/lib/python3.10/site-packages (from wfdb) (3.7.5)\n",
      "Requirement already satisfied: numpy>=1.10.1 in /opt/conda/lib/python3.10/site-packages (from wfdb) (1.26.4)\n",
      "Requirement already satisfied: pandas>=1.3.0 in /opt/conda/lib/python3.10/site-packages (from wfdb) (2.2.2)\n",
      "Requirement already satisfied: requests>=2.8.1 in /opt/conda/lib/python3.10/site-packages (from wfdb) (2.32.3)\n",
      "Requirement already satisfied: scipy>=1.0.0 in /opt/conda/lib/python3.10/site-packages (from wfdb) (1.14.1)\n",
      "Requirement already satisfied: contourpy>=1.0.1 in /opt/conda/lib/python3.10/site-packages (from matplotlib>=3.2.2->wfdb) (1.2.1)\n",
      "Requirement already satisfied: cycler>=0.10 in /opt/conda/lib/python3.10/site-packages (from matplotlib>=3.2.2->wfdb) (0.12.1)\n",
      "Requirement already satisfied: fonttools>=4.22.0 in /opt/conda/lib/python3.10/site-packages (from matplotlib>=3.2.2->wfdb) (4.53.0)\n",
      "Requirement already satisfied: kiwisolver>=1.0.1 in /opt/conda/lib/python3.10/site-packages (from matplotlib>=3.2.2->wfdb) (1.4.5)\n",
      "Requirement already satisfied: packaging>=20.0 in /opt/conda/lib/python3.10/site-packages (from matplotlib>=3.2.2->wfdb) (21.3)\n",
      "Requirement already satisfied: pillow>=6.2.0 in /opt/conda/lib/python3.10/site-packages (from matplotlib>=3.2.2->wfdb) (10.3.0)\n",
      "Requirement already satisfied: pyparsing>=2.3.1 in /opt/conda/lib/python3.10/site-packages (from matplotlib>=3.2.2->wfdb) (3.1.2)\n",
      "Requirement already satisfied: python-dateutil>=2.7 in /opt/conda/lib/python3.10/site-packages (from matplotlib>=3.2.2->wfdb) (2.9.0.post0)\n",
      "Requirement already satisfied: pytz>=2020.1 in /opt/conda/lib/python3.10/site-packages (from pandas>=1.3.0->wfdb) (2024.1)\n",
      "Requirement already satisfied: tzdata>=2022.7 in /opt/conda/lib/python3.10/site-packages (from pandas>=1.3.0->wfdb) (2024.1)\n",
      "Requirement already satisfied: charset-normalizer<4,>=2 in /opt/conda/lib/python3.10/site-packages (from requests>=2.8.1->wfdb) (3.3.2)\n",
      "Requirement already satisfied: idna<4,>=2.5 in /opt/conda/lib/python3.10/site-packages (from requests>=2.8.1->wfdb) (3.7)\n",
      "Requirement already satisfied: urllib3<3,>=1.21.1 in /opt/conda/lib/python3.10/site-packages (from requests>=2.8.1->wfdb) (1.26.18)\n",
      "Requirement already satisfied: certifi>=2017.4.17 in /opt/conda/lib/python3.10/site-packages (from requests>=2.8.1->wfdb) (2024.8.30)\n",
      "Requirement already satisfied: cffi>=1.0 in /opt/conda/lib/python3.10/site-packages (from SoundFile>=0.10.0->wfdb) (1.16.0)\n",
      "Requirement already satisfied: pycparser in /opt/conda/lib/python3.10/site-packages (from cffi>=1.0->SoundFile>=0.10.0->wfdb) (2.22)\n",
      "Requirement already satisfied: six>=1.5 in /opt/conda/lib/python3.10/site-packages (from python-dateutil>=2.7->matplotlib>=3.2.2->wfdb) (1.16.0)\n",
      "Downloading wfdb-4.1.2-py3-none-any.whl (159 kB)\n",
      "\u001b[2K   \u001b[90m━━━━━━━━━━━━━━━━━━━━━━━━━━━━━━━━━━━━━━━━\u001b[0m \u001b[32m160.0/160.0 kB\u001b[0m \u001b[31m3.7 MB/s\u001b[0m eta \u001b[36m0:00:00\u001b[0ma \u001b[36m0:00:01\u001b[0m\n",
      "\u001b[?25hInstalling collected packages: wfdb\n",
      "Successfully installed wfdb-4.1.2\n",
      "Note: you may need to restart the kernel to use updated packages.\n"
     ]
    }
   ],
   "source": [
    "pip install wfdb"
   ]
  },
  {
   "cell_type": "code",
   "execution_count": 3,
   "id": "05b222e3",
   "metadata": {
    "execution": {
     "iopub.execute_input": "2024-11-16T17:31:39.080905Z",
     "iopub.status.busy": "2024-11-16T17:31:39.080575Z",
     "iopub.status.idle": "2024-11-16T17:31:39.121798Z",
     "shell.execute_reply": "2024-11-16T17:31:39.121027Z",
     "shell.execute_reply.started": "2024-11-16T17:31:39.080869Z"
    },
    "trusted": true
   },
   "outputs": [],
   "source": [
    "import pandas as pd\n",
    "import numpy as np\n",
    "import wfdb\n",
    "import ast"
   ]
  },
  {
   "cell_type": "code",
   "execution_count": 4,
   "id": "27e823bb",
   "metadata": {
    "execution": {
     "iopub.execute_input": "2024-11-16T17:31:39.123702Z",
     "iopub.status.busy": "2024-11-16T17:31:39.123274Z",
     "iopub.status.idle": "2024-11-16T17:31:39.127818Z",
     "shell.execute_reply": "2024-11-16T17:31:39.126792Z",
     "shell.execute_reply.started": "2024-11-16T17:31:39.123649Z"
    },
    "papermill": {
     "duration": 0.01699,
     "end_time": "2024-08-07T05:33:43.627982",
     "exception": false,
     "start_time": "2024-08-07T05:33:43.610992",
     "status": "completed"
    },
    "tags": [],
    "trusted": true
   },
   "outputs": [],
   "source": [
    "import os"
   ]
  },
  {
   "cell_type": "code",
   "execution_count": 5,
   "id": "205eadcb",
   "metadata": {
    "execution": {
     "iopub.execute_input": "2024-11-16T17:31:39.130587Z",
     "iopub.status.busy": "2024-11-16T17:31:39.130162Z",
     "iopub.status.idle": "2024-11-16T17:31:39.136986Z",
     "shell.execute_reply": "2024-11-16T17:31:39.136098Z",
     "shell.execute_reply.started": "2024-11-16T17:31:39.130541Z"
    },
    "id": "YqzHkAQva65_",
    "papermill": {
     "duration": 0.018488,
     "end_time": "2024-08-07T05:33:43.654595",
     "exception": false,
     "start_time": "2024-08-07T05:33:43.636107",
     "status": "completed"
    },
    "tags": [],
    "trusted": true
   },
   "outputs": [],
   "source": [
    "def load_raw_data(df, sampling_rate, path):\n",
    "    if sampling_rate == 100:\n",
    "        data = [wfdb.rdsamp(os.path.join(path,f)) for f in df.filename_lr]\n",
    "    else:\n",
    "        data = [wfdb.rdsamp(os.path.join(path,f)) for f in df.filename_hr]\n",
    "    data = np.array([signal for signal, meta in data])\n",
    "    return data"
   ]
  },
  {
   "cell_type": "code",
   "execution_count": 6,
   "id": "e832bae4",
   "metadata": {
    "execution": {
     "iopub.execute_input": "2024-11-16T17:31:39.138547Z",
     "iopub.status.busy": "2024-11-16T17:31:39.138130Z",
     "iopub.status.idle": "2024-11-16T17:31:39.864545Z",
     "shell.execute_reply": "2024-11-16T17:31:39.863545Z",
     "shell.execute_reply.started": "2024-11-16T17:31:39.138500Z"
    },
    "id": "NB_CTNPE9zMB",
    "outputId": "32ce9598-6ace-4711-c233-769aa14595e7",
    "papermill": {
     "duration": 0.746969,
     "end_time": "2024-08-07T05:33:44.410162",
     "exception": false,
     "start_time": "2024-08-07T05:33:43.663193",
     "status": "completed"
    },
    "tags": [],
    "trusted": true
   },
   "outputs": [],
   "source": [
    "path='/kaggle/input/ecg-data/ptb-xl-a-large-publicly-available-electrocardiography-dataset-1.0.3/'\n",
    "sampling_rate=100\n",
    "\n",
    "# load and convert annotation data\n",
    "Y = pd.read_csv(os.path.join(path,'ptbxl_database.csv'), index_col='ecg_id')\n",
    "Y.scp_codes = Y.scp_codes.apply(lambda x: ast.literal_eval(x))\n"
   ]
  },
  {
   "cell_type": "code",
   "execution_count": 7,
   "id": "1841d2bf",
   "metadata": {
    "execution": {
     "iopub.execute_input": "2024-11-16T17:31:39.866091Z",
     "iopub.status.busy": "2024-11-16T17:31:39.865768Z",
     "iopub.status.idle": "2024-11-16T17:31:39.876986Z",
     "shell.execute_reply": "2024-11-16T17:31:39.876002Z",
     "shell.execute_reply.started": "2024-11-16T17:31:39.866058Z"
    },
    "id": "ac3IDEF5-sFT",
    "papermill": {
     "duration": 0.02467,
     "end_time": "2024-08-07T05:33:44.443024",
     "exception": false,
     "start_time": "2024-08-07T05:33:44.418354",
     "status": "completed"
    },
    "tags": [],
    "trusted": true
   },
   "outputs": [
    {
     "data": {
      "text/plain": [
       "ecg_id\n",
       "1                 {'NORM': 100.0, 'LVOLT': 0.0, 'SR': 0.0}\n",
       "2                             {'NORM': 80.0, 'SBRAD': 0.0}\n",
       "3                               {'NORM': 100.0, 'SR': 0.0}\n",
       "4                               {'NORM': 100.0, 'SR': 0.0}\n",
       "5                               {'NORM': 100.0, 'SR': 0.0}\n",
       "                               ...                        \n",
       "21833    {'NDT': 100.0, 'PVC': 100.0, 'VCLVH': 0.0, 'ST...\n",
       "21834             {'NORM': 100.0, 'ABQRS': 0.0, 'SR': 0.0}\n",
       "21835                           {'ISCAS': 50.0, 'SR': 0.0}\n",
       "21836                           {'NORM': 100.0, 'SR': 0.0}\n",
       "21837                           {'NORM': 100.0, 'SR': 0.0}\n",
       "Name: scp_codes, Length: 21799, dtype: object"
      ]
     },
     "execution_count": 7,
     "metadata": {},
     "output_type": "execute_result"
    }
   ],
   "source": [
    "Y.scp_codes "
   ]
  },
  {
   "cell_type": "code",
   "execution_count": 8,
   "id": "1446a0b5",
   "metadata": {
    "execution": {
     "iopub.execute_input": "2024-11-16T17:31:39.878495Z",
     "iopub.status.busy": "2024-11-16T17:31:39.878121Z",
     "iopub.status.idle": "2024-11-16T17:31:39.885522Z",
     "shell.execute_reply": "2024-11-16T17:31:39.884682Z",
     "shell.execute_reply.started": "2024-11-16T17:31:39.878451Z"
    },
    "papermill": {
     "duration": 0.019655,
     "end_time": "2024-08-07T05:33:44.470944",
     "exception": false,
     "start_time": "2024-08-07T05:33:44.451289",
     "status": "completed"
    },
    "tags": [],
    "trusted": true
   },
   "outputs": [
    {
     "data": {
      "text/plain": [
       "(21799,)"
      ]
     },
     "execution_count": 8,
     "metadata": {},
     "output_type": "execute_result"
    }
   ],
   "source": [
    "Y.scp_codes.shape"
   ]
  },
  {
   "cell_type": "code",
   "execution_count": 9,
   "id": "f96791b3",
   "metadata": {
    "execution": {
     "iopub.execute_input": "2024-11-16T17:31:39.887016Z",
     "iopub.status.busy": "2024-11-16T17:31:39.886716Z",
     "iopub.status.idle": "2024-11-16T17:36:09.761056Z",
     "shell.execute_reply": "2024-11-16T17:36:09.760125Z",
     "shell.execute_reply.started": "2024-11-16T17:31:39.886985Z"
    },
    "papermill": {
     "duration": 369.945071,
     "end_time": "2024-08-07T05:39:54.425543",
     "exception": false,
     "start_time": "2024-08-07T05:33:44.480472",
     "status": "completed"
    },
    "tags": [],
    "trusted": true
   },
   "outputs": [],
   "source": [
    "X = load_raw_data(Y, sampling_rate, path)"
   ]
  },
  {
   "cell_type": "code",
   "execution_count": 10,
   "id": "e59303bf",
   "metadata": {
    "execution": {
     "iopub.execute_input": "2024-11-16T17:36:09.762556Z",
     "iopub.status.busy": "2024-11-16T17:36:09.762230Z",
     "iopub.status.idle": "2024-11-16T17:36:09.773160Z",
     "shell.execute_reply": "2024-11-16T17:36:09.772321Z",
     "shell.execute_reply.started": "2024-11-16T17:36:09.762523Z"
    },
    "papermill": {
     "duration": 0.030782,
     "end_time": "2024-08-07T05:39:54.464764",
     "exception": false,
     "start_time": "2024-08-07T05:39:54.433982",
     "status": "completed"
    },
    "tags": [],
    "trusted": true
   },
   "outputs": [],
   "source": [
    "agg_df = pd.read_csv(os.path.join(path,'scp_statements.csv'), index_col=0)\n",
    "agg_df = agg_df[agg_df.diagnostic == 1]\n"
   ]
  },
  {
   "cell_type": "code",
   "execution_count": 11,
   "id": "446413cb",
   "metadata": {
    "execution": {
     "iopub.execute_input": "2024-11-16T17:36:09.777333Z",
     "iopub.status.busy": "2024-11-16T17:36:09.777018Z",
     "iopub.status.idle": "2024-11-16T17:36:09.782730Z",
     "shell.execute_reply": "2024-11-16T17:36:09.781669Z",
     "shell.execute_reply.started": "2024-11-16T17:36:09.777300Z"
    },
    "papermill": {
     "duration": 0.018391,
     "end_time": "2024-08-07T05:39:54.491486",
     "exception": false,
     "start_time": "2024-08-07T05:39:54.473095",
     "status": "completed"
    },
    "tags": [],
    "trusted": true
   },
   "outputs": [],
   "source": [
    "def aggregate_diagnostic(y_dic):\n",
    "    tmp = []\n",
    "    for key in y_dic.keys():\n",
    "        if key in agg_df.index:\n",
    "            tmp.append(agg_df.loc[key].diagnostic_class)\n",
    "    return list(set(tmp))"
   ]
  },
  {
   "cell_type": "code",
   "execution_count": 12,
   "id": "00c201f5",
   "metadata": {
    "execution": {
     "iopub.execute_input": "2024-11-16T17:36:09.784317Z",
     "iopub.status.busy": "2024-11-16T17:36:09.783966Z",
     "iopub.status.idle": "2024-11-16T17:36:12.095964Z",
     "shell.execute_reply": "2024-11-16T17:36:12.095069Z",
     "shell.execute_reply.started": "2024-11-16T17:36:09.784275Z"
    },
    "papermill": {
     "duration": 2.395536,
     "end_time": "2024-08-07T05:39:56.895184",
     "exception": false,
     "start_time": "2024-08-07T05:39:54.499648",
     "status": "completed"
    },
    "tags": [],
    "trusted": true
   },
   "outputs": [],
   "source": [
    "Y['diagnostic_superclass'] = Y.scp_codes.apply(aggregate_diagnostic)"
   ]
  },
  {
   "cell_type": "code",
   "execution_count": 13,
   "id": "1b9f6e25",
   "metadata": {
    "execution": {
     "iopub.execute_input": "2024-11-16T17:36:12.097433Z",
     "iopub.status.busy": "2024-11-16T17:36:12.097085Z",
     "iopub.status.idle": "2024-11-16T17:36:12.684891Z",
     "shell.execute_reply": "2024-11-16T17:36:12.683997Z",
     "shell.execute_reply.started": "2024-11-16T17:36:12.097384Z"
    },
    "papermill": {
     "duration": 0.930014,
     "end_time": "2024-08-07T05:39:57.833369",
     "exception": false,
     "start_time": "2024-08-07T05:39:56.903355",
     "status": "completed"
    },
    "tags": [],
    "trusted": true
   },
   "outputs": [],
   "source": [
    "test_fold = 10\n",
    "\n",
    "X_train = X[np.where(Y.strat_fold != test_fold)]\n",
    "y_train = Y[(Y.strat_fold != test_fold)].diagnostic_superclass\n",
    "\n",
    "X_test = X[np.where(Y.strat_fold == test_fold)]\n",
    "y_test = Y[Y.strat_fold == test_fold].diagnostic_superclass"
   ]
  },
  {
   "cell_type": "code",
   "execution_count": 14,
   "id": "33fc414f",
   "metadata": {
    "execution": {
     "iopub.execute_input": "2024-11-16T17:36:12.686435Z",
     "iopub.status.busy": "2024-11-16T17:36:12.686089Z",
     "iopub.status.idle": "2024-11-16T17:36:12.692844Z",
     "shell.execute_reply": "2024-11-16T17:36:12.691814Z",
     "shell.execute_reply.started": "2024-11-16T17:36:12.686400Z"
    },
    "papermill": {
     "duration": 0.018481,
     "end_time": "2024-08-07T05:39:57.860183",
     "exception": false,
     "start_time": "2024-08-07T05:39:57.841702",
     "status": "completed"
    },
    "tags": [],
    "trusted": true
   },
   "outputs": [
    {
     "data": {
      "text/plain": [
       "(19601, 1000, 12)"
      ]
     },
     "execution_count": 14,
     "metadata": {},
     "output_type": "execute_result"
    }
   ],
   "source": [
    "X_train.shape"
   ]
  },
  {
   "cell_type": "code",
   "execution_count": 15,
   "id": "36c8c0dc",
   "metadata": {
    "execution": {
     "iopub.execute_input": "2024-11-16T17:36:12.705803Z",
     "iopub.status.busy": "2024-11-16T17:36:12.705533Z",
     "iopub.status.idle": "2024-11-16T17:36:12.714247Z",
     "shell.execute_reply": "2024-11-16T17:36:12.713305Z",
     "shell.execute_reply.started": "2024-11-16T17:36:12.705773Z"
    },
    "papermill": {
     "duration": 0.022092,
     "end_time": "2024-08-07T05:39:57.952767",
     "exception": false,
     "start_time": "2024-08-07T05:39:57.930675",
     "status": "completed"
    },
    "tags": [],
    "trusted": true
   },
   "outputs": [
    {
     "data": {
      "text/plain": [
       "<bound method NDFrame.head of ecg_id\n",
       "1        [NORM]\n",
       "2        [NORM]\n",
       "3        [NORM]\n",
       "4        [NORM]\n",
       "5        [NORM]\n",
       "          ...  \n",
       "21833    [STTC]\n",
       "21834    [NORM]\n",
       "21835    [STTC]\n",
       "21836    [NORM]\n",
       "21837    [NORM]\n",
       "Name: diagnostic_superclass, Length: 19601, dtype: object>"
      ]
     },
     "execution_count": 15,
     "metadata": {},
     "output_type": "execute_result"
    }
   ],
   "source": [
    "y_train.head"
   ]
  },
  {
   "cell_type": "code",
   "execution_count": 16,
   "id": "2d8954c4",
   "metadata": {
    "execution": {
     "iopub.execute_input": "2024-11-16T17:36:12.715956Z",
     "iopub.status.busy": "2024-11-16T17:36:12.715352Z",
     "iopub.status.idle": "2024-11-16T17:36:12.735285Z",
     "shell.execute_reply": "2024-11-16T17:36:12.734285Z",
     "shell.execute_reply.started": "2024-11-16T17:36:12.715911Z"
    },
    "papermill": {
     "duration": 0.032672,
     "end_time": "2024-08-07T05:39:57.993959",
     "exception": false,
     "start_time": "2024-08-07T05:39:57.961287",
     "status": "completed"
    },
    "tags": [],
    "trusted": true
   },
   "outputs": [
    {
     "name": "stdout",
     "output_type": "stream",
     "text": [
      "<class 'pandas.core.series.Series'>\n",
      "Index: 19601 entries, 1 to 21837\n",
      "Series name: diagnostic_superclass\n",
      "Non-Null Count  Dtype \n",
      "--------------  ----- \n",
      "19601 non-null  object\n",
      "dtypes: object(1)\n",
      "memory usage: 306.3+ KB\n"
     ]
    }
   ],
   "source": [
    "y_train.info()"
   ]
  },
  {
   "cell_type": "code",
   "execution_count": 17,
   "id": "eb20fe43",
   "metadata": {
    "execution": {
     "iopub.execute_input": "2024-11-16T17:36:12.736732Z",
     "iopub.status.busy": "2024-11-16T17:36:12.736320Z",
     "iopub.status.idle": "2024-11-16T17:36:12.766777Z",
     "shell.execute_reply": "2024-11-16T17:36:12.765717Z",
     "shell.execute_reply.started": "2024-11-16T17:36:12.736696Z"
    },
    "papermill": {
     "duration": 0.034734,
     "end_time": "2024-08-07T05:39:58.037396",
     "exception": false,
     "start_time": "2024-08-07T05:39:58.002662",
     "status": "completed"
    },
    "tags": [],
    "trusted": true
   },
   "outputs": [
    {
     "data": {
      "text/plain": [
       "25"
      ]
     },
     "execution_count": 17,
     "metadata": {},
     "output_type": "execute_result"
    }
   ],
   "source": [
    "np.unique(y_train).shape[0]"
   ]
  },
  {
   "cell_type": "code",
   "execution_count": 18,
   "id": "eeda14b1",
   "metadata": {
    "execution": {
     "iopub.execute_input": "2024-11-16T17:37:50.344410Z",
     "iopub.status.busy": "2024-11-16T17:37:50.343966Z",
     "iopub.status.idle": "2024-11-16T17:37:50.878093Z",
     "shell.execute_reply": "2024-11-16T17:37:50.877088Z",
     "shell.execute_reply.started": "2024-11-16T17:37:50.344348Z"
    },
    "trusted": true
   },
   "outputs": [],
   "source": [
    "from sklearn.preprocessing import MultiLabelBinarizer\n",
    "\n",
    "mlb = MultiLabelBinarizer()\n",
    "y_train_encoded = pd.DataFrame(mlb.fit_transform(y_train), columns=mlb.classes_)"
   ]
  },
  {
   "cell_type": "code",
   "execution_count": 19,
   "id": "ad32aa47",
   "metadata": {
    "execution": {
     "iopub.execute_input": "2024-11-16T17:37:51.886522Z",
     "iopub.status.busy": "2024-11-16T17:37:51.885740Z",
     "iopub.status.idle": "2024-11-16T17:37:51.892396Z",
     "shell.execute_reply": "2024-11-16T17:37:51.891495Z",
     "shell.execute_reply.started": "2024-11-16T17:37:51.886482Z"
    },
    "trusted": true
   },
   "outputs": [
    {
     "data": {
      "text/plain": [
       "(19601, 5)"
      ]
     },
     "execution_count": 19,
     "metadata": {},
     "output_type": "execute_result"
    }
   ],
   "source": [
    "y_train_encoded.shape"
   ]
  },
  {
   "cell_type": "code",
   "execution_count": 20,
   "id": "5da1f3fe",
   "metadata": {
    "execution": {
     "iopub.execute_input": "2024-11-16T17:37:52.747178Z",
     "iopub.status.busy": "2024-11-16T17:37:52.746447Z",
     "iopub.status.idle": "2024-11-16T17:37:52.760459Z",
     "shell.execute_reply": "2024-11-16T17:37:52.759674Z",
     "shell.execute_reply.started": "2024-11-16T17:37:52.747141Z"
    },
    "trusted": true
   },
   "outputs": [
    {
     "data": {
      "text/html": [
       "<div>\n",
       "<style scoped>\n",
       "    .dataframe tbody tr th:only-of-type {\n",
       "        vertical-align: middle;\n",
       "    }\n",
       "\n",
       "    .dataframe tbody tr th {\n",
       "        vertical-align: top;\n",
       "    }\n",
       "\n",
       "    .dataframe thead th {\n",
       "        text-align: right;\n",
       "    }\n",
       "</style>\n",
       "<table border=\"1\" class=\"dataframe\">\n",
       "  <thead>\n",
       "    <tr style=\"text-align: right;\">\n",
       "      <th></th>\n",
       "      <th>CD</th>\n",
       "      <th>HYP</th>\n",
       "      <th>MI</th>\n",
       "      <th>NORM</th>\n",
       "      <th>STTC</th>\n",
       "    </tr>\n",
       "  </thead>\n",
       "  <tbody>\n",
       "    <tr>\n",
       "      <th>0</th>\n",
       "      <td>0</td>\n",
       "      <td>0</td>\n",
       "      <td>0</td>\n",
       "      <td>1</td>\n",
       "      <td>0</td>\n",
       "    </tr>\n",
       "    <tr>\n",
       "      <th>1</th>\n",
       "      <td>0</td>\n",
       "      <td>0</td>\n",
       "      <td>0</td>\n",
       "      <td>1</td>\n",
       "      <td>0</td>\n",
       "    </tr>\n",
       "    <tr>\n",
       "      <th>2</th>\n",
       "      <td>0</td>\n",
       "      <td>0</td>\n",
       "      <td>0</td>\n",
       "      <td>1</td>\n",
       "      <td>0</td>\n",
       "    </tr>\n",
       "    <tr>\n",
       "      <th>3</th>\n",
       "      <td>0</td>\n",
       "      <td>0</td>\n",
       "      <td>0</td>\n",
       "      <td>1</td>\n",
       "      <td>0</td>\n",
       "    </tr>\n",
       "    <tr>\n",
       "      <th>4</th>\n",
       "      <td>0</td>\n",
       "      <td>0</td>\n",
       "      <td>0</td>\n",
       "      <td>1</td>\n",
       "      <td>0</td>\n",
       "    </tr>\n",
       "  </tbody>\n",
       "</table>\n",
       "</div>"
      ],
      "text/plain": [
       "   CD  HYP  MI  NORM  STTC\n",
       "0   0    0   0     1     0\n",
       "1   0    0   0     1     0\n",
       "2   0    0   0     1     0\n",
       "3   0    0   0     1     0\n",
       "4   0    0   0     1     0"
      ]
     },
     "execution_count": 20,
     "metadata": {},
     "output_type": "execute_result"
    }
   ],
   "source": [
    "y_train_encoded.head()"
   ]
  },
  {
   "cell_type": "code",
   "execution_count": 21,
   "id": "e2ee3b8b",
   "metadata": {
    "execution": {
     "iopub.execute_input": "2024-11-16T17:37:53.807924Z",
     "iopub.status.busy": "2024-11-16T17:37:53.807070Z",
     "iopub.status.idle": "2024-11-16T17:37:53.814385Z",
     "shell.execute_reply": "2024-11-16T17:37:53.813297Z",
     "shell.execute_reply.started": "2024-11-16T17:37:53.807869Z"
    },
    "trusted": true
   },
   "outputs": [
    {
     "data": {
      "text/plain": [
       "pandas.core.frame.DataFrame"
      ]
     },
     "execution_count": 21,
     "metadata": {},
     "output_type": "execute_result"
    }
   ],
   "source": [
    "type(y_train_encoded)"
   ]
  },
  {
   "cell_type": "code",
   "execution_count": 22,
   "id": "fc2d59b1",
   "metadata": {
    "execution": {
     "iopub.execute_input": "2024-11-16T17:37:54.823629Z",
     "iopub.status.busy": "2024-11-16T17:37:54.823233Z",
     "iopub.status.idle": "2024-11-16T17:37:56.136729Z",
     "shell.execute_reply": "2024-11-16T17:37:56.135762Z",
     "shell.execute_reply.started": "2024-11-16T17:37:54.823590Z"
    },
    "trusted": true
   },
   "outputs": [],
   "source": [
    "y_train_encoded['final_output']=y_train_encoded.apply(lambda x:''.join(x.astype(str)),axis=1)"
   ]
  },
  {
   "cell_type": "code",
   "execution_count": 23,
   "id": "189891ee",
   "metadata": {
    "execution": {
     "iopub.execute_input": "2024-11-16T17:37:56.359551Z",
     "iopub.status.busy": "2024-11-16T17:37:56.359159Z",
     "iopub.status.idle": "2024-11-16T17:37:56.370698Z",
     "shell.execute_reply": "2024-11-16T17:37:56.369754Z",
     "shell.execute_reply.started": "2024-11-16T17:37:56.359513Z"
    },
    "trusted": true
   },
   "outputs": [
    {
     "data": {
      "text/html": [
       "<div>\n",
       "<style scoped>\n",
       "    .dataframe tbody tr th:only-of-type {\n",
       "        vertical-align: middle;\n",
       "    }\n",
       "\n",
       "    .dataframe tbody tr th {\n",
       "        vertical-align: top;\n",
       "    }\n",
       "\n",
       "    .dataframe thead th {\n",
       "        text-align: right;\n",
       "    }\n",
       "</style>\n",
       "<table border=\"1\" class=\"dataframe\">\n",
       "  <thead>\n",
       "    <tr style=\"text-align: right;\">\n",
       "      <th></th>\n",
       "      <th>CD</th>\n",
       "      <th>HYP</th>\n",
       "      <th>MI</th>\n",
       "      <th>NORM</th>\n",
       "      <th>STTC</th>\n",
       "      <th>final_output</th>\n",
       "    </tr>\n",
       "  </thead>\n",
       "  <tbody>\n",
       "    <tr>\n",
       "      <th>0</th>\n",
       "      <td>0</td>\n",
       "      <td>0</td>\n",
       "      <td>0</td>\n",
       "      <td>1</td>\n",
       "      <td>0</td>\n",
       "      <td>00010</td>\n",
       "    </tr>\n",
       "    <tr>\n",
       "      <th>1</th>\n",
       "      <td>0</td>\n",
       "      <td>0</td>\n",
       "      <td>0</td>\n",
       "      <td>1</td>\n",
       "      <td>0</td>\n",
       "      <td>00010</td>\n",
       "    </tr>\n",
       "    <tr>\n",
       "      <th>2</th>\n",
       "      <td>0</td>\n",
       "      <td>0</td>\n",
       "      <td>0</td>\n",
       "      <td>1</td>\n",
       "      <td>0</td>\n",
       "      <td>00010</td>\n",
       "    </tr>\n",
       "    <tr>\n",
       "      <th>3</th>\n",
       "      <td>0</td>\n",
       "      <td>0</td>\n",
       "      <td>0</td>\n",
       "      <td>1</td>\n",
       "      <td>0</td>\n",
       "      <td>00010</td>\n",
       "    </tr>\n",
       "    <tr>\n",
       "      <th>4</th>\n",
       "      <td>0</td>\n",
       "      <td>0</td>\n",
       "      <td>0</td>\n",
       "      <td>1</td>\n",
       "      <td>0</td>\n",
       "      <td>00010</td>\n",
       "    </tr>\n",
       "  </tbody>\n",
       "</table>\n",
       "</div>"
      ],
      "text/plain": [
       "   CD  HYP  MI  NORM  STTC final_output\n",
       "0   0    0   0     1     0        00010\n",
       "1   0    0   0     1     0        00010\n",
       "2   0    0   0     1     0        00010\n",
       "3   0    0   0     1     0        00010\n",
       "4   0    0   0     1     0        00010"
      ]
     },
     "execution_count": 23,
     "metadata": {},
     "output_type": "execute_result"
    }
   ],
   "source": [
    "y_train_encoded.head()"
   ]
  },
  {
   "cell_type": "code",
   "execution_count": 24,
   "id": "5b0105d3",
   "metadata": {
    "execution": {
     "iopub.execute_input": "2024-11-16T17:37:58.180603Z",
     "iopub.status.busy": "2024-11-16T17:37:58.180187Z",
     "iopub.status.idle": "2024-11-16T17:37:58.189199Z",
     "shell.execute_reply": "2024-11-16T17:37:58.188112Z",
     "shell.execute_reply.started": "2024-11-16T17:37:58.180547Z"
    },
    "trusted": true
   },
   "outputs": [
    {
     "data": {
      "text/plain": [
       "22"
      ]
     },
     "execution_count": 24,
     "metadata": {},
     "output_type": "execute_result"
    }
   ],
   "source": [
    "y_train_encoded['final_output'].nunique()"
   ]
  },
  {
   "cell_type": "code",
   "execution_count": 25,
   "id": "727fc1d2",
   "metadata": {
    "execution": {
     "iopub.execute_input": "2024-11-16T17:37:59.427679Z",
     "iopub.status.busy": "2024-11-16T17:37:59.426948Z",
     "iopub.status.idle": "2024-11-16T17:37:59.442136Z",
     "shell.execute_reply": "2024-11-16T17:37:59.441022Z",
     "shell.execute_reply.started": "2024-11-16T17:37:59.427619Z"
    },
    "trusted": true
   },
   "outputs": [
    {
     "data": {
      "text/plain": [
       "array(['00010', '00100', '00000', '00001', '01000', '10000', '00101',\n",
       "       '11000', '10100', '10001', '01100', '01101', '01001', '10101',\n",
       "       '10010', '11101', '11001', '00011', '11100', '10011', '01010',\n",
       "       '11110'], dtype=object)"
      ]
     },
     "execution_count": 25,
     "metadata": {},
     "output_type": "execute_result"
    }
   ],
   "source": [
    "y_train_encoded['final_output'].unique()"
   ]
  },
  {
   "cell_type": "code",
   "execution_count": 26,
   "id": "5b3e8a3f",
   "metadata": {
    "execution": {
     "iopub.execute_input": "2024-11-16T17:38:00.146144Z",
     "iopub.status.busy": "2024-11-16T17:38:00.145784Z",
     "iopub.status.idle": "2024-11-16T17:38:00.156394Z",
     "shell.execute_reply": "2024-11-16T17:38:00.155373Z",
     "shell.execute_reply.started": "2024-11-16T17:38:00.146108Z"
    },
    "trusted": true
   },
   "outputs": [],
   "source": [
    "def adjust_classes(y_train):\n",
    "    var=y_train\n",
    "    if var == '00010':\n",
    "        var=0\n",
    "    elif var == '00100':\n",
    "        var =1\n",
    "    elif var== '00000':\n",
    "        var=2\n",
    "    elif var=='00001':\n",
    "        var =3\n",
    "    elif var =='01000':\n",
    "        var=4\n",
    "    elif var=='10000':\n",
    "        var =5\n",
    "    elif var =='00101':\n",
    "        var =6\n",
    "    elif var =='11000':\n",
    "        var=7\n",
    "    elif var =='10100':\n",
    "        var=8\n",
    "    elif var=='10001':\n",
    "        var =9\n",
    "    elif var =='01100':\n",
    "        var =10\n",
    "    elif var =='01101':\n",
    "        var =11\n",
    "    elif var=='01001':\n",
    "        var=21\n",
    "    elif var =='10101':\n",
    "        var=12\n",
    "    elif var =='10010':\n",
    "        var=13\n",
    "    elif var=='11101':\n",
    "        var=14\n",
    "    elif var=='11001':\n",
    "        var=15\n",
    "    elif var =='00011':\n",
    "        var=16\n",
    "    elif var=='11100':\n",
    "        var=17\n",
    "    elif var=='10011':\n",
    "        var=18\n",
    "    elif var =='01010':\n",
    "        var=19\n",
    "    elif var=='11110':\n",
    "        var=20\n",
    "    return var"
   ]
  },
  {
   "cell_type": "code",
   "execution_count": 27,
   "id": "64a457d7",
   "metadata": {
    "execution": {
     "iopub.execute_input": "2024-11-16T17:38:02.102486Z",
     "iopub.status.busy": "2024-11-16T17:38:02.102046Z",
     "iopub.status.idle": "2024-11-16T17:38:02.127732Z",
     "shell.execute_reply": "2024-11-16T17:38:02.126620Z",
     "shell.execute_reply.started": "2024-11-16T17:38:02.102442Z"
    },
    "trusted": true
   },
   "outputs": [],
   "source": [
    "y_train_encoded['final_output']=y_train_encoded['final_output'].apply(adjust_classes)"
   ]
  },
  {
   "cell_type": "code",
   "execution_count": 28,
   "id": "758a2475",
   "metadata": {
    "execution": {
     "iopub.execute_input": "2024-11-16T17:38:03.528701Z",
     "iopub.status.busy": "2024-11-16T17:38:03.527876Z",
     "iopub.status.idle": "2024-11-16T17:38:03.540234Z",
     "shell.execute_reply": "2024-11-16T17:38:03.539277Z",
     "shell.execute_reply.started": "2024-11-16T17:38:03.528660Z"
    },
    "trusted": true
   },
   "outputs": [
    {
     "data": {
      "text/html": [
       "<div>\n",
       "<style scoped>\n",
       "    .dataframe tbody tr th:only-of-type {\n",
       "        vertical-align: middle;\n",
       "    }\n",
       "\n",
       "    .dataframe tbody tr th {\n",
       "        vertical-align: top;\n",
       "    }\n",
       "\n",
       "    .dataframe thead th {\n",
       "        text-align: right;\n",
       "    }\n",
       "</style>\n",
       "<table border=\"1\" class=\"dataframe\">\n",
       "  <thead>\n",
       "    <tr style=\"text-align: right;\">\n",
       "      <th></th>\n",
       "      <th>CD</th>\n",
       "      <th>HYP</th>\n",
       "      <th>MI</th>\n",
       "      <th>NORM</th>\n",
       "      <th>STTC</th>\n",
       "      <th>final_output</th>\n",
       "    </tr>\n",
       "  </thead>\n",
       "  <tbody>\n",
       "    <tr>\n",
       "      <th>0</th>\n",
       "      <td>0</td>\n",
       "      <td>0</td>\n",
       "      <td>0</td>\n",
       "      <td>1</td>\n",
       "      <td>0</td>\n",
       "      <td>0</td>\n",
       "    </tr>\n",
       "    <tr>\n",
       "      <th>1</th>\n",
       "      <td>0</td>\n",
       "      <td>0</td>\n",
       "      <td>0</td>\n",
       "      <td>1</td>\n",
       "      <td>0</td>\n",
       "      <td>0</td>\n",
       "    </tr>\n",
       "    <tr>\n",
       "      <th>2</th>\n",
       "      <td>0</td>\n",
       "      <td>0</td>\n",
       "      <td>0</td>\n",
       "      <td>1</td>\n",
       "      <td>0</td>\n",
       "      <td>0</td>\n",
       "    </tr>\n",
       "    <tr>\n",
       "      <th>3</th>\n",
       "      <td>0</td>\n",
       "      <td>0</td>\n",
       "      <td>0</td>\n",
       "      <td>1</td>\n",
       "      <td>0</td>\n",
       "      <td>0</td>\n",
       "    </tr>\n",
       "    <tr>\n",
       "      <th>4</th>\n",
       "      <td>0</td>\n",
       "      <td>0</td>\n",
       "      <td>0</td>\n",
       "      <td>1</td>\n",
       "      <td>0</td>\n",
       "      <td>0</td>\n",
       "    </tr>\n",
       "    <tr>\n",
       "      <th>...</th>\n",
       "      <td>...</td>\n",
       "      <td>...</td>\n",
       "      <td>...</td>\n",
       "      <td>...</td>\n",
       "      <td>...</td>\n",
       "      <td>...</td>\n",
       "    </tr>\n",
       "    <tr>\n",
       "      <th>19596</th>\n",
       "      <td>0</td>\n",
       "      <td>0</td>\n",
       "      <td>0</td>\n",
       "      <td>0</td>\n",
       "      <td>1</td>\n",
       "      <td>3</td>\n",
       "    </tr>\n",
       "    <tr>\n",
       "      <th>19597</th>\n",
       "      <td>0</td>\n",
       "      <td>0</td>\n",
       "      <td>0</td>\n",
       "      <td>1</td>\n",
       "      <td>0</td>\n",
       "      <td>0</td>\n",
       "    </tr>\n",
       "    <tr>\n",
       "      <th>19598</th>\n",
       "      <td>0</td>\n",
       "      <td>0</td>\n",
       "      <td>0</td>\n",
       "      <td>0</td>\n",
       "      <td>1</td>\n",
       "      <td>3</td>\n",
       "    </tr>\n",
       "    <tr>\n",
       "      <th>19599</th>\n",
       "      <td>0</td>\n",
       "      <td>0</td>\n",
       "      <td>0</td>\n",
       "      <td>1</td>\n",
       "      <td>0</td>\n",
       "      <td>0</td>\n",
       "    </tr>\n",
       "    <tr>\n",
       "      <th>19600</th>\n",
       "      <td>0</td>\n",
       "      <td>0</td>\n",
       "      <td>0</td>\n",
       "      <td>1</td>\n",
       "      <td>0</td>\n",
       "      <td>0</td>\n",
       "    </tr>\n",
       "  </tbody>\n",
       "</table>\n",
       "<p>19601 rows × 6 columns</p>\n",
       "</div>"
      ],
      "text/plain": [
       "       CD  HYP  MI  NORM  STTC  final_output\n",
       "0       0    0   0     1     0             0\n",
       "1       0    0   0     1     0             0\n",
       "2       0    0   0     1     0             0\n",
       "3       0    0   0     1     0             0\n",
       "4       0    0   0     1     0             0\n",
       "...    ..  ...  ..   ...   ...           ...\n",
       "19596   0    0   0     0     1             3\n",
       "19597   0    0   0     1     0             0\n",
       "19598   0    0   0     0     1             3\n",
       "19599   0    0   0     1     0             0\n",
       "19600   0    0   0     1     0             0\n",
       "\n",
       "[19601 rows x 6 columns]"
      ]
     },
     "execution_count": 28,
     "metadata": {},
     "output_type": "execute_result"
    }
   ],
   "source": [
    "y_train_encoded"
   ]
  },
  {
   "cell_type": "code",
   "execution_count": 29,
   "id": "c227916a",
   "metadata": {
    "execution": {
     "iopub.execute_input": "2024-11-16T17:38:04.694192Z",
     "iopub.status.busy": "2024-11-16T17:38:04.693779Z",
     "iopub.status.idle": "2024-11-16T17:38:04.703316Z",
     "shell.execute_reply": "2024-11-16T17:38:04.702387Z",
     "shell.execute_reply.started": "2024-11-16T17:38:04.694156Z"
    },
    "trusted": true
   },
   "outputs": [
    {
     "data": {
      "text/plain": [
       "final_output\n",
       "0     8157\n",
       "1     2276\n",
       "3     2158\n",
       "5     1524\n",
       "8     1164\n",
       "21     708\n",
       "6      538\n",
       "4      479\n",
       "9      433\n",
       "2      371\n",
       "13     362\n",
       "11     320\n",
       "7      273\n",
       "12     202\n",
       "15     186\n",
       "10     166\n",
       "14     140\n",
       "17     112\n",
       "16      24\n",
       "18       5\n",
       "19       2\n",
       "20       1\n",
       "Name: count, dtype: int64"
      ]
     },
     "execution_count": 29,
     "metadata": {},
     "output_type": "execute_result"
    }
   ],
   "source": [
    "y_train_encoded['final_output'].value_counts()"
   ]
  },
  {
   "cell_type": "code",
   "execution_count": 31,
   "id": "a6818322",
   "metadata": {
    "execution": {
     "iopub.execute_input": "2024-11-16T17:38:26.962986Z",
     "iopub.status.busy": "2024-11-16T17:38:26.962608Z",
     "iopub.status.idle": "2024-11-16T17:38:26.967320Z",
     "shell.execute_reply": "2024-11-16T17:38:26.966338Z",
     "shell.execute_reply.started": "2024-11-16T17:38:26.962951Z"
    },
    "trusted": true
   },
   "outputs": [],
   "source": [
    "from sklearn.preprocessing import StandardScaler\n",
    "scaler=StandardScaler()"
   ]
  },
  {
   "cell_type": "code",
   "execution_count": 32,
   "id": "f86a48aa",
   "metadata": {
    "execution": {
     "iopub.execute_input": "2024-11-16T17:38:30.058550Z",
     "iopub.status.busy": "2024-11-16T17:38:30.057505Z",
     "iopub.status.idle": "2024-11-16T17:38:30.062767Z",
     "shell.execute_reply": "2024-11-16T17:38:30.061747Z",
     "shell.execute_reply.started": "2024-11-16T17:38:30.058507Z"
    },
    "trusted": true
   },
   "outputs": [],
   "source": [
    "x_train_normalization=X_train.reshape(-1,1000*12)"
   ]
  },
  {
   "cell_type": "code",
   "execution_count": 33,
   "id": "a7ceee7e",
   "metadata": {
    "execution": {
     "iopub.execute_input": "2024-11-16T17:38:31.054772Z",
     "iopub.status.busy": "2024-11-16T17:38:31.054302Z",
     "iopub.status.idle": "2024-11-16T17:38:34.030127Z",
     "shell.execute_reply": "2024-11-16T17:38:34.029334Z",
     "shell.execute_reply.started": "2024-11-16T17:38:31.054726Z"
    },
    "trusted": true
   },
   "outputs": [],
   "source": [
    "x_train=scaler.fit_transform(x_train_normalization)\n",
    "x_train_normalized=x_train.reshape(19601,1000,12)"
   ]
  },
  {
   "cell_type": "code",
   "execution_count": 34,
   "id": "efd07e8f",
   "metadata": {
    "execution": {
     "iopub.execute_input": "2024-11-16T17:38:34.031892Z",
     "iopub.status.busy": "2024-11-16T17:38:34.031589Z",
     "iopub.status.idle": "2024-11-16T17:38:34.037069Z",
     "shell.execute_reply": "2024-11-16T17:38:34.036086Z",
     "shell.execute_reply.started": "2024-11-16T17:38:34.031861Z"
    },
    "trusted": true
   },
   "outputs": [],
   "source": [
    "class_distribution_norm=y_train_encoded['NORM'].value_counts()"
   ]
  },
  {
   "cell_type": "code",
   "execution_count": 35,
   "id": "5e8b3502",
   "metadata": {
    "execution": {
     "iopub.execute_input": "2024-11-16T17:38:34.732716Z",
     "iopub.status.busy": "2024-11-16T17:38:34.732023Z",
     "iopub.status.idle": "2024-11-16T17:38:34.738776Z",
     "shell.execute_reply": "2024-11-16T17:38:34.737805Z",
     "shell.execute_reply.started": "2024-11-16T17:38:34.732670Z"
    },
    "trusted": true
   },
   "outputs": [],
   "source": [
    "class_distribution_cd=y_train_encoded['CD'].value_counts()"
   ]
  },
  {
   "cell_type": "code",
   "execution_count": 36,
   "id": "ddf4e1ba",
   "metadata": {
    "execution": {
     "iopub.execute_input": "2024-11-16T17:38:35.469137Z",
     "iopub.status.busy": "2024-11-16T17:38:35.468786Z",
     "iopub.status.idle": "2024-11-16T17:38:35.474508Z",
     "shell.execute_reply": "2024-11-16T17:38:35.473427Z",
     "shell.execute_reply.started": "2024-11-16T17:38:35.469104Z"
    },
    "trusted": true
   },
   "outputs": [],
   "source": [
    "class_distribution_hyp=y_train_encoded['HYP'].value_counts()"
   ]
  },
  {
   "cell_type": "code",
   "execution_count": 37,
   "id": "c63af0ad",
   "metadata": {
    "execution": {
     "iopub.execute_input": "2024-11-16T17:38:36.414069Z",
     "iopub.status.busy": "2024-11-16T17:38:36.413677Z",
     "iopub.status.idle": "2024-11-16T17:38:36.419789Z",
     "shell.execute_reply": "2024-11-16T17:38:36.418646Z",
     "shell.execute_reply.started": "2024-11-16T17:38:36.414032Z"
    },
    "trusted": true
   },
   "outputs": [],
   "source": [
    "class_distribution_mi=y_train_encoded['MI'].value_counts()"
   ]
  },
  {
   "cell_type": "code",
   "execution_count": 38,
   "id": "3e146539",
   "metadata": {
    "execution": {
     "iopub.execute_input": "2024-11-16T17:38:37.481489Z",
     "iopub.status.busy": "2024-11-16T17:38:37.480553Z",
     "iopub.status.idle": "2024-11-16T17:38:37.486675Z",
     "shell.execute_reply": "2024-11-16T17:38:37.485600Z",
     "shell.execute_reply.started": "2024-11-16T17:38:37.481447Z"
    },
    "trusted": true
   },
   "outputs": [],
   "source": [
    "class_distribution_sttc=y_train_encoded['STTC'].value_counts()"
   ]
  },
  {
   "cell_type": "code",
   "execution_count": 39,
   "id": "84dd5ae1",
   "metadata": {
    "execution": {
     "iopub.execute_input": "2024-11-16T17:38:50.416251Z",
     "iopub.status.busy": "2024-11-16T17:38:50.415880Z",
     "iopub.status.idle": "2024-11-16T17:38:50.844653Z",
     "shell.execute_reply": "2024-11-16T17:38:50.843585Z",
     "shell.execute_reply.started": "2024-11-16T17:38:50.416218Z"
    },
    "trusted": true
   },
   "outputs": [],
   "source": [
    "indices_0 = np.where(y_train_encoded['NORM'] == 0)[0] \n",
    "indices_1 = np.where(y_train_encoded['NORM'] == 1)[0]\n",
    "selected_indices_0=np.random.choice(indices_0, 4000, replace=False)\n",
    "selected_indices_1=np.random.choice(indices_1, 4000, replace=False)\n",
    "x_train_norm0=X_train[selected_indices_0]\n",
    "x_train_norm1=X_train[selected_indices_1]\n",
    "y_train_norm0=y_train_encoded.iloc[selected_indices_0,3]\n",
    "y_train_norm1=y_train_encoded.iloc[selected_indices_1,3]\n",
    "x_train= np.concatenate([x_train_norm0, x_train_norm1], axis=0)\n",
    "y_train=np.concatenate([y_train_norm0, y_train_norm1], axis=0)"
   ]
  },
  {
   "cell_type": "code",
   "execution_count": 40,
   "id": "7e3d48eb",
   "metadata": {
    "execution": {
     "iopub.execute_input": "2024-11-16T18:01:45.711926Z",
     "iopub.status.busy": "2024-11-16T18:01:45.711512Z",
     "iopub.status.idle": "2024-11-16T18:01:58.049351Z",
     "shell.execute_reply": "2024-11-16T18:01:58.048499Z",
     "shell.execute_reply.started": "2024-11-16T18:01:45.711889Z"
    },
    "trusted": true
   },
   "outputs": [],
   "source": [
    "from tensorflow.keras.models import Sequential\n",
    "from tensorflow.keras.layers import Dense, Conv1D, MaxPooling1D, Dropout, LSTM, BatchNormalization\n",
    "from tensorflow.keras.regularizers import l2\n",
    "from tensorflow.keras.callbacks import EarlyStopping\n",
    "from sklearn.model_selection import train_test_split\n",
    "from sklearn.metrics import confusion_matrix, classification_report, recall_score, f1_score, roc_curve, auc\n",
    "import numpy as np\n",
    "import matplotlib.pyplot as plt\n",
    "\n",
    "\n",
    "def build_train_and_evaluate_model(data_x, data_y, test_size=0.2, epochs=100, batch_size=32, val_split=0.2, patience=10):\n",
    "   \n",
    "    x_train, x_test, y_train, y_test = train_test_split(data_x, data_y, test_size=test_size, random_state=42)\n",
    "\n",
    "    # Ensure input data shape is correct\n",
    "    x_train = x_train.reshape((x_train.shape[0], x_train.shape[1], x_train.shape[2]))\n",
    "    x_test = x_test.reshape((x_test.shape[0], x_test.shape[1], x_test.shape[2]))\n",
    "\n",
    "    # Build the model\n",
    "    model = Sequential()\n",
    "\n",
    "    # Convolutional layers\n",
    "    model.add(Conv1D(64, kernel_size=3, activation='relu', input_shape=(1000, 12), kernel_regularizer=l2(0.001)))\n",
    "    model.add(BatchNormalization())\n",
    "    model.add(MaxPooling1D(pool_size=2))\n",
    "    model.add(Dropout(0.3))\n",
    "\n",
    "    model.add(Conv1D(128, kernel_size=3, activation='relu', kernel_regularizer=l2(0.001)))\n",
    "    model.add(BatchNormalization())\n",
    "    model.add(MaxPooling1D(pool_size=2))\n",
    "    model.add(Dropout(0.3))\n",
    "\n",
    "    model.add(Conv1D(256, kernel_size=3, activation='relu', kernel_regularizer=l2(0.001)))\n",
    "    model.add(BatchNormalization())\n",
    "    model.add(MaxPooling1D(pool_size=2))\n",
    "    model.add(Dropout(0.4))\n",
    "\n",
    "    model.add(LSTM(100, return_sequences=False, dropout=0.4, recurrent_dropout=0.2))\n",
    "\n",
    "    model.add(Dense(64, activation='relu', kernel_regularizer=l2(0.001)))\n",
    "    model.add(Dropout(0.4))\n",
    "    model.add(Dense(32, activation='relu', kernel_regularizer=l2(0.001)))\n",
    "    model.add(Dropout(0.3))\n",
    "\n",
    "    model.add(Dense(1, activation='sigmoid'))\n",
    "\n",
    "    # Compile the model\n",
    "    model.compile(optimizer='adam', loss='binary_crossentropy', metrics=['accuracy'])\n",
    "\n",
    "    # Define early stopping\n",
    "    early_stopping = EarlyStopping(monitor='val_loss', patience=patience, restore_best_weights=True)\n",
    "\n",
    "    # Split training data for validation\n",
    "    x_train_split, val_data, y_train_split, val_labels = train_test_split(\n",
    "        x_train, y_train, test_size=val_split, random_state=42\n",
    "    )\n",
    "\n",
    "    # Train the model\n",
    "    history = model.fit(\n",
    "        x_train_split, y_train_split,\n",
    "        epochs=epochs,\n",
    "        batch_size=batch_size,\n",
    "        validation_data=(val_data, val_labels),\n",
    "        callbacks=[early_stopping]\n",
    "    )\n",
    "\n",
    "    # Evaluate on the test set\n",
    "    print(\"Evaluating on test set:\")\n",
    "    test_loss, test_accuracy = model.evaluate(x_test, y_test)\n",
    "    print(f\"Test Loss: {test_loss:.4f}, Test Accuracy: {test_accuracy:.4f}\")\n",
    "\n",
    "    # Make predictions\n",
    "    y_pred_prob = model.predict(x_test)\n",
    "    y_pred = (y_pred_prob > 0.5).astype(int)\n",
    "\n",
    "    # Confusion Matrix\n",
    "    cm = confusion_matrix(y_test, y_pred)\n",
    "    print(\"\\nConfusion Matrix:\")\n",
    "    print(cm)\n",
    "\n",
    "    # Classification Report\n",
    "    print(\"\\nClassification Report:\")\n",
    "    print(classification_report(y_test, y_pred))\n",
    "\n",
    "    # Recall and F1-Score\n",
    "    recall = recall_score(y_test, y_pred)\n",
    "    f1 = f1_score(y_test, y_pred)\n",
    "    print(f\"\\nRecall: {recall:.2f}\")\n",
    "    print(f\"F1-Score: {f1:.2f}\")\n",
    "\n",
    "    # ROC Curve\n",
    "    fpr, tpr, thresholds = roc_curve(y_test, y_pred_prob)\n",
    "    roc_auc = auc(fpr, tpr)\n",
    "    print(f\"\\nAUC-ROC: {roc_auc:.2f}\")\n",
    "\n",
    "    # Plot ROC Curve\n",
    "    plt.figure()\n",
    "    plt.plot(fpr, tpr, color='blue', label=f'AUC = {roc_auc:.2f}')\n",
    "    plt.plot([0, 1], [0, 1], color='red', linestyle='--')\n",
    "    plt.xlabel('False Positive Rate')\n",
    "    plt.ylabel('True Positive Rate')\n",
    "    plt.title('ROC Curve')\n",
    "    plt.legend(loc='lower right')\n",
    "    plt.show()\n",
    "\n",
    "    return model, history\n"
   ]
  },
  {
   "cell_type": "code",
   "execution_count": 42,
   "id": "fd32c96d",
   "metadata": {
    "execution": {
     "iopub.execute_input": "2024-11-16T18:02:45.464212Z",
     "iopub.status.busy": "2024-11-16T18:02:45.463160Z",
     "iopub.status.idle": "2024-11-16T18:20:14.139304Z",
     "shell.execute_reply": "2024-11-16T18:20:14.138274Z",
     "shell.execute_reply.started": "2024-11-16T18:02:45.464168Z"
    },
    "trusted": true
   },
   "outputs": [
    {
     "name": "stderr",
     "output_type": "stream",
     "text": [
      "/opt/conda/lib/python3.10/site-packages/keras/src/layers/convolutional/base_conv.py:107: UserWarning: Do not pass an `input_shape`/`input_dim` argument to a layer. When using Sequential models, prefer using an `Input(shape)` object as the first layer in the model instead.\n",
      "  super().__init__(activity_regularizer=activity_regularizer, **kwargs)\n"
     ]
    },
    {
     "name": "stdout",
     "output_type": "stream",
     "text": [
      "Epoch 1/100\n",
      "\u001b[1m160/160\u001b[0m \u001b[32m━━━━━━━━━━━━━━━━━━━━\u001b[0m\u001b[37m\u001b[0m \u001b[1m36s\u001b[0m 177ms/step - accuracy: 0.5797 - loss: 1.0572 - val_accuracy: 0.4953 - val_loss: 1.4618\n",
      "Epoch 2/100\n",
      "\u001b[1m160/160\u001b[0m \u001b[32m━━━━━━━━━━━━━━━━━━━━\u001b[0m\u001b[37m\u001b[0m \u001b[1m28s\u001b[0m 172ms/step - accuracy: 0.7402 - loss: 0.8878 - val_accuracy: 0.5477 - val_loss: 1.5568\n",
      "Epoch 3/100\n",
      "\u001b[1m160/160\u001b[0m \u001b[32m━━━━━━━━━━━━━━━━━━━━\u001b[0m\u001b[37m\u001b[0m \u001b[1m28s\u001b[0m 172ms/step - accuracy: 0.7854 - loss: 0.7824 - val_accuracy: 0.7047 - val_loss: 0.9826\n",
      "Epoch 4/100\n",
      "\u001b[1m160/160\u001b[0m \u001b[32m━━━━━━━━━━━━━━━━━━━━\u001b[0m\u001b[37m\u001b[0m \u001b[1m28s\u001b[0m 173ms/step - accuracy: 0.8151 - loss: 0.7123 - val_accuracy: 0.7758 - val_loss: 0.7745\n",
      "Epoch 5/100\n",
      "\u001b[1m160/160\u001b[0m \u001b[32m━━━━━━━━━━━━━━━━━━━━\u001b[0m\u001b[37m\u001b[0m \u001b[1m27s\u001b[0m 172ms/step - accuracy: 0.8174 - loss: 0.6786 - val_accuracy: 0.8453 - val_loss: 0.6040\n",
      "Epoch 6/100\n",
      "\u001b[1m160/160\u001b[0m \u001b[32m━━━━━━━━━━━━━━━━━━━━\u001b[0m\u001b[37m\u001b[0m \u001b[1m27s\u001b[0m 171ms/step - accuracy: 0.8286 - loss: 0.6365 - val_accuracy: 0.8297 - val_loss: 0.6099\n",
      "Epoch 7/100\n",
      "\u001b[1m160/160\u001b[0m \u001b[32m━━━━━━━━━━━━━━━━━━━━\u001b[0m\u001b[37m\u001b[0m \u001b[1m41s\u001b[0m 172ms/step - accuracy: 0.8233 - loss: 0.6180 - val_accuracy: 0.8352 - val_loss: 0.5607\n",
      "Epoch 8/100\n",
      "\u001b[1m160/160\u001b[0m \u001b[32m━━━━━━━━━━━━━━━━━━━━\u001b[0m\u001b[37m\u001b[0m \u001b[1m28s\u001b[0m 172ms/step - accuracy: 0.8417 - loss: 0.5672 - val_accuracy: 0.8102 - val_loss: 0.6599\n",
      "Epoch 9/100\n",
      "\u001b[1m160/160\u001b[0m \u001b[32m━━━━━━━━━━━━━━━━━━━━\u001b[0m\u001b[37m\u001b[0m \u001b[1m28s\u001b[0m 175ms/step - accuracy: 0.8338 - loss: 0.5594 - val_accuracy: 0.8320 - val_loss: 0.5515\n",
      "Epoch 10/100\n",
      "\u001b[1m160/160\u001b[0m \u001b[32m━━━━━━━━━━━━━━━━━━━━\u001b[0m\u001b[37m\u001b[0m \u001b[1m27s\u001b[0m 170ms/step - accuracy: 0.8532 - loss: 0.5322 - val_accuracy: 0.8352 - val_loss: 0.5235\n",
      "Epoch 11/100\n",
      "\u001b[1m160/160\u001b[0m \u001b[32m━━━━━━━━━━━━━━━━━━━━\u001b[0m\u001b[37m\u001b[0m \u001b[1m28s\u001b[0m 172ms/step - accuracy: 0.8527 - loss: 0.5044 - val_accuracy: 0.8578 - val_loss: 0.4631\n",
      "Epoch 12/100\n",
      "\u001b[1m160/160\u001b[0m \u001b[32m━━━━━━━━━━━━━━━━━━━━\u001b[0m\u001b[37m\u001b[0m \u001b[1m28s\u001b[0m 172ms/step - accuracy: 0.8497 - loss: 0.5029 - val_accuracy: 0.8523 - val_loss: 0.4873\n",
      "Epoch 13/100\n",
      "\u001b[1m160/160\u001b[0m \u001b[32m━━━━━━━━━━━━━━━━━━━━\u001b[0m\u001b[37m\u001b[0m \u001b[1m27s\u001b[0m 171ms/step - accuracy: 0.8354 - loss: 0.5283 - val_accuracy: 0.8539 - val_loss: 0.4522\n",
      "Epoch 14/100\n",
      "\u001b[1m160/160\u001b[0m \u001b[32m━━━━━━━━━━━━━━━━━━━━\u001b[0m\u001b[37m\u001b[0m \u001b[1m27s\u001b[0m 171ms/step - accuracy: 0.8629 - loss: 0.4725 - val_accuracy: 0.8641 - val_loss: 0.4542\n",
      "Epoch 15/100\n",
      "\u001b[1m160/160\u001b[0m \u001b[32m━━━━━━━━━━━━━━━━━━━━\u001b[0m\u001b[37m\u001b[0m \u001b[1m28s\u001b[0m 172ms/step - accuracy: 0.8389 - loss: 0.4943 - val_accuracy: 0.8500 - val_loss: 0.4953\n",
      "Epoch 16/100\n",
      "\u001b[1m160/160\u001b[0m \u001b[32m━━━━━━━━━━━━━━━━━━━━\u001b[0m\u001b[37m\u001b[0m \u001b[1m27s\u001b[0m 171ms/step - accuracy: 0.8340 - loss: 0.5232 - val_accuracy: 0.8625 - val_loss: 0.4483\n",
      "Epoch 17/100\n",
      "\u001b[1m160/160\u001b[0m \u001b[32m━━━━━━━━━━━━━━━━━━━━\u001b[0m\u001b[37m\u001b[0m \u001b[1m27s\u001b[0m 172ms/step - accuracy: 0.8379 - loss: 0.4981 - val_accuracy: 0.8625 - val_loss: 0.4589\n",
      "Epoch 18/100\n",
      "\u001b[1m160/160\u001b[0m \u001b[32m━━━━━━━━━━━━━━━━━━━━\u001b[0m\u001b[37m\u001b[0m \u001b[1m27s\u001b[0m 171ms/step - accuracy: 0.8496 - loss: 0.4704 - val_accuracy: 0.8570 - val_loss: 0.4269\n",
      "Epoch 19/100\n",
      "\u001b[1m160/160\u001b[0m \u001b[32m━━━━━━━━━━━━━━━━━━━━\u001b[0m\u001b[37m\u001b[0m \u001b[1m27s\u001b[0m 171ms/step - accuracy: 0.8476 - loss: 0.4578 - val_accuracy: 0.8516 - val_loss: 0.4599\n",
      "Epoch 20/100\n",
      "\u001b[1m160/160\u001b[0m \u001b[32m━━━━━━━━━━━━━━━━━━━━\u001b[0m\u001b[37m\u001b[0m \u001b[1m28s\u001b[0m 174ms/step - accuracy: 0.8347 - loss: 0.4925 - val_accuracy: 0.8344 - val_loss: 0.5220\n",
      "Epoch 21/100\n",
      "\u001b[1m160/160\u001b[0m \u001b[32m━━━━━━━━━━━━━━━━━━━━\u001b[0m\u001b[37m\u001b[0m \u001b[1m28s\u001b[0m 172ms/step - accuracy: 0.8330 - loss: 0.5174 - val_accuracy: 0.8469 - val_loss: 0.4873\n",
      "Epoch 22/100\n",
      "\u001b[1m160/160\u001b[0m \u001b[32m━━━━━━━━━━━━━━━━━━━━\u001b[0m\u001b[37m\u001b[0m \u001b[1m27s\u001b[0m 171ms/step - accuracy: 0.8462 - loss: 0.4868 - val_accuracy: 0.8523 - val_loss: 0.4508\n",
      "Epoch 23/100\n",
      "\u001b[1m160/160\u001b[0m \u001b[32m━━━━━━━━━━━━━━━━━━━━\u001b[0m\u001b[37m\u001b[0m \u001b[1m28s\u001b[0m 172ms/step - accuracy: 0.8537 - loss: 0.4655 - val_accuracy: 0.8500 - val_loss: 0.4481\n",
      "Epoch 24/100\n",
      "\u001b[1m160/160\u001b[0m \u001b[32m━━━━━━━━━━━━━━━━━━━━\u001b[0m\u001b[37m\u001b[0m \u001b[1m27s\u001b[0m 171ms/step - accuracy: 0.8596 - loss: 0.4445 - val_accuracy: 0.8547 - val_loss: 0.4717\n",
      "Epoch 25/100\n",
      "\u001b[1m160/160\u001b[0m \u001b[32m━━━━━━━━━━━━━━━━━━━━\u001b[0m\u001b[37m\u001b[0m \u001b[1m27s\u001b[0m 170ms/step - accuracy: 0.8546 - loss: 0.4457 - val_accuracy: 0.8484 - val_loss: 0.4619\n",
      "Epoch 26/100\n",
      "\u001b[1m160/160\u001b[0m \u001b[32m━━━━━━━━━━━━━━━━━━━━\u001b[0m\u001b[37m\u001b[0m \u001b[1m27s\u001b[0m 171ms/step - accuracy: 0.8541 - loss: 0.4456 - val_accuracy: 0.8422 - val_loss: 0.4716\n",
      "Epoch 27/100\n",
      "\u001b[1m160/160\u001b[0m \u001b[32m━━━━━━━━━━━━━━━━━━━━\u001b[0m\u001b[37m\u001b[0m \u001b[1m27s\u001b[0m 171ms/step - accuracy: 0.8490 - loss: 0.4568 - val_accuracy: 0.8672 - val_loss: 0.3986\n",
      "Epoch 28/100\n",
      "\u001b[1m160/160\u001b[0m \u001b[32m━━━━━━━━━━━━━━━━━━━━\u001b[0m\u001b[37m\u001b[0m \u001b[1m27s\u001b[0m 171ms/step - accuracy: 0.8537 - loss: 0.4266 - val_accuracy: 0.8570 - val_loss: 0.4146\n",
      "Epoch 29/100\n",
      "\u001b[1m160/160\u001b[0m \u001b[32m━━━━━━━━━━━━━━━━━━━━\u001b[0m\u001b[37m\u001b[0m \u001b[1m27s\u001b[0m 171ms/step - accuracy: 0.8576 - loss: 0.4377 - val_accuracy: 0.8398 - val_loss: 0.4419\n",
      "Epoch 30/100\n",
      "\u001b[1m160/160\u001b[0m \u001b[32m━━━━━━━━━━━━━━━━━━━━\u001b[0m\u001b[37m\u001b[0m \u001b[1m28s\u001b[0m 172ms/step - accuracy: 0.8570 - loss: 0.4557 - val_accuracy: 0.8438 - val_loss: 0.4899\n",
      "Epoch 31/100\n",
      "\u001b[1m160/160\u001b[0m \u001b[32m━━━━━━━━━━━━━━━━━━━━\u001b[0m\u001b[37m\u001b[0m \u001b[1m28s\u001b[0m 172ms/step - accuracy: 0.8583 - loss: 0.4331 - val_accuracy: 0.8461 - val_loss: 0.4180\n",
      "Epoch 32/100\n",
      "\u001b[1m160/160\u001b[0m \u001b[32m━━━━━━━━━━━━━━━━━━━━\u001b[0m\u001b[37m\u001b[0m \u001b[1m27s\u001b[0m 171ms/step - accuracy: 0.8451 - loss: 0.4502 - val_accuracy: 0.8570 - val_loss: 0.4147\n",
      "Epoch 33/100\n",
      "\u001b[1m160/160\u001b[0m \u001b[32m━━━━━━━━━━━━━━━━━━━━\u001b[0m\u001b[37m\u001b[0m \u001b[1m27s\u001b[0m 171ms/step - accuracy: 0.8576 - loss: 0.4366 - val_accuracy: 0.8508 - val_loss: 0.4345\n",
      "Epoch 34/100\n",
      "\u001b[1m160/160\u001b[0m \u001b[32m━━━━━━━━━━━━━━━━━━━━\u001b[0m\u001b[37m\u001b[0m \u001b[1m27s\u001b[0m 171ms/step - accuracy: 0.8523 - loss: 0.4342 - val_accuracy: 0.8469 - val_loss: 0.4552\n",
      "Epoch 35/100\n",
      "\u001b[1m160/160\u001b[0m \u001b[32m━━━━━━━━━━━━━━━━━━━━\u001b[0m\u001b[37m\u001b[0m \u001b[1m27s\u001b[0m 172ms/step - accuracy: 0.8619 - loss: 0.4311 - val_accuracy: 0.8578 - val_loss: 0.4208\n",
      "Epoch 36/100\n",
      "\u001b[1m160/160\u001b[0m \u001b[32m━━━━━━━━━━━━━━━━━━━━\u001b[0m\u001b[37m\u001b[0m \u001b[1m27s\u001b[0m 171ms/step - accuracy: 0.8540 - loss: 0.4358 - val_accuracy: 0.8570 - val_loss: 0.4243\n",
      "Epoch 37/100\n",
      "\u001b[1m160/160\u001b[0m \u001b[32m━━━━━━━━━━━━━━━━━━━━\u001b[0m\u001b[37m\u001b[0m \u001b[1m27s\u001b[0m 171ms/step - accuracy: 0.8441 - loss: 0.4475 - val_accuracy: 0.8680 - val_loss: 0.4098\n",
      "Evaluating on test set:\n",
      "\u001b[1m50/50\u001b[0m \u001b[32m━━━━━━━━━━━━━━━━━━━━\u001b[0m\u001b[37m\u001b[0m \u001b[1m3s\u001b[0m 58ms/step - accuracy: 0.8535 - loss: 0.4316\n",
      "Test Loss: 0.4364, Test Accuracy: 0.8525\n",
      "\u001b[1m50/50\u001b[0m \u001b[32m━━━━━━━━━━━━━━━━━━━━\u001b[0m\u001b[37m\u001b[0m \u001b[1m3s\u001b[0m 57ms/step\n",
      "\n",
      "Confusion Matrix:\n",
      "[[643 161]\n",
      " [ 75 721]]\n",
      "\n",
      "Classification Report:\n",
      "              precision    recall  f1-score   support\n",
      "\n",
      "           0       0.90      0.80      0.84       804\n",
      "           1       0.82      0.91      0.86       796\n",
      "\n",
      "    accuracy                           0.85      1600\n",
      "   macro avg       0.86      0.85      0.85      1600\n",
      "weighted avg       0.86      0.85      0.85      1600\n",
      "\n",
      "\n",
      "Recall: 0.91\n",
      "F1-Score: 0.86\n",
      "\n",
      "AUC-ROC: 0.93\n"
     ]
    },
    {
     "data": {
      "image/png": "[encoded data removed]",
      "text/plain": [
       "<Figure size 640x480 with 1 Axes>"
      ]
     },
     "metadata": {},
     "output_type": "display_data"
    }
   ],
   "source": [
    "model, history = build_train_and_evaluate_model(x_train, y_train)\n"
   ]
  },
  {
   "cell_type": "code",
   "execution_count": 44,
   "id": "594f5a5e",
   "metadata": {
    "execution": {
     "iopub.execute_input": "2024-11-16T18:25:14.483272Z",
     "iopub.status.busy": "2024-11-16T18:25:14.482783Z",
     "iopub.status.idle": "2024-11-16T18:38:42.846819Z",
     "shell.execute_reply": "2024-11-16T18:38:42.845807Z",
     "shell.execute_reply.started": "2024-11-16T18:25:14.483223Z"
    },
    "trusted": true
   },
   "outputs": [
    {
     "name": "stdout",
     "output_type": "stream",
     "text": [
      "Epoch 1/100\n",
      "\u001b[1m160/160\u001b[0m \u001b[32m━━━━━━━━━━━━━━━━━━━━\u001b[0m\u001b[37m\u001b[0m \u001b[1m32s\u001b[0m 174ms/step - accuracy: 0.6671 - loss: 0.9902 - val_accuracy: 0.3172 - val_loss: 1.1509\n",
      "Epoch 2/100\n",
      "\u001b[1m160/160\u001b[0m \u001b[32m━━━━━━━━━━━━━━━━━━━━\u001b[0m\u001b[37m\u001b[0m \u001b[1m27s\u001b[0m 170ms/step - accuracy: 0.7680 - loss: 0.8018 - val_accuracy: 0.4000 - val_loss: 1.1723\n",
      "Epoch 3/100\n",
      "\u001b[1m160/160\u001b[0m \u001b[32m━━━━━━━━━━━━━━━━━━━━\u001b[0m\u001b[37m\u001b[0m \u001b[1m27s\u001b[0m 171ms/step - accuracy: 0.8072 - loss: 0.7107 - val_accuracy: 0.6922 - val_loss: 0.8354\n",
      "Epoch 4/100\n",
      "\u001b[1m160/160\u001b[0m \u001b[32m━━━━━━━━━━━━━━━━━━━━\u001b[0m\u001b[37m\u001b[0m \u001b[1m27s\u001b[0m 171ms/step - accuracy: 0.8352 - loss: 0.6490 - val_accuracy: 0.7336 - val_loss: 0.7228\n",
      "Epoch 5/100\n",
      "\u001b[1m160/160\u001b[0m \u001b[32m━━━━━━━━━━━━━━━━━━━━\u001b[0m\u001b[37m\u001b[0m \u001b[1m28s\u001b[0m 172ms/step - accuracy: 0.8326 - loss: 0.6015 - val_accuracy: 0.8516 - val_loss: 0.5606\n",
      "Epoch 6/100\n",
      "\u001b[1m160/160\u001b[0m \u001b[32m━━━━━━━━━━━━━━━━━━━━\u001b[0m\u001b[37m\u001b[0m \u001b[1m27s\u001b[0m 172ms/step - accuracy: 0.8392 - loss: 0.5831 - val_accuracy: 0.8484 - val_loss: 0.5268\n",
      "Epoch 7/100\n",
      "\u001b[1m160/160\u001b[0m \u001b[32m━━━━━━━━━━━━━━━━━━━━\u001b[0m\u001b[37m\u001b[0m \u001b[1m27s\u001b[0m 171ms/step - accuracy: 0.8453 - loss: 0.5293 - val_accuracy: 0.8047 - val_loss: 0.5548\n",
      "Epoch 8/100\n",
      "\u001b[1m160/160\u001b[0m \u001b[32m━━━━━━━━━━━━━━━━━━━━\u001b[0m\u001b[37m\u001b[0m \u001b[1m27s\u001b[0m 171ms/step - accuracy: 0.8516 - loss: 0.5139 - val_accuracy: 0.8211 - val_loss: 0.5279\n",
      "Epoch 9/100\n",
      "\u001b[1m160/160\u001b[0m \u001b[32m━━━━━━━━━━━━━━━━━━━━\u001b[0m\u001b[37m\u001b[0m \u001b[1m27s\u001b[0m 170ms/step - accuracy: 0.8566 - loss: 0.4704 - val_accuracy: 0.8047 - val_loss: 0.5460\n",
      "Epoch 10/100\n",
      "\u001b[1m160/160\u001b[0m \u001b[32m━━━━━━━━━━━━━━━━━━━━\u001b[0m\u001b[37m\u001b[0m \u001b[1m27s\u001b[0m 171ms/step - accuracy: 0.8498 - loss: 0.4649 - val_accuracy: 0.8531 - val_loss: 0.4680\n",
      "Epoch 11/100\n",
      "\u001b[1m160/160\u001b[0m \u001b[32m━━━━━━━━━━━━━━━━━━━━\u001b[0m\u001b[37m\u001b[0m \u001b[1m27s\u001b[0m 171ms/step - accuracy: 0.8552 - loss: 0.4550 - val_accuracy: 0.8367 - val_loss: 0.4796\n",
      "Epoch 12/100\n",
      "\u001b[1m160/160\u001b[0m \u001b[32m━━━━━━━━━━━━━━━━━━━━\u001b[0m\u001b[37m\u001b[0m \u001b[1m27s\u001b[0m 170ms/step - accuracy: 0.8623 - loss: 0.4397 - val_accuracy: 0.8438 - val_loss: 0.4407\n",
      "Epoch 13/100\n",
      "\u001b[1m160/160\u001b[0m \u001b[32m━━━━━━━━━━━━━━━━━━━━\u001b[0m\u001b[37m\u001b[0m \u001b[1m27s\u001b[0m 172ms/step - accuracy: 0.8493 - loss: 0.4458 - val_accuracy: 0.8430 - val_loss: 0.4370\n",
      "Epoch 14/100\n",
      "\u001b[1m160/160\u001b[0m \u001b[32m━━━━━━━━━━━━━━━━━━━━\u001b[0m\u001b[37m\u001b[0m \u001b[1m27s\u001b[0m 172ms/step - accuracy: 0.8606 - loss: 0.4272 - val_accuracy: 0.8461 - val_loss: 0.4276\n",
      "Epoch 15/100\n",
      "\u001b[1m160/160\u001b[0m \u001b[32m━━━━━━━━━━━━━━━━━━━━\u001b[0m\u001b[37m\u001b[0m \u001b[1m27s\u001b[0m 170ms/step - accuracy: 0.8698 - loss: 0.4081 - val_accuracy: 0.8320 - val_loss: 0.4750\n",
      "Epoch 16/100\n",
      "\u001b[1m160/160\u001b[0m \u001b[32m━━━━━━━━━━━━━━━━━━━━\u001b[0m\u001b[37m\u001b[0m \u001b[1m27s\u001b[0m 171ms/step - accuracy: 0.8581 - loss: 0.4219 - val_accuracy: 0.8625 - val_loss: 0.4254\n",
      "Epoch 17/100\n",
      "\u001b[1m160/160\u001b[0m \u001b[32m━━━━━━━━━━━━━━━━━━━━\u001b[0m\u001b[37m\u001b[0m \u001b[1m28s\u001b[0m 172ms/step - accuracy: 0.8623 - loss: 0.4234 - val_accuracy: 0.8492 - val_loss: 0.4126\n",
      "Epoch 18/100\n",
      "\u001b[1m160/160\u001b[0m \u001b[32m━━━━━━━━━━━━━━━━━━━━\u001b[0m\u001b[37m\u001b[0m \u001b[1m27s\u001b[0m 171ms/step - accuracy: 0.8501 - loss: 0.4221 - val_accuracy: 0.8578 - val_loss: 0.4053\n",
      "Epoch 19/100\n",
      "\u001b[1m160/160\u001b[0m \u001b[32m━━━━━━━━━━━━━━━━━━━━\u001b[0m\u001b[37m\u001b[0m \u001b[1m27s\u001b[0m 171ms/step - accuracy: 0.8722 - loss: 0.3948 - val_accuracy: 0.8562 - val_loss: 0.4001\n",
      "Epoch 20/100\n",
      "\u001b[1m160/160\u001b[0m \u001b[32m━━━━━━━━━━━━━━━━━━━━\u001b[0m\u001b[37m\u001b[0m \u001b[1m27s\u001b[0m 172ms/step - accuracy: 0.8723 - loss: 0.3925 - val_accuracy: 0.8562 - val_loss: 0.4125\n",
      "Epoch 21/100\n",
      "\u001b[1m160/160\u001b[0m \u001b[32m━━━━━━━━━━━━━━━━━━━━\u001b[0m\u001b[37m\u001b[0m \u001b[1m27s\u001b[0m 171ms/step - accuracy: 0.8677 - loss: 0.3946 - val_accuracy: 0.8453 - val_loss: 0.4275\n",
      "Epoch 22/100\n",
      "\u001b[1m160/160\u001b[0m \u001b[32m━━━━━━━━━━━━━━━━━━━━\u001b[0m\u001b[37m\u001b[0m \u001b[1m27s\u001b[0m 171ms/step - accuracy: 0.8697 - loss: 0.4015 - val_accuracy: 0.8555 - val_loss: 0.4002\n",
      "Epoch 23/100\n",
      "\u001b[1m160/160\u001b[0m \u001b[32m━━━━━━━━━━━━━━━━━━━━\u001b[0m\u001b[37m\u001b[0m \u001b[1m27s\u001b[0m 172ms/step - accuracy: 0.8626 - loss: 0.3919 - val_accuracy: 0.8430 - val_loss: 0.4351\n",
      "Epoch 24/100\n",
      "\u001b[1m160/160\u001b[0m \u001b[32m━━━━━━━━━━━━━━━━━━━━\u001b[0m\u001b[37m\u001b[0m \u001b[1m27s\u001b[0m 170ms/step - accuracy: 0.8721 - loss: 0.3717 - val_accuracy: 0.8531 - val_loss: 0.4045\n",
      "Epoch 25/100\n",
      "\u001b[1m160/160\u001b[0m \u001b[32m━━━━━━━━━━━━━━━━━━━━\u001b[0m\u001b[37m\u001b[0m \u001b[1m27s\u001b[0m 171ms/step - accuracy: 0.8730 - loss: 0.3734 - val_accuracy: 0.8508 - val_loss: 0.4230\n",
      "Epoch 26/100\n",
      "\u001b[1m160/160\u001b[0m \u001b[32m━━━━━━━━━━━━━━━━━━━━\u001b[0m\u001b[37m\u001b[0m \u001b[1m27s\u001b[0m 172ms/step - accuracy: 0.8688 - loss: 0.3728 - val_accuracy: 0.8508 - val_loss: 0.4298\n",
      "Epoch 27/100\n",
      "\u001b[1m160/160\u001b[0m \u001b[32m━━━━━━━━━━━━━━━━━━━━\u001b[0m\u001b[37m\u001b[0m \u001b[1m27s\u001b[0m 170ms/step - accuracy: 0.8668 - loss: 0.3834 - val_accuracy: 0.8352 - val_loss: 0.4643\n",
      "Epoch 28/100\n",
      "\u001b[1m160/160\u001b[0m \u001b[32m━━━━━━━━━━━━━━━━━━━━\u001b[0m\u001b[37m\u001b[0m \u001b[1m28s\u001b[0m 173ms/step - accuracy: 0.8670 - loss: 0.3845 - val_accuracy: 0.8477 - val_loss: 0.4388\n",
      "Epoch 29/100\n",
      "\u001b[1m160/160\u001b[0m \u001b[32m━━━━━━━━━━━━━━━━━━━━\u001b[0m\u001b[37m\u001b[0m \u001b[1m28s\u001b[0m 172ms/step - accuracy: 0.8725 - loss: 0.3847 - val_accuracy: 0.8633 - val_loss: 0.4014\n",
      "Evaluating on test set:\n",
      "\u001b[1m50/50\u001b[0m \u001b[32m━━━━━━━━━━━━━━━━━━━━\u001b[0m\u001b[37m\u001b[0m \u001b[1m3s\u001b[0m 56ms/step - accuracy: 0.8785 - loss: 0.3851\n",
      "Test Loss: 0.3929, Test Accuracy: 0.8681\n",
      "\u001b[1m50/50\u001b[0m \u001b[32m━━━━━━━━━━━━━━━━━━━━\u001b[0m\u001b[37m\u001b[0m \u001b[1m3s\u001b[0m 54ms/step\n",
      "\n",
      "Confusion Matrix:\n",
      "[[945 148]\n",
      " [ 63 444]]\n",
      "\n",
      "Classification Report:\n",
      "              precision    recall  f1-score   support\n",
      "\n",
      "           0       0.94      0.86      0.90      1093\n",
      "           1       0.75      0.88      0.81       507\n",
      "\n",
      "    accuracy                           0.87      1600\n",
      "   macro avg       0.84      0.87      0.85      1600\n",
      "weighted avg       0.88      0.87      0.87      1600\n",
      "\n",
      "\n",
      "Recall: 0.88\n",
      "F1-Score: 0.81\n",
      "\n",
      "AUC-ROC: 0.94\n"
     ]
    },
    {
     "data": {
      "image/png": "[encoded data removed]",
      "text/plain": [
       "<Figure size 640x480 with 1 Axes>"
      ]
     },
     "metadata": {},
     "output_type": "display_data"
    }
   ],
   "source": [
    "indices_0 = np.where(y_train_encoded['CD'] == 0)[0] \n",
    "indices_1 = np.where(y_train_encoded['CD'] == 1)[0]\n",
    "selected_indices_0=np.random.choice(indices_0, 4000, replace=False)\n",
    "selected_indices_1=np.random.choice(indices_1, 4000, replace=False)\n",
    "x_train_norm0=X_train[selected_indices_0]\n",
    "x_train_norm1=X_train[selected_indices_1]\n",
    "y_train_norm0=y_train_encoded.iloc[selected_indices_0,3]\n",
    "y_train_norm1=y_train_encoded.iloc[selected_indices_1,3]\n",
    "x_train= np.concatenate([x_train_norm0, x_train_norm1], axis=0)\n",
    "y_train=np.concatenate([y_train_norm0, y_train_norm1], axis=0)\n",
    "model, history = build_train_and_evaluate_model(x_train, y_train)\n"
   ]
  },
  {
   "cell_type": "code",
   "execution_count": 45,
   "id": "0b68e3ef",
   "metadata": {
    "execution": {
     "iopub.execute_input": "2024-11-16T18:38:42.848905Z",
     "iopub.status.busy": "2024-11-16T18:38:42.848586Z",
     "iopub.status.idle": "2024-11-16T18:54:41.022646Z",
     "shell.execute_reply": "2024-11-16T18:54:41.021708Z",
     "shell.execute_reply.started": "2024-11-16T18:38:42.848871Z"
    },
    "trusted": true
   },
   "outputs": [
    {
     "name": "stderr",
     "output_type": "stream",
     "text": [
      "/opt/conda/lib/python3.10/site-packages/keras/src/layers/convolutional/base_conv.py:107: UserWarning: Do not pass an `input_shape`/`input_dim` argument to a layer. When using Sequential models, prefer using an `Input(shape)` object as the first layer in the model instead.\n",
      "  super().__init__(activity_regularizer=activity_regularizer, **kwargs)\n"
     ]
    },
    {
     "name": "stdout",
     "output_type": "stream",
     "text": [
      "Epoch 1/100\n",
      "\u001b[1m160/160\u001b[0m \u001b[32m━━━━━━━━━━━━━━━━━━━━\u001b[0m\u001b[37m\u001b[0m \u001b[1m29s\u001b[0m 156ms/step - accuracy: 0.7045 - loss: 0.9665 - val_accuracy: 0.3125 - val_loss: 1.2285\n",
      "Epoch 2/100\n",
      "\u001b[1m160/160\u001b[0m \u001b[32m━━━━━━━━━━━━━━━━━━━━\u001b[0m\u001b[37m\u001b[0m \u001b[1m24s\u001b[0m 153ms/step - accuracy: 0.7761 - loss: 0.7922 - val_accuracy: 0.3875 - val_loss: 1.1666\n",
      "Epoch 3/100\n",
      "\u001b[1m160/160\u001b[0m \u001b[32m━━━━━━━━━━━━━━━━━━━━\u001b[0m\u001b[37m\u001b[0m \u001b[1m24s\u001b[0m 151ms/step - accuracy: 0.8260 - loss: 0.6946 - val_accuracy: 0.7070 - val_loss: 0.8462\n",
      "Epoch 4/100\n",
      "\u001b[1m160/160\u001b[0m \u001b[32m━━━━━━━━━━━━━━━━━━━━\u001b[0m\u001b[37m\u001b[0m \u001b[1m41s\u001b[0m 153ms/step - accuracy: 0.8003 - loss: 0.6799 - val_accuracy: 0.8477 - val_loss: 0.5909\n",
      "Epoch 5/100\n",
      "\u001b[1m160/160\u001b[0m \u001b[32m━━━━━━━━━━━━━━━━━━━━\u001b[0m\u001b[37m\u001b[0m \u001b[1m25s\u001b[0m 154ms/step - accuracy: 0.8556 - loss: 0.5994 - val_accuracy: 0.8156 - val_loss: 0.5953\n",
      "Epoch 6/100\n",
      "\u001b[1m160/160\u001b[0m \u001b[32m━━━━━━━━━━━━━━━━━━━━\u001b[0m\u001b[37m\u001b[0m \u001b[1m24s\u001b[0m 150ms/step - accuracy: 0.8522 - loss: 0.5543 - val_accuracy: 0.8727 - val_loss: 0.5107\n",
      "Epoch 7/100\n",
      "\u001b[1m160/160\u001b[0m \u001b[32m━━━━━━━━━━━━━━━━━━━━\u001b[0m\u001b[37m\u001b[0m \u001b[1m24s\u001b[0m 153ms/step - accuracy: 0.8563 - loss: 0.5377 - val_accuracy: 0.8328 - val_loss: 0.5352\n",
      "Epoch 8/100\n",
      "\u001b[1m160/160\u001b[0m \u001b[32m━━━━━━━━━━━━━━━━━━━━\u001b[0m\u001b[37m\u001b[0m \u001b[1m24s\u001b[0m 153ms/step - accuracy: 0.8642 - loss: 0.4903 - val_accuracy: 0.8680 - val_loss: 0.4705\n",
      "Epoch 9/100\n",
      "\u001b[1m160/160\u001b[0m \u001b[32m━━━━━━━━━━━━━━━━━━━━\u001b[0m\u001b[37m\u001b[0m \u001b[1m24s\u001b[0m 152ms/step - accuracy: 0.8842 - loss: 0.4455 - val_accuracy: 0.8734 - val_loss: 0.4496\n",
      "Epoch 10/100\n",
      "\u001b[1m160/160\u001b[0m \u001b[32m━━━━━━━━━━━━━━━━━━━━\u001b[0m\u001b[37m\u001b[0m \u001b[1m24s\u001b[0m 153ms/step - accuracy: 0.8682 - loss: 0.4647 - val_accuracy: 0.8719 - val_loss: 0.4330\n",
      "Epoch 11/100\n",
      "\u001b[1m160/160\u001b[0m \u001b[32m━━━━━━━━━━━━━━━━━━━━\u001b[0m\u001b[37m\u001b[0m \u001b[1m25s\u001b[0m 154ms/step - accuracy: 0.8688 - loss: 0.4362 - val_accuracy: 0.8445 - val_loss: 0.4537\n",
      "Epoch 12/100\n",
      "\u001b[1m160/160\u001b[0m \u001b[32m━━━━━━━━━━━━━━━━━━━━\u001b[0m\u001b[37m\u001b[0m \u001b[1m25s\u001b[0m 154ms/step - accuracy: 0.8801 - loss: 0.4124 - val_accuracy: 0.8734 - val_loss: 0.4233\n",
      "Epoch 13/100\n",
      "\u001b[1m160/160\u001b[0m \u001b[32m━━━━━━━━━━━━━━━━━━━━\u001b[0m\u001b[37m\u001b[0m \u001b[1m24s\u001b[0m 153ms/step - accuracy: 0.8772 - loss: 0.4119 - val_accuracy: 0.8687 - val_loss: 0.4181\n",
      "Epoch 14/100\n",
      "\u001b[1m160/160\u001b[0m \u001b[32m━━━━━━━━━━━━━━━━━━━━\u001b[0m\u001b[37m\u001b[0m \u001b[1m24s\u001b[0m 153ms/step - accuracy: 0.8884 - loss: 0.3859 - val_accuracy: 0.8641 - val_loss: 0.4405\n",
      "Epoch 15/100\n",
      "\u001b[1m160/160\u001b[0m \u001b[32m━━━━━━━━━━━━━━━━━━━━\u001b[0m\u001b[37m\u001b[0m \u001b[1m24s\u001b[0m 152ms/step - accuracy: 0.8761 - loss: 0.4070 - val_accuracy: 0.8820 - val_loss: 0.3826\n",
      "Epoch 16/100\n",
      "\u001b[1m160/160\u001b[0m \u001b[32m━━━━━━━━━━━━━━━━━━━━\u001b[0m\u001b[37m\u001b[0m \u001b[1m24s\u001b[0m 151ms/step - accuracy: 0.8862 - loss: 0.3823 - val_accuracy: 0.8734 - val_loss: 0.3905\n",
      "Epoch 17/100\n",
      "\u001b[1m160/160\u001b[0m \u001b[32m━━━━━━━━━━━━━━━━━━━━\u001b[0m\u001b[37m\u001b[0m \u001b[1m24s\u001b[0m 153ms/step - accuracy: 0.8717 - loss: 0.3854 - val_accuracy: 0.8813 - val_loss: 0.3914\n",
      "Epoch 18/100\n",
      "\u001b[1m160/160\u001b[0m \u001b[32m━━━━━━━━━━━━━━━━━━━━\u001b[0m\u001b[37m\u001b[0m \u001b[1m24s\u001b[0m 153ms/step - accuracy: 0.8886 - loss: 0.3684 - val_accuracy: 0.8734 - val_loss: 0.3876\n",
      "Epoch 19/100\n",
      "\u001b[1m160/160\u001b[0m \u001b[32m━━━━━━━━━━━━━━━━━━━━\u001b[0m\u001b[37m\u001b[0m \u001b[1m24s\u001b[0m 151ms/step - accuracy: 0.8867 - loss: 0.3577 - val_accuracy: 0.8719 - val_loss: 0.4118\n",
      "Epoch 20/100\n",
      "\u001b[1m160/160\u001b[0m \u001b[32m━━━━━━━━━━━━━━━━━━━━\u001b[0m\u001b[37m\u001b[0m \u001b[1m24s\u001b[0m 153ms/step - accuracy: 0.8802 - loss: 0.3655 - val_accuracy: 0.8570 - val_loss: 0.4022\n",
      "Epoch 21/100\n",
      "\u001b[1m160/160\u001b[0m \u001b[32m━━━━━━━━━━━━━━━━━━━━\u001b[0m\u001b[37m\u001b[0m \u001b[1m25s\u001b[0m 154ms/step - accuracy: 0.8860 - loss: 0.3765 - val_accuracy: 0.8703 - val_loss: 0.4254\n",
      "Epoch 22/100\n",
      "\u001b[1m160/160\u001b[0m \u001b[32m━━━━━━━━━━━━━━━━━━━━\u001b[0m\u001b[37m\u001b[0m \u001b[1m25s\u001b[0m 153ms/step - accuracy: 0.8952 - loss: 0.3565 - val_accuracy: 0.8727 - val_loss: 0.3698\n",
      "Epoch 23/100\n",
      "\u001b[1m160/160\u001b[0m \u001b[32m━━━━━━━━━━━━━━━━━━━━\u001b[0m\u001b[37m\u001b[0m \u001b[1m24s\u001b[0m 152ms/step - accuracy: 0.8753 - loss: 0.3689 - val_accuracy: 0.8766 - val_loss: 0.3723\n",
      "Epoch 24/100\n",
      "\u001b[1m160/160\u001b[0m \u001b[32m━━━━━━━━━━━━━━━━━━━━\u001b[0m\u001b[37m\u001b[0m \u001b[1m24s\u001b[0m 152ms/step - accuracy: 0.8910 - loss: 0.3473 - val_accuracy: 0.8594 - val_loss: 0.3850\n",
      "Epoch 25/100\n",
      "\u001b[1m160/160\u001b[0m \u001b[32m━━━━━━━━━━━━━━━━━━━━\u001b[0m\u001b[37m\u001b[0m \u001b[1m25s\u001b[0m 153ms/step - accuracy: 0.8898 - loss: 0.3503 - val_accuracy: 0.8609 - val_loss: 0.4052\n",
      "Epoch 26/100\n",
      "\u001b[1m160/160\u001b[0m \u001b[32m━━━━━━━━━━━━━━━━━━━━\u001b[0m\u001b[37m\u001b[0m \u001b[1m24s\u001b[0m 152ms/step - accuracy: 0.8867 - loss: 0.3587 - val_accuracy: 0.8813 - val_loss: 0.3833\n",
      "Epoch 27/100\n",
      "\u001b[1m160/160\u001b[0m \u001b[32m━━━━━━━━━━━━━━━━━━━━\u001b[0m\u001b[37m\u001b[0m \u001b[1m24s\u001b[0m 151ms/step - accuracy: 0.8884 - loss: 0.3608 - val_accuracy: 0.8703 - val_loss: 0.3881\n",
      "Epoch 28/100\n",
      "\u001b[1m160/160\u001b[0m \u001b[32m━━━━━━━━━━━━━━━━━━━━\u001b[0m\u001b[37m\u001b[0m \u001b[1m24s\u001b[0m 153ms/step - accuracy: 0.8847 - loss: 0.3569 - val_accuracy: 0.8891 - val_loss: 0.3628\n",
      "Epoch 29/100\n",
      "\u001b[1m160/160\u001b[0m \u001b[32m━━━━━━━━━━━━━━━━━━━━\u001b[0m\u001b[37m\u001b[0m \u001b[1m24s\u001b[0m 152ms/step - accuracy: 0.8916 - loss: 0.3519 - val_accuracy: 0.8797 - val_loss: 0.3763\n",
      "Epoch 30/100\n",
      "\u001b[1m160/160\u001b[0m \u001b[32m━━━━━━━━━━━━━━━━━━━━\u001b[0m\u001b[37m\u001b[0m \u001b[1m24s\u001b[0m 152ms/step - accuracy: 0.8841 - loss: 0.3576 - val_accuracy: 0.8445 - val_loss: 0.4097\n",
      "Epoch 31/100\n",
      "\u001b[1m160/160\u001b[0m \u001b[32m━━━━━━━━━━━━━━━━━━━━\u001b[0m\u001b[37m\u001b[0m \u001b[1m24s\u001b[0m 153ms/step - accuracy: 0.8874 - loss: 0.3633 - val_accuracy: 0.8758 - val_loss: 0.3830\n",
      "Epoch 32/100\n",
      "\u001b[1m160/160\u001b[0m \u001b[32m━━━━━━━━━━━━━━━━━━━━\u001b[0m\u001b[37m\u001b[0m \u001b[1m24s\u001b[0m 152ms/step - accuracy: 0.8927 - loss: 0.3400 - val_accuracy: 0.8633 - val_loss: 0.3962\n",
      "Epoch 33/100\n",
      "\u001b[1m160/160\u001b[0m \u001b[32m━━━━━━━━━━━━━━━━━━━━\u001b[0m\u001b[37m\u001b[0m \u001b[1m24s\u001b[0m 151ms/step - accuracy: 0.8967 - loss: 0.3408 - val_accuracy: 0.8906 - val_loss: 0.3731\n",
      "Epoch 34/100\n",
      "\u001b[1m160/160\u001b[0m \u001b[32m━━━━━━━━━━━━━━━━━━━━\u001b[0m\u001b[37m\u001b[0m \u001b[1m25s\u001b[0m 153ms/step - accuracy: 0.8979 - loss: 0.3258 - val_accuracy: 0.8555 - val_loss: 0.4059\n",
      "Epoch 35/100\n",
      "\u001b[1m160/160\u001b[0m \u001b[32m━━━━━━━━━━━━━━━━━━━━\u001b[0m\u001b[37m\u001b[0m \u001b[1m25s\u001b[0m 153ms/step - accuracy: 0.8980 - loss: 0.3323 - val_accuracy: 0.8836 - val_loss: 0.3774\n",
      "Epoch 36/100\n",
      "\u001b[1m160/160\u001b[0m \u001b[32m━━━━━━━━━━━━━━━━━━━━\u001b[0m\u001b[37m\u001b[0m \u001b[1m25s\u001b[0m 156ms/step - accuracy: 0.8969 - loss: 0.3426 - val_accuracy: 0.8805 - val_loss: 0.3689\n",
      "Epoch 37/100\n",
      "\u001b[1m160/160\u001b[0m \u001b[32m━━━━━━━━━━━━━━━━━━━━\u001b[0m\u001b[37m\u001b[0m \u001b[1m24s\u001b[0m 153ms/step - accuracy: 0.8879 - loss: 0.3529 - val_accuracy: 0.8781 - val_loss: 0.3733\n",
      "Epoch 38/100\n",
      "\u001b[1m160/160\u001b[0m \u001b[32m━━━━━━━━━━━━━━━━━━━━\u001b[0m\u001b[37m\u001b[0m \u001b[1m24s\u001b[0m 152ms/step - accuracy: 0.9004 - loss: 0.3259 - val_accuracy: 0.8930 - val_loss: 0.3712\n",
      "Evaluating on test set:\n",
      "\u001b[1m50/50\u001b[0m \u001b[32m━━━━━━━━━━━━━━━━━━━━\u001b[0m\u001b[37m\u001b[0m \u001b[1m3s\u001b[0m 58ms/step - accuracy: 0.8832 - loss: 0.3641\n",
      "Test Loss: 0.3504, Test Accuracy: 0.8900\n",
      "\u001b[1m50/50\u001b[0m \u001b[32m━━━━━━━━━━━━━━━━━━━━\u001b[0m\u001b[37m\u001b[0m \u001b[1m3s\u001b[0m 57ms/step\n",
      "\n",
      "Confusion Matrix:\n",
      "[[1020  111]\n",
      " [  65  404]]\n",
      "\n",
      "Classification Report:\n",
      "              precision    recall  f1-score   support\n",
      "\n",
      "           0       0.94      0.90      0.92      1131\n",
      "           1       0.78      0.86      0.82       469\n",
      "\n",
      "    accuracy                           0.89      1600\n",
      "   macro avg       0.86      0.88      0.87      1600\n",
      "weighted avg       0.89      0.89      0.89      1600\n",
      "\n",
      "\n",
      "Recall: 0.86\n",
      "F1-Score: 0.82\n",
      "\n",
      "AUC-ROC: 0.95\n"
     ]
    },
    {
     "data": {
      "image/png": "[encoded data removed]",
      "text/plain": [
       "<Figure size 640x480 with 1 Axes>"
      ]
     },
     "metadata": {},
     "output_type": "display_data"
    }
   ],
   "source": [
    "indices_0 = np.where(y_train_encoded['STTC'] == 0)[0] \n",
    "indices_1 = np.where(y_train_encoded['STTC'] == 1)[0]\n",
    "selected_indices_0=np.random.choice(indices_0, 4000, replace=False)\n",
    "selected_indices_1=np.random.choice(indices_1, 4000, replace=False)\n",
    "x_train_norm0=X_train[selected_indices_0]\n",
    "x_train_norm1=X_train[selected_indices_1]\n",
    "y_train_norm0=y_train_encoded.iloc[selected_indices_0,3]\n",
    "y_train_norm1=y_train_encoded.iloc[selected_indices_1,3]\n",
    "x_train= np.concatenate([x_train_norm0, x_train_norm1], axis=0)\n",
    "y_train=np.concatenate([y_train_norm0, y_train_norm1], axis=0)\n",
    "model, history = build_train_and_evaluate_model(x_train, y_train)\n"
   ]
  },
  {
   "cell_type": "code",
   "execution_count": 46,
   "id": "ec13dd00",
   "metadata": {
    "execution": {
     "iopub.execute_input": "2024-11-16T18:54:41.024819Z",
     "iopub.status.busy": "2024-11-16T18:54:41.024103Z",
     "iopub.status.idle": "2024-11-16T19:06:52.621731Z",
     "shell.execute_reply": "2024-11-16T19:06:52.620818Z",
     "shell.execute_reply.started": "2024-11-16T18:54:41.024771Z"
    },
    "trusted": true
   },
   "outputs": [
    {
     "name": "stderr",
     "output_type": "stream",
     "text": [
      "/opt/conda/lib/python3.10/site-packages/keras/src/layers/convolutional/base_conv.py:107: UserWarning: Do not pass an `input_shape`/`input_dim` argument to a layer. When using Sequential models, prefer using an `Input(shape)` object as the first layer in the model instead.\n",
      "  super().__init__(activity_regularizer=activity_regularizer, **kwargs)\n"
     ]
    },
    {
     "name": "stdout",
     "output_type": "stream",
     "text": [
      "Epoch 1/100\n",
      "\u001b[1m160/160\u001b[0m \u001b[32m━━━━━━━━━━━━━━━━━━━━\u001b[0m\u001b[37m\u001b[0m \u001b[1m30s\u001b[0m 158ms/step - accuracy: 0.6809 - loss: 0.9854 - val_accuracy: 0.3055 - val_loss: 1.3204\n",
      "Epoch 2/100\n",
      "\u001b[1m160/160\u001b[0m \u001b[32m━━━━━━━━━━━━━━━━━━━━\u001b[0m\u001b[37m\u001b[0m \u001b[1m25s\u001b[0m 154ms/step - accuracy: 0.7741 - loss: 0.7915 - val_accuracy: 0.4609 - val_loss: 0.9915\n",
      "Epoch 3/100\n",
      "\u001b[1m160/160\u001b[0m \u001b[32m━━━━━━━━━━━━━━━━━━━━\u001b[0m\u001b[37m\u001b[0m \u001b[1m25s\u001b[0m 154ms/step - accuracy: 0.8103 - loss: 0.7207 - val_accuracy: 0.7766 - val_loss: 0.7032\n",
      "Epoch 4/100\n",
      "\u001b[1m160/160\u001b[0m \u001b[32m━━━━━━━━━━━━━━━━━━━━\u001b[0m\u001b[37m\u001b[0m \u001b[1m24s\u001b[0m 152ms/step - accuracy: 0.8074 - loss: 0.6643 - val_accuracy: 0.8094 - val_loss: 0.6357\n",
      "Epoch 5/100\n",
      "\u001b[1m160/160\u001b[0m \u001b[32m━━━━━━━━━━━━━━━━━━━━\u001b[0m\u001b[37m\u001b[0m \u001b[1m25s\u001b[0m 155ms/step - accuracy: 0.8416 - loss: 0.6093 - val_accuracy: 0.8273 - val_loss: 0.5714\n",
      "Epoch 6/100\n",
      "\u001b[1m160/160\u001b[0m \u001b[32m━━━━━━━━━━━━━━━━━━━━\u001b[0m\u001b[37m\u001b[0m \u001b[1m25s\u001b[0m 154ms/step - accuracy: 0.8429 - loss: 0.5805 - val_accuracy: 0.8320 - val_loss: 0.5567\n",
      "Epoch 7/100\n",
      "\u001b[1m160/160\u001b[0m \u001b[32m━━━━━━━━━━━━━━━━━━━━\u001b[0m\u001b[37m\u001b[0m \u001b[1m25s\u001b[0m 155ms/step - accuracy: 0.8543 - loss: 0.5354 - val_accuracy: 0.8523 - val_loss: 0.5029\n",
      "Epoch 8/100\n",
      "\u001b[1m160/160\u001b[0m \u001b[32m━━━━━━━━━━━━━━━━━━━━\u001b[0m\u001b[37m\u001b[0m \u001b[1m25s\u001b[0m 156ms/step - accuracy: 0.8486 - loss: 0.5122 - val_accuracy: 0.8547 - val_loss: 0.4885\n",
      "Epoch 9/100\n",
      "\u001b[1m160/160\u001b[0m \u001b[32m━━━━━━━━━━━━━━━━━━━━\u001b[0m\u001b[37m\u001b[0m \u001b[1m25s\u001b[0m 156ms/step - accuracy: 0.8466 - loss: 0.4994 - val_accuracy: 0.8633 - val_loss: 0.4620\n",
      "Epoch 10/100\n",
      "\u001b[1m160/160\u001b[0m \u001b[32m━━━━━━━━━━━━━━━━━━━━\u001b[0m\u001b[37m\u001b[0m \u001b[1m25s\u001b[0m 158ms/step - accuracy: 0.8586 - loss: 0.4596 - val_accuracy: 0.8469 - val_loss: 0.4941\n",
      "Epoch 11/100\n",
      "\u001b[1m160/160\u001b[0m \u001b[32m━━━━━━━━━━━━━━━━━━━━\u001b[0m\u001b[37m\u001b[0m \u001b[1m25s\u001b[0m 153ms/step - accuracy: 0.8597 - loss: 0.4592 - val_accuracy: 0.8289 - val_loss: 0.4701\n",
      "Epoch 12/100\n",
      "\u001b[1m160/160\u001b[0m \u001b[32m━━━━━━━━━━━━━━━━━━━━\u001b[0m\u001b[37m\u001b[0m \u001b[1m25s\u001b[0m 155ms/step - accuracy: 0.8636 - loss: 0.4233 - val_accuracy: 0.8531 - val_loss: 0.4419\n",
      "Epoch 13/100\n",
      "\u001b[1m160/160\u001b[0m \u001b[32m━━━━━━━━━━━━━━━━━━━━\u001b[0m\u001b[37m\u001b[0m \u001b[1m25s\u001b[0m 155ms/step - accuracy: 0.8652 - loss: 0.4300 - val_accuracy: 0.8414 - val_loss: 0.4621\n",
      "Epoch 14/100\n",
      "\u001b[1m160/160\u001b[0m \u001b[32m━━━━━━━━━━━━━━━━━━━━\u001b[0m\u001b[37m\u001b[0m \u001b[1m25s\u001b[0m 153ms/step - accuracy: 0.8597 - loss: 0.4384 - val_accuracy: 0.8500 - val_loss: 0.4307\n",
      "Epoch 15/100\n",
      "\u001b[1m160/160\u001b[0m \u001b[32m━━━━━━━━━━━━━━━━━━━━\u001b[0m\u001b[37m\u001b[0m \u001b[1m25s\u001b[0m 155ms/step - accuracy: 0.8667 - loss: 0.4073 - val_accuracy: 0.8469 - val_loss: 0.4203\n",
      "Epoch 16/100\n",
      "\u001b[1m160/160\u001b[0m \u001b[32m━━━━━━━━━━━━━━━━━━━━\u001b[0m\u001b[37m\u001b[0m \u001b[1m25s\u001b[0m 156ms/step - accuracy: 0.8679 - loss: 0.4196 - val_accuracy: 0.8672 - val_loss: 0.4054\n",
      "Epoch 17/100\n",
      "\u001b[1m160/160\u001b[0m \u001b[32m━━━━━━━━━━━━━━━━━━━━\u001b[0m\u001b[37m\u001b[0m \u001b[1m24s\u001b[0m 153ms/step - accuracy: 0.8703 - loss: 0.4034 - val_accuracy: 0.8414 - val_loss: 0.4420\n",
      "Epoch 18/100\n",
      "\u001b[1m160/160\u001b[0m \u001b[32m━━━━━━━━━━━━━━━━━━━━\u001b[0m\u001b[37m\u001b[0m \u001b[1m25s\u001b[0m 154ms/step - accuracy: 0.8535 - loss: 0.4186 - val_accuracy: 0.8484 - val_loss: 0.4288\n",
      "Epoch 19/100\n",
      "\u001b[1m160/160\u001b[0m \u001b[32m━━━━━━━━━━━━━━━━━━━━\u001b[0m\u001b[37m\u001b[0m \u001b[1m25s\u001b[0m 156ms/step - accuracy: 0.8610 - loss: 0.4027 - val_accuracy: 0.8609 - val_loss: 0.3931\n",
      "Epoch 20/100\n",
      "\u001b[1m160/160\u001b[0m \u001b[32m━━━━━━━━━━━━━━━━━━━━\u001b[0m\u001b[37m\u001b[0m \u001b[1m24s\u001b[0m 153ms/step - accuracy: 0.8795 - loss: 0.3742 - val_accuracy: 0.8523 - val_loss: 0.4200\n",
      "Epoch 21/100\n",
      "\u001b[1m160/160\u001b[0m \u001b[32m━━━━━━━━━━━━━━━━━━━━\u001b[0m\u001b[37m\u001b[0m \u001b[1m25s\u001b[0m 155ms/step - accuracy: 0.8677 - loss: 0.3949 - val_accuracy: 0.8523 - val_loss: 0.4206\n",
      "Epoch 22/100\n",
      "\u001b[1m160/160\u001b[0m \u001b[32m━━━━━━━━━━━━━━━━━━━━\u001b[0m\u001b[37m\u001b[0m \u001b[1m25s\u001b[0m 156ms/step - accuracy: 0.8673 - loss: 0.3958 - val_accuracy: 0.8484 - val_loss: 0.4614\n",
      "Epoch 23/100\n",
      "\u001b[1m160/160\u001b[0m \u001b[32m━━━━━━━━━━━━━━━━━━━━\u001b[0m\u001b[37m\u001b[0m \u001b[1m25s\u001b[0m 154ms/step - accuracy: 0.8644 - loss: 0.3935 - val_accuracy: 0.8617 - val_loss: 0.4147\n",
      "Epoch 24/100\n",
      "\u001b[1m160/160\u001b[0m \u001b[32m━━━━━━━━━━━━━━━━━━━━\u001b[0m\u001b[37m\u001b[0m \u001b[1m25s\u001b[0m 154ms/step - accuracy: 0.8657 - loss: 0.3846 - val_accuracy: 0.8531 - val_loss: 0.3936\n",
      "Epoch 25/100\n",
      "\u001b[1m160/160\u001b[0m \u001b[32m━━━━━━━━━━━━━━━━━━━━\u001b[0m\u001b[37m\u001b[0m \u001b[1m25s\u001b[0m 155ms/step - accuracy: 0.8655 - loss: 0.3882 - val_accuracy: 0.8586 - val_loss: 0.3961\n",
      "Epoch 26/100\n",
      "\u001b[1m160/160\u001b[0m \u001b[32m━━━━━━━━━━━━━━━━━━━━\u001b[0m\u001b[37m\u001b[0m \u001b[1m25s\u001b[0m 155ms/step - accuracy: 0.8755 - loss: 0.3832 - val_accuracy: 0.8594 - val_loss: 0.4038\n",
      "Epoch 27/100\n",
      "\u001b[1m160/160\u001b[0m \u001b[32m━━━━━━━━━━━━━━━━━━━━\u001b[0m\u001b[37m\u001b[0m \u001b[1m24s\u001b[0m 153ms/step - accuracy: 0.8694 - loss: 0.3818 - val_accuracy: 0.8602 - val_loss: 0.3959\n",
      "Epoch 28/100\n",
      "\u001b[1m160/160\u001b[0m \u001b[32m━━━━━━━━━━━━━━━━━━━━\u001b[0m\u001b[37m\u001b[0m \u001b[1m25s\u001b[0m 154ms/step - accuracy: 0.8753 - loss: 0.3781 - val_accuracy: 0.8742 - val_loss: 0.4188\n",
      "Epoch 29/100\n",
      "\u001b[1m160/160\u001b[0m \u001b[32m━━━━━━━━━━━━━━━━━━━━\u001b[0m\u001b[37m\u001b[0m \u001b[1m25s\u001b[0m 154ms/step - accuracy: 0.8785 - loss: 0.3656 - val_accuracy: 0.8562 - val_loss: 0.3939\n",
      "Evaluating on test set:\n",
      "\u001b[1m50/50\u001b[0m \u001b[32m━━━━━━━━━━━━━━━━━━━━\u001b[0m\u001b[37m\u001b[0m \u001b[1m3s\u001b[0m 58ms/step - accuracy: 0.8573 - loss: 0.4056\n",
      "Test Loss: 0.3954, Test Accuracy: 0.8706\n",
      "\u001b[1m50/50\u001b[0m \u001b[32m━━━━━━━━━━━━━━━━━━━━\u001b[0m\u001b[37m\u001b[0m \u001b[1m3s\u001b[0m 57ms/step\n",
      "\n",
      "Confusion Matrix:\n",
      "[[1031  104]\n",
      " [ 103  362]]\n",
      "\n",
      "Classification Report:\n",
      "              precision    recall  f1-score   support\n",
      "\n",
      "           0       0.91      0.91      0.91      1135\n",
      "           1       0.78      0.78      0.78       465\n",
      "\n",
      "    accuracy                           0.87      1600\n",
      "   macro avg       0.84      0.84      0.84      1600\n",
      "weighted avg       0.87      0.87      0.87      1600\n",
      "\n",
      "\n",
      "Recall: 0.78\n",
      "F1-Score: 0.78\n",
      "\n",
      "AUC-ROC: 0.93\n"
     ]
    },
    {
     "data": {
      "image/png": "[encoded data removed]",
      "text/plain": [
       "<Figure size 640x480 with 1 Axes>"
      ]
     },
     "metadata": {},
     "output_type": "display_data"
    }
   ],
   "source": [
    "indices_0 = np.where(y_train_encoded['MI'] == 0)[0] \n",
    "indices_1 = np.where(y_train_encoded['MI'] == 1)[0]\n",
    "selected_indices_0=np.random.choice(indices_0, 4000, replace=False)\n",
    "selected_indices_1=np.random.choice(indices_1, 4000, replace=False)\n",
    "x_train_norm0=X_train[selected_indices_0]\n",
    "x_train_norm1=X_train[selected_indices_1]\n",
    "y_train_norm0=y_train_encoded.iloc[selected_indices_0,3]\n",
    "y_train_norm1=y_train_encoded.iloc[selected_indices_1,3]\n",
    "x_train= np.concatenate([x_train_norm0, x_train_norm1], axis=0)\n",
    "y_train=np.concatenate([y_train_norm0, y_train_norm1], axis=0)\n",
    "model, history = build_train_and_evaluate_model(x_train, y_train)\n"
   ]
  },
  {
   "cell_type": "code",
   "execution_count": 48,
   "id": "8f261b45",
   "metadata": {
    "execution": {
     "iopub.execute_input": "2024-11-16T19:16:05.851132Z",
     "iopub.status.busy": "2024-11-16T19:16:05.850488Z",
     "iopub.status.idle": "2024-11-16T19:23:58.034425Z",
     "shell.execute_reply": "2024-11-16T19:23:58.033305Z",
     "shell.execute_reply.started": "2024-11-16T19:16:05.851092Z"
    },
    "trusted": true
   },
   "outputs": [
    {
     "name": "stdout",
     "output_type": "stream",
     "text": [
      "Epoch 1/100\n",
      "\u001b[1m80/80\u001b[0m \u001b[32m━━━━━━━━━━━━━━━━━━━━\u001b[0m\u001b[37m\u001b[0m \u001b[1m17s\u001b[0m 163ms/step - accuracy: 0.7224 - loss: 0.9693 - val_accuracy: 0.2656 - val_loss: 1.1336\n",
      "Epoch 2/100\n",
      "\u001b[1m80/80\u001b[0m \u001b[32m━━━━━━━━━━━━━━━━━━━━\u001b[0m\u001b[37m\u001b[0m \u001b[1m12s\u001b[0m 156ms/step - accuracy: 0.7745 - loss: 0.8309 - val_accuracy: 0.2609 - val_loss: 1.2619\n",
      "Epoch 3/100\n",
      "\u001b[1m80/80\u001b[0m \u001b[32m━━━━━━━━━━━━━━━━━━━━\u001b[0m\u001b[37m\u001b[0m \u001b[1m12s\u001b[0m 156ms/step - accuracy: 0.8020 - loss: 0.7578 - val_accuracy: 0.6109 - val_loss: 0.9420\n",
      "Epoch 4/100\n",
      "\u001b[1m80/80\u001b[0m \u001b[32m━━━━━━━━━━━━━━━━━━━━\u001b[0m\u001b[37m\u001b[0m \u001b[1m12s\u001b[0m 155ms/step - accuracy: 0.8049 - loss: 0.7180 - val_accuracy: 0.4000 - val_loss: 1.1642\n",
      "Epoch 5/100\n",
      "\u001b[1m80/80\u001b[0m \u001b[32m━━━━━━━━━━━━━━━━━━━━\u001b[0m\u001b[37m\u001b[0m \u001b[1m13s\u001b[0m 158ms/step - accuracy: 0.8440 - loss: 0.6583 - val_accuracy: 0.5000 - val_loss: 1.0826\n",
      "Epoch 6/100\n",
      "\u001b[1m80/80\u001b[0m \u001b[32m━━━━━━━━━━━━━━━━━━━━\u001b[0m\u001b[37m\u001b[0m \u001b[1m12s\u001b[0m 155ms/step - accuracy: 0.8318 - loss: 0.6377 - val_accuracy: 0.6719 - val_loss: 0.8029\n",
      "Epoch 7/100\n",
      "\u001b[1m80/80\u001b[0m \u001b[32m━━━━━━━━━━━━━━━━━━━━\u001b[0m\u001b[37m\u001b[0m \u001b[1m13s\u001b[0m 158ms/step - accuracy: 0.8471 - loss: 0.5924 - val_accuracy: 0.8016 - val_loss: 0.6260\n",
      "Epoch 8/100\n",
      "\u001b[1m80/80\u001b[0m \u001b[32m━━━━━━━━━━━━━━━━━━━━\u001b[0m\u001b[37m\u001b[0m \u001b[1m12s\u001b[0m 153ms/step - accuracy: 0.8467 - loss: 0.5807 - val_accuracy: 0.7703 - val_loss: 0.7122\n",
      "Epoch 9/100\n",
      "\u001b[1m80/80\u001b[0m \u001b[32m━━━━━━━━━━━━━━━━━━━━\u001b[0m\u001b[37m\u001b[0m \u001b[1m12s\u001b[0m 156ms/step - accuracy: 0.8568 - loss: 0.5783 - val_accuracy: 0.8562 - val_loss: 0.5422\n",
      "Epoch 10/100\n",
      "\u001b[1m80/80\u001b[0m \u001b[32m━━━━━━━━━━━━━━━━━━━━\u001b[0m\u001b[37m\u001b[0m \u001b[1m13s\u001b[0m 157ms/step - accuracy: 0.8790 - loss: 0.5131 - val_accuracy: 0.7875 - val_loss: 0.6462\n",
      "Epoch 11/100\n",
      "\u001b[1m80/80\u001b[0m \u001b[32m━━━━━━━━━━━━━━━━━━━━\u001b[0m\u001b[37m\u001b[0m \u001b[1m12s\u001b[0m 156ms/step - accuracy: 0.8587 - loss: 0.5217 - val_accuracy: 0.8313 - val_loss: 0.5319\n",
      "Epoch 12/100\n",
      "\u001b[1m80/80\u001b[0m \u001b[32m━━━━━━━━━━━━━━━━━━━━\u001b[0m\u001b[37m\u001b[0m \u001b[1m13s\u001b[0m 157ms/step - accuracy: 0.8636 - loss: 0.5012 - val_accuracy: 0.8547 - val_loss: 0.4868\n",
      "Epoch 13/100\n",
      "\u001b[1m80/80\u001b[0m \u001b[32m━━━━━━━━━━━━━━━━━━━━\u001b[0m\u001b[37m\u001b[0m \u001b[1m13s\u001b[0m 157ms/step - accuracy: 0.8722 - loss: 0.4820 - val_accuracy: 0.8219 - val_loss: 0.5398\n",
      "Epoch 14/100\n",
      "\u001b[1m80/80\u001b[0m \u001b[32m━━━━━━━━━━━━━━━━━━━━\u001b[0m\u001b[37m\u001b[0m \u001b[1m12s\u001b[0m 155ms/step - accuracy: 0.8851 - loss: 0.4458 - val_accuracy: 0.8359 - val_loss: 0.4994\n",
      "Epoch 15/100\n",
      "\u001b[1m80/80\u001b[0m \u001b[32m━━━━━━━━━━━━━━━━━━━━\u001b[0m\u001b[37m\u001b[0m \u001b[1m13s\u001b[0m 158ms/step - accuracy: 0.8922 - loss: 0.4308 - val_accuracy: 0.8547 - val_loss: 0.4918\n",
      "Epoch 16/100\n",
      "\u001b[1m80/80\u001b[0m \u001b[32m━━━━━━━━━━━━━━━━━━━━\u001b[0m\u001b[37m\u001b[0m \u001b[1m13s\u001b[0m 159ms/step - accuracy: 0.8842 - loss: 0.4161 - val_accuracy: 0.8531 - val_loss: 0.4596\n",
      "Epoch 17/100\n",
      "\u001b[1m80/80\u001b[0m \u001b[32m━━━━━━━━━━━━━━━━━━━━\u001b[0m\u001b[37m\u001b[0m \u001b[1m13s\u001b[0m 158ms/step - accuracy: 0.8810 - loss: 0.4377 - val_accuracy: 0.8703 - val_loss: 0.4307\n",
      "Epoch 18/100\n",
      "\u001b[1m80/80\u001b[0m \u001b[32m━━━━━━━━━━━━━━━━━━━━\u001b[0m\u001b[37m\u001b[0m \u001b[1m12s\u001b[0m 156ms/step - accuracy: 0.8849 - loss: 0.4152 - val_accuracy: 0.8156 - val_loss: 0.5533\n",
      "Epoch 19/100\n",
      "\u001b[1m80/80\u001b[0m \u001b[32m━━━━━━━━━━━━━━━━━━━━\u001b[0m\u001b[37m\u001b[0m \u001b[1m12s\u001b[0m 156ms/step - accuracy: 0.8895 - loss: 0.4271 - val_accuracy: 0.8625 - val_loss: 0.4686\n",
      "Epoch 20/100\n",
      "\u001b[1m80/80\u001b[0m \u001b[32m━━━━━━━━━━━━━━━━━━━━\u001b[0m\u001b[37m\u001b[0m \u001b[1m12s\u001b[0m 156ms/step - accuracy: 0.8746 - loss: 0.4234 - val_accuracy: 0.7906 - val_loss: 0.6219\n",
      "Epoch 21/100\n",
      "\u001b[1m80/80\u001b[0m \u001b[32m━━━━━━━━━━━━━━━━━━━━\u001b[0m\u001b[37m\u001b[0m \u001b[1m12s\u001b[0m 153ms/step - accuracy: 0.8737 - loss: 0.4222 - val_accuracy: 0.8687 - val_loss: 0.4608\n",
      "Epoch 22/100\n",
      "\u001b[1m80/80\u001b[0m \u001b[32m━━━━━━━━━━━━━━━━━━━━\u001b[0m\u001b[37m\u001b[0m \u001b[1m12s\u001b[0m 155ms/step - accuracy: 0.8856 - loss: 0.4009 - val_accuracy: 0.8562 - val_loss: 0.4697\n",
      "Epoch 23/100\n",
      "\u001b[1m80/80\u001b[0m \u001b[32m━━━━━━━━━━━━━━━━━━━━\u001b[0m\u001b[37m\u001b[0m \u001b[1m12s\u001b[0m 155ms/step - accuracy: 0.8961 - loss: 0.3704 - val_accuracy: 0.8594 - val_loss: 0.4322\n",
      "Epoch 24/100\n",
      "\u001b[1m80/80\u001b[0m \u001b[32m━━━━━━━━━━━━━━━━━━━━\u001b[0m\u001b[37m\u001b[0m \u001b[1m12s\u001b[0m 156ms/step - accuracy: 0.9068 - loss: 0.3667 - val_accuracy: 0.8672 - val_loss: 0.4325\n",
      "Epoch 25/100\n",
      "\u001b[1m80/80\u001b[0m \u001b[32m━━━━━━━━━━━━━━━━━━━━\u001b[0m\u001b[37m\u001b[0m \u001b[1m13s\u001b[0m 158ms/step - accuracy: 0.8939 - loss: 0.3722 - val_accuracy: 0.8297 - val_loss: 0.5027\n",
      "Epoch 26/100\n",
      "\u001b[1m80/80\u001b[0m \u001b[32m━━━━━━━━━━━━━━━━━━━━\u001b[0m\u001b[37m\u001b[0m \u001b[1m13s\u001b[0m 156ms/step - accuracy: 0.8920 - loss: 0.3575 - val_accuracy: 0.8781 - val_loss: 0.4109\n",
      "Epoch 27/100\n",
      "\u001b[1m80/80\u001b[0m \u001b[32m━━━━━━━━━━━━━━━━━━━━\u001b[0m\u001b[37m\u001b[0m \u001b[1m12s\u001b[0m 155ms/step - accuracy: 0.8949 - loss: 0.3624 - val_accuracy: 0.8734 - val_loss: 0.4089\n",
      "Epoch 28/100\n",
      "\u001b[1m80/80\u001b[0m \u001b[32m━━━━━━━━━━━━━━━━━━━━\u001b[0m\u001b[37m\u001b[0m \u001b[1m13s\u001b[0m 157ms/step - accuracy: 0.9079 - loss: 0.3405 - val_accuracy: 0.8641 - val_loss: 0.4218\n",
      "Epoch 29/100\n",
      "\u001b[1m80/80\u001b[0m \u001b[32m━━━━━━━━━━━━━━━━━━━━\u001b[0m\u001b[37m\u001b[0m \u001b[1m13s\u001b[0m 157ms/step - accuracy: 0.8855 - loss: 0.3635 - val_accuracy: 0.8469 - val_loss: 0.4504\n",
      "Epoch 30/100\n",
      "\u001b[1m80/80\u001b[0m \u001b[32m━━━━━━━━━━━━━━━━━━━━\u001b[0m\u001b[37m\u001b[0m \u001b[1m13s\u001b[0m 157ms/step - accuracy: 0.8900 - loss: 0.3636 - val_accuracy: 0.8641 - val_loss: 0.4364\n",
      "Epoch 31/100\n",
      "\u001b[1m80/80\u001b[0m \u001b[32m━━━━━━━━━━━━━━━━━━━━\u001b[0m\u001b[37m\u001b[0m \u001b[1m12s\u001b[0m 155ms/step - accuracy: 0.9070 - loss: 0.3363 - val_accuracy: 0.8516 - val_loss: 0.4490\n",
      "Epoch 32/100\n",
      "\u001b[1m80/80\u001b[0m \u001b[32m━━━━━━━━━━━━━━━━━━━━\u001b[0m\u001b[37m\u001b[0m \u001b[1m12s\u001b[0m 156ms/step - accuracy: 0.9145 - loss: 0.3339 - val_accuracy: 0.8719 - val_loss: 0.4153\n",
      "Epoch 33/100\n",
      "\u001b[1m80/80\u001b[0m \u001b[32m━━━━━━━━━━━━━━━━━━━━\u001b[0m\u001b[37m\u001b[0m \u001b[1m13s\u001b[0m 158ms/step - accuracy: 0.9033 - loss: 0.3350 - val_accuracy: 0.8531 - val_loss: 0.4870\n",
      "Epoch 34/100\n",
      "\u001b[1m80/80\u001b[0m \u001b[32m━━━━━━━━━━━━━━━━━━━━\u001b[0m\u001b[37m\u001b[0m \u001b[1m12s\u001b[0m 153ms/step - accuracy: 0.9050 - loss: 0.3636 - val_accuracy: 0.8547 - val_loss: 0.4422\n",
      "Epoch 35/100\n",
      "\u001b[1m80/80\u001b[0m \u001b[32m━━━━━━━━━━━━━━━━━━━━\u001b[0m\u001b[37m\u001b[0m \u001b[1m13s\u001b[0m 157ms/step - accuracy: 0.8979 - loss: 0.3557 - val_accuracy: 0.8422 - val_loss: 0.4592\n",
      "Epoch 36/100\n",
      "\u001b[1m80/80\u001b[0m \u001b[32m━━━━━━━━━━━━━━━━━━━━\u001b[0m\u001b[37m\u001b[0m \u001b[1m12s\u001b[0m 156ms/step - accuracy: 0.9068 - loss: 0.3267 - val_accuracy: 0.8766 - val_loss: 0.4490\n",
      "Epoch 37/100\n",
      "\u001b[1m80/80\u001b[0m \u001b[32m━━━━━━━━━━━━━━━━━━━━\u001b[0m\u001b[37m\u001b[0m \u001b[1m12s\u001b[0m 155ms/step - accuracy: 0.9064 - loss: 0.3341 - val_accuracy: 0.8672 - val_loss: 0.4242\n",
      "Evaluating on test set:\n",
      "\u001b[1m25/25\u001b[0m \u001b[32m━━━━━━━━━━━━━━━━━━━━\u001b[0m\u001b[37m\u001b[0m \u001b[1m1s\u001b[0m 58ms/step - accuracy: 0.8525 - loss: 0.4140\n",
      "Test Loss: 0.4285, Test Accuracy: 0.8600\n",
      "\u001b[1m25/25\u001b[0m \u001b[32m━━━━━━━━━━━━━━━━━━━━\u001b[0m\u001b[37m\u001b[0m \u001b[1m2s\u001b[0m 61ms/step\n",
      "\n",
      "Confusion Matrix:\n",
      "[[511  86]\n",
      " [ 26 177]]\n",
      "\n",
      "Classification Report:\n",
      "              precision    recall  f1-score   support\n",
      "\n",
      "           0       0.95      0.86      0.90       597\n",
      "           1       0.67      0.87      0.76       203\n",
      "\n",
      "    accuracy                           0.86       800\n",
      "   macro avg       0.81      0.86      0.83       800\n",
      "weighted avg       0.88      0.86      0.87       800\n",
      "\n",
      "\n",
      "Recall: 0.87\n",
      "F1-Score: 0.76\n",
      "\n",
      "AUC-ROC: 0.93\n"
     ]
    },
    {
     "data": {
      "image/png": "[encoded data removed]",
      "text/plain": [
       "<Figure size 640x480 with 1 Axes>"
      ]
     },
     "metadata": {},
     "output_type": "display_data"
    }
   ],
   "source": [
    "indices_0 = np.where(y_train_encoded['HYP'] == 0)[0] \n",
    "indices_1 = np.where(y_train_encoded['HYP'] == 1)[0]\n",
    "selected_indices_0=np.random.choice(indices_0, 2000, replace=False)\n",
    "selected_indices_1=np.random.choice(indices_1, 2000, replace=False)\n",
    "x_train_norm0=X_train[selected_indices_0]\n",
    "x_train_norm1=X_train[selected_indices_1]\n",
    "y_train_norm0=y_train_encoded.iloc[selected_indices_0,3]\n",
    "y_train_norm1=y_train_encoded.iloc[selected_indices_1,3]\n",
    "x_train= np.concatenate([x_train_norm0, x_train_norm1], axis=0)\n",
    "y_train=np.concatenate([y_train_norm0, y_train_norm1], axis=0)\n",
    "model, history = build_train_and_evaluate_model(x_train, y_train)\n"
   ]
  },
  {
   "cell_type": "code",
   "execution_count": null,
   "id": "c796b986",
   "metadata": {
    "trusted": true
   },
   "outputs": [],
   "source": []
  },
  {
   "cell_type": "code",
   "execution_count": null,
   "id": "22a670ab",
   "metadata": {
    "trusted": true
   },
   "outputs": [],
   "source": []
  },
  {
   "cell_type": "code",
   "execution_count": null,
   "id": "a5f8064f",
   "metadata": {
    "trusted": true
   },
   "outputs": [],
   "source": []
  },
  {
   "cell_type": "code",
   "execution_count": null,
   "metadata": {},
   "outputs": [],
   "source": []
  },
  {
   "cell_type": "code",
   "execution_count": null,
   "metadata": {},
   "outputs": [],
   "source": []
  }
 ],
 "metadata": {
  "colab": {
   "provenance": []
  },
  "kaggle": {
   "accelerator": "nvidiaTeslaT4",
   "dataSources": [
    {
     "datasetId": 5505348,
     "sourceId": 9120047,
     "sourceType": "datasetVersion"
    }
   ],
   "isGpuEnabled": true,
   "isInternetEnabled": true,
   "language": "python",
   "sourceType": "notebook"
  },
  "kernelspec": {
   "display_name": "Python 3",
   "language": "python",
   "name": "python3"
  },
  "language_info": {
   "codemirror_mode": {
    "name": "ipython",
    "version": 3
   },
   "file_extension": ".py",
   "mimetype": "text/x-python",
   "name": "python",
   "nbconvert_exporter": "python",
   "pygments_lexer": "ipython3",
   "version": "3.10.14"
  },
  "papermill": {
   "default_parameters": {},
   "duration": 415.766062,
   "end_time": "2024-08-07T05:40:01.516582",
   "environment_variables": {},
   "exception": null,
   "input_path": "__notebook__.ipynb",
   "output_path": "__notebook__.ipynb",
   "parameters": {},
   "start_time": "2024-08-07T05:33:05.750520",
   "version": "2.5.0"
  }
 },
 "nbformat": 4,
 "nbformat_minor": 5
}
