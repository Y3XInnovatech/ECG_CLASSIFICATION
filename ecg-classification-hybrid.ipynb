{
 "cells": [
  {
   "cell_type": "code",
   "execution_count": 1,
   "metadata": {
    "execution": {
     "iopub.execute_input": "2024-11-05T16:54:20.113668Z",
     "iopub.status.busy": "2024-11-05T16:54:20.113065Z",
     "iopub.status.idle": "2024-11-05T16:54:21.127760Z",
     "shell.execute_reply": "2024-11-05T16:54:21.126806Z",
     "shell.execute_reply.started": "2024-11-05T16:54:20.113634Z"
    },
    "id": "27xqfiI1axUM",
    "papermill": {
     "duration": 0.986306,
     "end_time": "2024-08-07T05:33:43.602883",
     "exception": false,
     "start_time": "2024-08-07T05:33:42.616577",
     "status": "completed"
    },
    "tags": [],
    "trusted": true
   },
   "outputs": [],
   "source": [
    "import pandas as pd\n",
    "import numpy as np\n",
    "import wfdb\n",
    "import ast"
   ]
  },
  {
   "cell_type": "code",
   "execution_count": 2,
   "metadata": {
    "execution": {
     "iopub.execute_input": "2024-11-05T16:54:21.130379Z",
     "iopub.status.busy": "2024-11-05T16:54:21.129841Z",
     "iopub.status.idle": "2024-11-05T16:54:21.135493Z",
     "shell.execute_reply": "2024-11-05T16:54:21.134258Z",
     "shell.execute_reply.started": "2024-11-05T16:54:21.130342Z"
    },
    "papermill": {
     "duration": 0.01699,
     "end_time": "2024-08-07T05:33:43.627982",
     "exception": false,
     "start_time": "2024-08-07T05:33:43.610992",
     "status": "completed"
    },
    "tags": [],
    "trusted": true
   },
   "outputs": [],
   "source": [
    "import os"
   ]
  },
  {
   "cell_type": "code",
   "execution_count": 3,
   "metadata": {
    "execution": {
     "iopub.execute_input": "2024-11-05T16:54:21.137210Z",
     "iopub.status.busy": "2024-11-05T16:54:21.136829Z",
     "iopub.status.idle": "2024-11-05T16:54:21.145140Z",
     "shell.execute_reply": "2024-11-05T16:54:21.144027Z",
     "shell.execute_reply.started": "2024-11-05T16:54:21.137176Z"
    },
    "id": "YqzHkAQva65_",
    "papermill": {
     "duration": 0.018488,
     "end_time": "2024-08-07T05:33:43.654595",
     "exception": false,
     "start_time": "2024-08-07T05:33:43.636107",
     "status": "completed"
    },
    "tags": [],
    "trusted": true
   },
   "outputs": [],
   "source": [
    "def load_raw_data(df, sampling_rate, path):\n",
    "    if sampling_rate == 100:\n",
    "        data = [wfdb.rdsamp(os.path.join(path,f)) for f in df.filename_lr]\n",
    "    else:\n",
    "        data = [wfdb.rdsamp(os.path.join(path,f)) for f in df.filename_hr]\n",
    "    data = np.array([signal for signal, meta in data])\n",
    "    return data"
   ]
  },
  {
   "cell_type": "code",
   "execution_count": 4,
   "metadata": {
    "execution": {
     "iopub.execute_input": "2024-11-05T16:54:21.147853Z",
     "iopub.status.busy": "2024-11-05T16:54:21.147541Z",
     "iopub.status.idle": "2024-11-05T16:54:21.923752Z",
     "shell.execute_reply": "2024-11-05T16:54:21.922807Z",
     "shell.execute_reply.started": "2024-11-05T16:54:21.147828Z"
    },
    "id": "NB_CTNPE9zMB",
    "outputId": "32ce9598-6ace-4711-c233-769aa14595e7",
    "papermill": {
     "duration": 0.746969,
     "end_time": "2024-08-07T05:33:44.410162",
     "exception": false,
     "start_time": "2024-08-07T05:33:43.663193",
     "status": "completed"
    },
    "tags": [],
    "trusted": true
   },
   "outputs": [],
   "source": [
    "path='/kaggle/input/ecg-data/ptb-xl-a-large-publicly-available-electrocardiography-dataset-1.0.3/'\n",
    "sampling_rate=100\n",
    "\n",
    "# load and convert annotation data\n",
    "Y = pd.read_csv(os.path.join(path,'ptbxl_database.csv'), index_col='ecg_id')\n",
    "Y.scp_codes = Y.scp_codes.apply(lambda x: ast.literal_eval(x))\n"
   ]
  },
  {
   "cell_type": "code",
   "execution_count": 5,
   "metadata": {
    "execution": {
     "iopub.execute_input": "2024-11-05T16:54:21.925514Z",
     "iopub.status.busy": "2024-11-05T16:54:21.925144Z",
     "iopub.status.idle": "2024-11-05T16:54:21.936493Z",
     "shell.execute_reply": "2024-11-05T16:54:21.935397Z",
     "shell.execute_reply.started": "2024-11-05T16:54:21.925485Z"
    },
    "id": "ac3IDEF5-sFT",
    "papermill": {
     "duration": 0.02467,
     "end_time": "2024-08-07T05:33:44.443024",
     "exception": false,
     "start_time": "2024-08-07T05:33:44.418354",
     "status": "completed"
    },
    "tags": [],
    "trusted": true
   },
   "outputs": [
    {
     "data": {
      "text/plain": [
       "ecg_id\n",
       "1                 {'NORM': 100.0, 'LVOLT': 0.0, 'SR': 0.0}\n",
       "2                             {'NORM': 80.0, 'SBRAD': 0.0}\n",
       "3                               {'NORM': 100.0, 'SR': 0.0}\n",
       "4                               {'NORM': 100.0, 'SR': 0.0}\n",
       "5                               {'NORM': 100.0, 'SR': 0.0}\n",
       "                               ...                        \n",
       "21833    {'NDT': 100.0, 'PVC': 100.0, 'VCLVH': 0.0, 'ST...\n",
       "21834             {'NORM': 100.0, 'ABQRS': 0.0, 'SR': 0.0}\n",
       "21835                           {'ISCAS': 50.0, 'SR': 0.0}\n",
       "21836                           {'NORM': 100.0, 'SR': 0.0}\n",
       "21837                           {'NORM': 100.0, 'SR': 0.0}\n",
       "Name: scp_codes, Length: 21799, dtype: object"
      ]
     },
     "execution_count": 5,
     "metadata": {},
     "output_type": "execute_result"
    }
   ],
   "source": [
    "Y.scp_codes "
   ]
  },
  {
   "cell_type": "code",
   "execution_count": 6,
   "metadata": {
    "execution": {
     "iopub.execute_input": "2024-11-05T16:54:21.938336Z",
     "iopub.status.busy": "2024-11-05T16:54:21.937979Z",
     "iopub.status.idle": "2024-11-05T16:54:21.945556Z",
     "shell.execute_reply": "2024-11-05T16:54:21.944465Z",
     "shell.execute_reply.started": "2024-11-05T16:54:21.938309Z"
    },
    "papermill": {
     "duration": 0.019655,
     "end_time": "2024-08-07T05:33:44.470944",
     "exception": false,
     "start_time": "2024-08-07T05:33:44.451289",
     "status": "completed"
    },
    "tags": [],
    "trusted": true
   },
   "outputs": [
    {
     "data": {
      "text/plain": [
       "(21799,)"
      ]
     },
     "execution_count": 6,
     "metadata": {},
     "output_type": "execute_result"
    }
   ],
   "source": [
    "Y.scp_codes.shape"
   ]
  },
  {
   "cell_type": "code",
   "execution_count": 7,
   "metadata": {
    "execution": {
     "iopub.execute_input": "2024-11-05T16:54:21.947176Z",
     "iopub.status.busy": "2024-11-05T16:54:21.946801Z",
     "iopub.status.idle": "2024-11-05T16:59:36.466074Z",
     "shell.execute_reply": "2024-11-05T16:59:36.465121Z",
     "shell.execute_reply.started": "2024-11-05T16:54:21.947146Z"
    },
    "papermill": {
     "duration": 369.945071,
     "end_time": "2024-08-07T05:39:54.425543",
     "exception": false,
     "start_time": "2024-08-07T05:33:44.480472",
     "status": "completed"
    },
    "tags": [],
    "trusted": true
   },
   "outputs": [],
   "source": [
    "X = load_raw_data(Y, sampling_rate, path)\n"
   ]
  },
  {
   "cell_type": "code",
   "execution_count": 8,
   "metadata": {
    "execution": {
     "iopub.execute_input": "2024-11-05T16:59:36.467474Z",
     "iopub.status.busy": "2024-11-05T16:59:36.467190Z",
     "iopub.status.idle": "2024-11-05T16:59:36.480617Z",
     "shell.execute_reply": "2024-11-05T16:59:36.479911Z",
     "shell.execute_reply.started": "2024-11-05T16:59:36.467451Z"
    },
    "papermill": {
     "duration": 0.030782,
     "end_time": "2024-08-07T05:39:54.464764",
     "exception": false,
     "start_time": "2024-08-07T05:39:54.433982",
     "status": "completed"
    },
    "tags": [],
    "trusted": true
   },
   "outputs": [],
   "source": [
    "agg_df = pd.read_csv(os.path.join(path,'scp_statements.csv'), index_col=0)\n",
    "agg_df = agg_df[agg_df.diagnostic == 1]\n"
   ]
  },
  {
   "cell_type": "code",
   "execution_count": 9,
   "metadata": {
    "execution": {
     "iopub.execute_input": "2024-11-05T16:59:36.481873Z",
     "iopub.status.busy": "2024-11-05T16:59:36.481592Z",
     "iopub.status.idle": "2024-11-05T16:59:36.486786Z",
     "shell.execute_reply": "2024-11-05T16:59:36.485866Z",
     "shell.execute_reply.started": "2024-11-05T16:59:36.481849Z"
    },
    "papermill": {
     "duration": 0.018391,
     "end_time": "2024-08-07T05:39:54.491486",
     "exception": false,
     "start_time": "2024-08-07T05:39:54.473095",
     "status": "completed"
    },
    "tags": [],
    "trusted": true
   },
   "outputs": [],
   "source": [
    "def aggregate_diagnostic(y_dic):\n",
    "    tmp = []\n",
    "    for key in y_dic.keys():\n",
    "        if key in agg_df.index:\n",
    "            tmp.append(agg_df.loc[key].diagnostic_class)\n",
    "    return list(set(tmp))"
   ]
  },
  {
   "cell_type": "code",
   "execution_count": 10,
   "metadata": {
    "execution": {
     "iopub.execute_input": "2024-11-05T16:59:36.491615Z",
     "iopub.status.busy": "2024-11-05T16:59:36.491029Z",
     "iopub.status.idle": "2024-11-05T16:59:38.894528Z",
     "shell.execute_reply": "2024-11-05T16:59:38.893576Z",
     "shell.execute_reply.started": "2024-11-05T16:59:36.491592Z"
    },
    "papermill": {
     "duration": 2.395536,
     "end_time": "2024-08-07T05:39:56.895184",
     "exception": false,
     "start_time": "2024-08-07T05:39:54.499648",
     "status": "completed"
    },
    "tags": [],
    "trusted": true
   },
   "outputs": [],
   "source": [
    "Y['diagnostic_superclass'] = Y.scp_codes.apply(aggregate_diagnostic)"
   ]
  },
  {
   "cell_type": "code",
   "execution_count": 11,
   "metadata": {
    "execution": {
     "iopub.execute_input": "2024-11-05T16:59:38.896060Z",
     "iopub.status.busy": "2024-11-05T16:59:38.895750Z",
     "iopub.status.idle": "2024-11-05T16:59:39.483639Z",
     "shell.execute_reply": "2024-11-05T16:59:39.482789Z",
     "shell.execute_reply.started": "2024-11-05T16:59:38.896034Z"
    },
    "papermill": {
     "duration": 0.930014,
     "end_time": "2024-08-07T05:39:57.833369",
     "exception": false,
     "start_time": "2024-08-07T05:39:56.903355",
     "status": "completed"
    },
    "tags": [],
    "trusted": true
   },
   "outputs": [],
   "source": [
    "test_fold = 10\n",
    "\n",
    "X_train = X[np.where(Y.strat_fold != test_fold)]\n",
    "y_train = Y[(Y.strat_fold != test_fold)].diagnostic_superclass\n",
    "\n",
    "X_test = X[np.where(Y.strat_fold == test_fold)]\n",
    "y_test = Y[Y.strat_fold == test_fold].diagnostic_superclass"
   ]
  },
  {
   "cell_type": "code",
   "execution_count": 12,
   "metadata": {
    "execution": {
     "iopub.execute_input": "2024-11-05T16:59:39.485207Z",
     "iopub.status.busy": "2024-11-05T16:59:39.484877Z",
     "iopub.status.idle": "2024-11-05T16:59:39.491000Z",
     "shell.execute_reply": "2024-11-05T16:59:39.489914Z",
     "shell.execute_reply.started": "2024-11-05T16:59:39.485180Z"
    },
    "papermill": {
     "duration": 0.018481,
     "end_time": "2024-08-07T05:39:57.860183",
     "exception": false,
     "start_time": "2024-08-07T05:39:57.841702",
     "status": "completed"
    },
    "tags": [],
    "trusted": true
   },
   "outputs": [
    {
     "data": {
      "text/plain": [
       "(19601, 1000, 12)"
      ]
     },
     "execution_count": 12,
     "metadata": {},
     "output_type": "execute_result"
    }
   ],
   "source": [
    "X_train.shape"
   ]
  },
  {
   "cell_type": "code",
   "execution_count": 13,
   "metadata": {
    "execution": {
     "iopub.execute_input": "2024-11-05T16:59:39.492591Z",
     "iopub.status.busy": "2024-11-05T16:59:39.492327Z",
     "iopub.status.idle": "2024-11-05T16:59:39.502323Z",
     "shell.execute_reply": "2024-11-05T16:59:39.501400Z",
     "shell.execute_reply.started": "2024-11-05T16:59:39.492568Z"
    },
    "papermill": {
     "duration": 0.022092,
     "end_time": "2024-08-07T05:39:57.952767",
     "exception": false,
     "start_time": "2024-08-07T05:39:57.930675",
     "status": "completed"
    },
    "tags": [],
    "trusted": true
   },
   "outputs": [
    {
     "data": {
      "text/plain": [
       "<bound method NDFrame.head of ecg_id\n",
       "1        [NORM]\n",
       "2        [NORM]\n",
       "3        [NORM]\n",
       "4        [NORM]\n",
       "5        [NORM]\n",
       "          ...  \n",
       "21833    [STTC]\n",
       "21834    [NORM]\n",
       "21835    [STTC]\n",
       "21836    [NORM]\n",
       "21837    [NORM]\n",
       "Name: diagnostic_superclass, Length: 19601, dtype: object>"
      ]
     },
     "execution_count": 13,
     "metadata": {},
     "output_type": "execute_result"
    }
   ],
   "source": [
    "y_train.head"
   ]
  },
  {
   "cell_type": "code",
   "execution_count": 14,
   "metadata": {
    "execution": {
     "iopub.execute_input": "2024-11-05T16:59:39.503619Z",
     "iopub.status.busy": "2024-11-05T16:59:39.503366Z",
     "iopub.status.idle": "2024-11-05T16:59:39.521806Z",
     "shell.execute_reply": "2024-11-05T16:59:39.520940Z",
     "shell.execute_reply.started": "2024-11-05T16:59:39.503597Z"
    },
    "papermill": {
     "duration": 0.032672,
     "end_time": "2024-08-07T05:39:57.993959",
     "exception": false,
     "start_time": "2024-08-07T05:39:57.961287",
     "status": "completed"
    },
    "tags": [],
    "trusted": true
   },
   "outputs": [
    {
     "name": "stdout",
     "output_type": "stream",
     "text": [
      "<class 'pandas.core.series.Series'>\n",
      "Index: 19601 entries, 1 to 21837\n",
      "Series name: diagnostic_superclass\n",
      "Non-Null Count  Dtype \n",
      "--------------  ----- \n",
      "19601 non-null  object\n",
      "dtypes: object(1)\n",
      "memory usage: 306.3+ KB\n"
     ]
    }
   ],
   "source": [
    "y_train.info()"
   ]
  },
  {
   "cell_type": "code",
   "execution_count": 15,
   "metadata": {
    "execution": {
     "iopub.execute_input": "2024-11-05T16:59:39.522958Z",
     "iopub.status.busy": "2024-11-05T16:59:39.522700Z",
     "iopub.status.idle": "2024-11-05T16:59:39.554517Z",
     "shell.execute_reply": "2024-11-05T16:59:39.553573Z",
     "shell.execute_reply.started": "2024-11-05T16:59:39.522936Z"
    },
    "papermill": {
     "duration": 0.034734,
     "end_time": "2024-08-07T05:39:58.037396",
     "exception": false,
     "start_time": "2024-08-07T05:39:58.002662",
     "status": "completed"
    },
    "tags": [],
    "trusted": true
   },
   "outputs": [
    {
     "data": {
      "text/plain": [
       "22"
      ]
     },
     "execution_count": 15,
     "metadata": {},
     "output_type": "execute_result"
    }
   ],
   "source": [
    "np.unique(y_train).shape[0]\n"
   ]
  },
  {
   "cell_type": "code",
   "execution_count": 16,
   "metadata": {
    "execution": {
     "iopub.execute_input": "2024-11-05T16:59:39.555872Z",
     "iopub.status.busy": "2024-11-05T16:59:39.555601Z",
     "iopub.status.idle": "2024-11-05T16:59:40.015820Z",
     "shell.execute_reply": "2024-11-05T16:59:40.015114Z",
     "shell.execute_reply.started": "2024-11-05T16:59:39.555850Z"
    },
    "trusted": true
   },
   "outputs": [],
   "source": [
    "from sklearn.preprocessing import MultiLabelBinarizer\n",
    "\n",
    "mlb = MultiLabelBinarizer()\n",
    "y_train_encoded = pd.DataFrame(mlb.fit_transform(y_train), columns=mlb.classes_)"
   ]
  },
  {
   "cell_type": "code",
   "execution_count": 17,
   "metadata": {
    "execution": {
     "iopub.execute_input": "2024-11-05T16:59:40.017249Z",
     "iopub.status.busy": "2024-11-05T16:59:40.016890Z",
     "iopub.status.idle": "2024-11-05T16:59:40.023196Z",
     "shell.execute_reply": "2024-11-05T16:59:40.022130Z",
     "shell.execute_reply.started": "2024-11-05T16:59:40.017217Z"
    },
    "trusted": true
   },
   "outputs": [
    {
     "data": {
      "text/plain": [
       "(19601, 5)"
      ]
     },
     "execution_count": 17,
     "metadata": {},
     "output_type": "execute_result"
    }
   ],
   "source": [
    "y_train_encoded.shape"
   ]
  },
  {
   "cell_type": "code",
   "execution_count": 18,
   "metadata": {
    "execution": {
     "iopub.execute_input": "2024-11-05T16:59:40.024904Z",
     "iopub.status.busy": "2024-11-05T16:59:40.024465Z",
     "iopub.status.idle": "2024-11-05T16:59:40.038151Z",
     "shell.execute_reply": "2024-11-05T16:59:40.037319Z",
     "shell.execute_reply.started": "2024-11-05T16:59:40.024873Z"
    },
    "trusted": true
   },
   "outputs": [
    {
     "data": {
      "text/html": [
       "<div>\n",
       "<style scoped>\n",
       "    .dataframe tbody tr th:only-of-type {\n",
       "        vertical-align: middle;\n",
       "    }\n",
       "\n",
       "    .dataframe tbody tr th {\n",
       "        vertical-align: top;\n",
       "    }\n",
       "\n",
       "    .dataframe thead th {\n",
       "        text-align: right;\n",
       "    }\n",
       "</style>\n",
       "<table border=\"1\" class=\"dataframe\">\n",
       "  <thead>\n",
       "    <tr style=\"text-align: right;\">\n",
       "      <th></th>\n",
       "      <th>CD</th>\n",
       "      <th>HYP</th>\n",
       "      <th>MI</th>\n",
       "      <th>NORM</th>\n",
       "      <th>STTC</th>\n",
       "    </tr>\n",
       "  </thead>\n",
       "  <tbody>\n",
       "    <tr>\n",
       "      <th>0</th>\n",
       "      <td>0</td>\n",
       "      <td>0</td>\n",
       "      <td>0</td>\n",
       "      <td>1</td>\n",
       "      <td>0</td>\n",
       "    </tr>\n",
       "    <tr>\n",
       "      <th>1</th>\n",
       "      <td>0</td>\n",
       "      <td>0</td>\n",
       "      <td>0</td>\n",
       "      <td>1</td>\n",
       "      <td>0</td>\n",
       "    </tr>\n",
       "    <tr>\n",
       "      <th>2</th>\n",
       "      <td>0</td>\n",
       "      <td>0</td>\n",
       "      <td>0</td>\n",
       "      <td>1</td>\n",
       "      <td>0</td>\n",
       "    </tr>\n",
       "    <tr>\n",
       "      <th>3</th>\n",
       "      <td>0</td>\n",
       "      <td>0</td>\n",
       "      <td>0</td>\n",
       "      <td>1</td>\n",
       "      <td>0</td>\n",
       "    </tr>\n",
       "    <tr>\n",
       "      <th>4</th>\n",
       "      <td>0</td>\n",
       "      <td>0</td>\n",
       "      <td>0</td>\n",
       "      <td>1</td>\n",
       "      <td>0</td>\n",
       "    </tr>\n",
       "  </tbody>\n",
       "</table>\n",
       "</div>"
      ],
      "text/plain": [
       "   CD  HYP  MI  NORM  STTC\n",
       "0   0    0   0     1     0\n",
       "1   0    0   0     1     0\n",
       "2   0    0   0     1     0\n",
       "3   0    0   0     1     0\n",
       "4   0    0   0     1     0"
      ]
     },
     "execution_count": 18,
     "metadata": {},
     "output_type": "execute_result"
    }
   ],
   "source": [
    "y_train_encoded.head()"
   ]
  },
  {
   "cell_type": "code",
   "execution_count": 19,
   "metadata": {
    "execution": {
     "iopub.execute_input": "2024-11-05T16:59:40.039353Z",
     "iopub.status.busy": "2024-11-05T16:59:40.039124Z",
     "iopub.status.idle": "2024-11-05T16:59:40.044937Z",
     "shell.execute_reply": "2024-11-05T16:59:40.044084Z",
     "shell.execute_reply.started": "2024-11-05T16:59:40.039333Z"
    },
    "trusted": true
   },
   "outputs": [
    {
     "data": {
      "text/plain": [
       "pandas.core.frame.DataFrame"
      ]
     },
     "execution_count": 19,
     "metadata": {},
     "output_type": "execute_result"
    }
   ],
   "source": [
    "type(y_train_encoded)"
   ]
  },
  {
   "cell_type": "code",
   "execution_count": 20,
   "metadata": {
    "execution": {
     "iopub.execute_input": "2024-11-05T16:59:40.046545Z",
     "iopub.status.busy": "2024-11-05T16:59:40.046225Z",
     "iopub.status.idle": "2024-11-05T16:59:41.652826Z",
     "shell.execute_reply": "2024-11-05T16:59:41.652096Z",
     "shell.execute_reply.started": "2024-11-05T16:59:40.046521Z"
    },
    "trusted": true
   },
   "outputs": [],
   "source": [
    "y_train_encoded['final_output']=y_train_encoded.apply(lambda x:''.join(x.astype(str)),axis=1)"
   ]
  },
  {
   "cell_type": "code",
   "execution_count": 21,
   "metadata": {
    "execution": {
     "iopub.execute_input": "2024-11-05T16:59:41.654134Z",
     "iopub.status.busy": "2024-11-05T16:59:41.653846Z",
     "iopub.status.idle": "2024-11-05T16:59:41.664210Z",
     "shell.execute_reply": "2024-11-05T16:59:41.663317Z",
     "shell.execute_reply.started": "2024-11-05T16:59:41.654110Z"
    },
    "trusted": true
   },
   "outputs": [
    {
     "data": {
      "text/html": [
       "<div>\n",
       "<style scoped>\n",
       "    .dataframe tbody tr th:only-of-type {\n",
       "        vertical-align: middle;\n",
       "    }\n",
       "\n",
       "    .dataframe tbody tr th {\n",
       "        vertical-align: top;\n",
       "    }\n",
       "\n",
       "    .dataframe thead th {\n",
       "        text-align: right;\n",
       "    }\n",
       "</style>\n",
       "<table border=\"1\" class=\"dataframe\">\n",
       "  <thead>\n",
       "    <tr style=\"text-align: right;\">\n",
       "      <th></th>\n",
       "      <th>CD</th>\n",
       "      <th>HYP</th>\n",
       "      <th>MI</th>\n",
       "      <th>NORM</th>\n",
       "      <th>STTC</th>\n",
       "      <th>final_output</th>\n",
       "    </tr>\n",
       "  </thead>\n",
       "  <tbody>\n",
       "    <tr>\n",
       "      <th>0</th>\n",
       "      <td>0</td>\n",
       "      <td>0</td>\n",
       "      <td>0</td>\n",
       "      <td>1</td>\n",
       "      <td>0</td>\n",
       "      <td>00010</td>\n",
       "    </tr>\n",
       "    <tr>\n",
       "      <th>1</th>\n",
       "      <td>0</td>\n",
       "      <td>0</td>\n",
       "      <td>0</td>\n",
       "      <td>1</td>\n",
       "      <td>0</td>\n",
       "      <td>00010</td>\n",
       "    </tr>\n",
       "    <tr>\n",
       "      <th>2</th>\n",
       "      <td>0</td>\n",
       "      <td>0</td>\n",
       "      <td>0</td>\n",
       "      <td>1</td>\n",
       "      <td>0</td>\n",
       "      <td>00010</td>\n",
       "    </tr>\n",
       "    <tr>\n",
       "      <th>3</th>\n",
       "      <td>0</td>\n",
       "      <td>0</td>\n",
       "      <td>0</td>\n",
       "      <td>1</td>\n",
       "      <td>0</td>\n",
       "      <td>00010</td>\n",
       "    </tr>\n",
       "    <tr>\n",
       "      <th>4</th>\n",
       "      <td>0</td>\n",
       "      <td>0</td>\n",
       "      <td>0</td>\n",
       "      <td>1</td>\n",
       "      <td>0</td>\n",
       "      <td>00010</td>\n",
       "    </tr>\n",
       "  </tbody>\n",
       "</table>\n",
       "</div>"
      ],
      "text/plain": [
       "   CD  HYP  MI  NORM  STTC final_output\n",
       "0   0    0   0     1     0        00010\n",
       "1   0    0   0     1     0        00010\n",
       "2   0    0   0     1     0        00010\n",
       "3   0    0   0     1     0        00010\n",
       "4   0    0   0     1     0        00010"
      ]
     },
     "execution_count": 21,
     "metadata": {},
     "output_type": "execute_result"
    }
   ],
   "source": [
    "y_train_encoded.head()"
   ]
  },
  {
   "cell_type": "code",
   "execution_count": 22,
   "metadata": {
    "execution": {
     "iopub.execute_input": "2024-11-05T16:59:41.665969Z",
     "iopub.status.busy": "2024-11-05T16:59:41.665588Z",
     "iopub.status.idle": "2024-11-05T16:59:41.674813Z",
     "shell.execute_reply": "2024-11-05T16:59:41.673858Z",
     "shell.execute_reply.started": "2024-11-05T16:59:41.665933Z"
    },
    "trusted": true
   },
   "outputs": [
    {
     "data": {
      "text/plain": [
       "22"
      ]
     },
     "execution_count": 22,
     "metadata": {},
     "output_type": "execute_result"
    }
   ],
   "source": [
    "y_train_encoded['final_output'].nunique()"
   ]
  },
  {
   "cell_type": "code",
   "execution_count": 23,
   "metadata": {
    "execution": {
     "iopub.execute_input": "2024-11-05T16:59:41.676030Z",
     "iopub.status.busy": "2024-11-05T16:59:41.675786Z",
     "iopub.status.idle": "2024-11-05T16:59:41.683457Z",
     "shell.execute_reply": "2024-11-05T16:59:41.682646Z",
     "shell.execute_reply.started": "2024-11-05T16:59:41.676008Z"
    },
    "trusted": true
   },
   "outputs": [
    {
     "data": {
      "text/plain": [
       "array(['00010', '00100', '00000', '00001', '01000', '10000', '00101',\n",
       "       '11000', '10100', '10001', '01100', '01101', '01001', '10101',\n",
       "       '10010', '11101', '11001', '00011', '11100', '10011', '01010',\n",
       "       '11110'], dtype=object)"
      ]
     },
     "execution_count": 23,
     "metadata": {},
     "output_type": "execute_result"
    }
   ],
   "source": [
    "y_train_encoded['final_output'].unique()"
   ]
  },
  {
   "cell_type": "code",
   "execution_count": 24,
   "metadata": {
    "execution": {
     "iopub.execute_input": "2024-11-05T16:59:41.685188Z",
     "iopub.status.busy": "2024-11-05T16:59:41.684820Z",
     "iopub.status.idle": "2024-11-05T16:59:41.694506Z",
     "shell.execute_reply": "2024-11-05T16:59:41.693211Z",
     "shell.execute_reply.started": "2024-11-05T16:59:41.685159Z"
    },
    "trusted": true
   },
   "outputs": [],
   "source": [
    "def adjust_classes(y_train):\n",
    "    var=y_train\n",
    "    if var == '00010':\n",
    "        var=0\n",
    "    elif var == '00100':\n",
    "        var =1\n",
    "    elif var== '00000':\n",
    "        var=2\n",
    "    elif var=='00001':\n",
    "        var =3\n",
    "    elif var =='01000':\n",
    "        var=4\n",
    "    elif var=='10000':\n",
    "        var =5\n",
    "    elif var =='00101':\n",
    "        var =6\n",
    "    elif var =='11000':\n",
    "        var=7\n",
    "    elif var =='10100':\n",
    "        var=8\n",
    "    elif var=='10001':\n",
    "        var =9\n",
    "    elif var =='01100':\n",
    "        var =10\n",
    "    elif var =='01101':\n",
    "        var =11\n",
    "    elif var=='01001':\n",
    "        var=21\n",
    "    elif var =='10101':\n",
    "        var=12\n",
    "    elif var =='10010':\n",
    "        var=13\n",
    "    elif var=='11101':\n",
    "        var=14\n",
    "    elif var=='11001':\n",
    "        var=15\n",
    "    elif var =='00011':\n",
    "        var=16\n",
    "    elif var=='11100':\n",
    "        var=17\n",
    "    elif var=='10011':\n",
    "        var=18\n",
    "    elif var =='01010':\n",
    "        var=19\n",
    "    elif var=='11110':\n",
    "        var=20\n",
    "    return var"
   ]
  },
  {
   "cell_type": "code",
   "execution_count": 25,
   "metadata": {
    "execution": {
     "iopub.execute_input": "2024-11-05T16:59:41.696211Z",
     "iopub.status.busy": "2024-11-05T16:59:41.695699Z",
     "iopub.status.idle": "2024-11-05T16:59:41.719808Z",
     "shell.execute_reply": "2024-11-05T16:59:41.719040Z",
     "shell.execute_reply.started": "2024-11-05T16:59:41.696176Z"
    },
    "trusted": true
   },
   "outputs": [],
   "source": [
    "y_train_encoded['final_output']=y_train_encoded['final_output'].apply(adjust_classes)"
   ]
  },
  {
   "cell_type": "code",
   "execution_count": 26,
   "metadata": {
    "execution": {
     "iopub.execute_input": "2024-11-05T16:59:41.721019Z",
     "iopub.status.busy": "2024-11-05T16:59:41.720793Z",
     "iopub.status.idle": "2024-11-05T16:59:41.733958Z",
     "shell.execute_reply": "2024-11-05T16:59:41.732908Z",
     "shell.execute_reply.started": "2024-11-05T16:59:41.720999Z"
    },
    "trusted": true
   },
   "outputs": [
    {
     "data": {
      "text/html": [
       "<div>\n",
       "<style scoped>\n",
       "    .dataframe tbody tr th:only-of-type {\n",
       "        vertical-align: middle;\n",
       "    }\n",
       "\n",
       "    .dataframe tbody tr th {\n",
       "        vertical-align: top;\n",
       "    }\n",
       "\n",
       "    .dataframe thead th {\n",
       "        text-align: right;\n",
       "    }\n",
       "</style>\n",
       "<table border=\"1\" class=\"dataframe\">\n",
       "  <thead>\n",
       "    <tr style=\"text-align: right;\">\n",
       "      <th></th>\n",
       "      <th>CD</th>\n",
       "      <th>HYP</th>\n",
       "      <th>MI</th>\n",
       "      <th>NORM</th>\n",
       "      <th>STTC</th>\n",
       "      <th>final_output</th>\n",
       "    </tr>\n",
       "  </thead>\n",
       "  <tbody>\n",
       "    <tr>\n",
       "      <th>0</th>\n",
       "      <td>0</td>\n",
       "      <td>0</td>\n",
       "      <td>0</td>\n",
       "      <td>1</td>\n",
       "      <td>0</td>\n",
       "      <td>0</td>\n",
       "    </tr>\n",
       "    <tr>\n",
       "      <th>1</th>\n",
       "      <td>0</td>\n",
       "      <td>0</td>\n",
       "      <td>0</td>\n",
       "      <td>1</td>\n",
       "      <td>0</td>\n",
       "      <td>0</td>\n",
       "    </tr>\n",
       "    <tr>\n",
       "      <th>2</th>\n",
       "      <td>0</td>\n",
       "      <td>0</td>\n",
       "      <td>0</td>\n",
       "      <td>1</td>\n",
       "      <td>0</td>\n",
       "      <td>0</td>\n",
       "    </tr>\n",
       "    <tr>\n",
       "      <th>3</th>\n",
       "      <td>0</td>\n",
       "      <td>0</td>\n",
       "      <td>0</td>\n",
       "      <td>1</td>\n",
       "      <td>0</td>\n",
       "      <td>0</td>\n",
       "    </tr>\n",
       "    <tr>\n",
       "      <th>4</th>\n",
       "      <td>0</td>\n",
       "      <td>0</td>\n",
       "      <td>0</td>\n",
       "      <td>1</td>\n",
       "      <td>0</td>\n",
       "      <td>0</td>\n",
       "    </tr>\n",
       "    <tr>\n",
       "      <th>...</th>\n",
       "      <td>...</td>\n",
       "      <td>...</td>\n",
       "      <td>...</td>\n",
       "      <td>...</td>\n",
       "      <td>...</td>\n",
       "      <td>...</td>\n",
       "    </tr>\n",
       "    <tr>\n",
       "      <th>19596</th>\n",
       "      <td>0</td>\n",
       "      <td>0</td>\n",
       "      <td>0</td>\n",
       "      <td>0</td>\n",
       "      <td>1</td>\n",
       "      <td>3</td>\n",
       "    </tr>\n",
       "    <tr>\n",
       "      <th>19597</th>\n",
       "      <td>0</td>\n",
       "      <td>0</td>\n",
       "      <td>0</td>\n",
       "      <td>1</td>\n",
       "      <td>0</td>\n",
       "      <td>0</td>\n",
       "    </tr>\n",
       "    <tr>\n",
       "      <th>19598</th>\n",
       "      <td>0</td>\n",
       "      <td>0</td>\n",
       "      <td>0</td>\n",
       "      <td>0</td>\n",
       "      <td>1</td>\n",
       "      <td>3</td>\n",
       "    </tr>\n",
       "    <tr>\n",
       "      <th>19599</th>\n",
       "      <td>0</td>\n",
       "      <td>0</td>\n",
       "      <td>0</td>\n",
       "      <td>1</td>\n",
       "      <td>0</td>\n",
       "      <td>0</td>\n",
       "    </tr>\n",
       "    <tr>\n",
       "      <th>19600</th>\n",
       "      <td>0</td>\n",
       "      <td>0</td>\n",
       "      <td>0</td>\n",
       "      <td>1</td>\n",
       "      <td>0</td>\n",
       "      <td>0</td>\n",
       "    </tr>\n",
       "  </tbody>\n",
       "</table>\n",
       "<p>19601 rows × 6 columns</p>\n",
       "</div>"
      ],
      "text/plain": [
       "       CD  HYP  MI  NORM  STTC  final_output\n",
       "0       0    0   0     1     0             0\n",
       "1       0    0   0     1     0             0\n",
       "2       0    0   0     1     0             0\n",
       "3       0    0   0     1     0             0\n",
       "4       0    0   0     1     0             0\n",
       "...    ..  ...  ..   ...   ...           ...\n",
       "19596   0    0   0     0     1             3\n",
       "19597   0    0   0     1     0             0\n",
       "19598   0    0   0     0     1             3\n",
       "19599   0    0   0     1     0             0\n",
       "19600   0    0   0     1     0             0\n",
       "\n",
       "[19601 rows x 6 columns]"
      ]
     },
     "execution_count": 26,
     "metadata": {},
     "output_type": "execute_result"
    }
   ],
   "source": [
    "y_train_encoded"
   ]
  },
  {
   "cell_type": "code",
   "execution_count": 27,
   "metadata": {
    "execution": {
     "iopub.execute_input": "2024-11-05T16:59:41.735654Z",
     "iopub.status.busy": "2024-11-05T16:59:41.735304Z",
     "iopub.status.idle": "2024-11-05T16:59:41.744851Z",
     "shell.execute_reply": "2024-11-05T16:59:41.743977Z",
     "shell.execute_reply.started": "2024-11-05T16:59:41.735621Z"
    },
    "trusted": true
   },
   "outputs": [
    {
     "data": {
      "text/plain": [
       "final_output\n",
       "0     8157\n",
       "1     2276\n",
       "3     2158\n",
       "5     1524\n",
       "8     1164\n",
       "21     708\n",
       "6      538\n",
       "4      479\n",
       "9      433\n",
       "2      371\n",
       "13     362\n",
       "11     320\n",
       "7      273\n",
       "12     202\n",
       "15     186\n",
       "10     166\n",
       "14     140\n",
       "17     112\n",
       "16      24\n",
       "18       5\n",
       "19       2\n",
       "20       1\n",
       "Name: count, dtype: int64"
      ]
     },
     "execution_count": 27,
     "metadata": {},
     "output_type": "execute_result"
    }
   ],
   "source": [
    "y_train_encoded['final_output'].value_counts()"
   ]
  },
  {
   "cell_type": "code",
   "execution_count": 28,
   "metadata": {
    "execution": {
     "iopub.execute_input": "2024-11-05T16:59:41.751190Z",
     "iopub.status.busy": "2024-11-05T16:59:41.750507Z",
     "iopub.status.idle": "2024-11-05T16:59:41.754801Z",
     "shell.execute_reply": "2024-11-05T16:59:41.753903Z",
     "shell.execute_reply.started": "2024-11-05T16:59:41.751163Z"
    },
    "trusted": true
   },
   "outputs": [],
   "source": [
    "from sklearn.preprocessing import StandardScaler\n",
    "scaler=StandardScaler()"
   ]
  },
  {
   "cell_type": "code",
   "execution_count": 29,
   "metadata": {
    "execution": {
     "iopub.execute_input": "2024-11-05T16:59:41.756151Z",
     "iopub.status.busy": "2024-11-05T16:59:41.755839Z",
     "iopub.status.idle": "2024-11-05T16:59:41.761847Z",
     "shell.execute_reply": "2024-11-05T16:59:41.761032Z",
     "shell.execute_reply.started": "2024-11-05T16:59:41.756127Z"
    },
    "trusted": true
   },
   "outputs": [],
   "source": [
    "x_train_normalization=X_train.reshape(-1,1000*12)"
   ]
  },
  {
   "cell_type": "code",
   "execution_count": 30,
   "metadata": {
    "execution": {
     "iopub.execute_input": "2024-11-05T16:59:41.763217Z",
     "iopub.status.busy": "2024-11-05T16:59:41.762890Z",
     "iopub.status.idle": "2024-11-05T16:59:44.759711Z",
     "shell.execute_reply": "2024-11-05T16:59:44.758753Z",
     "shell.execute_reply.started": "2024-11-05T16:59:41.763184Z"
    },
    "trusted": true
   },
   "outputs": [],
   "source": [
    "x_train=scaler.fit_transform(x_train_normalization)\n",
    "x_train_normalized=x_train.reshape(19601,1000,12)"
   ]
  },
  {
   "cell_type": "code",
   "execution_count": 31,
   "metadata": {
    "execution": {
     "iopub.execute_input": "2024-11-05T16:59:44.761527Z",
     "iopub.status.busy": "2024-11-05T16:59:44.761228Z",
     "iopub.status.idle": "2024-11-05T16:59:44.768737Z",
     "shell.execute_reply": "2024-11-05T16:59:44.767895Z",
     "shell.execute_reply.started": "2024-11-05T16:59:44.761501Z"
    },
    "trusted": true
   },
   "outputs": [
    {
     "data": {
      "text/plain": [
       "NORM\n",
       "0    11050\n",
       "1     8551\n",
       "Name: count, dtype: int64"
      ]
     },
     "execution_count": 31,
     "metadata": {},
     "output_type": "execute_result"
    }
   ],
   "source": [
    "class_distribution_norm=y_train_encoded['NORM'].value_counts()\n",
    "class_distribution_norm"
   ]
  },
  {
   "cell_type": "code",
   "execution_count": 32,
   "metadata": {
    "execution": {
     "iopub.execute_input": "2024-11-05T16:59:44.770214Z",
     "iopub.status.busy": "2024-11-05T16:59:44.769922Z",
     "iopub.status.idle": "2024-11-05T16:59:44.779757Z",
     "shell.execute_reply": "2024-11-05T16:59:44.778973Z",
     "shell.execute_reply.started": "2024-11-05T16:59:44.770190Z"
    },
    "trusted": true
   },
   "outputs": [
    {
     "data": {
      "text/plain": [
       "CD\n",
       "0    15199\n",
       "1     4402\n",
       "Name: count, dtype: int64"
      ]
     },
     "execution_count": 32,
     "metadata": {},
     "output_type": "execute_result"
    }
   ],
   "source": [
    "class_distribution_cd=y_train_encoded['CD'].value_counts()\n",
    "class_distribution_cd"
   ]
  },
  {
   "cell_type": "code",
   "execution_count": 33,
   "metadata": {
    "execution": {
     "iopub.execute_input": "2024-11-05T16:59:44.781146Z",
     "iopub.status.busy": "2024-11-05T16:59:44.780838Z",
     "iopub.status.idle": "2024-11-05T16:59:44.789974Z",
     "shell.execute_reply": "2024-11-05T16:59:44.789122Z",
     "shell.execute_reply.started": "2024-11-05T16:59:44.781122Z"
    },
    "trusted": true
   },
   "outputs": [
    {
     "data": {
      "text/plain": [
       "HYP\n",
       "0    17214\n",
       "1     2387\n",
       "Name: count, dtype: int64"
      ]
     },
     "execution_count": 33,
     "metadata": {},
     "output_type": "execute_result"
    }
   ],
   "source": [
    "class_distribution_hyp=y_train_encoded['HYP'].value_counts()\n",
    "class_distribution_hyp"
   ]
  },
  {
   "cell_type": "code",
   "execution_count": 34,
   "metadata": {
    "execution": {
     "iopub.execute_input": "2024-11-05T16:59:44.791389Z",
     "iopub.status.busy": "2024-11-05T16:59:44.791102Z",
     "iopub.status.idle": "2024-11-05T16:59:44.799500Z",
     "shell.execute_reply": "2024-11-05T16:59:44.798646Z",
     "shell.execute_reply.started": "2024-11-05T16:59:44.791365Z"
    },
    "trusted": true
   },
   "outputs": [
    {
     "data": {
      "text/plain": [
       "MI\n",
       "0    14682\n",
       "1     4919\n",
       "Name: count, dtype: int64"
      ]
     },
     "execution_count": 34,
     "metadata": {},
     "output_type": "execute_result"
    }
   ],
   "source": [
    "class_distribution_mi=y_train_encoded['MI'].value_counts()\n",
    "class_distribution_mi"
   ]
  },
  {
   "cell_type": "code",
   "execution_count": 35,
   "metadata": {
    "execution": {
     "iopub.execute_input": "2024-11-05T16:59:44.800924Z",
     "iopub.status.busy": "2024-11-05T16:59:44.800619Z",
     "iopub.status.idle": "2024-11-05T16:59:44.809313Z",
     "shell.execute_reply": "2024-11-05T16:59:44.808430Z",
     "shell.execute_reply.started": "2024-11-05T16:59:44.800891Z"
    },
    "trusted": true
   },
   "outputs": [
    {
     "data": {
      "text/plain": [
       "STTC\n",
       "0    14887\n",
       "1     4714\n",
       "Name: count, dtype: int64"
      ]
     },
     "execution_count": 35,
     "metadata": {},
     "output_type": "execute_result"
    }
   ],
   "source": [
    "class_distribution_sttc=y_train_encoded['STTC'].value_counts()\n",
    "class_distribution_sttc"
   ]
  },
  {
   "cell_type": "code",
   "execution_count": 36,
   "metadata": {
    "execution": {
     "iopub.execute_input": "2024-11-05T16:59:44.811219Z",
     "iopub.status.busy": "2024-11-05T16:59:44.810366Z",
     "iopub.status.idle": "2024-11-05T16:59:45.264584Z",
     "shell.execute_reply": "2024-11-05T16:59:45.263799Z",
     "shell.execute_reply.started": "2024-11-05T16:59:44.811188Z"
    },
    "trusted": true
   },
   "outputs": [],
   "source": [
    "indices_0 = np.where(y_train_encoded['NORM'] == 0)[0] \n",
    "indices_1 = np.where(y_train_encoded['NORM'] == 1)[0]\n",
    "selected_indices_0=np.random.choice(indices_0, 4000, replace=False)\n",
    "selected_indices_1=np.random.choice(indices_1, 4000, replace=False)\n",
    "x_train_norm0=X_train[selected_indices_0]\n",
    "x_train_norm1=X_train[selected_indices_1]\n",
    "y_train_norm0=y_train_encoded.iloc[selected_indices_0,3]\n",
    "y_train_norm1=y_train_encoded.iloc[selected_indices_1,3]\n",
    "x_train= np.concatenate([x_train_norm0, x_train_norm1], axis=0)\n",
    "y_train=np.concatenate([y_train_norm0, y_train_norm1], axis=0)"
   ]
  },
  {
   "cell_type": "code",
   "execution_count": 37,
   "metadata": {
    "execution": {
     "iopub.execute_input": "2024-11-05T16:59:45.265933Z",
     "iopub.status.busy": "2024-11-05T16:59:45.265658Z",
     "iopub.status.idle": "2024-11-05T16:59:45.271663Z",
     "shell.execute_reply": "2024-11-05T16:59:45.270748Z",
     "shell.execute_reply.started": "2024-11-05T16:59:45.265909Z"
    },
    "trusted": true
   },
   "outputs": [
    {
     "data": {
      "text/plain": [
       "(8000,)"
      ]
     },
     "execution_count": 37,
     "metadata": {},
     "output_type": "execute_result"
    }
   ],
   "source": [
    "y_train.shape"
   ]
  },
  {
   "cell_type": "code",
   "execution_count": 38,
   "metadata": {
    "execution": {
     "iopub.execute_input": "2024-11-05T16:59:45.273145Z",
     "iopub.status.busy": "2024-11-05T16:59:45.272800Z",
     "iopub.status.idle": "2024-11-05T16:59:45.280190Z",
     "shell.execute_reply": "2024-11-05T16:59:45.279270Z",
     "shell.execute_reply.started": "2024-11-05T16:59:45.273121Z"
    },
    "trusted": true
   },
   "outputs": [
    {
     "data": {
      "text/plain": [
       "(8000, 1000, 12)"
      ]
     },
     "execution_count": 38,
     "metadata": {},
     "output_type": "execute_result"
    }
   ],
   "source": [
    "x_train.shape"
   ]
  },
  {
   "cell_type": "code",
   "execution_count": null,
   "metadata": {},
   "outputs": [],
   "source": []
  },
  {
   "cell_type": "code",
   "execution_count": null,
   "metadata": {},
   "outputs": [],
   "source": [
    "##HYBRID CNN-RNN MODEL"
   ]
  },
  {
   "cell_type": "code",
   "execution_count": null,
   "metadata": {
    "execution": {
     "iopub.execute_input": "2024-11-05T17:48:47.012757Z",
     "iopub.status.busy": "2024-11-05T17:48:47.012394Z",
     "iopub.status.idle": "2024-11-05T18:07:59.453428Z",
     "shell.execute_reply": "2024-11-05T18:07:59.452472Z",
     "shell.execute_reply.started": "2024-11-05T17:48:47.012721Z"
    },
    "trusted": true
   },
   "outputs": [
    {
     "name": "stdout",
     "output_type": "stream",
     "text": [
      "Epoch 1/100\n",
      "\u001b[1m160/160\u001b[0m \u001b[32m━━━━━━━━━━━━━━━━━━━━\u001b[0m\u001b[37m\u001b[0m \u001b[1m32s\u001b[0m 175ms/step - accuracy: 0.5720 - loss: 1.0575 - val_accuracy: 0.4938 - val_loss: 1.2533\n",
      "Epoch 2/100\n",
      "\u001b[1m160/160\u001b[0m \u001b[32m━━━━━━━━━━━━━━━━━━━━\u001b[0m\u001b[37m\u001b[0m \u001b[1m27s\u001b[0m 171ms/step - accuracy: 0.7718 - loss: 0.8411 - val_accuracy: 0.5250 - val_loss: 1.1774\n",
      "Epoch 3/100\n",
      "\u001b[1m160/160\u001b[0m \u001b[32m━━━━━━━━━━━━━━━━━━━━\u001b[0m\u001b[37m\u001b[0m \u001b[1m27s\u001b[0m 170ms/step - accuracy: 0.8061 - loss: 0.7397 - val_accuracy: 0.6977 - val_loss: 0.9731\n",
      "Epoch 4/100\n",
      "\u001b[1m160/160\u001b[0m \u001b[32m━━━━━━━━━━━━━━━━━━━━\u001b[0m\u001b[37m\u001b[0m \u001b[1m27s\u001b[0m 171ms/step - accuracy: 0.8204 - loss: 0.6970 - val_accuracy: 0.7805 - val_loss: 0.7457\n",
      "Epoch 5/100\n",
      "\u001b[1m160/160\u001b[0m \u001b[32m━━━━━━━━━━━━━━━━━━━━\u001b[0m\u001b[37m\u001b[0m \u001b[1m27s\u001b[0m 171ms/step - accuracy: 0.8234 - loss: 0.6518 - val_accuracy: 0.8258 - val_loss: 0.6424\n",
      "Epoch 6/100\n",
      "\u001b[1m160/160\u001b[0m \u001b[32m━━━━━━━━━━━━━━━━━━━━\u001b[0m\u001b[37m\u001b[0m \u001b[1m27s\u001b[0m 171ms/step - accuracy: 0.8423 - loss: 0.5919 - val_accuracy: 0.8602 - val_loss: 0.5296\n",
      "Epoch 7/100\n",
      "\u001b[1m160/160\u001b[0m \u001b[32m━━━━━━━━━━━━━━━━━━━━\u001b[0m\u001b[37m\u001b[0m \u001b[1m27s\u001b[0m 171ms/step - accuracy: 0.8349 - loss: 0.5776 - val_accuracy: 0.8687 - val_loss: 0.5074\n",
      "Epoch 8/100\n",
      "\u001b[1m160/160\u001b[0m \u001b[32m━━━━━━━━━━━━━━━━━━━━\u001b[0m\u001b[37m\u001b[0m \u001b[1m27s\u001b[0m 171ms/step - accuracy: 0.8413 - loss: 0.5482 - val_accuracy: 0.8188 - val_loss: 0.5677\n",
      "Epoch 9/100\n",
      "\u001b[1m160/160\u001b[0m \u001b[32m━━━━━━━━━━━━━━━━━━━━\u001b[0m\u001b[37m\u001b[0m \u001b[1m27s\u001b[0m 170ms/step - accuracy: 0.8379 - loss: 0.5376 - val_accuracy: 0.8695 - val_loss: 0.4748\n",
      "Epoch 10/100\n",
      "\u001b[1m160/160\u001b[0m \u001b[32m━━━━━━━━━━━━━━━━━━━━\u001b[0m\u001b[37m\u001b[0m \u001b[1m28s\u001b[0m 173ms/step - accuracy: 0.8508 - loss: 0.5014 - val_accuracy: 0.8570 - val_loss: 0.4650\n",
      "Epoch 11/100\n",
      "\u001b[1m160/160\u001b[0m \u001b[32m━━━━━━━━━━━━━━━━━━━━\u001b[0m\u001b[37m\u001b[0m \u001b[1m27s\u001b[0m 171ms/step - accuracy: 0.8411 - loss: 0.5057 - val_accuracy: 0.8617 - val_loss: 0.4530\n",
      "Epoch 12/100\n",
      "\u001b[1m160/160\u001b[0m \u001b[32m━━━━━━━━━━━━━━━━━━━━\u001b[0m\u001b[37m\u001b[0m \u001b[1m27s\u001b[0m 168ms/step - accuracy: 0.8464 - loss: 0.4887 - val_accuracy: 0.8633 - val_loss: 0.4471\n",
      "Epoch 13/100\n",
      "\u001b[1m160/160\u001b[0m \u001b[32m━━━━━━━━━━━━━━━━━━━━\u001b[0m\u001b[37m\u001b[0m \u001b[1m27s\u001b[0m 171ms/step - accuracy: 0.8469 - loss: 0.4660 - val_accuracy: 0.8555 - val_loss: 0.4723\n",
      "Epoch 14/100\n",
      "\u001b[1m160/160\u001b[0m \u001b[32m━━━━━━━━━━━━━━━━━━━━\u001b[0m\u001b[37m\u001b[0m \u001b[1m28s\u001b[0m 172ms/step - accuracy: 0.8475 - loss: 0.4692 - val_accuracy: 0.8617 - val_loss: 0.4510\n",
      "Epoch 15/100\n",
      "\u001b[1m160/160\u001b[0m \u001b[32m━━━━━━━━━━━━━━━━━━━━\u001b[0m\u001b[37m\u001b[0m \u001b[1m28s\u001b[0m 172ms/step - accuracy: 0.8531 - loss: 0.4588 - val_accuracy: 0.8711 - val_loss: 0.4213\n",
      "Epoch 16/100\n",
      "\u001b[1m160/160\u001b[0m \u001b[32m━━━━━━━━━━━━━━━━━━━━\u001b[0m\u001b[37m\u001b[0m \u001b[1m28s\u001b[0m 173ms/step - accuracy: 0.8423 - loss: 0.4681 - val_accuracy: 0.8672 - val_loss: 0.4236\n",
      "Epoch 17/100\n",
      "\u001b[1m160/160\u001b[0m \u001b[32m━━━━━━━━━━━━━━━━━━━━\u001b[0m\u001b[37m\u001b[0m \u001b[1m28s\u001b[0m 172ms/step - accuracy: 0.8512 - loss: 0.4533 - val_accuracy: 0.8531 - val_loss: 0.4528\n",
      "Epoch 18/100\n",
      "\u001b[1m160/160\u001b[0m \u001b[32m━━━━━━━━━━━━━━━━━━━━\u001b[0m\u001b[37m\u001b[0m \u001b[1m27s\u001b[0m 170ms/step - accuracy: 0.8534 - loss: 0.4403 - val_accuracy: 0.8641 - val_loss: 0.4257\n",
      "Epoch 19/100\n",
      "\u001b[1m160/160\u001b[0m \u001b[32m━━━━━━━━━━━━━━━━━━━━\u001b[0m\u001b[37m\u001b[0m \u001b[1m27s\u001b[0m 172ms/step - accuracy: 0.8428 - loss: 0.4419 - val_accuracy: 0.8539 - val_loss: 0.4426\n",
      "Epoch 20/100\n",
      "\u001b[1m160/160\u001b[0m \u001b[32m━━━━━━━━━━━━━━━━━━━━\u001b[0m\u001b[37m\u001b[0m \u001b[1m28s\u001b[0m 173ms/step - accuracy: 0.8485 - loss: 0.4568 - val_accuracy: 0.8406 - val_loss: 0.4309\n",
      "Epoch 21/100\n",
      "\u001b[1m160/160\u001b[0m \u001b[32m━━━━━━━━━━━━━━━━━━━━\u001b[0m\u001b[37m\u001b[0m \u001b[1m27s\u001b[0m 171ms/step - accuracy: 0.8418 - loss: 0.4580 - val_accuracy: 0.8609 - val_loss: 0.4257\n",
      "Epoch 22/100\n",
      "\u001b[1m160/160\u001b[0m \u001b[32m━━━━━━━━━━━━━━━━━━━━\u001b[0m\u001b[37m\u001b[0m \u001b[1m28s\u001b[0m 172ms/step - accuracy: 0.8643 - loss: 0.4294 - val_accuracy: 0.8539 - val_loss: 0.4309\n",
      "Epoch 23/100\n",
      "\u001b[1m160/160\u001b[0m \u001b[32m━━━━━━━━━━━━━━━━━━━━\u001b[0m\u001b[37m\u001b[0m \u001b[1m27s\u001b[0m 171ms/step - accuracy: 0.8583 - loss: 0.4326 - val_accuracy: 0.8687 - val_loss: 0.4334\n",
      "Epoch 24/100\n",
      "\u001b[1m160/160\u001b[0m \u001b[32m━━━━━━━━━━━━━━━━━━━━\u001b[0m\u001b[37m\u001b[0m \u001b[1m27s\u001b[0m 169ms/step - accuracy: 0.8545 - loss: 0.4449 - val_accuracy: 0.8773 - val_loss: 0.4098\n",
      "Epoch 25/100\n",
      "\u001b[1m160/160\u001b[0m \u001b[32m━━━━━━━━━━━━━━━━━━━━\u001b[0m\u001b[37m\u001b[0m \u001b[1m27s\u001b[0m 171ms/step - accuracy: 0.8562 - loss: 0.4288 - val_accuracy: 0.8680 - val_loss: 0.4100\n",
      "Epoch 26/100\n",
      "\u001b[1m160/160\u001b[0m \u001b[32m━━━━━━━━━━━━━━━━━━━━\u001b[0m\u001b[37m\u001b[0m \u001b[1m27s\u001b[0m 170ms/step - accuracy: 0.8502 - loss: 0.4355 - val_accuracy: 0.8719 - val_loss: 0.4130\n",
      "Epoch 27/100\n",
      "\u001b[1m160/160\u001b[0m \u001b[32m━━━━━━━━━━━━━━━━━━━━\u001b[0m\u001b[37m\u001b[0m \u001b[1m27s\u001b[0m 169ms/step - accuracy: 0.8581 - loss: 0.4427 - val_accuracy: 0.8719 - val_loss: 0.4115\n",
      "Epoch 28/100\n",
      "\u001b[1m160/160\u001b[0m \u001b[32m━━━━━━━━━━━━━━━━━━━━\u001b[0m\u001b[37m\u001b[0m \u001b[1m27s\u001b[0m 171ms/step - accuracy: 0.8513 - loss: 0.4331 - val_accuracy: 0.8594 - val_loss: 0.4232\n",
      "Epoch 29/100\n",
      "\u001b[1m160/160\u001b[0m \u001b[32m━━━━━━━━━━━━━━━━━━━━\u001b[0m\u001b[37m\u001b[0m \u001b[1m27s\u001b[0m 170ms/step - accuracy: 0.8484 - loss: 0.4564 - val_accuracy: 0.8609 - val_loss: 0.4129\n",
      "Epoch 30/100\n",
      "\u001b[1m160/160\u001b[0m \u001b[32m━━━━━━━━━━━━━━━━━━━━\u001b[0m\u001b[37m\u001b[0m \u001b[1m27s\u001b[0m 168ms/step - accuracy: 0.8661 - loss: 0.4316 - val_accuracy: 0.8547 - val_loss: 0.4439\n",
      "Epoch 31/100\n",
      "\u001b[1m160/160\u001b[0m \u001b[32m━━━━━━━━━━━━━━━━━━━━\u001b[0m\u001b[37m\u001b[0m \u001b[1m27s\u001b[0m 170ms/step - accuracy: 0.8498 - loss: 0.4524 - val_accuracy: 0.8516 - val_loss: 0.4350\n",
      "Epoch 32/100\n",
      "\u001b[1m160/160\u001b[0m \u001b[32m━━━━━━━━━━━━━━━━━━━━\u001b[0m\u001b[37m\u001b[0m \u001b[1m27s\u001b[0m 171ms/step - accuracy: 0.8646 - loss: 0.4170 - val_accuracy: 0.8742 - val_loss: 0.3916\n",
      "Epoch 33/100\n",
      "\u001b[1m160/160\u001b[0m \u001b[32m━━━━━━━━━━━━━━━━━━━━\u001b[0m\u001b[37m\u001b[0m \u001b[1m27s\u001b[0m 171ms/step - accuracy: 0.8667 - loss: 0.4207 - val_accuracy: 0.8719 - val_loss: 0.4005\n",
      "Epoch 34/100\n",
      "\u001b[1m160/160\u001b[0m \u001b[32m━━━━━━━━━━━━━━━━━━━━\u001b[0m\u001b[37m\u001b[0m \u001b[1m27s\u001b[0m 170ms/step - accuracy: 0.8620 - loss: 0.4241 - val_accuracy: 0.8672 - val_loss: 0.4127\n",
      "Epoch 35/100\n",
      "\u001b[1m160/160\u001b[0m \u001b[32m━━━━━━━━━━━━━━━━━━━━\u001b[0m\u001b[37m\u001b[0m \u001b[1m27s\u001b[0m 170ms/step - accuracy: 0.8602 - loss: 0.4219 - val_accuracy: 0.8719 - val_loss: 0.3998\n",
      "Epoch 36/100\n",
      "\u001b[1m160/160\u001b[0m \u001b[32m━━━━━━━━━━━━━━━━━━━━\u001b[0m\u001b[37m\u001b[0m \u001b[1m27s\u001b[0m 168ms/step - accuracy: 0.8566 - loss: 0.4240 - val_accuracy: 0.8492 - val_loss: 0.4404\n",
      "Epoch 37/100\n",
      "\u001b[1m160/160\u001b[0m \u001b[32m━━━━━━━━━━━━━━━━━━━━\u001b[0m\u001b[37m\u001b[0m \u001b[1m27s\u001b[0m 170ms/step - accuracy: 0.8736 - loss: 0.4133 - val_accuracy: 0.8406 - val_loss: 0.4816\n",
      "Epoch 38/100\n",
      "\u001b[1m160/160\u001b[0m \u001b[32m━━━━━━━━━━━━━━━━━━━━\u001b[0m\u001b[37m\u001b[0m \u001b[1m27s\u001b[0m 170ms/step - accuracy: 0.8527 - loss: 0.4333 - val_accuracy: 0.8641 - val_loss: 0.4111\n",
      "Epoch 39/100\n",
      "\u001b[1m160/160\u001b[0m \u001b[32m━━━━━━━━━━━━━━━━━━━━\u001b[0m\u001b[37m\u001b[0m \u001b[1m27s\u001b[0m 168ms/step - accuracy: 0.8624 - loss: 0.4327 - val_accuracy: 0.8516 - val_loss: 0.4804\n",
      "Epoch 40/100\n",
      "\u001b[1m160/160\u001b[0m \u001b[32m━━━━━━━━━━━━━━━━━━━━\u001b[0m\u001b[37m\u001b[0m \u001b[1m27s\u001b[0m 169ms/step - accuracy: 0.8625 - loss: 0.4198 - val_accuracy: 0.8633 - val_loss: 0.4231\n",
      "Epoch 41/100\n",
      "\u001b[1m160/160\u001b[0m \u001b[32m━━━━━━━━━━━━━━━━━━━━\u001b[0m\u001b[37m\u001b[0m \u001b[1m27s\u001b[0m 170ms/step - accuracy: 0.8609 - loss: 0.4300 - val_accuracy: 0.8633 - val_loss: 0.4367\n",
      "Epoch 42/100\n",
      "\u001b[1m160/160\u001b[0m \u001b[32m━━━━━━━━━━━━━━━━━━━━\u001b[0m\u001b[37m\u001b[0m \u001b[1m27s\u001b[0m 169ms/step - accuracy: 0.8624 - loss: 0.4145 - val_accuracy: 0.8695 - val_loss: 0.3977\n"
     ]
    }
   ],
   "source": [
    "from tensorflow.keras.models import Sequential\n",
    "from tensorflow.keras.layers import Dense, Conv1D, MaxPooling1D, Dropout, LSTM, BatchNormalization\n",
    "from tensorflow.keras.regularizers import l2\n",
    "from tensorflow.keras.callbacks import EarlyStopping\n",
    "from sklearn.model_selection import train_test_split\n",
    "\n",
    "# Assuming x_train and y_train are already defined with shapes (num_samples, 1000, 12) and (num_samples,)\n",
    "# Update your x_train shape before fitting the model\n",
    "x_train = x_train.reshape((x_train.shape[0], x_train.shape[1], x_train.shape[2]))  # Ensure shape is (num_samples, 1000, 12)\n",
    "\n",
    "model = Sequential()\n",
    "\n",
    "# Convolutional layers\n",
    "model.add(Conv1D(64, kernel_size=3, activation='relu', input_shape=(1000, 12), kernel_regularizer=l2(0.001)))\n",
    "model.add(BatchNormalization())\n",
    "model.add(MaxPooling1D(pool_size=2))\n",
    "model.add(Dropout(0.3))\n",
    "\n",
    "model.add(Conv1D(128, kernel_size=3, activation='relu', kernel_regularizer=l2(0.001)))\n",
    "model.add(BatchNormalization())\n",
    "model.add(MaxPooling1D(pool_size=2))\n",
    "model.add(Dropout(0.3))\n",
    "\n",
    "model.add(Conv1D(256, kernel_size=3, activation='relu', kernel_regularizer=l2(0.001)))\n",
    "model.add(BatchNormalization())\n",
    "model.add(MaxPooling1D(pool_size=2))\n",
    "model.add(Dropout(0.4))\n",
    "\n",
    "model.add(LSTM(100, return_sequences=False, dropout=0.4, recurrent_dropout=0.2))\n",
    "\n",
    "model.add(Dense(64, activation='relu', kernel_regularizer=l2(0.001)))\n",
    "model.add(Dropout(0.4))\n",
    "model.add(Dense(32, activation='relu', kernel_regularizer=l2(0.001)))\n",
    "model.add(Dropout(0.3))\n",
    "\n",
    "model.add(Dense(1, activation='sigmoid'))\n",
    "\n",
    "model.compile(optimizer='adam', loss='binary_crossentropy', metrics=['accuracy'])\n",
    "\n",
    "early_stopping = EarlyStopping(monitor='val_loss', patience=10, restore_best_weights=True)\n",
    "\n",
    "x_train, val_data, y_train, val_labels = train_test_split(\n",
    "    x_train, y_train, test_size=0.2, random_state=42\n",
    ")\n",
    "\n",
    "history = model.fit(\n",
    "    x_train, y_train,\n",
    "    epochs=100, \n",
    "    batch_size=32, \n",
    "    validation_data=(val_data, val_labels), \n",
    "    callbacks=[early_stopping]\n",
    ")\n"
   ]
  },
  {
   "cell_type": "code",
   "execution_count": 51,
   "metadata": {
    "execution": {
     "iopub.execute_input": "2024-11-05T18:07:59.456395Z",
     "iopub.status.busy": "2024-11-05T18:07:59.455943Z",
     "iopub.status.idle": "2024-11-05T18:18:19.797490Z",
     "shell.execute_reply": "2024-11-05T18:18:19.796691Z",
     "shell.execute_reply.started": "2024-11-05T18:07:59.456353Z"
    },
    "trusted": true
   },
   "outputs": [
    {
     "name": "stdout",
     "output_type": "stream",
     "text": [
      "Epoch 1/100\n",
      "\u001b[1m200/200\u001b[0m \u001b[32m━━━━━━━━━━━━━━━━━━━━\u001b[0m\u001b[37m\u001b[0m \u001b[1m34s\u001b[0m 172ms/step - accuracy: 0.8604 - loss: 0.4103 - val_accuracy: 0.8750 - val_loss: 0.3812\n",
      "Epoch 2/100\n",
      "\u001b[1m200/200\u001b[0m \u001b[32m━━━━━━━━━━━━━━━━━━━━\u001b[0m\u001b[37m\u001b[0m \u001b[1m35s\u001b[0m 173ms/step - accuracy: 0.8668 - loss: 0.4014 - val_accuracy: 0.8594 - val_loss: 0.3910\n",
      "Epoch 3/100\n",
      "\u001b[1m200/200\u001b[0m \u001b[32m━━━━━━━━━━━━━━━━━━━━\u001b[0m\u001b[37m\u001b[0m \u001b[1m34s\u001b[0m 170ms/step - accuracy: 0.8573 - loss: 0.3991 - val_accuracy: 0.8712 - val_loss: 0.3772\n",
      "Epoch 4/100\n",
      "\u001b[1m200/200\u001b[0m \u001b[32m━━━━━━━━━━━━━━━━━━━━\u001b[0m\u001b[37m\u001b[0m \u001b[1m34s\u001b[0m 170ms/step - accuracy: 0.8695 - loss: 0.3826 - val_accuracy: 0.8644 - val_loss: 0.3792\n",
      "Epoch 5/100\n",
      "\u001b[1m200/200\u001b[0m \u001b[32m━━━━━━━━━━━━━━━━━━━━\u001b[0m\u001b[37m\u001b[0m \u001b[1m34s\u001b[0m 169ms/step - accuracy: 0.8651 - loss: 0.3909 - val_accuracy: 0.8706 - val_loss: 0.3909\n",
      "Epoch 6/100\n",
      "\u001b[1m200/200\u001b[0m \u001b[32m━━━━━━━━━━━━━━━━━━━━\u001b[0m\u001b[37m\u001b[0m \u001b[1m41s\u001b[0m 169ms/step - accuracy: 0.8602 - loss: 0.3977 - val_accuracy: 0.8725 - val_loss: 0.3904\n",
      "Epoch 7/100\n",
      "\u001b[1m200/200\u001b[0m \u001b[32m━━━━━━━━━━━━━━━━━━━━\u001b[0m\u001b[37m\u001b[0m \u001b[1m34s\u001b[0m 169ms/step - accuracy: 0.8679 - loss: 0.3859 - val_accuracy: 0.8519 - val_loss: 0.4149\n",
      "Epoch 8/100\n",
      "\u001b[1m200/200\u001b[0m \u001b[32m━━━━━━━━━━━━━━━━━━━━\u001b[0m\u001b[37m\u001b[0m \u001b[1m34s\u001b[0m 171ms/step - accuracy: 0.8648 - loss: 0.3789 - val_accuracy: 0.8669 - val_loss: 0.3716\n",
      "Epoch 9/100\n",
      "\u001b[1m200/200\u001b[0m \u001b[32m━━━━━━━━━━━━━━━━━━━━\u001b[0m\u001b[37m\u001b[0m \u001b[1m34s\u001b[0m 169ms/step - accuracy: 0.8716 - loss: 0.3659 - val_accuracy: 0.8662 - val_loss: 0.3740\n",
      "Epoch 10/100\n",
      "\u001b[1m200/200\u001b[0m \u001b[32m━━━━━━━━━━━━━━━━━━━━\u001b[0m\u001b[37m\u001b[0m \u001b[1m34s\u001b[0m 170ms/step - accuracy: 0.8636 - loss: 0.3743 - val_accuracy: 0.8600 - val_loss: 0.4171\n",
      "Epoch 11/100\n",
      "\u001b[1m200/200\u001b[0m \u001b[32m━━━━━━━━━━━━━━━━━━━━\u001b[0m\u001b[37m\u001b[0m \u001b[1m34s\u001b[0m 171ms/step - accuracy: 0.8697 - loss: 0.3879 - val_accuracy: 0.8725 - val_loss: 0.3819\n",
      "Epoch 12/100\n",
      "\u001b[1m200/200\u001b[0m \u001b[32m━━━━━━━━━━━━━━━━━━━━\u001b[0m\u001b[37m\u001b[0m \u001b[1m34s\u001b[0m 168ms/step - accuracy: 0.8672 - loss: 0.3878 - val_accuracy: 0.8725 - val_loss: 0.3808\n",
      "Epoch 13/100\n",
      "\u001b[1m200/200\u001b[0m \u001b[32m━━━━━━━━━━━━━━━━━━━━\u001b[0m\u001b[37m\u001b[0m \u001b[1m34s\u001b[0m 170ms/step - accuracy: 0.8738 - loss: 0.3744 - val_accuracy: 0.8725 - val_loss: 0.3742\n",
      "Epoch 14/100\n",
      "\u001b[1m200/200\u001b[0m \u001b[32m━━━━━━━━━━━━━━━━━━━━\u001b[0m\u001b[37m\u001b[0m \u001b[1m34s\u001b[0m 169ms/step - accuracy: 0.8656 - loss: 0.3862 - val_accuracy: 0.8619 - val_loss: 0.3918\n",
      "Epoch 15/100\n",
      "\u001b[1m200/200\u001b[0m \u001b[32m━━━━━━━━━━━━━━━━━━━━\u001b[0m\u001b[37m\u001b[0m \u001b[1m34s\u001b[0m 170ms/step - accuracy: 0.8749 - loss: 0.3689 - val_accuracy: 0.8587 - val_loss: 0.3952\n",
      "Epoch 16/100\n",
      "\u001b[1m200/200\u001b[0m \u001b[32m━━━━━━━━━━━━━━━━━━━━\u001b[0m\u001b[37m\u001b[0m \u001b[1m34s\u001b[0m 168ms/step - accuracy: 0.8690 - loss: 0.3745 - val_accuracy: 0.8831 - val_loss: 0.3854\n",
      "Epoch 17/100\n",
      "\u001b[1m200/200\u001b[0m \u001b[32m━━━━━━━━━━━━━━━━━━━━\u001b[0m\u001b[37m\u001b[0m \u001b[1m34s\u001b[0m 171ms/step - accuracy: 0.8746 - loss: 0.3787 - val_accuracy: 0.8462 - val_loss: 0.4437\n",
      "Epoch 18/100\n",
      "\u001b[1m200/200\u001b[0m \u001b[32m━━━━━━━━━━━━━━━━━━━━\u001b[0m\u001b[37m\u001b[0m \u001b[1m34s\u001b[0m 170ms/step - accuracy: 0.8672 - loss: 0.3881 - val_accuracy: 0.8637 - val_loss: 0.3818\n"
     ]
    }
   ],
   "source": [
    "indices_0 = np.where(y_train_encoded['CD'] == 0)[0] \n",
    "indices_1 = np.where(y_train_encoded['CD'] == 1)[0]\n",
    "selected_indices_0=np.random.choice(indices_0, 4000, replace=False)\n",
    "selected_indices_1=np.random.choice(indices_1, 4000, replace=False)\n",
    "x_train_norm0=X_train[selected_indices_0]\n",
    "x_train_norm1=X_train[selected_indices_1]\n",
    "y_train_norm0=y_train_encoded.iloc[selected_indices_0,3]\n",
    "y_train_norm1=y_train_encoded.iloc[selected_indices_1,3]\n",
    "x_train= np.concatenate([x_train_norm0, x_train_norm1], axis=0)\n",
    "y_train=np.concatenate([y_train_norm0, y_train_norm1], axis=0)\n",
    "x_train, val_data, y_train, val_labels = train_test_split(\n",
    "    x_train, y_train, test_size=0.2, random_state=42\n",
    ")\n",
    "\n",
    "# Training the model\n",
    "history = model.fit(\n",
    "    x_train, y_train,\n",
    "    epochs=100, \n",
    "    batch_size=32, \n",
    "    validation_data=(val_data, val_labels), \n",
    "    callbacks=[early_stopping]\n",
    ")"
   ]
  },
  {
   "cell_type": "code",
   "execution_count": 52,
   "metadata": {
    "execution": {
     "iopub.execute_input": "2024-11-05T18:18:19.799214Z",
     "iopub.status.busy": "2024-11-05T18:18:19.798872Z",
     "iopub.status.idle": "2024-11-05T18:27:30.331587Z",
     "shell.execute_reply": "2024-11-05T18:27:30.330755Z",
     "shell.execute_reply.started": "2024-11-05T18:18:19.799180Z"
    },
    "trusted": true
   },
   "outputs": [
    {
     "name": "stdout",
     "output_type": "stream",
     "text": [
      "Epoch 1/100\n",
      "\u001b[1m200/200\u001b[0m \u001b[32m━━━━━━━━━━━━━━━━━━━━\u001b[0m\u001b[37m\u001b[0m \u001b[1m34s\u001b[0m 168ms/step - accuracy: 0.8690 - loss: 0.3798 - val_accuracy: 0.8900 - val_loss: 0.3511\n",
      "Epoch 2/100\n",
      "\u001b[1m200/200\u001b[0m \u001b[32m━━━━━━━━━━━━━━━━━━━━\u001b[0m\u001b[37m\u001b[0m \u001b[1m34s\u001b[0m 170ms/step - accuracy: 0.8779 - loss: 0.3733 - val_accuracy: 0.8863 - val_loss: 0.3560\n",
      "Epoch 3/100\n",
      "\u001b[1m200/200\u001b[0m \u001b[32m━━━━━━━━━━━━━━━━━━━━\u001b[0m\u001b[37m\u001b[0m \u001b[1m34s\u001b[0m 168ms/step - accuracy: 0.8885 - loss: 0.3528 - val_accuracy: 0.8950 - val_loss: 0.3389\n",
      "Epoch 4/100\n",
      "\u001b[1m200/200\u001b[0m \u001b[32m━━━━━━━━━━━━━━━━━━━━\u001b[0m\u001b[37m\u001b[0m \u001b[1m34s\u001b[0m 169ms/step - accuracy: 0.8817 - loss: 0.3685 - val_accuracy: 0.9044 - val_loss: 0.3379\n",
      "Epoch 5/100\n",
      "\u001b[1m200/200\u001b[0m \u001b[32m━━━━━━━━━━━━━━━━━━━━\u001b[0m\u001b[37m\u001b[0m \u001b[1m34s\u001b[0m 170ms/step - accuracy: 0.8874 - loss: 0.3640 - val_accuracy: 0.8844 - val_loss: 0.3666\n",
      "Epoch 6/100\n",
      "\u001b[1m200/200\u001b[0m \u001b[32m━━━━━━━━━━━━━━━━━━━━\u001b[0m\u001b[37m\u001b[0m \u001b[1m34s\u001b[0m 170ms/step - accuracy: 0.8839 - loss: 0.3570 - val_accuracy: 0.8994 - val_loss: 0.3361\n",
      "Epoch 7/100\n",
      "\u001b[1m200/200\u001b[0m \u001b[32m━━━━━━━━━━━━━━━━━━━━\u001b[0m\u001b[37m\u001b[0m \u001b[1m34s\u001b[0m 170ms/step - accuracy: 0.8941 - loss: 0.3458 - val_accuracy: 0.8825 - val_loss: 0.3965\n",
      "Epoch 8/100\n",
      "\u001b[1m200/200\u001b[0m \u001b[32m━━━━━━━━━━━━━━━━━━━━\u001b[0m\u001b[37m\u001b[0m \u001b[1m34s\u001b[0m 171ms/step - accuracy: 0.8829 - loss: 0.3634 - val_accuracy: 0.8919 - val_loss: 0.3481\n",
      "Epoch 9/100\n",
      "\u001b[1m200/200\u001b[0m \u001b[32m━━━━━━━━━━━━━━━━━━━━\u001b[0m\u001b[37m\u001b[0m \u001b[1m34s\u001b[0m 169ms/step - accuracy: 0.8814 - loss: 0.3709 - val_accuracy: 0.8925 - val_loss: 0.3482\n",
      "Epoch 10/100\n",
      "\u001b[1m200/200\u001b[0m \u001b[32m━━━━━━━━━━━━━━━━━━━━\u001b[0m\u001b[37m\u001b[0m \u001b[1m34s\u001b[0m 168ms/step - accuracy: 0.8768 - loss: 0.3625 - val_accuracy: 0.8975 - val_loss: 0.3483\n",
      "Epoch 11/100\n",
      "\u001b[1m200/200\u001b[0m \u001b[32m━━━━━━━━━━━━━━━━━━━━\u001b[0m\u001b[37m\u001b[0m \u001b[1m34s\u001b[0m 172ms/step - accuracy: 0.8776 - loss: 0.3711 - val_accuracy: 0.9006 - val_loss: 0.3368\n",
      "Epoch 12/100\n",
      "\u001b[1m200/200\u001b[0m \u001b[32m━━━━━━━━━━━━━━━━━━━━\u001b[0m\u001b[37m\u001b[0m \u001b[1m34s\u001b[0m 170ms/step - accuracy: 0.8908 - loss: 0.3541 - val_accuracy: 0.8894 - val_loss: 0.3526\n",
      "Epoch 13/100\n",
      "\u001b[1m200/200\u001b[0m \u001b[32m━━━━━━━━━━━━━━━━━━━━\u001b[0m\u001b[37m\u001b[0m \u001b[1m34s\u001b[0m 169ms/step - accuracy: 0.8905 - loss: 0.3423 - val_accuracy: 0.8925 - val_loss: 0.3443\n",
      "Epoch 14/100\n",
      "\u001b[1m200/200\u001b[0m \u001b[32m━━━━━━━━━━━━━━━━━━━━\u001b[0m\u001b[37m\u001b[0m \u001b[1m34s\u001b[0m 169ms/step - accuracy: 0.8849 - loss: 0.3723 - val_accuracy: 0.8775 - val_loss: 0.3640\n",
      "Epoch 15/100\n",
      "\u001b[1m200/200\u001b[0m \u001b[32m━━━━━━━━━━━━━━━━━━━━\u001b[0m\u001b[37m\u001b[0m \u001b[1m41s\u001b[0m 168ms/step - accuracy: 0.8819 - loss: 0.3665 - val_accuracy: 0.8875 - val_loss: 0.3582\n",
      "Epoch 16/100\n",
      "\u001b[1m200/200\u001b[0m \u001b[32m━━━━━━━━━━━━━━━━━━━━\u001b[0m\u001b[37m\u001b[0m \u001b[1m34s\u001b[0m 169ms/step - accuracy: 0.8809 - loss: 0.3657 - val_accuracy: 0.8700 - val_loss: 0.3913\n"
     ]
    }
   ],
   "source": [
    "indices_0 = np.where(y_train_encoded['STTC'] == 0)[0] \n",
    "indices_1 = np.where(y_train_encoded['STTC'] == 1)[0]\n",
    "selected_indices_0=np.random.choice(indices_0, 4000, replace=False)\n",
    "selected_indices_1=np.random.choice(indices_1, 4000, replace=False)\n",
    "x_train_norm0=X_train[selected_indices_0]\n",
    "x_train_norm1=X_train[selected_indices_1]\n",
    "y_train_norm0=y_train_encoded.iloc[selected_indices_0,3]\n",
    "y_train_norm1=y_train_encoded.iloc[selected_indices_1,3]\n",
    "x_train= np.concatenate([x_train_norm0, x_train_norm1], axis=0)\n",
    "y_train=np.concatenate([y_train_norm0, y_train_norm1], axis=0)\n",
    "x_train, val_data, y_train, val_labels = train_test_split(\n",
    "    x_train, y_train, test_size=0.2, random_state=42\n",
    ")\n",
    "\n",
    "# Training the model\n",
    "history = model.fit(\n",
    "    x_train, y_train,\n",
    "    epochs=100, \n",
    "    batch_size=32, \n",
    "    validation_data=(val_data, val_labels), \n",
    "    callbacks=[early_stopping]\n",
    ")"
   ]
  },
  {
   "cell_type": "code",
   "execution_count": 53,
   "metadata": {
    "execution": {
     "iopub.execute_input": "2024-11-05T18:27:30.333983Z",
     "iopub.status.busy": "2024-11-05T18:27:30.333689Z",
     "iopub.status.idle": "2024-11-05T18:33:06.783102Z",
     "shell.execute_reply": "2024-11-05T18:33:06.782326Z",
     "shell.execute_reply.started": "2024-11-05T18:27:30.333956Z"
    },
    "trusted": true
   },
   "outputs": [
    {
     "name": "stdout",
     "output_type": "stream",
     "text": [
      "Epoch 1/100\n",
      "\u001b[1m200/200\u001b[0m \u001b[32m━━━━━━━━━━━━━━━━━━━━\u001b[0m\u001b[37m\u001b[0m \u001b[1m34s\u001b[0m 170ms/step - accuracy: 0.8729 - loss: 0.3773 - val_accuracy: 0.8813 - val_loss: 0.3716\n",
      "Epoch 2/100\n",
      "\u001b[1m200/200\u001b[0m \u001b[32m━━━━━━━━━━━━━━━━━━━━\u001b[0m\u001b[37m\u001b[0m \u001b[1m34s\u001b[0m 169ms/step - accuracy: 0.8706 - loss: 0.3795 - val_accuracy: 0.8619 - val_loss: 0.4292\n",
      "Epoch 3/100\n",
      "\u001b[1m200/200\u001b[0m \u001b[32m━━━━━━━━━━━━━━━━━━━━\u001b[0m\u001b[37m\u001b[0m \u001b[1m33s\u001b[0m 167ms/step - accuracy: 0.8727 - loss: 0.3665 - val_accuracy: 0.8775 - val_loss: 0.3799\n",
      "Epoch 4/100\n",
      "\u001b[1m200/200\u001b[0m \u001b[32m━━━━━━━━━━━━━━━━━━━━\u001b[0m\u001b[37m\u001b[0m \u001b[1m34s\u001b[0m 168ms/step - accuracy: 0.8723 - loss: 0.3839 - val_accuracy: 0.8750 - val_loss: 0.3743\n",
      "Epoch 5/100\n",
      "\u001b[1m200/200\u001b[0m \u001b[32m━━━━━━━━━━━━━━━━━━━━\u001b[0m\u001b[37m\u001b[0m \u001b[1m33s\u001b[0m 167ms/step - accuracy: 0.8795 - loss: 0.3671 - val_accuracy: 0.8819 - val_loss: 0.3744\n",
      "Epoch 6/100\n",
      "\u001b[1m200/200\u001b[0m \u001b[32m━━━━━━━━━━━━━━━━━━━━\u001b[0m\u001b[37m\u001b[0m \u001b[1m33s\u001b[0m 167ms/step - accuracy: 0.8740 - loss: 0.3767 - val_accuracy: 0.8775 - val_loss: 0.3748\n",
      "Epoch 7/100\n",
      "\u001b[1m200/200\u001b[0m \u001b[32m━━━━━━━━━━━━━━━━━━━━\u001b[0m\u001b[37m\u001b[0m \u001b[1m34s\u001b[0m 168ms/step - accuracy: 0.8755 - loss: 0.3756 - val_accuracy: 0.8819 - val_loss: 0.3701\n",
      "Epoch 8/100\n",
      "\u001b[1m200/200\u001b[0m \u001b[32m━━━━━━━━━━━━━━━━━━━━\u001b[0m\u001b[37m\u001b[0m \u001b[1m33s\u001b[0m 166ms/step - accuracy: 0.8869 - loss: 0.3614 - val_accuracy: 0.8750 - val_loss: 0.3660\n",
      "Epoch 9/100\n",
      "\u001b[1m200/200\u001b[0m \u001b[32m━━━━━━━━━━━━━━━━━━━━\u001b[0m\u001b[37m\u001b[0m \u001b[1m33s\u001b[0m 167ms/step - accuracy: 0.8868 - loss: 0.3554 - val_accuracy: 0.8650 - val_loss: 0.4283\n",
      "Epoch 10/100\n",
      "\u001b[1m200/200\u001b[0m \u001b[32m━━━━━━━━━━━━━━━━━━━━\u001b[0m\u001b[37m\u001b[0m \u001b[1m33s\u001b[0m 167ms/step - accuracy: 0.8882 - loss: 0.3455 - val_accuracy: 0.8813 - val_loss: 0.3581\n"
     ]
    }
   ],
   "source": [
    "indices_0 = np.where(y_train_encoded['MI'] == 0)[0] \n",
    "indices_1 = np.where(y_train_encoded['MI'] == 1)[0]\n",
    "selected_indices_0=np.random.choice(indices_0, 4000, replace=False)\n",
    "selected_indices_1=np.random.choice(indices_1, 4000, replace=False)\n",
    "x_train_norm0=X_train[selected_indices_0]\n",
    "x_train_norm1=X_train[selected_indices_1]\n",
    "y_train_norm0=y_train_encoded.iloc[selected_indices_0,3]\n",
    "y_train_norm1=y_train_encoded.iloc[selected_indices_1,3]\n",
    "x_train= np.concatenate([x_train_norm0, x_train_norm1], axis=0)\n",
    "y_train=np.concatenate([y_train_norm0, y_train_norm1], axis=0)\n",
    "x_train, val_data, y_train, val_labels = train_test_split(\n",
    "    x_train, y_train, test_size=0.2, random_state=42\n",
    ")\n",
    "\n",
    "# Training the model\n",
    "history = model.fit(\n",
    "    x_train, y_train,\n",
    "    epochs=100, \n",
    "    batch_size=32, \n",
    "    validation_data=(val_data, val_labels), \n",
    "    callbacks=[early_stopping]\n",
    ")"
   ]
  },
  {
   "cell_type": "code",
   "execution_count": 54,
   "metadata": {
    "execution": {
     "iopub.execute_input": "2024-11-05T18:33:06.784784Z",
     "iopub.status.busy": "2024-11-05T18:33:06.784498Z",
     "iopub.status.idle": "2024-11-05T18:36:02.651667Z",
     "shell.execute_reply": "2024-11-05T18:36:02.650858Z",
     "shell.execute_reply.started": "2024-11-05T18:33:06.784757Z"
    },
    "trusted": true
   },
   "outputs": [
    {
     "name": "stdout",
     "output_type": "stream",
     "text": [
      "Epoch 1/100\n",
      "\u001b[1m100/100\u001b[0m \u001b[32m━━━━━━━━━━━━━━━━━━━━\u001b[0m\u001b[37m\u001b[0m \u001b[1m17s\u001b[0m 167ms/step - accuracy: 0.8905 - loss: 0.3493 - val_accuracy: 0.8550 - val_loss: 0.3697\n",
      "Epoch 2/100\n",
      "\u001b[1m100/100\u001b[0m \u001b[32m━━━━━━━━━━━━━━━━━━━━\u001b[0m\u001b[37m\u001b[0m \u001b[1m17s\u001b[0m 167ms/step - accuracy: 0.8935 - loss: 0.3481 - val_accuracy: 0.8763 - val_loss: 0.3642\n",
      "Epoch 3/100\n",
      "\u001b[1m100/100\u001b[0m \u001b[32m━━━━━━━━━━━━━━━━━━━━\u001b[0m\u001b[37m\u001b[0m \u001b[1m17s\u001b[0m 168ms/step - accuracy: 0.8930 - loss: 0.3258 - val_accuracy: 0.8712 - val_loss: 0.3604\n",
      "Epoch 4/100\n",
      "\u001b[1m100/100\u001b[0m \u001b[32m━━━━━━━━━━━━━━━━━━━━\u001b[0m\u001b[37m\u001b[0m \u001b[1m17s\u001b[0m 168ms/step - accuracy: 0.8957 - loss: 0.3347 - val_accuracy: 0.8788 - val_loss: 0.3606\n",
      "Epoch 5/100\n",
      "\u001b[1m100/100\u001b[0m \u001b[32m━━━━━━━━━━━━━━━━━━━━\u001b[0m\u001b[37m\u001b[0m \u001b[1m20s\u001b[0m 167ms/step - accuracy: 0.9036 - loss: 0.3140 - val_accuracy: 0.8750 - val_loss: 0.3517\n",
      "Epoch 6/100\n",
      "\u001b[1m100/100\u001b[0m \u001b[32m━━━━━━━━━━━━━━━━━━━━\u001b[0m\u001b[37m\u001b[0m \u001b[1m21s\u001b[0m 171ms/step - accuracy: 0.8987 - loss: 0.3336 - val_accuracy: 0.8712 - val_loss: 0.3692\n",
      "Epoch 7/100\n",
      "\u001b[1m100/100\u001b[0m \u001b[32m━━━━━━━━━━━━━━━━━━━━\u001b[0m\u001b[37m\u001b[0m \u001b[1m17s\u001b[0m 167ms/step - accuracy: 0.8865 - loss: 0.3392 - val_accuracy: 0.8562 - val_loss: 0.4217\n",
      "Epoch 8/100\n",
      "\u001b[1m100/100\u001b[0m \u001b[32m━━━━━━━━━━━━━━━━━━━━\u001b[0m\u001b[37m\u001b[0m \u001b[1m17s\u001b[0m 168ms/step - accuracy: 0.8969 - loss: 0.3311 - val_accuracy: 0.8712 - val_loss: 0.3662\n",
      "Epoch 9/100\n",
      "\u001b[1m100/100\u001b[0m \u001b[32m━━━━━━━━━━━━━━━━━━━━\u001b[0m\u001b[37m\u001b[0m \u001b[1m17s\u001b[0m 167ms/step - accuracy: 0.8871 - loss: 0.3366 - val_accuracy: 0.8737 - val_loss: 0.3748\n",
      "Epoch 10/100\n",
      "\u001b[1m100/100\u001b[0m \u001b[32m━━━━━━━━━━━━━━━━━━━━\u001b[0m\u001b[37m\u001b[0m \u001b[1m17s\u001b[0m 167ms/step - accuracy: 0.9059 - loss: 0.3112 - val_accuracy: 0.8750 - val_loss: 0.3684\n"
     ]
    }
   ],
   "source": [
    "indices_0 = np.where(y_train_encoded['HYP'] == 0)[0] \n",
    "indices_1 = np.where(y_train_encoded['HYP'] == 1)[0]\n",
    "selected_indices_0=np.random.choice(indices_0, 2000, replace=False)\n",
    "selected_indices_1=np.random.choice(indices_1, 2000, replace=False)\n",
    "x_train_norm0=X_train[selected_indices_0]\n",
    "x_train_norm1=X_train[selected_indices_1]\n",
    "y_train_norm0=y_train_encoded.iloc[selected_indices_0,3]\n",
    "y_train_norm1=y_train_encoded.iloc[selected_indices_1,3]\n",
    "x_train= np.concatenate([x_train_norm0, x_train_norm1], axis=0)\n",
    "y_train=np.concatenate([y_train_norm0, y_train_norm1], axis=0)\n",
    "x_train, val_data, y_train, val_labels = train_test_split(\n",
    "    x_train, y_train, test_size=0.2, random_state=42\n",
    ")\n",
    "\n",
    "# Training the model\n",
    "history = model.fit(\n",
    "    x_train, y_train,\n",
    "    epochs=100, \n",
    "    batch_size=32, \n",
    "    validation_data=(val_data, val_labels), \n",
    "    callbacks=[early_stopping]\n",
    ")"
   ]
  },
  {
   "cell_type": "code",
   "execution_count": null,
   "metadata": {},
   "outputs": [],
   "source": []
  },
  {
   "cell_type": "code",
   "execution_count": null,
   "metadata": {},
   "outputs": [],
   "source": []
  }
 ],
 "metadata": {
  "colab": {
   "provenance": []
  },
  "kaggle": {
   "accelerator": "nvidiaTeslaT4",
   "dataSources": [
    {
     "datasetId": 5505348,
     "sourceId": 9120047,
     "sourceType": "datasetVersion"
    }
   ],
   "dockerImageVersionId": 30746,
   "isGpuEnabled": true,
   "isInternetEnabled": true,
   "language": "python",
   "sourceType": "notebook"
  },
  "kernelspec": {
   "display_name": "Python 3",
   "language": "python",
   "name": "python3"
  },
  "language_info": {
   "codemirror_mode": {
    "name": "ipython",
    "version": 3
   },
   "file_extension": ".py",
   "mimetype": "text/x-python",
   "name": "python",
   "nbconvert_exporter": "python",
   "pygments_lexer": "ipython3",
   "version": "3.10.13"
  },
  "papermill": {
   "default_parameters": {},
   "duration": 415.766062,
   "end_time": "2024-08-07T05:40:01.516582",
   "environment_variables": {},
   "exception": null,
   "input_path": "__notebook__.ipynb",
   "output_path": "__notebook__.ipynb",
   "parameters": {},
   "start_time": "2024-08-07T05:33:05.750520",
   "version": "2.5.0"
  }
 },
 "nbformat": 4,
 "nbformat_minor": 5
}
