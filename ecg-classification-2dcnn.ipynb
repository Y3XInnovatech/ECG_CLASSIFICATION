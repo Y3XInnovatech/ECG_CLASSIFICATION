{
 "cells": [
  {
   "cell_type": "code",
   "execution_count": 1,
   "metadata": {
    "execution": {
     "iopub.execute_input": "2024-11-05T16:54:20.113668Z",
     "iopub.status.busy": "2024-11-05T16:54:20.113065Z",
     "iopub.status.idle": "2024-11-05T16:54:21.127760Z",
     "shell.execute_reply": "2024-11-05T16:54:21.126806Z",
     "shell.execute_reply.started": "2024-11-05T16:54:20.113634Z"
    },
    "id": "27xqfiI1axUM",
    "papermill": {
     "duration": 0.986306,
     "end_time": "2024-08-07T05:33:43.602883",
     "exception": false,
     "start_time": "2024-08-07T05:33:42.616577",
     "status": "completed"
    },
    "tags": [],
    "trusted": true
   },
   "outputs": [],
   "source": [
    "import pandas as pd\n",
    "import numpy as np\n",
    "import wfdb\n",
    "import ast"
   ]
  },
  {
   "cell_type": "code",
   "execution_count": 2,
   "metadata": {
    "execution": {
     "iopub.execute_input": "2024-11-05T16:54:21.130379Z",
     "iopub.status.busy": "2024-11-05T16:54:21.129841Z",
     "iopub.status.idle": "2024-11-05T16:54:21.135493Z",
     "shell.execute_reply": "2024-11-05T16:54:21.134258Z",
     "shell.execute_reply.started": "2024-11-05T16:54:21.130342Z"
    },
    "papermill": {
     "duration": 0.01699,
     "end_time": "2024-08-07T05:33:43.627982",
     "exception": false,
     "start_time": "2024-08-07T05:33:43.610992",
     "status": "completed"
    },
    "tags": [],
    "trusted": true
   },
   "outputs": [],
   "source": [
    "import os"
   ]
  },
  {
   "cell_type": "code",
   "execution_count": 3,
   "metadata": {
    "execution": {
     "iopub.execute_input": "2024-11-05T16:54:21.137210Z",
     "iopub.status.busy": "2024-11-05T16:54:21.136829Z",
     "iopub.status.idle": "2024-11-05T16:54:21.145140Z",
     "shell.execute_reply": "2024-11-05T16:54:21.144027Z",
     "shell.execute_reply.started": "2024-11-05T16:54:21.137176Z"
    },
    "id": "YqzHkAQva65_",
    "papermill": {
     "duration": 0.018488,
     "end_time": "2024-08-07T05:33:43.654595",
     "exception": false,
     "start_time": "2024-08-07T05:33:43.636107",
     "status": "completed"
    },
    "tags": [],
    "trusted": true
   },
   "outputs": [],
   "source": [
    "def load_raw_data(df, sampling_rate, path):\n",
    "    if sampling_rate == 100:\n",
    "        data = [wfdb.rdsamp(os.path.join(path,f)) for f in df.filename_lr]\n",
    "    else:\n",
    "        data = [wfdb.rdsamp(os.path.join(path,f)) for f in df.filename_hr]\n",
    "    data = np.array([signal for signal, meta in data])\n",
    "    return data"
   ]
  },
  {
   "cell_type": "code",
   "execution_count": 4,
   "metadata": {
    "execution": {
     "iopub.execute_input": "2024-11-05T16:54:21.147853Z",
     "iopub.status.busy": "2024-11-05T16:54:21.147541Z",
     "iopub.status.idle": "2024-11-05T16:54:21.923752Z",
     "shell.execute_reply": "2024-11-05T16:54:21.922807Z",
     "shell.execute_reply.started": "2024-11-05T16:54:21.147828Z"
    },
    "id": "NB_CTNPE9zMB",
    "outputId": "32ce9598-6ace-4711-c233-769aa14595e7",
    "papermill": {
     "duration": 0.746969,
     "end_time": "2024-08-07T05:33:44.410162",
     "exception": false,
     "start_time": "2024-08-07T05:33:43.663193",
     "status": "completed"
    },
    "tags": [],
    "trusted": true
   },
   "outputs": [],
   "source": [
    "path='/kaggle/input/ecg-data/ptb-xl-a-large-publicly-available-electrocardiography-dataset-1.0.3/'\n",
    "sampling_rate=100\n",
    "\n",
    "# load and convert annotation data\n",
    "Y = pd.read_csv(os.path.join(path,'ptbxl_database.csv'), index_col='ecg_id')\n",
    "Y.scp_codes = Y.scp_codes.apply(lambda x: ast.literal_eval(x))\n"
   ]
  },
  {
   "cell_type": "code",
   "execution_count": 5,
   "metadata": {
    "execution": {
     "iopub.execute_input": "2024-11-05T16:54:21.925514Z",
     "iopub.status.busy": "2024-11-05T16:54:21.925144Z",
     "iopub.status.idle": "2024-11-05T16:54:21.936493Z",
     "shell.execute_reply": "2024-11-05T16:54:21.935397Z",
     "shell.execute_reply.started": "2024-11-05T16:54:21.925485Z"
    },
    "id": "ac3IDEF5-sFT",
    "papermill": {
     "duration": 0.02467,
     "end_time": "2024-08-07T05:33:44.443024",
     "exception": false,
     "start_time": "2024-08-07T05:33:44.418354",
     "status": "completed"
    },
    "tags": [],
    "trusted": true
   },
   "outputs": [
    {
     "data": {
      "text/plain": [
       "ecg_id\n",
       "1                 {'NORM': 100.0, 'LVOLT': 0.0, 'SR': 0.0}\n",
       "2                             {'NORM': 80.0, 'SBRAD': 0.0}\n",
       "3                               {'NORM': 100.0, 'SR': 0.0}\n",
       "4                               {'NORM': 100.0, 'SR': 0.0}\n",
       "5                               {'NORM': 100.0, 'SR': 0.0}\n",
       "                               ...                        \n",
       "21833    {'NDT': 100.0, 'PVC': 100.0, 'VCLVH': 0.0, 'ST...\n",
       "21834             {'NORM': 100.0, 'ABQRS': 0.0, 'SR': 0.0}\n",
       "21835                           {'ISCAS': 50.0, 'SR': 0.0}\n",
       "21836                           {'NORM': 100.0, 'SR': 0.0}\n",
       "21837                           {'NORM': 100.0, 'SR': 0.0}\n",
       "Name: scp_codes, Length: 21799, dtype: object"
      ]
     },
     "execution_count": 5,
     "metadata": {},
     "output_type": "execute_result"
    }
   ],
   "source": [
    "Y.scp_codes "
   ]
  },
  {
   "cell_type": "code",
   "execution_count": 6,
   "metadata": {
    "execution": {
     "iopub.execute_input": "2024-11-05T16:54:21.938336Z",
     "iopub.status.busy": "2024-11-05T16:54:21.937979Z",
     "iopub.status.idle": "2024-11-05T16:54:21.945556Z",
     "shell.execute_reply": "2024-11-05T16:54:21.944465Z",
     "shell.execute_reply.started": "2024-11-05T16:54:21.938309Z"
    },
    "papermill": {
     "duration": 0.019655,
     "end_time": "2024-08-07T05:33:44.470944",
     "exception": false,
     "start_time": "2024-08-07T05:33:44.451289",
     "status": "completed"
    },
    "tags": [],
    "trusted": true
   },
   "outputs": [
    {
     "data": {
      "text/plain": [
       "(21799,)"
      ]
     },
     "execution_count": 6,
     "metadata": {},
     "output_type": "execute_result"
    }
   ],
   "source": [
    "Y.scp_codes.shape"
   ]
  },
  {
   "cell_type": "code",
   "execution_count": 7,
   "metadata": {
    "execution": {
     "iopub.execute_input": "2024-11-05T16:54:21.947176Z",
     "iopub.status.busy": "2024-11-05T16:54:21.946801Z",
     "iopub.status.idle": "2024-11-05T16:59:36.466074Z",
     "shell.execute_reply": "2024-11-05T16:59:36.465121Z",
     "shell.execute_reply.started": "2024-11-05T16:54:21.947146Z"
    },
    "papermill": {
     "duration": 369.945071,
     "end_time": "2024-08-07T05:39:54.425543",
     "exception": false,
     "start_time": "2024-08-07T05:33:44.480472",
     "status": "completed"
    },
    "tags": [],
    "trusted": true
   },
   "outputs": [],
   "source": [
    "X = load_raw_data(Y, sampling_rate, path)\n"
   ]
  },
  {
   "cell_type": "code",
   "execution_count": 8,
   "metadata": {
    "execution": {
     "iopub.execute_input": "2024-11-05T16:59:36.467474Z",
     "iopub.status.busy": "2024-11-05T16:59:36.467190Z",
     "iopub.status.idle": "2024-11-05T16:59:36.480617Z",
     "shell.execute_reply": "2024-11-05T16:59:36.479911Z",
     "shell.execute_reply.started": "2024-11-05T16:59:36.467451Z"
    },
    "papermill": {
     "duration": 0.030782,
     "end_time": "2024-08-07T05:39:54.464764",
     "exception": false,
     "start_time": "2024-08-07T05:39:54.433982",
     "status": "completed"
    },
    "tags": [],
    "trusted": true
   },
   "outputs": [],
   "source": [
    "agg_df = pd.read_csv(os.path.join(path,'scp_statements.csv'), index_col=0)\n",
    "agg_df = agg_df[agg_df.diagnostic == 1]\n"
   ]
  },
  {
   "cell_type": "code",
   "execution_count": 9,
   "metadata": {
    "execution": {
     "iopub.execute_input": "2024-11-05T16:59:36.481873Z",
     "iopub.status.busy": "2024-11-05T16:59:36.481592Z",
     "iopub.status.idle": "2024-11-05T16:59:36.486786Z",
     "shell.execute_reply": "2024-11-05T16:59:36.485866Z",
     "shell.execute_reply.started": "2024-11-05T16:59:36.481849Z"
    },
    "papermill": {
     "duration": 0.018391,
     "end_time": "2024-08-07T05:39:54.491486",
     "exception": false,
     "start_time": "2024-08-07T05:39:54.473095",
     "status": "completed"
    },
    "tags": [],
    "trusted": true
   },
   "outputs": [],
   "source": [
    "def aggregate_diagnostic(y_dic):\n",
    "    tmp = []\n",
    "    for key in y_dic.keys():\n",
    "        if key in agg_df.index:\n",
    "            tmp.append(agg_df.loc[key].diagnostic_class)\n",
    "    return list(set(tmp))"
   ]
  },
  {
   "cell_type": "code",
   "execution_count": 10,
   "metadata": {
    "execution": {
     "iopub.execute_input": "2024-11-05T16:59:36.491615Z",
     "iopub.status.busy": "2024-11-05T16:59:36.491029Z",
     "iopub.status.idle": "2024-11-05T16:59:38.894528Z",
     "shell.execute_reply": "2024-11-05T16:59:38.893576Z",
     "shell.execute_reply.started": "2024-11-05T16:59:36.491592Z"
    },
    "papermill": {
     "duration": 2.395536,
     "end_time": "2024-08-07T05:39:56.895184",
     "exception": false,
     "start_time": "2024-08-07T05:39:54.499648",
     "status": "completed"
    },
    "tags": [],
    "trusted": true
   },
   "outputs": [],
   "source": [
    "Y['diagnostic_superclass'] = Y.scp_codes.apply(aggregate_diagnostic)"
   ]
  },
  {
   "cell_type": "code",
   "execution_count": 11,
   "metadata": {
    "execution": {
     "iopub.execute_input": "2024-11-05T16:59:38.896060Z",
     "iopub.status.busy": "2024-11-05T16:59:38.895750Z",
     "iopub.status.idle": "2024-11-05T16:59:39.483639Z",
     "shell.execute_reply": "2024-11-05T16:59:39.482789Z",
     "shell.execute_reply.started": "2024-11-05T16:59:38.896034Z"
    },
    "papermill": {
     "duration": 0.930014,
     "end_time": "2024-08-07T05:39:57.833369",
     "exception": false,
     "start_time": "2024-08-07T05:39:56.903355",
     "status": "completed"
    },
    "tags": [],
    "trusted": true
   },
   "outputs": [],
   "source": [
    "test_fold = 10\n",
    "\n",
    "X_train = X[np.where(Y.strat_fold != test_fold)]\n",
    "y_train = Y[(Y.strat_fold != test_fold)].diagnostic_superclass\n",
    "\n",
    "X_test = X[np.where(Y.strat_fold == test_fold)]\n",
    "y_test = Y[Y.strat_fold == test_fold].diagnostic_superclass"
   ]
  },
  {
   "cell_type": "code",
   "execution_count": 12,
   "metadata": {
    "execution": {
     "iopub.execute_input": "2024-11-05T16:59:39.485207Z",
     "iopub.status.busy": "2024-11-05T16:59:39.484877Z",
     "iopub.status.idle": "2024-11-05T16:59:39.491000Z",
     "shell.execute_reply": "2024-11-05T16:59:39.489914Z",
     "shell.execute_reply.started": "2024-11-05T16:59:39.485180Z"
    },
    "papermill": {
     "duration": 0.018481,
     "end_time": "2024-08-07T05:39:57.860183",
     "exception": false,
     "start_time": "2024-08-07T05:39:57.841702",
     "status": "completed"
    },
    "tags": [],
    "trusted": true
   },
   "outputs": [
    {
     "data": {
      "text/plain": [
       "(19601, 1000, 12)"
      ]
     },
     "execution_count": 12,
     "metadata": {},
     "output_type": "execute_result"
    }
   ],
   "source": [
    "X_train.shape"
   ]
  },
  {
   "cell_type": "code",
   "execution_count": 13,
   "metadata": {
    "execution": {
     "iopub.execute_input": "2024-11-05T16:59:39.492591Z",
     "iopub.status.busy": "2024-11-05T16:59:39.492327Z",
     "iopub.status.idle": "2024-11-05T16:59:39.502323Z",
     "shell.execute_reply": "2024-11-05T16:59:39.501400Z",
     "shell.execute_reply.started": "2024-11-05T16:59:39.492568Z"
    },
    "papermill": {
     "duration": 0.022092,
     "end_time": "2024-08-07T05:39:57.952767",
     "exception": false,
     "start_time": "2024-08-07T05:39:57.930675",
     "status": "completed"
    },
    "tags": [],
    "trusted": true
   },
   "outputs": [
    {
     "data": {
      "text/plain": [
       "<bound method NDFrame.head of ecg_id\n",
       "1        [NORM]\n",
       "2        [NORM]\n",
       "3        [NORM]\n",
       "4        [NORM]\n",
       "5        [NORM]\n",
       "          ...  \n",
       "21833    [STTC]\n",
       "21834    [NORM]\n",
       "21835    [STTC]\n",
       "21836    [NORM]\n",
       "21837    [NORM]\n",
       "Name: diagnostic_superclass, Length: 19601, dtype: object>"
      ]
     },
     "execution_count": 13,
     "metadata": {},
     "output_type": "execute_result"
    }
   ],
   "source": [
    "y_train.head"
   ]
  },
  {
   "cell_type": "code",
   "execution_count": 14,
   "metadata": {
    "execution": {
     "iopub.execute_input": "2024-11-05T16:59:39.503619Z",
     "iopub.status.busy": "2024-11-05T16:59:39.503366Z",
     "iopub.status.idle": "2024-11-05T16:59:39.521806Z",
     "shell.execute_reply": "2024-11-05T16:59:39.520940Z",
     "shell.execute_reply.started": "2024-11-05T16:59:39.503597Z"
    },
    "papermill": {
     "duration": 0.032672,
     "end_time": "2024-08-07T05:39:57.993959",
     "exception": false,
     "start_time": "2024-08-07T05:39:57.961287",
     "status": "completed"
    },
    "tags": [],
    "trusted": true
   },
   "outputs": [
    {
     "name": "stdout",
     "output_type": "stream",
     "text": [
      "<class 'pandas.core.series.Series'>\n",
      "Index: 19601 entries, 1 to 21837\n",
      "Series name: diagnostic_superclass\n",
      "Non-Null Count  Dtype \n",
      "--------------  ----- \n",
      "19601 non-null  object\n",
      "dtypes: object(1)\n",
      "memory usage: 306.3+ KB\n"
     ]
    }
   ],
   "source": [
    "y_train.info()"
   ]
  },
  {
   "cell_type": "code",
   "execution_count": 15,
   "metadata": {
    "execution": {
     "iopub.execute_input": "2024-11-05T16:59:39.522958Z",
     "iopub.status.busy": "2024-11-05T16:59:39.522700Z",
     "iopub.status.idle": "2024-11-05T16:59:39.554517Z",
     "shell.execute_reply": "2024-11-05T16:59:39.553573Z",
     "shell.execute_reply.started": "2024-11-05T16:59:39.522936Z"
    },
    "papermill": {
     "duration": 0.034734,
     "end_time": "2024-08-07T05:39:58.037396",
     "exception": false,
     "start_time": "2024-08-07T05:39:58.002662",
     "status": "completed"
    },
    "tags": [],
    "trusted": true
   },
   "outputs": [
    {
     "data": {
      "text/plain": [
       "22"
      ]
     },
     "execution_count": 15,
     "metadata": {},
     "output_type": "execute_result"
    }
   ],
   "source": [
    "np.unique(y_train).shape[0]\n"
   ]
  },
  {
   "cell_type": "code",
   "execution_count": 16,
   "metadata": {
    "execution": {
     "iopub.execute_input": "2024-11-05T16:59:39.555872Z",
     "iopub.status.busy": "2024-11-05T16:59:39.555601Z",
     "iopub.status.idle": "2024-11-05T16:59:40.015820Z",
     "shell.execute_reply": "2024-11-05T16:59:40.015114Z",
     "shell.execute_reply.started": "2024-11-05T16:59:39.555850Z"
    },
    "trusted": true
   },
   "outputs": [],
   "source": [
    "from sklearn.preprocessing import MultiLabelBinarizer\n",
    "\n",
    "mlb = MultiLabelBinarizer()\n",
    "y_train_encoded = pd.DataFrame(mlb.fit_transform(y_train), columns=mlb.classes_)"
   ]
  },
  {
   "cell_type": "code",
   "execution_count": 17,
   "metadata": {
    "execution": {
     "iopub.execute_input": "2024-11-05T16:59:40.017249Z",
     "iopub.status.busy": "2024-11-05T16:59:40.016890Z",
     "iopub.status.idle": "2024-11-05T16:59:40.023196Z",
     "shell.execute_reply": "2024-11-05T16:59:40.022130Z",
     "shell.execute_reply.started": "2024-11-05T16:59:40.017217Z"
    },
    "trusted": true
   },
   "outputs": [
    {
     "data": {
      "text/plain": [
       "(19601, 5)"
      ]
     },
     "execution_count": 17,
     "metadata": {},
     "output_type": "execute_result"
    }
   ],
   "source": [
    "y_train_encoded.shape"
   ]
  },
  {
   "cell_type": "code",
   "execution_count": 18,
   "metadata": {
    "execution": {
     "iopub.execute_input": "2024-11-05T16:59:40.024904Z",
     "iopub.status.busy": "2024-11-05T16:59:40.024465Z",
     "iopub.status.idle": "2024-11-05T16:59:40.038151Z",
     "shell.execute_reply": "2024-11-05T16:59:40.037319Z",
     "shell.execute_reply.started": "2024-11-05T16:59:40.024873Z"
    },
    "trusted": true
   },
   "outputs": [
    {
     "data": {
      "text/html": [
       "<div>\n",
       "<style scoped>\n",
       "    .dataframe tbody tr th:only-of-type {\n",
       "        vertical-align: middle;\n",
       "    }\n",
       "\n",
       "    .dataframe tbody tr th {\n",
       "        vertical-align: top;\n",
       "    }\n",
       "\n",
       "    .dataframe thead th {\n",
       "        text-align: right;\n",
       "    }\n",
       "</style>\n",
       "<table border=\"1\" class=\"dataframe\">\n",
       "  <thead>\n",
       "    <tr style=\"text-align: right;\">\n",
       "      <th></th>\n",
       "      <th>CD</th>\n",
       "      <th>HYP</th>\n",
       "      <th>MI</th>\n",
       "      <th>NORM</th>\n",
       "      <th>STTC</th>\n",
       "    </tr>\n",
       "  </thead>\n",
       "  <tbody>\n",
       "    <tr>\n",
       "      <th>0</th>\n",
       "      <td>0</td>\n",
       "      <td>0</td>\n",
       "      <td>0</td>\n",
       "      <td>1</td>\n",
       "      <td>0</td>\n",
       "    </tr>\n",
       "    <tr>\n",
       "      <th>1</th>\n",
       "      <td>0</td>\n",
       "      <td>0</td>\n",
       "      <td>0</td>\n",
       "      <td>1</td>\n",
       "      <td>0</td>\n",
       "    </tr>\n",
       "    <tr>\n",
       "      <th>2</th>\n",
       "      <td>0</td>\n",
       "      <td>0</td>\n",
       "      <td>0</td>\n",
       "      <td>1</td>\n",
       "      <td>0</td>\n",
       "    </tr>\n",
       "    <tr>\n",
       "      <th>3</th>\n",
       "      <td>0</td>\n",
       "      <td>0</td>\n",
       "      <td>0</td>\n",
       "      <td>1</td>\n",
       "      <td>0</td>\n",
       "    </tr>\n",
       "    <tr>\n",
       "      <th>4</th>\n",
       "      <td>0</td>\n",
       "      <td>0</td>\n",
       "      <td>0</td>\n",
       "      <td>1</td>\n",
       "      <td>0</td>\n",
       "    </tr>\n",
       "  </tbody>\n",
       "</table>\n",
       "</div>"
      ],
      "text/plain": [
       "   CD  HYP  MI  NORM  STTC\n",
       "0   0    0   0     1     0\n",
       "1   0    0   0     1     0\n",
       "2   0    0   0     1     0\n",
       "3   0    0   0     1     0\n",
       "4   0    0   0     1     0"
      ]
     },
     "execution_count": 18,
     "metadata": {},
     "output_type": "execute_result"
    }
   ],
   "source": [
    "y_train_encoded.head()"
   ]
  },
  {
   "cell_type": "code",
   "execution_count": 19,
   "metadata": {
    "execution": {
     "iopub.execute_input": "2024-11-05T16:59:40.039353Z",
     "iopub.status.busy": "2024-11-05T16:59:40.039124Z",
     "iopub.status.idle": "2024-11-05T16:59:40.044937Z",
     "shell.execute_reply": "2024-11-05T16:59:40.044084Z",
     "shell.execute_reply.started": "2024-11-05T16:59:40.039333Z"
    },
    "trusted": true
   },
   "outputs": [
    {
     "data": {
      "text/plain": [
       "pandas.core.frame.DataFrame"
      ]
     },
     "execution_count": 19,
     "metadata": {},
     "output_type": "execute_result"
    }
   ],
   "source": [
    "type(y_train_encoded)"
   ]
  },
  {
   "cell_type": "code",
   "execution_count": 20,
   "metadata": {
    "execution": {
     "iopub.execute_input": "2024-11-05T16:59:40.046545Z",
     "iopub.status.busy": "2024-11-05T16:59:40.046225Z",
     "iopub.status.idle": "2024-11-05T16:59:41.652826Z",
     "shell.execute_reply": "2024-11-05T16:59:41.652096Z",
     "shell.execute_reply.started": "2024-11-05T16:59:40.046521Z"
    },
    "trusted": true
   },
   "outputs": [],
   "source": [
    "y_train_encoded['final_output']=y_train_encoded.apply(lambda x:''.join(x.astype(str)),axis=1)"
   ]
  },
  {
   "cell_type": "code",
   "execution_count": 21,
   "metadata": {
    "execution": {
     "iopub.execute_input": "2024-11-05T16:59:41.654134Z",
     "iopub.status.busy": "2024-11-05T16:59:41.653846Z",
     "iopub.status.idle": "2024-11-05T16:59:41.664210Z",
     "shell.execute_reply": "2024-11-05T16:59:41.663317Z",
     "shell.execute_reply.started": "2024-11-05T16:59:41.654110Z"
    },
    "trusted": true
   },
   "outputs": [
    {
     "data": {
      "text/html": [
       "<div>\n",
       "<style scoped>\n",
       "    .dataframe tbody tr th:only-of-type {\n",
       "        vertical-align: middle;\n",
       "    }\n",
       "\n",
       "    .dataframe tbody tr th {\n",
       "        vertical-align: top;\n",
       "    }\n",
       "\n",
       "    .dataframe thead th {\n",
       "        text-align: right;\n",
       "    }\n",
       "</style>\n",
       "<table border=\"1\" class=\"dataframe\">\n",
       "  <thead>\n",
       "    <tr style=\"text-align: right;\">\n",
       "      <th></th>\n",
       "      <th>CD</th>\n",
       "      <th>HYP</th>\n",
       "      <th>MI</th>\n",
       "      <th>NORM</th>\n",
       "      <th>STTC</th>\n",
       "      <th>final_output</th>\n",
       "    </tr>\n",
       "  </thead>\n",
       "  <tbody>\n",
       "    <tr>\n",
       "      <th>0</th>\n",
       "      <td>0</td>\n",
       "      <td>0</td>\n",
       "      <td>0</td>\n",
       "      <td>1</td>\n",
       "      <td>0</td>\n",
       "      <td>00010</td>\n",
       "    </tr>\n",
       "    <tr>\n",
       "      <th>1</th>\n",
       "      <td>0</td>\n",
       "      <td>0</td>\n",
       "      <td>0</td>\n",
       "      <td>1</td>\n",
       "      <td>0</td>\n",
       "      <td>00010</td>\n",
       "    </tr>\n",
       "    <tr>\n",
       "      <th>2</th>\n",
       "      <td>0</td>\n",
       "      <td>0</td>\n",
       "      <td>0</td>\n",
       "      <td>1</td>\n",
       "      <td>0</td>\n",
       "      <td>00010</td>\n",
       "    </tr>\n",
       "    <tr>\n",
       "      <th>3</th>\n",
       "      <td>0</td>\n",
       "      <td>0</td>\n",
       "      <td>0</td>\n",
       "      <td>1</td>\n",
       "      <td>0</td>\n",
       "      <td>00010</td>\n",
       "    </tr>\n",
       "    <tr>\n",
       "      <th>4</th>\n",
       "      <td>0</td>\n",
       "      <td>0</td>\n",
       "      <td>0</td>\n",
       "      <td>1</td>\n",
       "      <td>0</td>\n",
       "      <td>00010</td>\n",
       "    </tr>\n",
       "  </tbody>\n",
       "</table>\n",
       "</div>"
      ],
      "text/plain": [
       "   CD  HYP  MI  NORM  STTC final_output\n",
       "0   0    0   0     1     0        00010\n",
       "1   0    0   0     1     0        00010\n",
       "2   0    0   0     1     0        00010\n",
       "3   0    0   0     1     0        00010\n",
       "4   0    0   0     1     0        00010"
      ]
     },
     "execution_count": 21,
     "metadata": {},
     "output_type": "execute_result"
    }
   ],
   "source": [
    "y_train_encoded.head()"
   ]
  },
  {
   "cell_type": "code",
   "execution_count": 22,
   "metadata": {
    "execution": {
     "iopub.execute_input": "2024-11-05T16:59:41.665969Z",
     "iopub.status.busy": "2024-11-05T16:59:41.665588Z",
     "iopub.status.idle": "2024-11-05T16:59:41.674813Z",
     "shell.execute_reply": "2024-11-05T16:59:41.673858Z",
     "shell.execute_reply.started": "2024-11-05T16:59:41.665933Z"
    },
    "trusted": true
   },
   "outputs": [
    {
     "data": {
      "text/plain": [
       "22"
      ]
     },
     "execution_count": 22,
     "metadata": {},
     "output_type": "execute_result"
    }
   ],
   "source": [
    "y_train_encoded['final_output'].nunique()"
   ]
  },
  {
   "cell_type": "code",
   "execution_count": 23,
   "metadata": {
    "execution": {
     "iopub.execute_input": "2024-11-05T16:59:41.676030Z",
     "iopub.status.busy": "2024-11-05T16:59:41.675786Z",
     "iopub.status.idle": "2024-11-05T16:59:41.683457Z",
     "shell.execute_reply": "2024-11-05T16:59:41.682646Z",
     "shell.execute_reply.started": "2024-11-05T16:59:41.676008Z"
    },
    "trusted": true
   },
   "outputs": [
    {
     "data": {
      "text/plain": [
       "array(['00010', '00100', '00000', '00001', '01000', '10000', '00101',\n",
       "       '11000', '10100', '10001', '01100', '01101', '01001', '10101',\n",
       "       '10010', '11101', '11001', '00011', '11100', '10011', '01010',\n",
       "       '11110'], dtype=object)"
      ]
     },
     "execution_count": 23,
     "metadata": {},
     "output_type": "execute_result"
    }
   ],
   "source": [
    "y_train_encoded['final_output'].unique()"
   ]
  },
  {
   "cell_type": "code",
   "execution_count": 24,
   "metadata": {
    "execution": {
     "iopub.execute_input": "2024-11-05T16:59:41.685188Z",
     "iopub.status.busy": "2024-11-05T16:59:41.684820Z",
     "iopub.status.idle": "2024-11-05T16:59:41.694506Z",
     "shell.execute_reply": "2024-11-05T16:59:41.693211Z",
     "shell.execute_reply.started": "2024-11-05T16:59:41.685159Z"
    },
    "trusted": true
   },
   "outputs": [],
   "source": [
    "def adjust_classes(y_train):\n",
    "    var=y_train\n",
    "    if var == '00010':\n",
    "        var=0\n",
    "    elif var == '00100':\n",
    "        var =1\n",
    "    elif var== '00000':\n",
    "        var=2\n",
    "    elif var=='00001':\n",
    "        var =3\n",
    "    elif var =='01000':\n",
    "        var=4\n",
    "    elif var=='10000':\n",
    "        var =5\n",
    "    elif var =='00101':\n",
    "        var =6\n",
    "    elif var =='11000':\n",
    "        var=7\n",
    "    elif var =='10100':\n",
    "        var=8\n",
    "    elif var=='10001':\n",
    "        var =9\n",
    "    elif var =='01100':\n",
    "        var =10\n",
    "    elif var =='01101':\n",
    "        var =11\n",
    "    elif var=='01001':\n",
    "        var=21\n",
    "    elif var =='10101':\n",
    "        var=12\n",
    "    elif var =='10010':\n",
    "        var=13\n",
    "    elif var=='11101':\n",
    "        var=14\n",
    "    elif var=='11001':\n",
    "        var=15\n",
    "    elif var =='00011':\n",
    "        var=16\n",
    "    elif var=='11100':\n",
    "        var=17\n",
    "    elif var=='10011':\n",
    "        var=18\n",
    "    elif var =='01010':\n",
    "        var=19\n",
    "    elif var=='11110':\n",
    "        var=20\n",
    "    return var"
   ]
  },
  {
   "cell_type": "code",
   "execution_count": 25,
   "metadata": {
    "execution": {
     "iopub.execute_input": "2024-11-05T16:59:41.696211Z",
     "iopub.status.busy": "2024-11-05T16:59:41.695699Z",
     "iopub.status.idle": "2024-11-05T16:59:41.719808Z",
     "shell.execute_reply": "2024-11-05T16:59:41.719040Z",
     "shell.execute_reply.started": "2024-11-05T16:59:41.696176Z"
    },
    "trusted": true
   },
   "outputs": [],
   "source": [
    "y_train_encoded['final_output']=y_train_encoded['final_output'].apply(adjust_classes)"
   ]
  },
  {
   "cell_type": "code",
   "execution_count": 26,
   "metadata": {
    "execution": {
     "iopub.execute_input": "2024-11-05T16:59:41.721019Z",
     "iopub.status.busy": "2024-11-05T16:59:41.720793Z",
     "iopub.status.idle": "2024-11-05T16:59:41.733958Z",
     "shell.execute_reply": "2024-11-05T16:59:41.732908Z",
     "shell.execute_reply.started": "2024-11-05T16:59:41.720999Z"
    },
    "trusted": true
   },
   "outputs": [
    {
     "data": {
      "text/html": [
       "<div>\n",
       "<style scoped>\n",
       "    .dataframe tbody tr th:only-of-type {\n",
       "        vertical-align: middle;\n",
       "    }\n",
       "\n",
       "    .dataframe tbody tr th {\n",
       "        vertical-align: top;\n",
       "    }\n",
       "\n",
       "    .dataframe thead th {\n",
       "        text-align: right;\n",
       "    }\n",
       "</style>\n",
       "<table border=\"1\" class=\"dataframe\">\n",
       "  <thead>\n",
       "    <tr style=\"text-align: right;\">\n",
       "      <th></th>\n",
       "      <th>CD</th>\n",
       "      <th>HYP</th>\n",
       "      <th>MI</th>\n",
       "      <th>NORM</th>\n",
       "      <th>STTC</th>\n",
       "      <th>final_output</th>\n",
       "    </tr>\n",
       "  </thead>\n",
       "  <tbody>\n",
       "    <tr>\n",
       "      <th>0</th>\n",
       "      <td>0</td>\n",
       "      <td>0</td>\n",
       "      <td>0</td>\n",
       "      <td>1</td>\n",
       "      <td>0</td>\n",
       "      <td>0</td>\n",
       "    </tr>\n",
       "    <tr>\n",
       "      <th>1</th>\n",
       "      <td>0</td>\n",
       "      <td>0</td>\n",
       "      <td>0</td>\n",
       "      <td>1</td>\n",
       "      <td>0</td>\n",
       "      <td>0</td>\n",
       "    </tr>\n",
       "    <tr>\n",
       "      <th>2</th>\n",
       "      <td>0</td>\n",
       "      <td>0</td>\n",
       "      <td>0</td>\n",
       "      <td>1</td>\n",
       "      <td>0</td>\n",
       "      <td>0</td>\n",
       "    </tr>\n",
       "    <tr>\n",
       "      <th>3</th>\n",
       "      <td>0</td>\n",
       "      <td>0</td>\n",
       "      <td>0</td>\n",
       "      <td>1</td>\n",
       "      <td>0</td>\n",
       "      <td>0</td>\n",
       "    </tr>\n",
       "    <tr>\n",
       "      <th>4</th>\n",
       "      <td>0</td>\n",
       "      <td>0</td>\n",
       "      <td>0</td>\n",
       "      <td>1</td>\n",
       "      <td>0</td>\n",
       "      <td>0</td>\n",
       "    </tr>\n",
       "    <tr>\n",
       "      <th>...</th>\n",
       "      <td>...</td>\n",
       "      <td>...</td>\n",
       "      <td>...</td>\n",
       "      <td>...</td>\n",
       "      <td>...</td>\n",
       "      <td>...</td>\n",
       "    </tr>\n",
       "    <tr>\n",
       "      <th>19596</th>\n",
       "      <td>0</td>\n",
       "      <td>0</td>\n",
       "      <td>0</td>\n",
       "      <td>0</td>\n",
       "      <td>1</td>\n",
       "      <td>3</td>\n",
       "    </tr>\n",
       "    <tr>\n",
       "      <th>19597</th>\n",
       "      <td>0</td>\n",
       "      <td>0</td>\n",
       "      <td>0</td>\n",
       "      <td>1</td>\n",
       "      <td>0</td>\n",
       "      <td>0</td>\n",
       "    </tr>\n",
       "    <tr>\n",
       "      <th>19598</th>\n",
       "      <td>0</td>\n",
       "      <td>0</td>\n",
       "      <td>0</td>\n",
       "      <td>0</td>\n",
       "      <td>1</td>\n",
       "      <td>3</td>\n",
       "    </tr>\n",
       "    <tr>\n",
       "      <th>19599</th>\n",
       "      <td>0</td>\n",
       "      <td>0</td>\n",
       "      <td>0</td>\n",
       "      <td>1</td>\n",
       "      <td>0</td>\n",
       "      <td>0</td>\n",
       "    </tr>\n",
       "    <tr>\n",
       "      <th>19600</th>\n",
       "      <td>0</td>\n",
       "      <td>0</td>\n",
       "      <td>0</td>\n",
       "      <td>1</td>\n",
       "      <td>0</td>\n",
       "      <td>0</td>\n",
       "    </tr>\n",
       "  </tbody>\n",
       "</table>\n",
       "<p>19601 rows × 6 columns</p>\n",
       "</div>"
      ],
      "text/plain": [
       "       CD  HYP  MI  NORM  STTC  final_output\n",
       "0       0    0   0     1     0             0\n",
       "1       0    0   0     1     0             0\n",
       "2       0    0   0     1     0             0\n",
       "3       0    0   0     1     0             0\n",
       "4       0    0   0     1     0             0\n",
       "...    ..  ...  ..   ...   ...           ...\n",
       "19596   0    0   0     0     1             3\n",
       "19597   0    0   0     1     0             0\n",
       "19598   0    0   0     0     1             3\n",
       "19599   0    0   0     1     0             0\n",
       "19600   0    0   0     1     0             0\n",
       "\n",
       "[19601 rows x 6 columns]"
      ]
     },
     "execution_count": 26,
     "metadata": {},
     "output_type": "execute_result"
    }
   ],
   "source": [
    "y_train_encoded"
   ]
  },
  {
   "cell_type": "code",
   "execution_count": 27,
   "metadata": {
    "execution": {
     "iopub.execute_input": "2024-11-05T16:59:41.735654Z",
     "iopub.status.busy": "2024-11-05T16:59:41.735304Z",
     "iopub.status.idle": "2024-11-05T16:59:41.744851Z",
     "shell.execute_reply": "2024-11-05T16:59:41.743977Z",
     "shell.execute_reply.started": "2024-11-05T16:59:41.735621Z"
    },
    "trusted": true
   },
   "outputs": [
    {
     "data": {
      "text/plain": [
       "final_output\n",
       "0     8157\n",
       "1     2276\n",
       "3     2158\n",
       "5     1524\n",
       "8     1164\n",
       "21     708\n",
       "6      538\n",
       "4      479\n",
       "9      433\n",
       "2      371\n",
       "13     362\n",
       "11     320\n",
       "7      273\n",
       "12     202\n",
       "15     186\n",
       "10     166\n",
       "14     140\n",
       "17     112\n",
       "16      24\n",
       "18       5\n",
       "19       2\n",
       "20       1\n",
       "Name: count, dtype: int64"
      ]
     },
     "execution_count": 27,
     "metadata": {},
     "output_type": "execute_result"
    }
   ],
   "source": [
    "y_train_encoded['final_output'].value_counts()"
   ]
  },
  {
   "cell_type": "code",
   "execution_count": 28,
   "metadata": {
    "execution": {
     "iopub.execute_input": "2024-11-05T16:59:41.751190Z",
     "iopub.status.busy": "2024-11-05T16:59:41.750507Z",
     "iopub.status.idle": "2024-11-05T16:59:41.754801Z",
     "shell.execute_reply": "2024-11-05T16:59:41.753903Z",
     "shell.execute_reply.started": "2024-11-05T16:59:41.751163Z"
    },
    "trusted": true
   },
   "outputs": [],
   "source": [
    "from sklearn.preprocessing import StandardScaler\n",
    "scaler=StandardScaler()"
   ]
  },
  {
   "cell_type": "code",
   "execution_count": 29,
   "metadata": {
    "execution": {
     "iopub.execute_input": "2024-11-05T16:59:41.756151Z",
     "iopub.status.busy": "2024-11-05T16:59:41.755839Z",
     "iopub.status.idle": "2024-11-05T16:59:41.761847Z",
     "shell.execute_reply": "2024-11-05T16:59:41.761032Z",
     "shell.execute_reply.started": "2024-11-05T16:59:41.756127Z"
    },
    "trusted": true
   },
   "outputs": [],
   "source": [
    "x_train_normalization=X_train.reshape(-1,1000*12)"
   ]
  },
  {
   "cell_type": "code",
   "execution_count": 30,
   "metadata": {
    "execution": {
     "iopub.execute_input": "2024-11-05T16:59:41.763217Z",
     "iopub.status.busy": "2024-11-05T16:59:41.762890Z",
     "iopub.status.idle": "2024-11-05T16:59:44.759711Z",
     "shell.execute_reply": "2024-11-05T16:59:44.758753Z",
     "shell.execute_reply.started": "2024-11-05T16:59:41.763184Z"
    },
    "trusted": true
   },
   "outputs": [],
   "source": [
    "x_train=scaler.fit_transform(x_train_normalization)\n",
    "x_train_normalized=x_train.reshape(19601,1000,12)"
   ]
  },
  {
   "cell_type": "code",
   "execution_count": 31,
   "metadata": {
    "execution": {
     "iopub.execute_input": "2024-11-05T16:59:44.761527Z",
     "iopub.status.busy": "2024-11-05T16:59:44.761228Z",
     "iopub.status.idle": "2024-11-05T16:59:44.768737Z",
     "shell.execute_reply": "2024-11-05T16:59:44.767895Z",
     "shell.execute_reply.started": "2024-11-05T16:59:44.761501Z"
    },
    "trusted": true
   },
   "outputs": [
    {
     "data": {
      "text/plain": [
       "NORM\n",
       "0    11050\n",
       "1     8551\n",
       "Name: count, dtype: int64"
      ]
     },
     "execution_count": 31,
     "metadata": {},
     "output_type": "execute_result"
    }
   ],
   "source": [
    "class_distribution_norm=y_train_encoded['NORM'].value_counts()\n",
    "class_distribution_norm"
   ]
  },
  {
   "cell_type": "code",
   "execution_count": 32,
   "metadata": {
    "execution": {
     "iopub.execute_input": "2024-11-05T16:59:44.770214Z",
     "iopub.status.busy": "2024-11-05T16:59:44.769922Z",
     "iopub.status.idle": "2024-11-05T16:59:44.779757Z",
     "shell.execute_reply": "2024-11-05T16:59:44.778973Z",
     "shell.execute_reply.started": "2024-11-05T16:59:44.770190Z"
    },
    "trusted": true
   },
   "outputs": [
    {
     "data": {
      "text/plain": [
       "CD\n",
       "0    15199\n",
       "1     4402\n",
       "Name: count, dtype: int64"
      ]
     },
     "execution_count": 32,
     "metadata": {},
     "output_type": "execute_result"
    }
   ],
   "source": [
    "class_distribution_cd=y_train_encoded['CD'].value_counts()\n",
    "class_distribution_cd"
   ]
  },
  {
   "cell_type": "code",
   "execution_count": 33,
   "metadata": {
    "execution": {
     "iopub.execute_input": "2024-11-05T16:59:44.781146Z",
     "iopub.status.busy": "2024-11-05T16:59:44.780838Z",
     "iopub.status.idle": "2024-11-05T16:59:44.789974Z",
     "shell.execute_reply": "2024-11-05T16:59:44.789122Z",
     "shell.execute_reply.started": "2024-11-05T16:59:44.781122Z"
    },
    "trusted": true
   },
   "outputs": [
    {
     "data": {
      "text/plain": [
       "HYP\n",
       "0    17214\n",
       "1     2387\n",
       "Name: count, dtype: int64"
      ]
     },
     "execution_count": 33,
     "metadata": {},
     "output_type": "execute_result"
    }
   ],
   "source": [
    "class_distribution_hyp=y_train_encoded['HYP'].value_counts()\n",
    "class_distribution_hyp"
   ]
  },
  {
   "cell_type": "code",
   "execution_count": 34,
   "metadata": {
    "execution": {
     "iopub.execute_input": "2024-11-05T16:59:44.791389Z",
     "iopub.status.busy": "2024-11-05T16:59:44.791102Z",
     "iopub.status.idle": "2024-11-05T16:59:44.799500Z",
     "shell.execute_reply": "2024-11-05T16:59:44.798646Z",
     "shell.execute_reply.started": "2024-11-05T16:59:44.791365Z"
    },
    "trusted": true
   },
   "outputs": [
    {
     "data": {
      "text/plain": [
       "MI\n",
       "0    14682\n",
       "1     4919\n",
       "Name: count, dtype: int64"
      ]
     },
     "execution_count": 34,
     "metadata": {},
     "output_type": "execute_result"
    }
   ],
   "source": [
    "class_distribution_mi=y_train_encoded['MI'].value_counts()\n",
    "class_distribution_mi"
   ]
  },
  {
   "cell_type": "code",
   "execution_count": 35,
   "metadata": {
    "execution": {
     "iopub.execute_input": "2024-11-05T16:59:44.800924Z",
     "iopub.status.busy": "2024-11-05T16:59:44.800619Z",
     "iopub.status.idle": "2024-11-05T16:59:44.809313Z",
     "shell.execute_reply": "2024-11-05T16:59:44.808430Z",
     "shell.execute_reply.started": "2024-11-05T16:59:44.800891Z"
    },
    "trusted": true
   },
   "outputs": [
    {
     "data": {
      "text/plain": [
       "STTC\n",
       "0    14887\n",
       "1     4714\n",
       "Name: count, dtype: int64"
      ]
     },
     "execution_count": 35,
     "metadata": {},
     "output_type": "execute_result"
    }
   ],
   "source": [
    "class_distribution_sttc=y_train_encoded['STTC'].value_counts()\n",
    "class_distribution_sttc"
   ]
  },
  {
   "cell_type": "code",
   "execution_count": 36,
   "metadata": {
    "execution": {
     "iopub.execute_input": "2024-11-05T16:59:44.811219Z",
     "iopub.status.busy": "2024-11-05T16:59:44.810366Z",
     "iopub.status.idle": "2024-11-05T16:59:45.264584Z",
     "shell.execute_reply": "2024-11-05T16:59:45.263799Z",
     "shell.execute_reply.started": "2024-11-05T16:59:44.811188Z"
    },
    "trusted": true
   },
   "outputs": [],
   "source": [
    "indices_0 = np.where(y_train_encoded['NORM'] == 0)[0] \n",
    "indices_1 = np.where(y_train_encoded['NORM'] == 1)[0]\n",
    "selected_indices_0=np.random.choice(indices_0, 4000, replace=False)\n",
    "selected_indices_1=np.random.choice(indices_1, 4000, replace=False)\n",
    "x_train_norm0=X_train[selected_indices_0]\n",
    "x_train_norm1=X_train[selected_indices_1]\n",
    "y_train_norm0=y_train_encoded.iloc[selected_indices_0,3]\n",
    "y_train_norm1=y_train_encoded.iloc[selected_indices_1,3]\n",
    "x_train= np.concatenate([x_train_norm0, x_train_norm1], axis=0)\n",
    "y_train=np.concatenate([y_train_norm0, y_train_norm1], axis=0)"
   ]
  },
  {
   "cell_type": "code",
   "execution_count": 37,
   "metadata": {
    "execution": {
     "iopub.execute_input": "2024-11-05T16:59:45.265933Z",
     "iopub.status.busy": "2024-11-05T16:59:45.265658Z",
     "iopub.status.idle": "2024-11-05T16:59:45.271663Z",
     "shell.execute_reply": "2024-11-05T16:59:45.270748Z",
     "shell.execute_reply.started": "2024-11-05T16:59:45.265909Z"
    },
    "trusted": true
   },
   "outputs": [
    {
     "data": {
      "text/plain": [
       "(8000,)"
      ]
     },
     "execution_count": 37,
     "metadata": {},
     "output_type": "execute_result"
    }
   ],
   "source": [
    "y_train.shape"
   ]
  },
  {
   "cell_type": "code",
   "execution_count": 38,
   "metadata": {
    "execution": {
     "iopub.execute_input": "2024-11-05T16:59:45.273145Z",
     "iopub.status.busy": "2024-11-05T16:59:45.272800Z",
     "iopub.status.idle": "2024-11-05T16:59:45.280190Z",
     "shell.execute_reply": "2024-11-05T16:59:45.279270Z",
     "shell.execute_reply.started": "2024-11-05T16:59:45.273121Z"
    },
    "trusted": true
   },
   "outputs": [
    {
     "data": {
      "text/plain": [
       "(8000, 1000, 12)"
      ]
     },
     "execution_count": 38,
     "metadata": {},
     "output_type": "execute_result"
    }
   ],
   "source": [
    "x_train.shape"
   ]
  },
  {
   "cell_type": "code",
   "execution_count": null,
   "metadata": {
    "execution": {
     "iopub.execute_input": "2024-11-05T18:54:30.061533Z",
     "iopub.status.busy": "2024-11-05T18:54:30.061171Z",
     "iopub.status.idle": "2024-11-05T18:56:21.401176Z",
     "shell.execute_reply": "2024-11-05T18:56:21.400322Z",
     "shell.execute_reply.started": "2024-11-05T18:54:30.061505Z"
    },
    "trusted": true
   },
   "outputs": [
    {
     "name": "stdout",
     "output_type": "stream",
     "text": [
      "Epoch 1/100\n",
      "\u001b[1m80/80\u001b[0m \u001b[32m━━━━━━━━━━━━━━━━━━━━\u001b[0m\u001b[37m\u001b[0m \u001b[1m15s\u001b[0m 48ms/step - accuracy: 0.7283 - loss: 0.8872 - val_accuracy: 0.7391 - val_loss: 0.9185\n",
      "Epoch 2/100\n",
      "\u001b[1m80/80\u001b[0m \u001b[32m━━━━━━━━━━━━━━━━━━━━\u001b[0m\u001b[37m\u001b[0m \u001b[1m3s\u001b[0m 38ms/step - accuracy: 0.8037 - loss: 0.6312 - val_accuracy: 0.7391 - val_loss: 0.7771\n",
      "Epoch 3/100\n",
      "\u001b[1m80/80\u001b[0m \u001b[32m━━━━━━━━━━━━━━━━━━━━\u001b[0m\u001b[37m\u001b[0m \u001b[1m3s\u001b[0m 38ms/step - accuracy: 0.8374 - loss: 0.5065 - val_accuracy: 0.7437 - val_loss: 0.6483\n",
      "Epoch 4/100\n",
      "\u001b[1m80/80\u001b[0m \u001b[32m━━━━━━━━━━━━━━━━━━━━\u001b[0m\u001b[37m\u001b[0m \u001b[1m3s\u001b[0m 38ms/step - accuracy: 0.8603 - loss: 0.4679 - val_accuracy: 0.7781 - val_loss: 0.5235\n",
      "Epoch 5/100\n",
      "\u001b[1m80/80\u001b[0m \u001b[32m━━━━━━━━━━━━━━━━━━━━\u001b[0m\u001b[37m\u001b[0m \u001b[1m3s\u001b[0m 38ms/step - accuracy: 0.8626 - loss: 0.4295 - val_accuracy: 0.8219 - val_loss: 0.4864\n",
      "Epoch 6/100\n",
      "\u001b[1m80/80\u001b[0m \u001b[32m━━━━━━━━━━━━━━━━━━━━\u001b[0m\u001b[37m\u001b[0m \u001b[1m3s\u001b[0m 38ms/step - accuracy: 0.8588 - loss: 0.4161 - val_accuracy: 0.6797 - val_loss: 0.6446\n",
      "Epoch 7/100\n",
      "\u001b[1m80/80\u001b[0m \u001b[32m━━━━━━━━━━━━━━━━━━━━\u001b[0m\u001b[37m\u001b[0m \u001b[1m3s\u001b[0m 38ms/step - accuracy: 0.8667 - loss: 0.3812 - val_accuracy: 0.8578 - val_loss: 0.3771\n",
      "Epoch 8/100\n",
      "\u001b[1m80/80\u001b[0m \u001b[32m━━━━━━━━━━━━━━━━━━━━\u001b[0m\u001b[37m\u001b[0m \u001b[1m3s\u001b[0m 37ms/step - accuracy: 0.8831 - loss: 0.3503 - val_accuracy: 0.7625 - val_loss: 0.5581\n",
      "Epoch 9/100\n",
      "\u001b[1m80/80\u001b[0m \u001b[32m━━━━━━━━━━━━━━━━━━━━\u001b[0m\u001b[37m\u001b[0m \u001b[1m3s\u001b[0m 38ms/step - accuracy: 0.8723 - loss: 0.3569 - val_accuracy: 0.8188 - val_loss: 0.4720\n",
      "Epoch 10/100\n",
      "\u001b[1m80/80\u001b[0m \u001b[32m━━━━━━━━━━━━━━━━━━━━\u001b[0m\u001b[37m\u001b[0m \u001b[1m3s\u001b[0m 37ms/step - accuracy: 0.8854 - loss: 0.3123 - val_accuracy: 0.8813 - val_loss: 0.3598\n",
      "Epoch 11/100\n",
      "\u001b[1m80/80\u001b[0m \u001b[32m━━━━━━━━━━━━━━━━━━━━\u001b[0m\u001b[37m\u001b[0m \u001b[1m3s\u001b[0m 38ms/step - accuracy: 0.8612 - loss: 0.3441 - val_accuracy: 0.8625 - val_loss: 0.3189\n",
      "Epoch 12/100\n",
      "\u001b[1m80/80\u001b[0m \u001b[32m━━━━━━━━━━━━━━━━━━━━\u001b[0m\u001b[37m\u001b[0m \u001b[1m3s\u001b[0m 37ms/step - accuracy: 0.8838 - loss: 0.3047 - val_accuracy: 0.8609 - val_loss: 0.3418\n",
      "Epoch 13/100\n",
      "\u001b[1m80/80\u001b[0m \u001b[32m━━━━━━━━━━━━━━━━━━━━\u001b[0m\u001b[37m\u001b[0m \u001b[1m3s\u001b[0m 37ms/step - accuracy: 0.8835 - loss: 0.3005 - val_accuracy: 0.8703 - val_loss: 0.3411\n",
      "Epoch 14/100\n",
      "\u001b[1m80/80\u001b[0m \u001b[32m━━━━━━━━━━━━━━━━━━━━\u001b[0m\u001b[37m\u001b[0m \u001b[1m3s\u001b[0m 37ms/step - accuracy: 0.8820 - loss: 0.3092 - val_accuracy: 0.8281 - val_loss: 0.3846\n",
      "Epoch 15/100\n",
      "\u001b[1m80/80\u001b[0m \u001b[32m━━━━━━━━━━━━━━━━━━━━\u001b[0m\u001b[37m\u001b[0m \u001b[1m3s\u001b[0m 37ms/step - accuracy: 0.8787 - loss: 0.2915 - val_accuracy: 0.8547 - val_loss: 0.3580\n",
      "Epoch 16/100\n",
      "\u001b[1m80/80\u001b[0m \u001b[32m━━━━━━━━━━━━━━━━━━━━\u001b[0m\u001b[37m\u001b[0m \u001b[1m3s\u001b[0m 37ms/step - accuracy: 0.8887 - loss: 0.2811 - val_accuracy: 0.8797 - val_loss: 0.3037\n",
      "Epoch 17/100\n",
      "\u001b[1m80/80\u001b[0m \u001b[32m━━━━━━━━━━━━━━━━━━━━\u001b[0m\u001b[37m\u001b[0m \u001b[1m3s\u001b[0m 37ms/step - accuracy: 0.9050 - loss: 0.2600 - val_accuracy: 0.8281 - val_loss: 0.3570\n",
      "Epoch 18/100\n",
      "\u001b[1m80/80\u001b[0m \u001b[32m━━━━━━━━━━━━━━━━━━━━\u001b[0m\u001b[37m\u001b[0m \u001b[1m3s\u001b[0m 37ms/step - accuracy: 0.8869 - loss: 0.2755 - val_accuracy: 0.8859 - val_loss: 0.3225\n",
      "Epoch 19/100\n",
      "\u001b[1m80/80\u001b[0m \u001b[32m━━━━━━━━━━━━━━━━━━━━\u001b[0m\u001b[37m\u001b[0m \u001b[1m3s\u001b[0m 37ms/step - accuracy: 0.8979 - loss: 0.2519 - val_accuracy: 0.8813 - val_loss: 0.3051\n",
      "Epoch 20/100\n",
      "\u001b[1m80/80\u001b[0m \u001b[32m━━━━━━━━━━━━━━━━━━━━\u001b[0m\u001b[37m\u001b[0m \u001b[1m3s\u001b[0m 37ms/step - accuracy: 0.8968 - loss: 0.2645 - val_accuracy: 0.8438 - val_loss: 0.5082\n",
      "Epoch 21/100\n",
      "\u001b[1m80/80\u001b[0m \u001b[32m━━━━━━━━━━━━━━━━━━━━\u001b[0m\u001b[37m\u001b[0m \u001b[1m3s\u001b[0m 37ms/step - accuracy: 0.8929 - loss: 0.2551 - val_accuracy: 0.8469 - val_loss: 0.3070\n",
      "Epoch 22/100\n",
      "\u001b[1m80/80\u001b[0m \u001b[32m━━━━━━━━━━━━━━━━━━━━\u001b[0m\u001b[37m\u001b[0m \u001b[1m5s\u001b[0m 38ms/step - accuracy: 0.9087 - loss: 0.2398 - val_accuracy: 0.8859 - val_loss: 0.2672\n",
      "Epoch 23/100\n",
      "\u001b[1m80/80\u001b[0m \u001b[32m━━━━━━━━━━━━━━━━━━━━\u001b[0m\u001b[37m\u001b[0m \u001b[1m3s\u001b[0m 37ms/step - accuracy: 0.9002 - loss: 0.2539 - val_accuracy: 0.8844 - val_loss: 0.2833\n",
      "Epoch 24/100\n",
      "\u001b[1m80/80\u001b[0m \u001b[32m━━━━━━━━━━━━━━━━━━━━\u001b[0m\u001b[37m\u001b[0m \u001b[1m3s\u001b[0m 37ms/step - accuracy: 0.9057 - loss: 0.2404 - val_accuracy: 0.8844 - val_loss: 0.3003\n",
      "Epoch 25/100\n",
      "\u001b[1m80/80\u001b[0m \u001b[32m━━━━━━━━━━━━━━━━━━━━\u001b[0m\u001b[37m\u001b[0m \u001b[1m3s\u001b[0m 37ms/step - accuracy: 0.9116 - loss: 0.2274 - val_accuracy: 0.8594 - val_loss: 0.3539\n",
      "Epoch 26/100\n",
      "\u001b[1m80/80\u001b[0m \u001b[32m━━━━━━━━━━━━━━━━━━━━\u001b[0m\u001b[37m\u001b[0m \u001b[1m3s\u001b[0m 37ms/step - accuracy: 0.9101 - loss: 0.2367 - val_accuracy: 0.8297 - val_loss: 0.5557\n",
      "Epoch 27/100\n",
      "\u001b[1m80/80\u001b[0m \u001b[32m━━━━━━━━━━━━━━━━━━━━\u001b[0m\u001b[37m\u001b[0m \u001b[1m3s\u001b[0m 37ms/step - accuracy: 0.9111 - loss: 0.2226 - val_accuracy: 0.8531 - val_loss: 0.3267\n",
      "Epoch 28/100\n",
      "\u001b[1m80/80\u001b[0m \u001b[32m━━━━━━━━━━━━━━━━━━━━\u001b[0m\u001b[37m\u001b[0m \u001b[1m3s\u001b[0m 37ms/step - accuracy: 0.8952 - loss: 0.2459 - val_accuracy: 0.7375 - val_loss: 0.5091\n",
      "Epoch 29/100\n",
      "\u001b[1m80/80\u001b[0m \u001b[32m━━━━━━━━━━━━━━━━━━━━\u001b[0m\u001b[37m\u001b[0m \u001b[1m3s\u001b[0m 37ms/step - accuracy: 0.9144 - loss: 0.2213 - val_accuracy: 0.8703 - val_loss: 0.3458\n",
      "Epoch 30/100\n",
      "\u001b[1m80/80\u001b[0m \u001b[32m━━━━━━━━━━━━━━━━━━━━\u001b[0m\u001b[37m\u001b[0m \u001b[1m3s\u001b[0m 37ms/step - accuracy: 0.9195 - loss: 0.2109 - val_accuracy: 0.9000 - val_loss: 0.2765\n",
      "Epoch 31/100\n",
      "\u001b[1m80/80\u001b[0m \u001b[32m━━━━━━━━━━━━━━━━━━━━\u001b[0m\u001b[37m\u001b[0m \u001b[1m3s\u001b[0m 38ms/step - accuracy: 0.9266 - loss: 0.1872 - val_accuracy: 0.8906 - val_loss: 0.2767\n",
      "Epoch 32/100\n",
      "\u001b[1m80/80\u001b[0m \u001b[32m━━━━━━━━━━━━━━━━━━━━\u001b[0m\u001b[37m\u001b[0m \u001b[1m3s\u001b[0m 38ms/step - accuracy: 0.9239 - loss: 0.2114 - val_accuracy: 0.8578 - val_loss: 0.3326\n"
     ]
    },
    {
     "data": {
      "text/html": [
       "<pre style=\"white-space:pre;overflow-x:auto;line-height:normal;font-family:Menlo,'DejaVu Sans Mono',consolas,'Courier New',monospace\"><span style=\"font-weight: bold\">Model: \"sequential_11\"</span>\n",
       "</pre>\n"
      ],
      "text/plain": [
       "\u001b[1mModel: \"sequential_11\"\u001b[0m\n"
      ]
     },
     "metadata": {},
     "output_type": "display_data"
    },
    {
     "data": {
      "text/html": [
       "<pre style=\"white-space:pre;overflow-x:auto;line-height:normal;font-family:Menlo,'DejaVu Sans Mono',consolas,'Courier New',monospace\">┏━━━━━━━━━━━━━━━━━━━━━━━━━━━━━━━━━┳━━━━━━━━━━━━━━━━━━━━━━━━┳━━━━━━━━━━━━━━━┓\n",
       "┃<span style=\"font-weight: bold\"> Layer (type)                    </span>┃<span style=\"font-weight: bold\"> Output Shape           </span>┃<span style=\"font-weight: bold\">       Param # </span>┃\n",
       "┡━━━━━━━━━━━━━━━━━━━━━━━━━━━━━━━━━╇━━━━━━━━━━━━━━━━━━━━━━━━╇━━━━━━━━━━━━━━━┩\n",
       "│ conv2d_3 (<span style=\"color: #0087ff; text-decoration-color: #0087ff\">Conv2D</span>)               │ (<span style=\"color: #00d7ff; text-decoration-color: #00d7ff\">None</span>, <span style=\"color: #00af00; text-decoration-color: #00af00\">1000</span>, <span style=\"color: #00af00; text-decoration-color: #00af00\">12</span>, <span style=\"color: #00af00; text-decoration-color: #00af00\">64</span>)   │           <span style=\"color: #00af00; text-decoration-color: #00af00\">640</span> │\n",
       "├─────────────────────────────────┼────────────────────────┼───────────────┤\n",
       "│ batch_normalization_38          │ (<span style=\"color: #00d7ff; text-decoration-color: #00d7ff\">None</span>, <span style=\"color: #00af00; text-decoration-color: #00af00\">1000</span>, <span style=\"color: #00af00; text-decoration-color: #00af00\">12</span>, <span style=\"color: #00af00; text-decoration-color: #00af00\">64</span>)   │           <span style=\"color: #00af00; text-decoration-color: #00af00\">256</span> │\n",
       "│ (<span style=\"color: #0087ff; text-decoration-color: #0087ff\">BatchNormalization</span>)            │                        │               │\n",
       "├─────────────────────────────────┼────────────────────────┼───────────────┤\n",
       "│ re_lu_6 (<span style=\"color: #0087ff; text-decoration-color: #0087ff\">ReLU</span>)                  │ (<span style=\"color: #00d7ff; text-decoration-color: #00d7ff\">None</span>, <span style=\"color: #00af00; text-decoration-color: #00af00\">1000</span>, <span style=\"color: #00af00; text-decoration-color: #00af00\">12</span>, <span style=\"color: #00af00; text-decoration-color: #00af00\">64</span>)   │             <span style=\"color: #00af00; text-decoration-color: #00af00\">0</span> │\n",
       "├─────────────────────────────────┼────────────────────────┼───────────────┤\n",
       "│ max_pooling2d_2 (<span style=\"color: #0087ff; text-decoration-color: #0087ff\">MaxPooling2D</span>)  │ (<span style=\"color: #00d7ff; text-decoration-color: #00d7ff\">None</span>, <span style=\"color: #00af00; text-decoration-color: #00af00\">500</span>, <span style=\"color: #00af00; text-decoration-color: #00af00\">6</span>, <span style=\"color: #00af00; text-decoration-color: #00af00\">64</span>)     │             <span style=\"color: #00af00; text-decoration-color: #00af00\">0</span> │\n",
       "├─────────────────────────────────┼────────────────────────┼───────────────┤\n",
       "│ conv2d_4 (<span style=\"color: #0087ff; text-decoration-color: #0087ff\">Conv2D</span>)               │ (<span style=\"color: #00d7ff; text-decoration-color: #00d7ff\">None</span>, <span style=\"color: #00af00; text-decoration-color: #00af00\">500</span>, <span style=\"color: #00af00; text-decoration-color: #00af00\">6</span>, <span style=\"color: #00af00; text-decoration-color: #00af00\">128</span>)    │        <span style=\"color: #00af00; text-decoration-color: #00af00\">73,856</span> │\n",
       "├─────────────────────────────────┼────────────────────────┼───────────────┤\n",
       "│ batch_normalization_39          │ (<span style=\"color: #00d7ff; text-decoration-color: #00d7ff\">None</span>, <span style=\"color: #00af00; text-decoration-color: #00af00\">500</span>, <span style=\"color: #00af00; text-decoration-color: #00af00\">6</span>, <span style=\"color: #00af00; text-decoration-color: #00af00\">128</span>)    │           <span style=\"color: #00af00; text-decoration-color: #00af00\">512</span> │\n",
       "│ (<span style=\"color: #0087ff; text-decoration-color: #0087ff\">BatchNormalization</span>)            │                        │               │\n",
       "├─────────────────────────────────┼────────────────────────┼───────────────┤\n",
       "│ re_lu_7 (<span style=\"color: #0087ff; text-decoration-color: #0087ff\">ReLU</span>)                  │ (<span style=\"color: #00d7ff; text-decoration-color: #00d7ff\">None</span>, <span style=\"color: #00af00; text-decoration-color: #00af00\">500</span>, <span style=\"color: #00af00; text-decoration-color: #00af00\">6</span>, <span style=\"color: #00af00; text-decoration-color: #00af00\">128</span>)    │             <span style=\"color: #00af00; text-decoration-color: #00af00\">0</span> │\n",
       "├─────────────────────────────────┼────────────────────────┼───────────────┤\n",
       "│ max_pooling2d_3 (<span style=\"color: #0087ff; text-decoration-color: #0087ff\">MaxPooling2D</span>)  │ (<span style=\"color: #00d7ff; text-decoration-color: #00d7ff\">None</span>, <span style=\"color: #00af00; text-decoration-color: #00af00\">250</span>, <span style=\"color: #00af00; text-decoration-color: #00af00\">3</span>, <span style=\"color: #00af00; text-decoration-color: #00af00\">128</span>)    │             <span style=\"color: #00af00; text-decoration-color: #00af00\">0</span> │\n",
       "├─────────────────────────────────┼────────────────────────┼───────────────┤\n",
       "│ conv2d_5 (<span style=\"color: #0087ff; text-decoration-color: #0087ff\">Conv2D</span>)               │ (<span style=\"color: #00d7ff; text-decoration-color: #00d7ff\">None</span>, <span style=\"color: #00af00; text-decoration-color: #00af00\">250</span>, <span style=\"color: #00af00; text-decoration-color: #00af00\">3</span>, <span style=\"color: #00af00; text-decoration-color: #00af00\">256</span>)    │       <span style=\"color: #00af00; text-decoration-color: #00af00\">295,168</span> │\n",
       "├─────────────────────────────────┼────────────────────────┼───────────────┤\n",
       "│ batch_normalization_40          │ (<span style=\"color: #00d7ff; text-decoration-color: #00d7ff\">None</span>, <span style=\"color: #00af00; text-decoration-color: #00af00\">250</span>, <span style=\"color: #00af00; text-decoration-color: #00af00\">3</span>, <span style=\"color: #00af00; text-decoration-color: #00af00\">256</span>)    │         <span style=\"color: #00af00; text-decoration-color: #00af00\">1,024</span> │\n",
       "│ (<span style=\"color: #0087ff; text-decoration-color: #0087ff\">BatchNormalization</span>)            │                        │               │\n",
       "├─────────────────────────────────┼────────────────────────┼───────────────┤\n",
       "│ re_lu_8 (<span style=\"color: #0087ff; text-decoration-color: #0087ff\">ReLU</span>)                  │ (<span style=\"color: #00d7ff; text-decoration-color: #00d7ff\">None</span>, <span style=\"color: #00af00; text-decoration-color: #00af00\">250</span>, <span style=\"color: #00af00; text-decoration-color: #00af00\">3</span>, <span style=\"color: #00af00; text-decoration-color: #00af00\">256</span>)    │             <span style=\"color: #00af00; text-decoration-color: #00af00\">0</span> │\n",
       "├─────────────────────────────────┼────────────────────────┼───────────────┤\n",
       "│ max_pooling2d_4 (<span style=\"color: #0087ff; text-decoration-color: #0087ff\">MaxPooling2D</span>)  │ (<span style=\"color: #00d7ff; text-decoration-color: #00d7ff\">None</span>, <span style=\"color: #00af00; text-decoration-color: #00af00\">125</span>, <span style=\"color: #00af00; text-decoration-color: #00af00\">1</span>, <span style=\"color: #00af00; text-decoration-color: #00af00\">256</span>)    │             <span style=\"color: #00af00; text-decoration-color: #00af00\">0</span> │\n",
       "├─────────────────────────────────┼────────────────────────┼───────────────┤\n",
       "│ global_average_pooling2d        │ (<span style=\"color: #00d7ff; text-decoration-color: #00d7ff\">None</span>, <span style=\"color: #00af00; text-decoration-color: #00af00\">256</span>)            │             <span style=\"color: #00af00; text-decoration-color: #00af00\">0</span> │\n",
       "│ (<span style=\"color: #0087ff; text-decoration-color: #0087ff\">GlobalAveragePooling2D</span>)        │                        │               │\n",
       "├─────────────────────────────────┼────────────────────────┼───────────────┤\n",
       "│ dense_24 (<span style=\"color: #0087ff; text-decoration-color: #0087ff\">Dense</span>)                │ (<span style=\"color: #00d7ff; text-decoration-color: #00d7ff\">None</span>, <span style=\"color: #00af00; text-decoration-color: #00af00\">256</span>)            │        <span style=\"color: #00af00; text-decoration-color: #00af00\">65,792</span> │\n",
       "├─────────────────────────────────┼────────────────────────┼───────────────┤\n",
       "│ dropout_33 (<span style=\"color: #0087ff; text-decoration-color: #0087ff\">Dropout</span>)            │ (<span style=\"color: #00d7ff; text-decoration-color: #00d7ff\">None</span>, <span style=\"color: #00af00; text-decoration-color: #00af00\">256</span>)            │             <span style=\"color: #00af00; text-decoration-color: #00af00\">0</span> │\n",
       "├─────────────────────────────────┼────────────────────────┼───────────────┤\n",
       "│ dense_25 (<span style=\"color: #0087ff; text-decoration-color: #0087ff\">Dense</span>)                │ (<span style=\"color: #00d7ff; text-decoration-color: #00d7ff\">None</span>, <span style=\"color: #00af00; text-decoration-color: #00af00\">128</span>)            │        <span style=\"color: #00af00; text-decoration-color: #00af00\">32,896</span> │\n",
       "├─────────────────────────────────┼────────────────────────┼───────────────┤\n",
       "│ dropout_34 (<span style=\"color: #0087ff; text-decoration-color: #0087ff\">Dropout</span>)            │ (<span style=\"color: #00d7ff; text-decoration-color: #00d7ff\">None</span>, <span style=\"color: #00af00; text-decoration-color: #00af00\">128</span>)            │             <span style=\"color: #00af00; text-decoration-color: #00af00\">0</span> │\n",
       "├─────────────────────────────────┼────────────────────────┼───────────────┤\n",
       "│ dense_26 (<span style=\"color: #0087ff; text-decoration-color: #0087ff\">Dense</span>)                │ (<span style=\"color: #00d7ff; text-decoration-color: #00d7ff\">None</span>, <span style=\"color: #00af00; text-decoration-color: #00af00\">1</span>)              │           <span style=\"color: #00af00; text-decoration-color: #00af00\">129</span> │\n",
       "└─────────────────────────────────┴────────────────────────┴───────────────┘\n",
       "</pre>\n"
      ],
      "text/plain": [
       "┏━━━━━━━━━━━━━━━━━━━━━━━━━━━━━━━━━┳━━━━━━━━━━━━━━━━━━━━━━━━┳━━━━━━━━━━━━━━━┓\n",
       "┃\u001b[1m \u001b[0m\u001b[1mLayer (type)                   \u001b[0m\u001b[1m \u001b[0m┃\u001b[1m \u001b[0m\u001b[1mOutput Shape          \u001b[0m\u001b[1m \u001b[0m┃\u001b[1m \u001b[0m\u001b[1m      Param #\u001b[0m\u001b[1m \u001b[0m┃\n",
       "┡━━━━━━━━━━━━━━━━━━━━━━━━━━━━━━━━━╇━━━━━━━━━━━━━━━━━━━━━━━━╇━━━━━━━━━━━━━━━┩\n",
       "│ conv2d_3 (\u001b[38;5;33mConv2D\u001b[0m)               │ (\u001b[38;5;45mNone\u001b[0m, \u001b[38;5;34m1000\u001b[0m, \u001b[38;5;34m12\u001b[0m, \u001b[38;5;34m64\u001b[0m)   │           \u001b[38;5;34m640\u001b[0m │\n",
       "├─────────────────────────────────┼────────────────────────┼───────────────┤\n",
       "│ batch_normalization_38          │ (\u001b[38;5;45mNone\u001b[0m, \u001b[38;5;34m1000\u001b[0m, \u001b[38;5;34m12\u001b[0m, \u001b[38;5;34m64\u001b[0m)   │           \u001b[38;5;34m256\u001b[0m │\n",
       "│ (\u001b[38;5;33mBatchNormalization\u001b[0m)            │                        │               │\n",
       "├─────────────────────────────────┼────────────────────────┼───────────────┤\n",
       "│ re_lu_6 (\u001b[38;5;33mReLU\u001b[0m)                  │ (\u001b[38;5;45mNone\u001b[0m, \u001b[38;5;34m1000\u001b[0m, \u001b[38;5;34m12\u001b[0m, \u001b[38;5;34m64\u001b[0m)   │             \u001b[38;5;34m0\u001b[0m │\n",
       "├─────────────────────────────────┼────────────────────────┼───────────────┤\n",
       "│ max_pooling2d_2 (\u001b[38;5;33mMaxPooling2D\u001b[0m)  │ (\u001b[38;5;45mNone\u001b[0m, \u001b[38;5;34m500\u001b[0m, \u001b[38;5;34m6\u001b[0m, \u001b[38;5;34m64\u001b[0m)     │             \u001b[38;5;34m0\u001b[0m │\n",
       "├─────────────────────────────────┼────────────────────────┼───────────────┤\n",
       "│ conv2d_4 (\u001b[38;5;33mConv2D\u001b[0m)               │ (\u001b[38;5;45mNone\u001b[0m, \u001b[38;5;34m500\u001b[0m, \u001b[38;5;34m6\u001b[0m, \u001b[38;5;34m128\u001b[0m)    │        \u001b[38;5;34m73,856\u001b[0m │\n",
       "├─────────────────────────────────┼────────────────────────┼───────────────┤\n",
       "│ batch_normalization_39          │ (\u001b[38;5;45mNone\u001b[0m, \u001b[38;5;34m500\u001b[0m, \u001b[38;5;34m6\u001b[0m, \u001b[38;5;34m128\u001b[0m)    │           \u001b[38;5;34m512\u001b[0m │\n",
       "│ (\u001b[38;5;33mBatchNormalization\u001b[0m)            │                        │               │\n",
       "├─────────────────────────────────┼────────────────────────┼───────────────┤\n",
       "│ re_lu_7 (\u001b[38;5;33mReLU\u001b[0m)                  │ (\u001b[38;5;45mNone\u001b[0m, \u001b[38;5;34m500\u001b[0m, \u001b[38;5;34m6\u001b[0m, \u001b[38;5;34m128\u001b[0m)    │             \u001b[38;5;34m0\u001b[0m │\n",
       "├─────────────────────────────────┼────────────────────────┼───────────────┤\n",
       "│ max_pooling2d_3 (\u001b[38;5;33mMaxPooling2D\u001b[0m)  │ (\u001b[38;5;45mNone\u001b[0m, \u001b[38;5;34m250\u001b[0m, \u001b[38;5;34m3\u001b[0m, \u001b[38;5;34m128\u001b[0m)    │             \u001b[38;5;34m0\u001b[0m │\n",
       "├─────────────────────────────────┼────────────────────────┼───────────────┤\n",
       "│ conv2d_5 (\u001b[38;5;33mConv2D\u001b[0m)               │ (\u001b[38;5;45mNone\u001b[0m, \u001b[38;5;34m250\u001b[0m, \u001b[38;5;34m3\u001b[0m, \u001b[38;5;34m256\u001b[0m)    │       \u001b[38;5;34m295,168\u001b[0m │\n",
       "├─────────────────────────────────┼────────────────────────┼───────────────┤\n",
       "│ batch_normalization_40          │ (\u001b[38;5;45mNone\u001b[0m, \u001b[38;5;34m250\u001b[0m, \u001b[38;5;34m3\u001b[0m, \u001b[38;5;34m256\u001b[0m)    │         \u001b[38;5;34m1,024\u001b[0m │\n",
       "│ (\u001b[38;5;33mBatchNormalization\u001b[0m)            │                        │               │\n",
       "├─────────────────────────────────┼────────────────────────┼───────────────┤\n",
       "│ re_lu_8 (\u001b[38;5;33mReLU\u001b[0m)                  │ (\u001b[38;5;45mNone\u001b[0m, \u001b[38;5;34m250\u001b[0m, \u001b[38;5;34m3\u001b[0m, \u001b[38;5;34m256\u001b[0m)    │             \u001b[38;5;34m0\u001b[0m │\n",
       "├─────────────────────────────────┼────────────────────────┼───────────────┤\n",
       "│ max_pooling2d_4 (\u001b[38;5;33mMaxPooling2D\u001b[0m)  │ (\u001b[38;5;45mNone\u001b[0m, \u001b[38;5;34m125\u001b[0m, \u001b[38;5;34m1\u001b[0m, \u001b[38;5;34m256\u001b[0m)    │             \u001b[38;5;34m0\u001b[0m │\n",
       "├─────────────────────────────────┼────────────────────────┼───────────────┤\n",
       "│ global_average_pooling2d        │ (\u001b[38;5;45mNone\u001b[0m, \u001b[38;5;34m256\u001b[0m)            │             \u001b[38;5;34m0\u001b[0m │\n",
       "│ (\u001b[38;5;33mGlobalAveragePooling2D\u001b[0m)        │                        │               │\n",
       "├─────────────────────────────────┼────────────────────────┼───────────────┤\n",
       "│ dense_24 (\u001b[38;5;33mDense\u001b[0m)                │ (\u001b[38;5;45mNone\u001b[0m, \u001b[38;5;34m256\u001b[0m)            │        \u001b[38;5;34m65,792\u001b[0m │\n",
       "├─────────────────────────────────┼────────────────────────┼───────────────┤\n",
       "│ dropout_33 (\u001b[38;5;33mDropout\u001b[0m)            │ (\u001b[38;5;45mNone\u001b[0m, \u001b[38;5;34m256\u001b[0m)            │             \u001b[38;5;34m0\u001b[0m │\n",
       "├─────────────────────────────────┼────────────────────────┼───────────────┤\n",
       "│ dense_25 (\u001b[38;5;33mDense\u001b[0m)                │ (\u001b[38;5;45mNone\u001b[0m, \u001b[38;5;34m128\u001b[0m)            │        \u001b[38;5;34m32,896\u001b[0m │\n",
       "├─────────────────────────────────┼────────────────────────┼───────────────┤\n",
       "│ dropout_34 (\u001b[38;5;33mDropout\u001b[0m)            │ (\u001b[38;5;45mNone\u001b[0m, \u001b[38;5;34m128\u001b[0m)            │             \u001b[38;5;34m0\u001b[0m │\n",
       "├─────────────────────────────────┼────────────────────────┼───────────────┤\n",
       "│ dense_26 (\u001b[38;5;33mDense\u001b[0m)                │ (\u001b[38;5;45mNone\u001b[0m, \u001b[38;5;34m1\u001b[0m)              │           \u001b[38;5;34m129\u001b[0m │\n",
       "└─────────────────────────────────┴────────────────────────┴───────────────┘\n"
      ]
     },
     "metadata": {},
     "output_type": "display_data"
    },
    {
     "data": {
      "text/html": [
       "<pre style=\"white-space:pre;overflow-x:auto;line-height:normal;font-family:Menlo,'DejaVu Sans Mono',consolas,'Courier New',monospace\"><span style=\"font-weight: bold\"> Total params: </span><span style=\"color: #00af00; text-decoration-color: #00af00\">1,409,029</span> (5.38 MB)\n",
       "</pre>\n"
      ],
      "text/plain": [
       "\u001b[1m Total params: \u001b[0m\u001b[38;5;34m1,409,029\u001b[0m (5.38 MB)\n"
      ]
     },
     "metadata": {},
     "output_type": "display_data"
    },
    {
     "data": {
      "text/html": [
       "<pre style=\"white-space:pre;overflow-x:auto;line-height:normal;font-family:Menlo,'DejaVu Sans Mono',consolas,'Courier New',monospace\"><span style=\"font-weight: bold\"> Trainable params: </span><span style=\"color: #00af00; text-decoration-color: #00af00\">469,377</span> (1.79 MB)\n",
       "</pre>\n"
      ],
      "text/plain": [
       "\u001b[1m Trainable params: \u001b[0m\u001b[38;5;34m469,377\u001b[0m (1.79 MB)\n"
      ]
     },
     "metadata": {},
     "output_type": "display_data"
    },
    {
     "data": {
      "text/html": [
       "<pre style=\"white-space:pre;overflow-x:auto;line-height:normal;font-family:Menlo,'DejaVu Sans Mono',consolas,'Courier New',monospace\"><span style=\"font-weight: bold\"> Non-trainable params: </span><span style=\"color: #00af00; text-decoration-color: #00af00\">896</span> (3.50 KB)\n",
       "</pre>\n"
      ],
      "text/plain": [
       "\u001b[1m Non-trainable params: \u001b[0m\u001b[38;5;34m896\u001b[0m (3.50 KB)\n"
      ]
     },
     "metadata": {},
     "output_type": "display_data"
    },
    {
     "data": {
      "text/html": [
       "<pre style=\"white-space:pre;overflow-x:auto;line-height:normal;font-family:Menlo,'DejaVu Sans Mono',consolas,'Courier New',monospace\"><span style=\"font-weight: bold\"> Optimizer params: </span><span style=\"color: #00af00; text-decoration-color: #00af00\">938,756</span> (3.58 MB)\n",
       "</pre>\n"
      ],
      "text/plain": [
       "\u001b[1m Optimizer params: \u001b[0m\u001b[38;5;34m938,756\u001b[0m (3.58 MB)\n"
      ]
     },
     "metadata": {},
     "output_type": "display_data"
    }
   ],
   "source": [
    "import tensorflow as tf\n",
    "from tensorflow.keras import layers, models, regularizers\n",
    "from tensorflow.keras.callbacks import EarlyStopping\n",
    "\n",
    "def create_ecg_2d_cnn_model(input_shape):\n",
    "    model = models.Sequential()\n",
    "    \n",
    "    model.add(layers.Conv2D(filters=64, kernel_size=(3, 3), activation=None, padding='same', input_shape=input_shape))\n",
    "    model.add(layers.BatchNormalization())\n",
    "    model.add(layers.ReLU())\n",
    "    model.add(layers.MaxPooling2D(pool_size=(2, 2)))\n",
    "\n",
    "    model.add(layers.Conv2D(filters=128, kernel_size=(3, 3), activation=None, padding='same'))\n",
    "    model.add(layers.BatchNormalization())\n",
    "    model.add(layers.ReLU())\n",
    "    model.add(layers.MaxPooling2D(pool_size=(2, 2)))\n",
    "\n",
    "    model.add(layers.Conv2D(filters=256, kernel_size=(3, 3), activation=None, padding='same'))\n",
    "    model.add(layers.BatchNormalization())\n",
    "    model.add(layers.ReLU())\n",
    "    model.add(layers.MaxPooling2D(pool_size=(2, 2)))\n",
    "\n",
    "    model.add(layers.GlobalAveragePooling2D())\n",
    "\n",
    "    model.add(layers.Dense(256, activation='relu', kernel_regularizer=regularizers.l2(0.001)))\n",
    "    model.add(layers.Dropout(0.5))\n",
    "\n",
    "    model.add(layers.Dense(128, activation='relu', kernel_regularizer=regularizers.l2(0.001)))\n",
    "    model.add(layers.Dropout(0.5))\n",
    "\n",
    "    model.add(layers.Dense(1, activation='sigmoid'))  \n",
    "    model.compile(optimizer='adam', loss='binary_crossentropy', metrics=['accuracy'])\n",
    "    \n",
    "    return model\n",
    "\n",
    "input_shape = (1000, 12, 1)  \n",
    "x_train_reshaped = x_train.reshape((x_train.shape[0], 1000, 12, 1))  \n",
    "\n",
    "model = create_ecg_2d_cnn_model(input_shape)\n",
    "\n",
    "early_stopping = EarlyStopping(monitor='val_loss', patience=10, restore_best_weights=True)\n",
    "\n",
    "model.fit(x_train_reshaped, y_train, epochs=100, batch_size=32, validation_split=0.2, callbacks=[early_stopping])\n",
    "\n",
    "model.summary()\n"
   ]
  },
  {
   "cell_type": "code",
   "execution_count": null,
   "metadata": {},
   "outputs": [],
   "source": []
  },
  {
   "cell_type": "code",
   "execution_count": 69,
   "metadata": {
    "execution": {
     "iopub.execute_input": "2024-11-05T19:01:08.789387Z",
     "iopub.status.busy": "2024-11-05T19:01:08.789129Z",
     "iopub.status.idle": "2024-11-05T19:02:24.905139Z",
     "shell.execute_reply": "2024-11-05T19:02:24.904150Z",
     "shell.execute_reply.started": "2024-11-05T19:01:08.789364Z"
    },
    "trusted": true
   },
   "outputs": [
    {
     "name": "stdout",
     "output_type": "stream",
     "text": [
      "Epoch 1/100\n",
      "\u001b[1m200/200\u001b[0m \u001b[32m━━━━━━━━━━━━━━━━━━━━\u001b[0m\u001b[37m\u001b[0m \u001b[1m8s\u001b[0m 38ms/step - accuracy: 0.8818 - loss: 0.2937 - val_accuracy: 0.8500 - val_loss: 0.3227\n",
      "Epoch 2/100\n",
      "\u001b[1m200/200\u001b[0m \u001b[32m━━━━━━━━━━━━━━━━━━━━\u001b[0m\u001b[37m\u001b[0m \u001b[1m7s\u001b[0m 37ms/step - accuracy: 0.8857 - loss: 0.2936 - val_accuracy: 0.8825 - val_loss: 0.2866\n",
      "Epoch 3/100\n",
      "\u001b[1m200/200\u001b[0m \u001b[32m━━━━━━━━━━━━━━━━━━━━\u001b[0m\u001b[37m\u001b[0m \u001b[1m7s\u001b[0m 37ms/step - accuracy: 0.8919 - loss: 0.2827 - val_accuracy: 0.9025 - val_loss: 0.2364\n",
      "Epoch 4/100\n",
      "\u001b[1m200/200\u001b[0m \u001b[32m━━━━━━━━━━━━━━━━━━━━\u001b[0m\u001b[37m\u001b[0m \u001b[1m7s\u001b[0m 37ms/step - accuracy: 0.8848 - loss: 0.2933 - val_accuracy: 0.8044 - val_loss: 0.4594\n",
      "Epoch 5/100\n",
      "\u001b[1m200/200\u001b[0m \u001b[32m━━━━━━━━━━━━━━━━━━━━\u001b[0m\u001b[37m\u001b[0m \u001b[1m7s\u001b[0m 37ms/step - accuracy: 0.8806 - loss: 0.2871 - val_accuracy: 0.8363 - val_loss: 0.3791\n",
      "Epoch 6/100\n",
      "\u001b[1m200/200\u001b[0m \u001b[32m━━━━━━━━━━━━━━━━━━━━\u001b[0m\u001b[37m\u001b[0m \u001b[1m7s\u001b[0m 37ms/step - accuracy: 0.8882 - loss: 0.2743 - val_accuracy: 0.9112 - val_loss: 0.2208\n",
      "Epoch 7/100\n",
      "\u001b[1m200/200\u001b[0m \u001b[32m━━━━━━━━━━━━━━━━━━━━\u001b[0m\u001b[37m\u001b[0m \u001b[1m7s\u001b[0m 37ms/step - accuracy: 0.8924 - loss: 0.2682 - val_accuracy: 0.8650 - val_loss: 0.3133\n",
      "Epoch 8/100\n",
      "\u001b[1m200/200\u001b[0m \u001b[32m━━━━━━━━━━━━━━━━━━━━\u001b[0m\u001b[37m\u001b[0m \u001b[1m7s\u001b[0m 37ms/step - accuracy: 0.8965 - loss: 0.2600 - val_accuracy: 0.9131 - val_loss: 0.2132\n",
      "Epoch 9/100\n",
      "\u001b[1m200/200\u001b[0m \u001b[32m━━━━━━━━━━━━━━━━━━━━\u001b[0m\u001b[37m\u001b[0m \u001b[1m7s\u001b[0m 37ms/step - accuracy: 0.9018 - loss: 0.2578 - val_accuracy: 0.8706 - val_loss: 0.2970\n",
      "Epoch 10/100\n",
      "\u001b[1m200/200\u001b[0m \u001b[32m━━━━━━━━━━━━━━━━━━━━\u001b[0m\u001b[37m\u001b[0m \u001b[1m7s\u001b[0m 37ms/step - accuracy: 0.9012 - loss: 0.2598 - val_accuracy: 0.8844 - val_loss: 0.2706\n"
     ]
    },
    {
     "data": {
      "text/plain": [
       "<keras.src.callbacks.history.History at 0x797d721f1600>"
      ]
     },
     "execution_count": 69,
     "metadata": {},
     "output_type": "execute_result"
    }
   ],
   "source": [
    "indices_0 = np.where(y_train_encoded['CD'] == 0)[0] \n",
    "indices_1 = np.where(y_train_encoded['CD'] == 1)[0]\n",
    "selected_indices_0=np.random.choice(indices_0, 4000, replace=False)\n",
    "selected_indices_1=np.random.choice(indices_1, 4000, replace=False)\n",
    "x_train_norm0=X_train[selected_indices_0]\n",
    "x_train_norm1=X_train[selected_indices_1]\n",
    "y_train_norm0=y_train_encoded.iloc[selected_indices_0,3]\n",
    "y_train_norm1=y_train_encoded.iloc[selected_indices_1,3]\n",
    "x_train= np.concatenate([x_train_norm0, x_train_norm1], axis=0)\n",
    "y_train=np.concatenate([y_train_norm0, y_train_norm1], axis=0)\n",
    "x_train_reshaped = x_train.reshape((x_train.shape[0], 1000, 12, 1))  # Reshaping for 2D CNN\n",
    "\n",
    "# Training the model\n",
    "model.fit(x_train_reshaped, y_train, epochs=100, batch_size=32, validation_split=0.2, callbacks=[early_stopping])\n"
   ]
  },
  {
   "cell_type": "code",
   "execution_count": 66,
   "metadata": {
    "execution": {
     "iopub.execute_input": "2024-11-05T18:56:21.402912Z",
     "iopub.status.busy": "2024-11-05T18:56:21.402619Z",
     "iopub.status.idle": "2024-11-05T18:58:44.614392Z",
     "shell.execute_reply": "2024-11-05T18:58:44.613491Z",
     "shell.execute_reply.started": "2024-11-05T18:56:21.402888Z"
    },
    "trusted": true
   },
   "outputs": [
    {
     "name": "stdout",
     "output_type": "stream",
     "text": [
      "Epoch 1/100\n",
      "\u001b[1m200/200\u001b[0m \u001b[32m━━━━━━━━━━━━━━━━━━━━\u001b[0m\u001b[37m\u001b[0m \u001b[1m8s\u001b[0m 38ms/step - accuracy: 0.8542 - loss: 0.3688 - val_accuracy: 0.9750 - val_loss: 0.1143\n",
      "Epoch 2/100\n",
      "\u001b[1m200/200\u001b[0m \u001b[32m━━━━━━━━━━━━━━━━━━━━\u001b[0m\u001b[37m\u001b[0m \u001b[1m7s\u001b[0m 37ms/step - accuracy: 0.8610 - loss: 0.3455 - val_accuracy: 0.9119 - val_loss: 0.2322\n",
      "Epoch 3/100\n",
      "\u001b[1m200/200\u001b[0m \u001b[32m━━━━━━━━━━━━━━━━━━━━\u001b[0m\u001b[37m\u001b[0m \u001b[1m7s\u001b[0m 37ms/step - accuracy: 0.8709 - loss: 0.3272 - val_accuracy: 0.8700 - val_loss: 0.2922\n",
      "Epoch 4/100\n",
      "\u001b[1m200/200\u001b[0m \u001b[32m━━━━━━━━━━━━━━━━━━━━\u001b[0m\u001b[37m\u001b[0m \u001b[1m7s\u001b[0m 37ms/step - accuracy: 0.8742 - loss: 0.3240 - val_accuracy: 0.9456 - val_loss: 0.1542\n",
      "Epoch 5/100\n",
      "\u001b[1m200/200\u001b[0m \u001b[32m━━━━━━━━━━━━━━━━━━━━\u001b[0m\u001b[37m\u001b[0m \u001b[1m7s\u001b[0m 37ms/step - accuracy: 0.8680 - loss: 0.3124 - val_accuracy: 0.6931 - val_loss: 0.6881\n",
      "Epoch 6/100\n",
      "\u001b[1m200/200\u001b[0m \u001b[32m━━━━━━━━━━━━━━━━━━━━\u001b[0m\u001b[37m\u001b[0m \u001b[1m7s\u001b[0m 37ms/step - accuracy: 0.8750 - loss: 0.3049 - val_accuracy: 0.9613 - val_loss: 0.1355\n",
      "Epoch 7/100\n",
      "\u001b[1m200/200\u001b[0m \u001b[32m━━━━━━━━━━━━━━━━━━━━\u001b[0m\u001b[37m\u001b[0m \u001b[1m7s\u001b[0m 37ms/step - accuracy: 0.8814 - loss: 0.3054 - val_accuracy: 0.9294 - val_loss: 0.1886\n",
      "Epoch 8/100\n",
      "\u001b[1m200/200\u001b[0m \u001b[32m━━━━━━━━━━━━━━━━━━━━\u001b[0m\u001b[37m\u001b[0m \u001b[1m7s\u001b[0m 37ms/step - accuracy: 0.8938 - loss: 0.2842 - val_accuracy: 0.8487 - val_loss: 0.3267\n",
      "Epoch 9/100\n",
      "\u001b[1m200/200\u001b[0m \u001b[32m━━━━━━━━━━━━━━━━━━━━\u001b[0m\u001b[37m\u001b[0m \u001b[1m7s\u001b[0m 37ms/step - accuracy: 0.8883 - loss: 0.3003 - val_accuracy: 0.9800 - val_loss: 0.0843\n",
      "Epoch 10/100\n",
      "\u001b[1m200/200\u001b[0m \u001b[32m━━━━━━━━━━━━━━━━━━━━\u001b[0m\u001b[37m\u001b[0m \u001b[1m7s\u001b[0m 37ms/step - accuracy: 0.8935 - loss: 0.2727 - val_accuracy: 0.9231 - val_loss: 0.1965\n",
      "Epoch 11/100\n",
      "\u001b[1m200/200\u001b[0m \u001b[32m━━━━━━━━━━━━━━━━━━━━\u001b[0m\u001b[37m\u001b[0m \u001b[1m7s\u001b[0m 37ms/step - accuracy: 0.8855 - loss: 0.2946 - val_accuracy: 0.9725 - val_loss: 0.1064\n",
      "Epoch 12/100\n",
      "\u001b[1m200/200\u001b[0m \u001b[32m━━━━━━━━━━━━━━━━━━━━\u001b[0m\u001b[37m\u001b[0m \u001b[1m7s\u001b[0m 37ms/step - accuracy: 0.8862 - loss: 0.2914 - val_accuracy: 0.9569 - val_loss: 0.1285\n",
      "Epoch 13/100\n",
      "\u001b[1m200/200\u001b[0m \u001b[32m━━━━━━━━━━━━━━━━━━━━\u001b[0m\u001b[37m\u001b[0m \u001b[1m7s\u001b[0m 37ms/step - accuracy: 0.8916 - loss: 0.2756 - val_accuracy: 0.9331 - val_loss: 0.1757\n",
      "Epoch 14/100\n",
      "\u001b[1m200/200\u001b[0m \u001b[32m━━━━━━━━━━━━━━━━━━━━\u001b[0m\u001b[37m\u001b[0m \u001b[1m7s\u001b[0m 37ms/step - accuracy: 0.8845 - loss: 0.2876 - val_accuracy: 0.9506 - val_loss: 0.1422\n",
      "Epoch 15/100\n",
      "\u001b[1m200/200\u001b[0m \u001b[32m━━━━━━━━━━━━━━━━━━━━\u001b[0m\u001b[37m\u001b[0m \u001b[1m7s\u001b[0m 37ms/step - accuracy: 0.8902 - loss: 0.2793 - val_accuracy: 0.9100 - val_loss: 0.2151\n",
      "Epoch 16/100\n",
      "\u001b[1m200/200\u001b[0m \u001b[32m━━━━━━━━━━━━━━━━━━━━\u001b[0m\u001b[37m\u001b[0m \u001b[1m7s\u001b[0m 37ms/step - accuracy: 0.8975 - loss: 0.2700 - val_accuracy: 0.7094 - val_loss: 0.6498\n",
      "Epoch 17/100\n",
      "\u001b[1m200/200\u001b[0m \u001b[32m━━━━━━━━━━━━━━━━━━━━\u001b[0m\u001b[37m\u001b[0m \u001b[1m7s\u001b[0m 37ms/step - accuracy: 0.9016 - loss: 0.2648 - val_accuracy: 0.9294 - val_loss: 0.1748\n",
      "Epoch 18/100\n",
      "\u001b[1m200/200\u001b[0m \u001b[32m━━━━━━━━━━━━━━━━━━━━\u001b[0m\u001b[37m\u001b[0m \u001b[1m7s\u001b[0m 37ms/step - accuracy: 0.8987 - loss: 0.2600 - val_accuracy: 0.8413 - val_loss: 0.3493\n",
      "Epoch 19/100\n",
      "\u001b[1m200/200\u001b[0m \u001b[32m━━━━━━━━━━━━━━━━━━━━\u001b[0m\u001b[37m\u001b[0m \u001b[1m7s\u001b[0m 37ms/step - accuracy: 0.9031 - loss: 0.2573 - val_accuracy: 0.9538 - val_loss: 0.1437\n"
     ]
    },
    {
     "data": {
      "text/plain": [
       "<keras.src.callbacks.history.History at 0x797d7302b880>"
      ]
     },
     "execution_count": 66,
     "metadata": {},
     "output_type": "execute_result"
    }
   ],
   "source": [
    "indices_0 = np.where(y_train_encoded['STTC'] == 0)[0] \n",
    "indices_1 = np.where(y_train_encoded['STTC'] == 1)[0]\n",
    "selected_indices_0=np.random.choice(indices_0, 4000, replace=False)\n",
    "selected_indices_1=np.random.choice(indices_1, 4000, replace=False)\n",
    "x_train_norm0=X_train[selected_indices_0]\n",
    "x_train_norm1=X_train[selected_indices_1]\n",
    "y_train_norm0=y_train_encoded.iloc[selected_indices_0,3]\n",
    "y_train_norm1=y_train_encoded.iloc[selected_indices_1,3]\n",
    "x_train= np.concatenate([x_train_norm0, x_train_norm1], axis=0)\n",
    "y_train=np.concatenate([y_train_norm0, y_train_norm1], axis=0)\n",
    "x_train_reshaped = x_train.reshape((x_train.shape[0], 1000, 12, 1))  # Reshaping for 2D CNN\n",
    "\n",
    "# Training the model\n",
    "model.fit(x_train_reshaped, y_train, epochs=100, batch_size=32, validation_split=0.2, callbacks=[early_stopping])\n"
   ]
  },
  {
   "cell_type": "code",
   "execution_count": 67,
   "metadata": {
    "execution": {
     "iopub.execute_input": "2024-11-05T18:58:44.616396Z",
     "iopub.status.busy": "2024-11-05T18:58:44.615711Z",
     "iopub.status.idle": "2024-11-05T19:00:30.523479Z",
     "shell.execute_reply": "2024-11-05T19:00:30.522418Z",
     "shell.execute_reply.started": "2024-11-05T18:58:44.616359Z"
    },
    "trusted": true
   },
   "outputs": [
    {
     "name": "stdout",
     "output_type": "stream",
     "text": [
      "Epoch 1/100\n",
      "\u001b[1m200/200\u001b[0m \u001b[32m━━━━━━━━━━━━━━━━━━━━\u001b[0m\u001b[37m\u001b[0m \u001b[1m8s\u001b[0m 38ms/step - accuracy: 0.8581 - loss: 0.3245 - val_accuracy: 0.9194 - val_loss: 0.1845\n",
      "Epoch 2/100\n",
      "\u001b[1m200/200\u001b[0m \u001b[32m━━━━━━━━━━━━━━━━━━━━\u001b[0m\u001b[37m\u001b[0m \u001b[1m7s\u001b[0m 37ms/step - accuracy: 0.8759 - loss: 0.2969 - val_accuracy: 0.9344 - val_loss: 0.1586\n",
      "Epoch 3/100\n",
      "\u001b[1m200/200\u001b[0m \u001b[32m━━━━━━━━━━━━━━━━━━━━\u001b[0m\u001b[37m\u001b[0m \u001b[1m7s\u001b[0m 37ms/step - accuracy: 0.8755 - loss: 0.3005 - val_accuracy: 0.9519 - val_loss: 0.1374\n",
      "Epoch 4/100\n",
      "\u001b[1m200/200\u001b[0m \u001b[32m━━━━━━━━━━━━━━━━━━━━\u001b[0m\u001b[37m\u001b[0m \u001b[1m7s\u001b[0m 37ms/step - accuracy: 0.8757 - loss: 0.2963 - val_accuracy: 0.9875 - val_loss: 0.0638\n",
      "Epoch 5/100\n",
      "\u001b[1m200/200\u001b[0m \u001b[32m━━━━━━━━━━━━━━━━━━━━\u001b[0m\u001b[37m\u001b[0m \u001b[1m7s\u001b[0m 37ms/step - accuracy: 0.8791 - loss: 0.2931 - val_accuracy: 0.8144 - val_loss: 0.4122\n",
      "Epoch 6/100\n",
      "\u001b[1m200/200\u001b[0m \u001b[32m━━━━━━━━━━━━━━━━━━━━\u001b[0m\u001b[37m\u001b[0m \u001b[1m7s\u001b[0m 37ms/step - accuracy: 0.8727 - loss: 0.3011 - val_accuracy: 0.9444 - val_loss: 0.1346\n",
      "Epoch 7/100\n",
      "\u001b[1m200/200\u001b[0m \u001b[32m━━━━━━━━━━━━━━━━━━━━\u001b[0m\u001b[37m\u001b[0m \u001b[1m7s\u001b[0m 37ms/step - accuracy: 0.8831 - loss: 0.2869 - val_accuracy: 0.9737 - val_loss: 0.0901\n",
      "Epoch 8/100\n",
      "\u001b[1m200/200\u001b[0m \u001b[32m━━━━━━━━━━━━━━━━━━━━\u001b[0m\u001b[37m\u001b[0m \u001b[1m7s\u001b[0m 37ms/step - accuracy: 0.8823 - loss: 0.2864 - val_accuracy: 0.9469 - val_loss: 0.1265\n",
      "Epoch 9/100\n",
      "\u001b[1m200/200\u001b[0m \u001b[32m━━━━━━━━━━━━━━━━━━━━\u001b[0m\u001b[37m\u001b[0m \u001b[1m7s\u001b[0m 37ms/step - accuracy: 0.8862 - loss: 0.2716 - val_accuracy: 0.9569 - val_loss: 0.1271\n",
      "Epoch 10/100\n",
      "\u001b[1m200/200\u001b[0m \u001b[32m━━━━━━━━━━━━━━━━━━━━\u001b[0m\u001b[37m\u001b[0m \u001b[1m7s\u001b[0m 37ms/step - accuracy: 0.8941 - loss: 0.2676 - val_accuracy: 0.9025 - val_loss: 0.2220\n",
      "Epoch 11/100\n",
      "\u001b[1m200/200\u001b[0m \u001b[32m━━━━━━━━━━━━━━━━━━━━\u001b[0m\u001b[37m\u001b[0m \u001b[1m7s\u001b[0m 37ms/step - accuracy: 0.8934 - loss: 0.2711 - val_accuracy: 0.9475 - val_loss: 0.1404\n",
      "Epoch 12/100\n",
      "\u001b[1m200/200\u001b[0m \u001b[32m━━━━━━━━━━━━━━━━━━━━\u001b[0m\u001b[37m\u001b[0m \u001b[1m7s\u001b[0m 37ms/step - accuracy: 0.9016 - loss: 0.2499 - val_accuracy: 0.8875 - val_loss: 0.2553\n",
      "Epoch 13/100\n",
      "\u001b[1m200/200\u001b[0m \u001b[32m━━━━━━━━━━━━━━━━━━━━\u001b[0m\u001b[37m\u001b[0m \u001b[1m7s\u001b[0m 37ms/step - accuracy: 0.8987 - loss: 0.2532 - val_accuracy: 0.9325 - val_loss: 0.1493\n",
      "Epoch 14/100\n",
      "\u001b[1m200/200\u001b[0m \u001b[32m━━━━━━━━━━━━━━━━━━━━\u001b[0m\u001b[37m\u001b[0m \u001b[1m7s\u001b[0m 37ms/step - accuracy: 0.9031 - loss: 0.2574 - val_accuracy: 0.9669 - val_loss: 0.0993\n"
     ]
    },
    {
     "data": {
      "text/plain": [
       "<keras.src.callbacks.history.History at 0x797d721f3490>"
      ]
     },
     "execution_count": 67,
     "metadata": {},
     "output_type": "execute_result"
    }
   ],
   "source": [
    "indices_0 = np.where(y_train_encoded['MI'] == 0)[0] \n",
    "indices_1 = np.where(y_train_encoded['MI'] == 1)[0]\n",
    "selected_indices_0=np.random.choice(indices_0, 4000, replace=False)\n",
    "selected_indices_1=np.random.choice(indices_1, 4000, replace=False)\n",
    "x_train_norm0=X_train[selected_indices_0]\n",
    "x_train_norm1=X_train[selected_indices_1]\n",
    "y_train_norm0=y_train_encoded.iloc[selected_indices_0,3]\n",
    "y_train_norm1=y_train_encoded.iloc[selected_indices_1,3]\n",
    "x_train= np.concatenate([x_train_norm0, x_train_norm1], axis=0)\n",
    "y_train=np.concatenate([y_train_norm0, y_train_norm1], axis=0)\n",
    "x_train_reshaped = x_train.reshape((x_train.shape[0], 1000, 12, 1))  # Reshaping for 2D CNN\n",
    "\n",
    "# Training the model\n",
    "model.fit(x_train_reshaped, y_train, epochs=100, batch_size=32, validation_split=0.2, callbacks=[early_stopping])\n"
   ]
  },
  {
   "cell_type": "code",
   "execution_count": 68,
   "metadata": {
    "execution": {
     "iopub.execute_input": "2024-11-05T19:00:30.526674Z",
     "iopub.status.busy": "2024-11-05T19:00:30.525813Z",
     "iopub.status.idle": "2024-11-05T19:01:08.788119Z",
     "shell.execute_reply": "2024-11-05T19:01:08.787281Z",
     "shell.execute_reply.started": "2024-11-05T19:00:30.526638Z"
    },
    "trusted": true
   },
   "outputs": [
    {
     "name": "stdout",
     "output_type": "stream",
     "text": [
      "Epoch 1/100\n",
      "\u001b[1m100/100\u001b[0m \u001b[32m━━━━━━━━━━━━━━━━━━━━\u001b[0m\u001b[37m\u001b[0m \u001b[1m4s\u001b[0m 38ms/step - accuracy: 0.8821 - loss: 0.2904 - val_accuracy: 0.9400 - val_loss: 0.1687\n",
      "Epoch 2/100\n",
      "\u001b[1m100/100\u001b[0m \u001b[32m━━━━━━━━━━━━━━━━━━━━\u001b[0m\u001b[37m\u001b[0m \u001b[1m4s\u001b[0m 37ms/step - accuracy: 0.8904 - loss: 0.2652 - val_accuracy: 0.9287 - val_loss: 0.1700\n",
      "Epoch 3/100\n",
      "\u001b[1m100/100\u001b[0m \u001b[32m━━━━━━━━━━━━━━━━━━━━\u001b[0m\u001b[37m\u001b[0m \u001b[1m4s\u001b[0m 37ms/step - accuracy: 0.8974 - loss: 0.2506 - val_accuracy: 0.9287 - val_loss: 0.1784\n",
      "Epoch 4/100\n",
      "\u001b[1m100/100\u001b[0m \u001b[32m━━━━━━━━━━━━━━━━━━━━\u001b[0m\u001b[37m\u001b[0m \u001b[1m4s\u001b[0m 37ms/step - accuracy: 0.8868 - loss: 0.2663 - val_accuracy: 0.9463 - val_loss: 0.1295\n",
      "Epoch 5/100\n",
      "\u001b[1m100/100\u001b[0m \u001b[32m━━━━━━━━━━━━━━━━━━━━\u001b[0m\u001b[37m\u001b[0m \u001b[1m4s\u001b[0m 37ms/step - accuracy: 0.8998 - loss: 0.2554 - val_accuracy: 0.9013 - val_loss: 0.2099\n",
      "Epoch 6/100\n",
      "\u001b[1m100/100\u001b[0m \u001b[32m━━━━━━━━━━━━━━━━━━━━\u001b[0m\u001b[37m\u001b[0m \u001b[1m4s\u001b[0m 37ms/step - accuracy: 0.8999 - loss: 0.2603 - val_accuracy: 0.9625 - val_loss: 0.1046\n",
      "Epoch 7/100\n",
      "\u001b[1m100/100\u001b[0m \u001b[32m━━━━━━━━━━━━━━━━━━━━\u001b[0m\u001b[37m\u001b[0m \u001b[1m4s\u001b[0m 37ms/step - accuracy: 0.9023 - loss: 0.2404 - val_accuracy: 0.9075 - val_loss: 0.2177\n",
      "Epoch 8/100\n",
      "\u001b[1m100/100\u001b[0m \u001b[32m━━━━━━━━━━━━━━━━━━━━\u001b[0m\u001b[37m\u001b[0m \u001b[1m4s\u001b[0m 37ms/step - accuracy: 0.8989 - loss: 0.2454 - val_accuracy: 0.9212 - val_loss: 0.1807\n",
      "Epoch 9/100\n",
      "\u001b[1m100/100\u001b[0m \u001b[32m━━━━━━━━━━━━━━━━━━━━\u001b[0m\u001b[37m\u001b[0m \u001b[1m4s\u001b[0m 37ms/step - accuracy: 0.9095 - loss: 0.2358 - val_accuracy: 0.9550 - val_loss: 0.1308\n",
      "Epoch 10/100\n",
      "\u001b[1m100/100\u001b[0m \u001b[32m━━━━━━━━━━━━━━━━━━━━\u001b[0m\u001b[37m\u001b[0m \u001b[1m4s\u001b[0m 37ms/step - accuracy: 0.9077 - loss: 0.2287 - val_accuracy: 0.9087 - val_loss: 0.1947\n"
     ]
    },
    {
     "data": {
      "text/plain": [
       "<keras.src.callbacks.history.History at 0x797d73041c30>"
      ]
     },
     "execution_count": 68,
     "metadata": {},
     "output_type": "execute_result"
    }
   ],
   "source": [
    "indices_0 = np.where(y_train_encoded['HYP'] == 0)[0] \n",
    "indices_1 = np.where(y_train_encoded['HYP'] == 1)[0]\n",
    "selected_indices_0=np.random.choice(indices_0, 2000, replace=False)\n",
    "selected_indices_1=np.random.choice(indices_1, 2000, replace=False)\n",
    "x_train_norm0=X_train[selected_indices_0]\n",
    "x_train_norm1=X_train[selected_indices_1]\n",
    "y_train_norm0=y_train_encoded.iloc[selected_indices_0,3]\n",
    "y_train_norm1=y_train_encoded.iloc[selected_indices_1,3]\n",
    "x_train= np.concatenate([x_train_norm0, x_train_norm1], axis=0)\n",
    "y_train=np.concatenate([y_train_norm0, y_train_norm1], axis=0)\n",
    "x_train_reshaped = x_train.reshape((x_train.shape[0], 1000, 12, 1))  # Reshaping for 2D CNN\n",
    "\n",
    "# Training the model\n",
    "model.fit(x_train_reshaped, y_train, epochs=100, batch_size=32, validation_split=0.2, callbacks=[early_stopping])\n"
   ]
  },
  {
   "cell_type": "code",
   "execution_count": null,
   "metadata": {},
   "outputs": [],
   "source": []
  },
  {
   "cell_type": "code",
   "execution_count": null,
   "metadata": {},
   "outputs": [],
   "source": []
  }
 ],
 "metadata": {
  "colab": {
   "provenance": []
  },
  "kaggle": {
   "accelerator": "nvidiaTeslaT4",
   "dataSources": [
    {
     "datasetId": 5505348,
     "sourceId": 9120047,
     "sourceType": "datasetVersion"
    }
   ],
   "dockerImageVersionId": 30746,
   "isGpuEnabled": true,
   "isInternetEnabled": true,
   "language": "python",
   "sourceType": "notebook"
  },
  "kernelspec": {
   "display_name": "Python 3",
   "language": "python",
   "name": "python3"
  },
  "language_info": {
   "codemirror_mode": {
    "name": "ipython",
    "version": 3
   },
   "file_extension": ".py",
   "mimetype": "text/x-python",
   "name": "python",
   "nbconvert_exporter": "python",
   "pygments_lexer": "ipython3",
   "version": "3.10.13"
  },
  "papermill": {
   "default_parameters": {},
   "duration": 415.766062,
   "end_time": "2024-08-07T05:40:01.516582",
   "environment_variables": {},
   "exception": null,
   "input_path": "__notebook__.ipynb",
   "output_path": "__notebook__.ipynb",
   "parameters": {},
   "start_time": "2024-08-07T05:33:05.750520",
   "version": "2.5.0"
  }
 },
 "nbformat": 4,
 "nbformat_minor": 5
}
