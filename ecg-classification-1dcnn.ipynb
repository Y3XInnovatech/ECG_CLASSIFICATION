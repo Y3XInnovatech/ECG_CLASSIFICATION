{
 "cells": [
  {
   "cell_type": "code",
   "execution_count": 1,
   "metadata": {
    "execution": {
     "iopub.execute_input": "2024-11-05T16:54:20.113668Z",
     "iopub.status.busy": "2024-11-05T16:54:20.113065Z",
     "iopub.status.idle": "2024-11-05T16:54:21.127760Z",
     "shell.execute_reply": "2024-11-05T16:54:21.126806Z",
     "shell.execute_reply.started": "2024-11-05T16:54:20.113634Z"
    },
    "id": "27xqfiI1axUM",
    "papermill": {
     "duration": 0.986306,
     "end_time": "2024-08-07T05:33:43.602883",
     "exception": false,
     "start_time": "2024-08-07T05:33:42.616577",
     "status": "completed"
    },
    "tags": [],
    "trusted": true
   },
   "outputs": [],
   "source": [
    "import pandas as pd\n",
    "import numpy as np\n",
    "import wfdb\n",
    "import ast"
   ]
  },
  {
   "cell_type": "code",
   "execution_count": 2,
   "metadata": {
    "execution": {
     "iopub.execute_input": "2024-11-05T16:54:21.130379Z",
     "iopub.status.busy": "2024-11-05T16:54:21.129841Z",
     "iopub.status.idle": "2024-11-05T16:54:21.135493Z",
     "shell.execute_reply": "2024-11-05T16:54:21.134258Z",
     "shell.execute_reply.started": "2024-11-05T16:54:21.130342Z"
    },
    "papermill": {
     "duration": 0.01699,
     "end_time": "2024-08-07T05:33:43.627982",
     "exception": false,
     "start_time": "2024-08-07T05:33:43.610992",
     "status": "completed"
    },
    "tags": [],
    "trusted": true
   },
   "outputs": [],
   "source": [
    "import os"
   ]
  },
  {
   "cell_type": "code",
   "execution_count": 3,
   "metadata": {
    "execution": {
     "iopub.execute_input": "2024-11-05T16:54:21.137210Z",
     "iopub.status.busy": "2024-11-05T16:54:21.136829Z",
     "iopub.status.idle": "2024-11-05T16:54:21.145140Z",
     "shell.execute_reply": "2024-11-05T16:54:21.144027Z",
     "shell.execute_reply.started": "2024-11-05T16:54:21.137176Z"
    },
    "id": "YqzHkAQva65_",
    "papermill": {
     "duration": 0.018488,
     "end_time": "2024-08-07T05:33:43.654595",
     "exception": false,
     "start_time": "2024-08-07T05:33:43.636107",
     "status": "completed"
    },
    "tags": [],
    "trusted": true
   },
   "outputs": [],
   "source": [
    "def load_raw_data(df, sampling_rate, path):\n",
    "    if sampling_rate == 100:\n",
    "        data = [wfdb.rdsamp(os.path.join(path,f)) for f in df.filename_lr]\n",
    "    else:\n",
    "        data = [wfdb.rdsamp(os.path.join(path,f)) for f in df.filename_hr]\n",
    "    data = np.array([signal for signal, meta in data])\n",
    "    return data"
   ]
  },
  {
   "cell_type": "code",
   "execution_count": 4,
   "metadata": {
    "execution": {
     "iopub.execute_input": "2024-11-05T16:54:21.147853Z",
     "iopub.status.busy": "2024-11-05T16:54:21.147541Z",
     "iopub.status.idle": "2024-11-05T16:54:21.923752Z",
     "shell.execute_reply": "2024-11-05T16:54:21.922807Z",
     "shell.execute_reply.started": "2024-11-05T16:54:21.147828Z"
    },
    "id": "NB_CTNPE9zMB",
    "outputId": "32ce9598-6ace-4711-c233-769aa14595e7",
    "papermill": {
     "duration": 0.746969,
     "end_time": "2024-08-07T05:33:44.410162",
     "exception": false,
     "start_time": "2024-08-07T05:33:43.663193",
     "status": "completed"
    },
    "tags": [],
    "trusted": true
   },
   "outputs": [],
   "source": [
    "path='/kaggle/input/ecg-data/ptb-xl-a-large-publicly-available-electrocardiography-dataset-1.0.3/'\n",
    "sampling_rate=100\n",
    "\n",
    "# load and convert annotation data\n",
    "Y = pd.read_csv(os.path.join(path,'ptbxl_database.csv'), index_col='ecg_id')\n",
    "Y.scp_codes = Y.scp_codes.apply(lambda x: ast.literal_eval(x))\n"
   ]
  },
  {
   "cell_type": "code",
   "execution_count": 5,
   "metadata": {
    "execution": {
     "iopub.execute_input": "2024-11-05T16:54:21.925514Z",
     "iopub.status.busy": "2024-11-05T16:54:21.925144Z",
     "iopub.status.idle": "2024-11-05T16:54:21.936493Z",
     "shell.execute_reply": "2024-11-05T16:54:21.935397Z",
     "shell.execute_reply.started": "2024-11-05T16:54:21.925485Z"
    },
    "id": "ac3IDEF5-sFT",
    "papermill": {
     "duration": 0.02467,
     "end_time": "2024-08-07T05:33:44.443024",
     "exception": false,
     "start_time": "2024-08-07T05:33:44.418354",
     "status": "completed"
    },
    "tags": [],
    "trusted": true
   },
   "outputs": [
    {
     "data": {
      "text/plain": [
       "ecg_id\n",
       "1                 {'NORM': 100.0, 'LVOLT': 0.0, 'SR': 0.0}\n",
       "2                             {'NORM': 80.0, 'SBRAD': 0.0}\n",
       "3                               {'NORM': 100.0, 'SR': 0.0}\n",
       "4                               {'NORM': 100.0, 'SR': 0.0}\n",
       "5                               {'NORM': 100.0, 'SR': 0.0}\n",
       "                               ...                        \n",
       "21833    {'NDT': 100.0, 'PVC': 100.0, 'VCLVH': 0.0, 'ST...\n",
       "21834             {'NORM': 100.0, 'ABQRS': 0.0, 'SR': 0.0}\n",
       "21835                           {'ISCAS': 50.0, 'SR': 0.0}\n",
       "21836                           {'NORM': 100.0, 'SR': 0.0}\n",
       "21837                           {'NORM': 100.0, 'SR': 0.0}\n",
       "Name: scp_codes, Length: 21799, dtype: object"
      ]
     },
     "execution_count": 5,
     "metadata": {},
     "output_type": "execute_result"
    }
   ],
   "source": [
    "Y.scp_codes "
   ]
  },
  {
   "cell_type": "code",
   "execution_count": 6,
   "metadata": {
    "execution": {
     "iopub.execute_input": "2024-11-05T16:54:21.938336Z",
     "iopub.status.busy": "2024-11-05T16:54:21.937979Z",
     "iopub.status.idle": "2024-11-05T16:54:21.945556Z",
     "shell.execute_reply": "2024-11-05T16:54:21.944465Z",
     "shell.execute_reply.started": "2024-11-05T16:54:21.938309Z"
    },
    "papermill": {
     "duration": 0.019655,
     "end_time": "2024-08-07T05:33:44.470944",
     "exception": false,
     "start_time": "2024-08-07T05:33:44.451289",
     "status": "completed"
    },
    "tags": [],
    "trusted": true
   },
   "outputs": [
    {
     "data": {
      "text/plain": [
       "(21799,)"
      ]
     },
     "execution_count": 6,
     "metadata": {},
     "output_type": "execute_result"
    }
   ],
   "source": [
    "Y.scp_codes.shape"
   ]
  },
  {
   "cell_type": "code",
   "execution_count": 7,
   "metadata": {
    "execution": {
     "iopub.execute_input": "2024-11-05T16:54:21.947176Z",
     "iopub.status.busy": "2024-11-05T16:54:21.946801Z",
     "iopub.status.idle": "2024-11-05T16:59:36.466074Z",
     "shell.execute_reply": "2024-11-05T16:59:36.465121Z",
     "shell.execute_reply.started": "2024-11-05T16:54:21.947146Z"
    },
    "papermill": {
     "duration": 369.945071,
     "end_time": "2024-08-07T05:39:54.425543",
     "exception": false,
     "start_time": "2024-08-07T05:33:44.480472",
     "status": "completed"
    },
    "tags": [],
    "trusted": true
   },
   "outputs": [],
   "source": [
    "X = load_raw_data(Y, sampling_rate, path)\n"
   ]
  },
  {
   "cell_type": "code",
   "execution_count": 8,
   "metadata": {
    "execution": {
     "iopub.execute_input": "2024-11-05T16:59:36.467474Z",
     "iopub.status.busy": "2024-11-05T16:59:36.467190Z",
     "iopub.status.idle": "2024-11-05T16:59:36.480617Z",
     "shell.execute_reply": "2024-11-05T16:59:36.479911Z",
     "shell.execute_reply.started": "2024-11-05T16:59:36.467451Z"
    },
    "papermill": {
     "duration": 0.030782,
     "end_time": "2024-08-07T05:39:54.464764",
     "exception": false,
     "start_time": "2024-08-07T05:39:54.433982",
     "status": "completed"
    },
    "tags": [],
    "trusted": true
   },
   "outputs": [],
   "source": [
    "agg_df = pd.read_csv(os.path.join(path,'scp_statements.csv'), index_col=0)\n",
    "agg_df = agg_df[agg_df.diagnostic == 1]\n"
   ]
  },
  {
   "cell_type": "code",
   "execution_count": 9,
   "metadata": {
    "execution": {
     "iopub.execute_input": "2024-11-05T16:59:36.481873Z",
     "iopub.status.busy": "2024-11-05T16:59:36.481592Z",
     "iopub.status.idle": "2024-11-05T16:59:36.486786Z",
     "shell.execute_reply": "2024-11-05T16:59:36.485866Z",
     "shell.execute_reply.started": "2024-11-05T16:59:36.481849Z"
    },
    "papermill": {
     "duration": 0.018391,
     "end_time": "2024-08-07T05:39:54.491486",
     "exception": false,
     "start_time": "2024-08-07T05:39:54.473095",
     "status": "completed"
    },
    "tags": [],
    "trusted": true
   },
   "outputs": [],
   "source": [
    "def aggregate_diagnostic(y_dic):\n",
    "    tmp = []\n",
    "    for key in y_dic.keys():\n",
    "        if key in agg_df.index:\n",
    "            tmp.append(agg_df.loc[key].diagnostic_class)\n",
    "    return list(set(tmp))"
   ]
  },
  {
   "cell_type": "code",
   "execution_count": 10,
   "metadata": {
    "execution": {
     "iopub.execute_input": "2024-11-05T16:59:36.491615Z",
     "iopub.status.busy": "2024-11-05T16:59:36.491029Z",
     "iopub.status.idle": "2024-11-05T16:59:38.894528Z",
     "shell.execute_reply": "2024-11-05T16:59:38.893576Z",
     "shell.execute_reply.started": "2024-11-05T16:59:36.491592Z"
    },
    "papermill": {
     "duration": 2.395536,
     "end_time": "2024-08-07T05:39:56.895184",
     "exception": false,
     "start_time": "2024-08-07T05:39:54.499648",
     "status": "completed"
    },
    "tags": [],
    "trusted": true
   },
   "outputs": [],
   "source": [
    "Y['diagnostic_superclass'] = Y.scp_codes.apply(aggregate_diagnostic)"
   ]
  },
  {
   "cell_type": "code",
   "execution_count": 11,
   "metadata": {
    "execution": {
     "iopub.execute_input": "2024-11-05T16:59:38.896060Z",
     "iopub.status.busy": "2024-11-05T16:59:38.895750Z",
     "iopub.status.idle": "2024-11-05T16:59:39.483639Z",
     "shell.execute_reply": "2024-11-05T16:59:39.482789Z",
     "shell.execute_reply.started": "2024-11-05T16:59:38.896034Z"
    },
    "papermill": {
     "duration": 0.930014,
     "end_time": "2024-08-07T05:39:57.833369",
     "exception": false,
     "start_time": "2024-08-07T05:39:56.903355",
     "status": "completed"
    },
    "tags": [],
    "trusted": true
   },
   "outputs": [],
   "source": [
    "test_fold = 10\n",
    "\n",
    "X_train = X[np.where(Y.strat_fold != test_fold)]\n",
    "y_train = Y[(Y.strat_fold != test_fold)].diagnostic_superclass\n",
    "\n",
    "X_test = X[np.where(Y.strat_fold == test_fold)]\n",
    "y_test = Y[Y.strat_fold == test_fold].diagnostic_superclass"
   ]
  },
  {
   "cell_type": "code",
   "execution_count": 12,
   "metadata": {
    "execution": {
     "iopub.execute_input": "2024-11-05T16:59:39.485207Z",
     "iopub.status.busy": "2024-11-05T16:59:39.484877Z",
     "iopub.status.idle": "2024-11-05T16:59:39.491000Z",
     "shell.execute_reply": "2024-11-05T16:59:39.489914Z",
     "shell.execute_reply.started": "2024-11-05T16:59:39.485180Z"
    },
    "papermill": {
     "duration": 0.018481,
     "end_time": "2024-08-07T05:39:57.860183",
     "exception": false,
     "start_time": "2024-08-07T05:39:57.841702",
     "status": "completed"
    },
    "tags": [],
    "trusted": true
   },
   "outputs": [
    {
     "data": {
      "text/plain": [
       "(19601, 1000, 12)"
      ]
     },
     "execution_count": 12,
     "metadata": {},
     "output_type": "execute_result"
    }
   ],
   "source": [
    "X_train.shape"
   ]
  },
  {
   "cell_type": "code",
   "execution_count": 13,
   "metadata": {
    "execution": {
     "iopub.execute_input": "2024-11-05T16:59:39.492591Z",
     "iopub.status.busy": "2024-11-05T16:59:39.492327Z",
     "iopub.status.idle": "2024-11-05T16:59:39.502323Z",
     "shell.execute_reply": "2024-11-05T16:59:39.501400Z",
     "shell.execute_reply.started": "2024-11-05T16:59:39.492568Z"
    },
    "papermill": {
     "duration": 0.022092,
     "end_time": "2024-08-07T05:39:57.952767",
     "exception": false,
     "start_time": "2024-08-07T05:39:57.930675",
     "status": "completed"
    },
    "tags": [],
    "trusted": true
   },
   "outputs": [
    {
     "data": {
      "text/plain": [
       "<bound method NDFrame.head of ecg_id\n",
       "1        [NORM]\n",
       "2        [NORM]\n",
       "3        [NORM]\n",
       "4        [NORM]\n",
       "5        [NORM]\n",
       "          ...  \n",
       "21833    [STTC]\n",
       "21834    [NORM]\n",
       "21835    [STTC]\n",
       "21836    [NORM]\n",
       "21837    [NORM]\n",
       "Name: diagnostic_superclass, Length: 19601, dtype: object>"
      ]
     },
     "execution_count": 13,
     "metadata": {},
     "output_type": "execute_result"
    }
   ],
   "source": [
    "y_train.head"
   ]
  },
  {
   "cell_type": "code",
   "execution_count": 14,
   "metadata": {
    "execution": {
     "iopub.execute_input": "2024-11-05T16:59:39.503619Z",
     "iopub.status.busy": "2024-11-05T16:59:39.503366Z",
     "iopub.status.idle": "2024-11-05T16:59:39.521806Z",
     "shell.execute_reply": "2024-11-05T16:59:39.520940Z",
     "shell.execute_reply.started": "2024-11-05T16:59:39.503597Z"
    },
    "papermill": {
     "duration": 0.032672,
     "end_time": "2024-08-07T05:39:57.993959",
     "exception": false,
     "start_time": "2024-08-07T05:39:57.961287",
     "status": "completed"
    },
    "tags": [],
    "trusted": true
   },
   "outputs": [
    {
     "name": "stdout",
     "output_type": "stream",
     "text": [
      "<class 'pandas.core.series.Series'>\n",
      "Index: 19601 entries, 1 to 21837\n",
      "Series name: diagnostic_superclass\n",
      "Non-Null Count  Dtype \n",
      "--------------  ----- \n",
      "19601 non-null  object\n",
      "dtypes: object(1)\n",
      "memory usage: 306.3+ KB\n"
     ]
    }
   ],
   "source": [
    "y_train.info()"
   ]
  },
  {
   "cell_type": "code",
   "execution_count": 15,
   "metadata": {
    "execution": {
     "iopub.execute_input": "2024-11-05T16:59:39.522958Z",
     "iopub.status.busy": "2024-11-05T16:59:39.522700Z",
     "iopub.status.idle": "2024-11-05T16:59:39.554517Z",
     "shell.execute_reply": "2024-11-05T16:59:39.553573Z",
     "shell.execute_reply.started": "2024-11-05T16:59:39.522936Z"
    },
    "papermill": {
     "duration": 0.034734,
     "end_time": "2024-08-07T05:39:58.037396",
     "exception": false,
     "start_time": "2024-08-07T05:39:58.002662",
     "status": "completed"
    },
    "tags": [],
    "trusted": true
   },
   "outputs": [
    {
     "data": {
      "text/plain": [
       "22"
      ]
     },
     "execution_count": 15,
     "metadata": {},
     "output_type": "execute_result"
    }
   ],
   "source": [
    "np.unique(y_train).shape[0]\n"
   ]
  },
  {
   "cell_type": "code",
   "execution_count": 16,
   "metadata": {
    "execution": {
     "iopub.execute_input": "2024-11-05T16:59:39.555872Z",
     "iopub.status.busy": "2024-11-05T16:59:39.555601Z",
     "iopub.status.idle": "2024-11-05T16:59:40.015820Z",
     "shell.execute_reply": "2024-11-05T16:59:40.015114Z",
     "shell.execute_reply.started": "2024-11-05T16:59:39.555850Z"
    },
    "trusted": true
   },
   "outputs": [],
   "source": [
    "from sklearn.preprocessing import MultiLabelBinarizer\n",
    "\n",
    "mlb = MultiLabelBinarizer()\n",
    "y_train_encoded = pd.DataFrame(mlb.fit_transform(y_train), columns=mlb.classes_)"
   ]
  },
  {
   "cell_type": "code",
   "execution_count": 17,
   "metadata": {
    "execution": {
     "iopub.execute_input": "2024-11-05T16:59:40.017249Z",
     "iopub.status.busy": "2024-11-05T16:59:40.016890Z",
     "iopub.status.idle": "2024-11-05T16:59:40.023196Z",
     "shell.execute_reply": "2024-11-05T16:59:40.022130Z",
     "shell.execute_reply.started": "2024-11-05T16:59:40.017217Z"
    },
    "trusted": true
   },
   "outputs": [
    {
     "data": {
      "text/plain": [
       "(19601, 5)"
      ]
     },
     "execution_count": 17,
     "metadata": {},
     "output_type": "execute_result"
    }
   ],
   "source": [
    "y_train_encoded.shape"
   ]
  },
  {
   "cell_type": "code",
   "execution_count": 18,
   "metadata": {
    "execution": {
     "iopub.execute_input": "2024-11-05T16:59:40.024904Z",
     "iopub.status.busy": "2024-11-05T16:59:40.024465Z",
     "iopub.status.idle": "2024-11-05T16:59:40.038151Z",
     "shell.execute_reply": "2024-11-05T16:59:40.037319Z",
     "shell.execute_reply.started": "2024-11-05T16:59:40.024873Z"
    },
    "trusted": true
   },
   "outputs": [
    {
     "data": {
      "text/html": [
       "<div>\n",
       "<style scoped>\n",
       "    .dataframe tbody tr th:only-of-type {\n",
       "        vertical-align: middle;\n",
       "    }\n",
       "\n",
       "    .dataframe tbody tr th {\n",
       "        vertical-align: top;\n",
       "    }\n",
       "\n",
       "    .dataframe thead th {\n",
       "        text-align: right;\n",
       "    }\n",
       "</style>\n",
       "<table border=\"1\" class=\"dataframe\">\n",
       "  <thead>\n",
       "    <tr style=\"text-align: right;\">\n",
       "      <th></th>\n",
       "      <th>CD</th>\n",
       "      <th>HYP</th>\n",
       "      <th>MI</th>\n",
       "      <th>NORM</th>\n",
       "      <th>STTC</th>\n",
       "    </tr>\n",
       "  </thead>\n",
       "  <tbody>\n",
       "    <tr>\n",
       "      <th>0</th>\n",
       "      <td>0</td>\n",
       "      <td>0</td>\n",
       "      <td>0</td>\n",
       "      <td>1</td>\n",
       "      <td>0</td>\n",
       "    </tr>\n",
       "    <tr>\n",
       "      <th>1</th>\n",
       "      <td>0</td>\n",
       "      <td>0</td>\n",
       "      <td>0</td>\n",
       "      <td>1</td>\n",
       "      <td>0</td>\n",
       "    </tr>\n",
       "    <tr>\n",
       "      <th>2</th>\n",
       "      <td>0</td>\n",
       "      <td>0</td>\n",
       "      <td>0</td>\n",
       "      <td>1</td>\n",
       "      <td>0</td>\n",
       "    </tr>\n",
       "    <tr>\n",
       "      <th>3</th>\n",
       "      <td>0</td>\n",
       "      <td>0</td>\n",
       "      <td>0</td>\n",
       "      <td>1</td>\n",
       "      <td>0</td>\n",
       "    </tr>\n",
       "    <tr>\n",
       "      <th>4</th>\n",
       "      <td>0</td>\n",
       "      <td>0</td>\n",
       "      <td>0</td>\n",
       "      <td>1</td>\n",
       "      <td>0</td>\n",
       "    </tr>\n",
       "  </tbody>\n",
       "</table>\n",
       "</div>"
      ],
      "text/plain": [
       "   CD  HYP  MI  NORM  STTC\n",
       "0   0    0   0     1     0\n",
       "1   0    0   0     1     0\n",
       "2   0    0   0     1     0\n",
       "3   0    0   0     1     0\n",
       "4   0    0   0     1     0"
      ]
     },
     "execution_count": 18,
     "metadata": {},
     "output_type": "execute_result"
    }
   ],
   "source": [
    "y_train_encoded.head()"
   ]
  },
  {
   "cell_type": "code",
   "execution_count": 19,
   "metadata": {
    "execution": {
     "iopub.execute_input": "2024-11-05T16:59:40.039353Z",
     "iopub.status.busy": "2024-11-05T16:59:40.039124Z",
     "iopub.status.idle": "2024-11-05T16:59:40.044937Z",
     "shell.execute_reply": "2024-11-05T16:59:40.044084Z",
     "shell.execute_reply.started": "2024-11-05T16:59:40.039333Z"
    },
    "trusted": true
   },
   "outputs": [
    {
     "data": {
      "text/plain": [
       "pandas.core.frame.DataFrame"
      ]
     },
     "execution_count": 19,
     "metadata": {},
     "output_type": "execute_result"
    }
   ],
   "source": [
    "type(y_train_encoded)"
   ]
  },
  {
   "cell_type": "code",
   "execution_count": 20,
   "metadata": {
    "execution": {
     "iopub.execute_input": "2024-11-05T16:59:40.046545Z",
     "iopub.status.busy": "2024-11-05T16:59:40.046225Z",
     "iopub.status.idle": "2024-11-05T16:59:41.652826Z",
     "shell.execute_reply": "2024-11-05T16:59:41.652096Z",
     "shell.execute_reply.started": "2024-11-05T16:59:40.046521Z"
    },
    "trusted": true
   },
   "outputs": [],
   "source": [
    "y_train_encoded['final_output']=y_train_encoded.apply(lambda x:''.join(x.astype(str)),axis=1)"
   ]
  },
  {
   "cell_type": "code",
   "execution_count": 21,
   "metadata": {
    "execution": {
     "iopub.execute_input": "2024-11-05T16:59:41.654134Z",
     "iopub.status.busy": "2024-11-05T16:59:41.653846Z",
     "iopub.status.idle": "2024-11-05T16:59:41.664210Z",
     "shell.execute_reply": "2024-11-05T16:59:41.663317Z",
     "shell.execute_reply.started": "2024-11-05T16:59:41.654110Z"
    },
    "trusted": true
   },
   "outputs": [
    {
     "data": {
      "text/html": [
       "<div>\n",
       "<style scoped>\n",
       "    .dataframe tbody tr th:only-of-type {\n",
       "        vertical-align: middle;\n",
       "    }\n",
       "\n",
       "    .dataframe tbody tr th {\n",
       "        vertical-align: top;\n",
       "    }\n",
       "\n",
       "    .dataframe thead th {\n",
       "        text-align: right;\n",
       "    }\n",
       "</style>\n",
       "<table border=\"1\" class=\"dataframe\">\n",
       "  <thead>\n",
       "    <tr style=\"text-align: right;\">\n",
       "      <th></th>\n",
       "      <th>CD</th>\n",
       "      <th>HYP</th>\n",
       "      <th>MI</th>\n",
       "      <th>NORM</th>\n",
       "      <th>STTC</th>\n",
       "      <th>final_output</th>\n",
       "    </tr>\n",
       "  </thead>\n",
       "  <tbody>\n",
       "    <tr>\n",
       "      <th>0</th>\n",
       "      <td>0</td>\n",
       "      <td>0</td>\n",
       "      <td>0</td>\n",
       "      <td>1</td>\n",
       "      <td>0</td>\n",
       "      <td>00010</td>\n",
       "    </tr>\n",
       "    <tr>\n",
       "      <th>1</th>\n",
       "      <td>0</td>\n",
       "      <td>0</td>\n",
       "      <td>0</td>\n",
       "      <td>1</td>\n",
       "      <td>0</td>\n",
       "      <td>00010</td>\n",
       "    </tr>\n",
       "    <tr>\n",
       "      <th>2</th>\n",
       "      <td>0</td>\n",
       "      <td>0</td>\n",
       "      <td>0</td>\n",
       "      <td>1</td>\n",
       "      <td>0</td>\n",
       "      <td>00010</td>\n",
       "    </tr>\n",
       "    <tr>\n",
       "      <th>3</th>\n",
       "      <td>0</td>\n",
       "      <td>0</td>\n",
       "      <td>0</td>\n",
       "      <td>1</td>\n",
       "      <td>0</td>\n",
       "      <td>00010</td>\n",
       "    </tr>\n",
       "    <tr>\n",
       "      <th>4</th>\n",
       "      <td>0</td>\n",
       "      <td>0</td>\n",
       "      <td>0</td>\n",
       "      <td>1</td>\n",
       "      <td>0</td>\n",
       "      <td>00010</td>\n",
       "    </tr>\n",
       "  </tbody>\n",
       "</table>\n",
       "</div>"
      ],
      "text/plain": [
       "   CD  HYP  MI  NORM  STTC final_output\n",
       "0   0    0   0     1     0        00010\n",
       "1   0    0   0     1     0        00010\n",
       "2   0    0   0     1     0        00010\n",
       "3   0    0   0     1     0        00010\n",
       "4   0    0   0     1     0        00010"
      ]
     },
     "execution_count": 21,
     "metadata": {},
     "output_type": "execute_result"
    }
   ],
   "source": [
    "y_train_encoded.head()"
   ]
  },
  {
   "cell_type": "code",
   "execution_count": 22,
   "metadata": {
    "execution": {
     "iopub.execute_input": "2024-11-05T16:59:41.665969Z",
     "iopub.status.busy": "2024-11-05T16:59:41.665588Z",
     "iopub.status.idle": "2024-11-05T16:59:41.674813Z",
     "shell.execute_reply": "2024-11-05T16:59:41.673858Z",
     "shell.execute_reply.started": "2024-11-05T16:59:41.665933Z"
    },
    "trusted": true
   },
   "outputs": [
    {
     "data": {
      "text/plain": [
       "22"
      ]
     },
     "execution_count": 22,
     "metadata": {},
     "output_type": "execute_result"
    }
   ],
   "source": [
    "y_train_encoded['final_output'].nunique()"
   ]
  },
  {
   "cell_type": "code",
   "execution_count": 23,
   "metadata": {
    "execution": {
     "iopub.execute_input": "2024-11-05T16:59:41.676030Z",
     "iopub.status.busy": "2024-11-05T16:59:41.675786Z",
     "iopub.status.idle": "2024-11-05T16:59:41.683457Z",
     "shell.execute_reply": "2024-11-05T16:59:41.682646Z",
     "shell.execute_reply.started": "2024-11-05T16:59:41.676008Z"
    },
    "trusted": true
   },
   "outputs": [
    {
     "data": {
      "text/plain": [
       "array(['00010', '00100', '00000', '00001', '01000', '10000', '00101',\n",
       "       '11000', '10100', '10001', '01100', '01101', '01001', '10101',\n",
       "       '10010', '11101', '11001', '00011', '11100', '10011', '01010',\n",
       "       '11110'], dtype=object)"
      ]
     },
     "execution_count": 23,
     "metadata": {},
     "output_type": "execute_result"
    }
   ],
   "source": [
    "y_train_encoded['final_output'].unique()"
   ]
  },
  {
   "cell_type": "code",
   "execution_count": 24,
   "metadata": {
    "execution": {
     "iopub.execute_input": "2024-11-05T16:59:41.685188Z",
     "iopub.status.busy": "2024-11-05T16:59:41.684820Z",
     "iopub.status.idle": "2024-11-05T16:59:41.694506Z",
     "shell.execute_reply": "2024-11-05T16:59:41.693211Z",
     "shell.execute_reply.started": "2024-11-05T16:59:41.685159Z"
    },
    "trusted": true
   },
   "outputs": [],
   "source": [
    "def adjust_classes(y_train):\n",
    "    var=y_train\n",
    "    if var == '00010':\n",
    "        var=0\n",
    "    elif var == '00100':\n",
    "        var =1\n",
    "    elif var== '00000':\n",
    "        var=2\n",
    "    elif var=='00001':\n",
    "        var =3\n",
    "    elif var =='01000':\n",
    "        var=4\n",
    "    elif var=='10000':\n",
    "        var =5\n",
    "    elif var =='00101':\n",
    "        var =6\n",
    "    elif var =='11000':\n",
    "        var=7\n",
    "    elif var =='10100':\n",
    "        var=8\n",
    "    elif var=='10001':\n",
    "        var =9\n",
    "    elif var =='01100':\n",
    "        var =10\n",
    "    elif var =='01101':\n",
    "        var =11\n",
    "    elif var=='01001':\n",
    "        var=21\n",
    "    elif var =='10101':\n",
    "        var=12\n",
    "    elif var =='10010':\n",
    "        var=13\n",
    "    elif var=='11101':\n",
    "        var=14\n",
    "    elif var=='11001':\n",
    "        var=15\n",
    "    elif var =='00011':\n",
    "        var=16\n",
    "    elif var=='11100':\n",
    "        var=17\n",
    "    elif var=='10011':\n",
    "        var=18\n",
    "    elif var =='01010':\n",
    "        var=19\n",
    "    elif var=='11110':\n",
    "        var=20\n",
    "    return var"
   ]
  },
  {
   "cell_type": "code",
   "execution_count": 25,
   "metadata": {
    "execution": {
     "iopub.execute_input": "2024-11-05T16:59:41.696211Z",
     "iopub.status.busy": "2024-11-05T16:59:41.695699Z",
     "iopub.status.idle": "2024-11-05T16:59:41.719808Z",
     "shell.execute_reply": "2024-11-05T16:59:41.719040Z",
     "shell.execute_reply.started": "2024-11-05T16:59:41.696176Z"
    },
    "trusted": true
   },
   "outputs": [],
   "source": [
    "y_train_encoded['final_output']=y_train_encoded['final_output'].apply(adjust_classes)"
   ]
  },
  {
   "cell_type": "code",
   "execution_count": 26,
   "metadata": {
    "execution": {
     "iopub.execute_input": "2024-11-05T16:59:41.721019Z",
     "iopub.status.busy": "2024-11-05T16:59:41.720793Z",
     "iopub.status.idle": "2024-11-05T16:59:41.733958Z",
     "shell.execute_reply": "2024-11-05T16:59:41.732908Z",
     "shell.execute_reply.started": "2024-11-05T16:59:41.720999Z"
    },
    "trusted": true
   },
   "outputs": [
    {
     "data": {
      "text/html": [
       "<div>\n",
       "<style scoped>\n",
       "    .dataframe tbody tr th:only-of-type {\n",
       "        vertical-align: middle;\n",
       "    }\n",
       "\n",
       "    .dataframe tbody tr th {\n",
       "        vertical-align: top;\n",
       "    }\n",
       "\n",
       "    .dataframe thead th {\n",
       "        text-align: right;\n",
       "    }\n",
       "</style>\n",
       "<table border=\"1\" class=\"dataframe\">\n",
       "  <thead>\n",
       "    <tr style=\"text-align: right;\">\n",
       "      <th></th>\n",
       "      <th>CD</th>\n",
       "      <th>HYP</th>\n",
       "      <th>MI</th>\n",
       "      <th>NORM</th>\n",
       "      <th>STTC</th>\n",
       "      <th>final_output</th>\n",
       "    </tr>\n",
       "  </thead>\n",
       "  <tbody>\n",
       "    <tr>\n",
       "      <th>0</th>\n",
       "      <td>0</td>\n",
       "      <td>0</td>\n",
       "      <td>0</td>\n",
       "      <td>1</td>\n",
       "      <td>0</td>\n",
       "      <td>0</td>\n",
       "    </tr>\n",
       "    <tr>\n",
       "      <th>1</th>\n",
       "      <td>0</td>\n",
       "      <td>0</td>\n",
       "      <td>0</td>\n",
       "      <td>1</td>\n",
       "      <td>0</td>\n",
       "      <td>0</td>\n",
       "    </tr>\n",
       "    <tr>\n",
       "      <th>2</th>\n",
       "      <td>0</td>\n",
       "      <td>0</td>\n",
       "      <td>0</td>\n",
       "      <td>1</td>\n",
       "      <td>0</td>\n",
       "      <td>0</td>\n",
       "    </tr>\n",
       "    <tr>\n",
       "      <th>3</th>\n",
       "      <td>0</td>\n",
       "      <td>0</td>\n",
       "      <td>0</td>\n",
       "      <td>1</td>\n",
       "      <td>0</td>\n",
       "      <td>0</td>\n",
       "    </tr>\n",
       "    <tr>\n",
       "      <th>4</th>\n",
       "      <td>0</td>\n",
       "      <td>0</td>\n",
       "      <td>0</td>\n",
       "      <td>1</td>\n",
       "      <td>0</td>\n",
       "      <td>0</td>\n",
       "    </tr>\n",
       "    <tr>\n",
       "      <th>...</th>\n",
       "      <td>...</td>\n",
       "      <td>...</td>\n",
       "      <td>...</td>\n",
       "      <td>...</td>\n",
       "      <td>...</td>\n",
       "      <td>...</td>\n",
       "    </tr>\n",
       "    <tr>\n",
       "      <th>19596</th>\n",
       "      <td>0</td>\n",
       "      <td>0</td>\n",
       "      <td>0</td>\n",
       "      <td>0</td>\n",
       "      <td>1</td>\n",
       "      <td>3</td>\n",
       "    </tr>\n",
       "    <tr>\n",
       "      <th>19597</th>\n",
       "      <td>0</td>\n",
       "      <td>0</td>\n",
       "      <td>0</td>\n",
       "      <td>1</td>\n",
       "      <td>0</td>\n",
       "      <td>0</td>\n",
       "    </tr>\n",
       "    <tr>\n",
       "      <th>19598</th>\n",
       "      <td>0</td>\n",
       "      <td>0</td>\n",
       "      <td>0</td>\n",
       "      <td>0</td>\n",
       "      <td>1</td>\n",
       "      <td>3</td>\n",
       "    </tr>\n",
       "    <tr>\n",
       "      <th>19599</th>\n",
       "      <td>0</td>\n",
       "      <td>0</td>\n",
       "      <td>0</td>\n",
       "      <td>1</td>\n",
       "      <td>0</td>\n",
       "      <td>0</td>\n",
       "    </tr>\n",
       "    <tr>\n",
       "      <th>19600</th>\n",
       "      <td>0</td>\n",
       "      <td>0</td>\n",
       "      <td>0</td>\n",
       "      <td>1</td>\n",
       "      <td>0</td>\n",
       "      <td>0</td>\n",
       "    </tr>\n",
       "  </tbody>\n",
       "</table>\n",
       "<p>19601 rows × 6 columns</p>\n",
       "</div>"
      ],
      "text/plain": [
       "       CD  HYP  MI  NORM  STTC  final_output\n",
       "0       0    0   0     1     0             0\n",
       "1       0    0   0     1     0             0\n",
       "2       0    0   0     1     0             0\n",
       "3       0    0   0     1     0             0\n",
       "4       0    0   0     1     0             0\n",
       "...    ..  ...  ..   ...   ...           ...\n",
       "19596   0    0   0     0     1             3\n",
       "19597   0    0   0     1     0             0\n",
       "19598   0    0   0     0     1             3\n",
       "19599   0    0   0     1     0             0\n",
       "19600   0    0   0     1     0             0\n",
       "\n",
       "[19601 rows x 6 columns]"
      ]
     },
     "execution_count": 26,
     "metadata": {},
     "output_type": "execute_result"
    }
   ],
   "source": [
    "y_train_encoded"
   ]
  },
  {
   "cell_type": "code",
   "execution_count": 27,
   "metadata": {
    "execution": {
     "iopub.execute_input": "2024-11-05T16:59:41.735654Z",
     "iopub.status.busy": "2024-11-05T16:59:41.735304Z",
     "iopub.status.idle": "2024-11-05T16:59:41.744851Z",
     "shell.execute_reply": "2024-11-05T16:59:41.743977Z",
     "shell.execute_reply.started": "2024-11-05T16:59:41.735621Z"
    },
    "trusted": true
   },
   "outputs": [
    {
     "data": {
      "text/plain": [
       "final_output\n",
       "0     8157\n",
       "1     2276\n",
       "3     2158\n",
       "5     1524\n",
       "8     1164\n",
       "21     708\n",
       "6      538\n",
       "4      479\n",
       "9      433\n",
       "2      371\n",
       "13     362\n",
       "11     320\n",
       "7      273\n",
       "12     202\n",
       "15     186\n",
       "10     166\n",
       "14     140\n",
       "17     112\n",
       "16      24\n",
       "18       5\n",
       "19       2\n",
       "20       1\n",
       "Name: count, dtype: int64"
      ]
     },
     "execution_count": 27,
     "metadata": {},
     "output_type": "execute_result"
    }
   ],
   "source": [
    "y_train_encoded['final_output'].value_counts()"
   ]
  },
  {
   "cell_type": "code",
   "execution_count": 28,
   "metadata": {
    "execution": {
     "iopub.execute_input": "2024-11-05T16:59:41.751190Z",
     "iopub.status.busy": "2024-11-05T16:59:41.750507Z",
     "iopub.status.idle": "2024-11-05T16:59:41.754801Z",
     "shell.execute_reply": "2024-11-05T16:59:41.753903Z",
     "shell.execute_reply.started": "2024-11-05T16:59:41.751163Z"
    },
    "trusted": true
   },
   "outputs": [],
   "source": [
    "from sklearn.preprocessing import StandardScaler\n",
    "scaler=StandardScaler()"
   ]
  },
  {
   "cell_type": "code",
   "execution_count": 29,
   "metadata": {
    "execution": {
     "iopub.execute_input": "2024-11-05T16:59:41.756151Z",
     "iopub.status.busy": "2024-11-05T16:59:41.755839Z",
     "iopub.status.idle": "2024-11-05T16:59:41.761847Z",
     "shell.execute_reply": "2024-11-05T16:59:41.761032Z",
     "shell.execute_reply.started": "2024-11-05T16:59:41.756127Z"
    },
    "trusted": true
   },
   "outputs": [],
   "source": [
    "x_train_normalization=X_train.reshape(-1,1000*12)"
   ]
  },
  {
   "cell_type": "code",
   "execution_count": 30,
   "metadata": {
    "execution": {
     "iopub.execute_input": "2024-11-05T16:59:41.763217Z",
     "iopub.status.busy": "2024-11-05T16:59:41.762890Z",
     "iopub.status.idle": "2024-11-05T16:59:44.759711Z",
     "shell.execute_reply": "2024-11-05T16:59:44.758753Z",
     "shell.execute_reply.started": "2024-11-05T16:59:41.763184Z"
    },
    "trusted": true
   },
   "outputs": [],
   "source": [
    "x_train=scaler.fit_transform(x_train_normalization)\n",
    "x_train_normalized=x_train.reshape(19601,1000,12)"
   ]
  },
  {
   "cell_type": "code",
   "execution_count": 31,
   "metadata": {
    "execution": {
     "iopub.execute_input": "2024-11-05T16:59:44.761527Z",
     "iopub.status.busy": "2024-11-05T16:59:44.761228Z",
     "iopub.status.idle": "2024-11-05T16:59:44.768737Z",
     "shell.execute_reply": "2024-11-05T16:59:44.767895Z",
     "shell.execute_reply.started": "2024-11-05T16:59:44.761501Z"
    },
    "trusted": true
   },
   "outputs": [
    {
     "data": {
      "text/plain": [
       "NORM\n",
       "0    11050\n",
       "1     8551\n",
       "Name: count, dtype: int64"
      ]
     },
     "execution_count": 31,
     "metadata": {},
     "output_type": "execute_result"
    }
   ],
   "source": [
    "class_distribution_norm=y_train_encoded['NORM'].value_counts()\n",
    "class_distribution_norm"
   ]
  },
  {
   "cell_type": "code",
   "execution_count": 32,
   "metadata": {
    "execution": {
     "iopub.execute_input": "2024-11-05T16:59:44.770214Z",
     "iopub.status.busy": "2024-11-05T16:59:44.769922Z",
     "iopub.status.idle": "2024-11-05T16:59:44.779757Z",
     "shell.execute_reply": "2024-11-05T16:59:44.778973Z",
     "shell.execute_reply.started": "2024-11-05T16:59:44.770190Z"
    },
    "trusted": true
   },
   "outputs": [
    {
     "data": {
      "text/plain": [
       "CD\n",
       "0    15199\n",
       "1     4402\n",
       "Name: count, dtype: int64"
      ]
     },
     "execution_count": 32,
     "metadata": {},
     "output_type": "execute_result"
    }
   ],
   "source": [
    "class_distribution_cd=y_train_encoded['CD'].value_counts()\n",
    "class_distribution_cd"
   ]
  },
  {
   "cell_type": "code",
   "execution_count": 33,
   "metadata": {
    "execution": {
     "iopub.execute_input": "2024-11-05T16:59:44.781146Z",
     "iopub.status.busy": "2024-11-05T16:59:44.780838Z",
     "iopub.status.idle": "2024-11-05T16:59:44.789974Z",
     "shell.execute_reply": "2024-11-05T16:59:44.789122Z",
     "shell.execute_reply.started": "2024-11-05T16:59:44.781122Z"
    },
    "trusted": true
   },
   "outputs": [
    {
     "data": {
      "text/plain": [
       "HYP\n",
       "0    17214\n",
       "1     2387\n",
       "Name: count, dtype: int64"
      ]
     },
     "execution_count": 33,
     "metadata": {},
     "output_type": "execute_result"
    }
   ],
   "source": [
    "class_distribution_hyp=y_train_encoded['HYP'].value_counts()\n",
    "class_distribution_hyp"
   ]
  },
  {
   "cell_type": "code",
   "execution_count": 34,
   "metadata": {
    "execution": {
     "iopub.execute_input": "2024-11-05T16:59:44.791389Z",
     "iopub.status.busy": "2024-11-05T16:59:44.791102Z",
     "iopub.status.idle": "2024-11-05T16:59:44.799500Z",
     "shell.execute_reply": "2024-11-05T16:59:44.798646Z",
     "shell.execute_reply.started": "2024-11-05T16:59:44.791365Z"
    },
    "trusted": true
   },
   "outputs": [
    {
     "data": {
      "text/plain": [
       "MI\n",
       "0    14682\n",
       "1     4919\n",
       "Name: count, dtype: int64"
      ]
     },
     "execution_count": 34,
     "metadata": {},
     "output_type": "execute_result"
    }
   ],
   "source": [
    "class_distribution_mi=y_train_encoded['MI'].value_counts()\n",
    "class_distribution_mi"
   ]
  },
  {
   "cell_type": "code",
   "execution_count": 35,
   "metadata": {
    "execution": {
     "iopub.execute_input": "2024-11-05T16:59:44.800924Z",
     "iopub.status.busy": "2024-11-05T16:59:44.800619Z",
     "iopub.status.idle": "2024-11-05T16:59:44.809313Z",
     "shell.execute_reply": "2024-11-05T16:59:44.808430Z",
     "shell.execute_reply.started": "2024-11-05T16:59:44.800891Z"
    },
    "trusted": true
   },
   "outputs": [
    {
     "data": {
      "text/plain": [
       "STTC\n",
       "0    14887\n",
       "1     4714\n",
       "Name: count, dtype: int64"
      ]
     },
     "execution_count": 35,
     "metadata": {},
     "output_type": "execute_result"
    }
   ],
   "source": [
    "class_distribution_sttc=y_train_encoded['STTC'].value_counts()\n",
    "class_distribution_sttc"
   ]
  },
  {
   "cell_type": "code",
   "execution_count": 36,
   "metadata": {
    "execution": {
     "iopub.execute_input": "2024-11-05T16:59:44.811219Z",
     "iopub.status.busy": "2024-11-05T16:59:44.810366Z",
     "iopub.status.idle": "2024-11-05T16:59:45.264584Z",
     "shell.execute_reply": "2024-11-05T16:59:45.263799Z",
     "shell.execute_reply.started": "2024-11-05T16:59:44.811188Z"
    },
    "trusted": true
   },
   "outputs": [],
   "source": [
    "indices_0 = np.where(y_train_encoded['NORM'] == 0)[0] \n",
    "indices_1 = np.where(y_train_encoded['NORM'] == 1)[0]\n",
    "selected_indices_0=np.random.choice(indices_0, 4000, replace=False)\n",
    "selected_indices_1=np.random.choice(indices_1, 4000, replace=False)\n",
    "x_train_norm0=X_train[selected_indices_0]\n",
    "x_train_norm1=X_train[selected_indices_1]\n",
    "y_train_norm0=y_train_encoded.iloc[selected_indices_0,3]\n",
    "y_train_norm1=y_train_encoded.iloc[selected_indices_1,3]\n",
    "x_train= np.concatenate([x_train_norm0, x_train_norm1], axis=0)\n",
    "y_train=np.concatenate([y_train_norm0, y_train_norm1], axis=0)"
   ]
  },
  {
   "cell_type": "code",
   "execution_count": 37,
   "metadata": {
    "execution": {
     "iopub.execute_input": "2024-11-05T16:59:45.265933Z",
     "iopub.status.busy": "2024-11-05T16:59:45.265658Z",
     "iopub.status.idle": "2024-11-05T16:59:45.271663Z",
     "shell.execute_reply": "2024-11-05T16:59:45.270748Z",
     "shell.execute_reply.started": "2024-11-05T16:59:45.265909Z"
    },
    "trusted": true
   },
   "outputs": [
    {
     "data": {
      "text/plain": [
       "(8000,)"
      ]
     },
     "execution_count": 37,
     "metadata": {},
     "output_type": "execute_result"
    }
   ],
   "source": [
    "y_train.shape"
   ]
  },
  {
   "cell_type": "code",
   "execution_count": 38,
   "metadata": {
    "execution": {
     "iopub.execute_input": "2024-11-05T16:59:45.273145Z",
     "iopub.status.busy": "2024-11-05T16:59:45.272800Z",
     "iopub.status.idle": "2024-11-05T16:59:45.280190Z",
     "shell.execute_reply": "2024-11-05T16:59:45.279270Z",
     "shell.execute_reply.started": "2024-11-05T16:59:45.273121Z"
    },
    "trusted": true
   },
   "outputs": [
    {
     "data": {
      "text/plain": [
       "(8000, 1000, 12)"
      ]
     },
     "execution_count": 38,
     "metadata": {},
     "output_type": "execute_result"
    }
   ],
   "source": [
    "x_train.shape"
   ]
  },
  {
   "cell_type": "code",
   "execution_count": null,
   "metadata": {
    "execution": {
     "iopub.execute_input": "2024-11-05T18:42:34.935765Z",
     "iopub.status.busy": "2024-11-05T18:42:34.935404Z",
     "iopub.status.idle": "2024-11-05T18:44:57.318559Z",
     "shell.execute_reply": "2024-11-05T18:44:57.317617Z",
     "shell.execute_reply.started": "2024-11-05T18:42:34.935734Z"
    },
    "trusted": true
   },
   "outputs": [
    {
     "name": "stderr",
     "output_type": "stream",
     "text": [
      "/opt/conda/lib/python3.10/site-packages/keras/src/layers/activations/leaky_relu.py:41: UserWarning: Argument `alpha` is deprecated. Use `negative_slope` instead.\n",
      "  warnings.warn(\n"
     ]
    },
    {
     "data": {
      "text/html": [
       "<pre style=\"white-space:pre;overflow-x:auto;line-height:normal;font-family:Menlo,'DejaVu Sans Mono',consolas,'Courier New',monospace\"><span style=\"font-weight: bold\">Model: \"sequential_9\"</span>\n",
       "</pre>\n"
      ],
      "text/plain": [
       "\u001b[1mModel: \"sequential_9\"\u001b[0m\n"
      ]
     },
     "metadata": {},
     "output_type": "display_data"
    },
    {
     "data": {
      "text/html": [
       "<pre style=\"white-space:pre;overflow-x:auto;line-height:normal;font-family:Menlo,'DejaVu Sans Mono',consolas,'Courier New',monospace\">┏━━━━━━━━━━━━━━━━━━━━━━━━━━━━━━━━━┳━━━━━━━━━━━━━━━━━━━━━━━━┳━━━━━━━━━━━━━━━┓\n",
       "┃<span style=\"font-weight: bold\"> Layer (type)                    </span>┃<span style=\"font-weight: bold\"> Output Shape           </span>┃<span style=\"font-weight: bold\">       Param # </span>┃\n",
       "┡━━━━━━━━━━━━━━━━━━━━━━━━━━━━━━━━━╇━━━━━━━━━━━━━━━━━━━━━━━━╇━━━━━━━━━━━━━━━┩\n",
       "│ conv1d_28 (<span style=\"color: #0087ff; text-decoration-color: #0087ff\">Conv1D</span>)              │ (<span style=\"color: #00d7ff; text-decoration-color: #00d7ff\">None</span>, <span style=\"color: #00af00; text-decoration-color: #00af00\">996</span>, <span style=\"color: #00af00; text-decoration-color: #00af00\">64</span>)        │         <span style=\"color: #00af00; text-decoration-color: #00af00\">3,904</span> │\n",
       "├─────────────────────────────────┼────────────────────────┼───────────────┤\n",
       "│ batch_normalization_32          │ (<span style=\"color: #00d7ff; text-decoration-color: #00d7ff\">None</span>, <span style=\"color: #00af00; text-decoration-color: #00af00\">996</span>, <span style=\"color: #00af00; text-decoration-color: #00af00\">64</span>)        │           <span style=\"color: #00af00; text-decoration-color: #00af00\">256</span> │\n",
       "│ (<span style=\"color: #0087ff; text-decoration-color: #0087ff\">BatchNormalization</span>)            │                        │               │\n",
       "├─────────────────────────────────┼────────────────────────┼───────────────┤\n",
       "│ leaky_re_lu (<span style=\"color: #0087ff; text-decoration-color: #0087ff\">LeakyReLU</span>)         │ (<span style=\"color: #00d7ff; text-decoration-color: #00d7ff\">None</span>, <span style=\"color: #00af00; text-decoration-color: #00af00\">996</span>, <span style=\"color: #00af00; text-decoration-color: #00af00\">64</span>)        │             <span style=\"color: #00af00; text-decoration-color: #00af00\">0</span> │\n",
       "├─────────────────────────────────┼────────────────────────┼───────────────┤\n",
       "│ conv1d_29 (<span style=\"color: #0087ff; text-decoration-color: #0087ff\">Conv1D</span>)              │ (<span style=\"color: #00d7ff; text-decoration-color: #00d7ff\">None</span>, <span style=\"color: #00af00; text-decoration-color: #00af00\">994</span>, <span style=\"color: #00af00; text-decoration-color: #00af00\">128</span>)       │        <span style=\"color: #00af00; text-decoration-color: #00af00\">24,704</span> │\n",
       "├─────────────────────────────────┼────────────────────────┼───────────────┤\n",
       "│ batch_normalization_33          │ (<span style=\"color: #00d7ff; text-decoration-color: #00d7ff\">None</span>, <span style=\"color: #00af00; text-decoration-color: #00af00\">994</span>, <span style=\"color: #00af00; text-decoration-color: #00af00\">128</span>)       │           <span style=\"color: #00af00; text-decoration-color: #00af00\">512</span> │\n",
       "│ (<span style=\"color: #0087ff; text-decoration-color: #0087ff\">BatchNormalization</span>)            │                        │               │\n",
       "├─────────────────────────────────┼────────────────────────┼───────────────┤\n",
       "│ leaky_re_lu_1 (<span style=\"color: #0087ff; text-decoration-color: #0087ff\">LeakyReLU</span>)       │ (<span style=\"color: #00d7ff; text-decoration-color: #00d7ff\">None</span>, <span style=\"color: #00af00; text-decoration-color: #00af00\">994</span>, <span style=\"color: #00af00; text-decoration-color: #00af00\">128</span>)       │             <span style=\"color: #00af00; text-decoration-color: #00af00\">0</span> │\n",
       "├─────────────────────────────────┼────────────────────────┼───────────────┤\n",
       "│ max_pooling1d_27 (<span style=\"color: #0087ff; text-decoration-color: #0087ff\">MaxPooling1D</span>) │ (<span style=\"color: #00d7ff; text-decoration-color: #00d7ff\">None</span>, <span style=\"color: #00af00; text-decoration-color: #00af00\">497</span>, <span style=\"color: #00af00; text-decoration-color: #00af00\">128</span>)       │             <span style=\"color: #00af00; text-decoration-color: #00af00\">0</span> │\n",
       "├─────────────────────────────────┼────────────────────────┼───────────────┤\n",
       "│ conv1d_30 (<span style=\"color: #0087ff; text-decoration-color: #0087ff\">Conv1D</span>)              │ (<span style=\"color: #00d7ff; text-decoration-color: #00d7ff\">None</span>, <span style=\"color: #00af00; text-decoration-color: #00af00\">495</span>, <span style=\"color: #00af00; text-decoration-color: #00af00\">256</span>)       │        <span style=\"color: #00af00; text-decoration-color: #00af00\">98,560</span> │\n",
       "├─────────────────────────────────┼────────────────────────┼───────────────┤\n",
       "│ batch_normalization_34          │ (<span style=\"color: #00d7ff; text-decoration-color: #00d7ff\">None</span>, <span style=\"color: #00af00; text-decoration-color: #00af00\">495</span>, <span style=\"color: #00af00; text-decoration-color: #00af00\">256</span>)       │         <span style=\"color: #00af00; text-decoration-color: #00af00\">1,024</span> │\n",
       "│ (<span style=\"color: #0087ff; text-decoration-color: #0087ff\">BatchNormalization</span>)            │                        │               │\n",
       "├─────────────────────────────────┼────────────────────────┼───────────────┤\n",
       "│ leaky_re_lu_2 (<span style=\"color: #0087ff; text-decoration-color: #0087ff\">LeakyReLU</span>)       │ (<span style=\"color: #00d7ff; text-decoration-color: #00d7ff\">None</span>, <span style=\"color: #00af00; text-decoration-color: #00af00\">495</span>, <span style=\"color: #00af00; text-decoration-color: #00af00\">256</span>)       │             <span style=\"color: #00af00; text-decoration-color: #00af00\">0</span> │\n",
       "├─────────────────────────────────┼────────────────────────┼───────────────┤\n",
       "│ max_pooling1d_28 (<span style=\"color: #0087ff; text-decoration-color: #0087ff\">MaxPooling1D</span>) │ (<span style=\"color: #00d7ff; text-decoration-color: #00d7ff\">None</span>, <span style=\"color: #00af00; text-decoration-color: #00af00\">247</span>, <span style=\"color: #00af00; text-decoration-color: #00af00\">256</span>)       │             <span style=\"color: #00af00; text-decoration-color: #00af00\">0</span> │\n",
       "├─────────────────────────────────┼────────────────────────┼───────────────┤\n",
       "│ conv1d_31 (<span style=\"color: #0087ff; text-decoration-color: #0087ff\">Conv1D</span>)              │ (<span style=\"color: #00d7ff; text-decoration-color: #00d7ff\">None</span>, <span style=\"color: #00af00; text-decoration-color: #00af00\">245</span>, <span style=\"color: #00af00; text-decoration-color: #00af00\">512</span>)       │       <span style=\"color: #00af00; text-decoration-color: #00af00\">393,728</span> │\n",
       "├─────────────────────────────────┼────────────────────────┼───────────────┤\n",
       "│ batch_normalization_35          │ (<span style=\"color: #00d7ff; text-decoration-color: #00d7ff\">None</span>, <span style=\"color: #00af00; text-decoration-color: #00af00\">245</span>, <span style=\"color: #00af00; text-decoration-color: #00af00\">512</span>)       │         <span style=\"color: #00af00; text-decoration-color: #00af00\">2,048</span> │\n",
       "│ (<span style=\"color: #0087ff; text-decoration-color: #0087ff\">BatchNormalization</span>)            │                        │               │\n",
       "├─────────────────────────────────┼────────────────────────┼───────────────┤\n",
       "│ leaky_re_lu_3 (<span style=\"color: #0087ff; text-decoration-color: #0087ff\">LeakyReLU</span>)       │ (<span style=\"color: #00d7ff; text-decoration-color: #00d7ff\">None</span>, <span style=\"color: #00af00; text-decoration-color: #00af00\">245</span>, <span style=\"color: #00af00; text-decoration-color: #00af00\">512</span>)       │             <span style=\"color: #00af00; text-decoration-color: #00af00\">0</span> │\n",
       "├─────────────────────────────────┼────────────────────────┼───────────────┤\n",
       "│ max_pooling1d_29 (<span style=\"color: #0087ff; text-decoration-color: #0087ff\">MaxPooling1D</span>) │ (<span style=\"color: #00d7ff; text-decoration-color: #00d7ff\">None</span>, <span style=\"color: #00af00; text-decoration-color: #00af00\">122</span>, <span style=\"color: #00af00; text-decoration-color: #00af00\">512</span>)       │             <span style=\"color: #00af00; text-decoration-color: #00af00\">0</span> │\n",
       "├─────────────────────────────────┼────────────────────────┼───────────────┤\n",
       "│ global_average_pooling1d_1      │ (<span style=\"color: #00d7ff; text-decoration-color: #00d7ff\">None</span>, <span style=\"color: #00af00; text-decoration-color: #00af00\">512</span>)            │             <span style=\"color: #00af00; text-decoration-color: #00af00\">0</span> │\n",
       "│ (<span style=\"color: #0087ff; text-decoration-color: #0087ff\">GlobalAveragePooling1D</span>)        │                        │               │\n",
       "├─────────────────────────────────┼────────────────────────┼───────────────┤\n",
       "│ dense_21 (<span style=\"color: #0087ff; text-decoration-color: #0087ff\">Dense</span>)                │ (<span style=\"color: #00d7ff; text-decoration-color: #00d7ff\">None</span>, <span style=\"color: #00af00; text-decoration-color: #00af00\">256</span>)            │       <span style=\"color: #00af00; text-decoration-color: #00af00\">131,328</span> │\n",
       "├─────────────────────────────────┼────────────────────────┼───────────────┤\n",
       "│ dropout_31 (<span style=\"color: #0087ff; text-decoration-color: #0087ff\">Dropout</span>)            │ (<span style=\"color: #00d7ff; text-decoration-color: #00d7ff\">None</span>, <span style=\"color: #00af00; text-decoration-color: #00af00\">256</span>)            │             <span style=\"color: #00af00; text-decoration-color: #00af00\">0</span> │\n",
       "├─────────────────────────────────┼────────────────────────┼───────────────┤\n",
       "│ dense_22 (<span style=\"color: #0087ff; text-decoration-color: #0087ff\">Dense</span>)                │ (<span style=\"color: #00d7ff; text-decoration-color: #00d7ff\">None</span>, <span style=\"color: #00af00; text-decoration-color: #00af00\">128</span>)            │        <span style=\"color: #00af00; text-decoration-color: #00af00\">32,896</span> │\n",
       "├─────────────────────────────────┼────────────────────────┼───────────────┤\n",
       "│ dropout_32 (<span style=\"color: #0087ff; text-decoration-color: #0087ff\">Dropout</span>)            │ (<span style=\"color: #00d7ff; text-decoration-color: #00d7ff\">None</span>, <span style=\"color: #00af00; text-decoration-color: #00af00\">128</span>)            │             <span style=\"color: #00af00; text-decoration-color: #00af00\">0</span> │\n",
       "├─────────────────────────────────┼────────────────────────┼───────────────┤\n",
       "│ dense_23 (<span style=\"color: #0087ff; text-decoration-color: #0087ff\">Dense</span>)                │ (<span style=\"color: #00d7ff; text-decoration-color: #00d7ff\">None</span>, <span style=\"color: #00af00; text-decoration-color: #00af00\">1</span>)              │           <span style=\"color: #00af00; text-decoration-color: #00af00\">129</span> │\n",
       "└─────────────────────────────────┴────────────────────────┴───────────────┘\n",
       "</pre>\n"
      ],
      "text/plain": [
       "┏━━━━━━━━━━━━━━━━━━━━━━━━━━━━━━━━━┳━━━━━━━━━━━━━━━━━━━━━━━━┳━━━━━━━━━━━━━━━┓\n",
       "┃\u001b[1m \u001b[0m\u001b[1mLayer (type)                   \u001b[0m\u001b[1m \u001b[0m┃\u001b[1m \u001b[0m\u001b[1mOutput Shape          \u001b[0m\u001b[1m \u001b[0m┃\u001b[1m \u001b[0m\u001b[1m      Param #\u001b[0m\u001b[1m \u001b[0m┃\n",
       "┡━━━━━━━━━━━━━━━━━━━━━━━━━━━━━━━━━╇━━━━━━━━━━━━━━━━━━━━━━━━╇━━━━━━━━━━━━━━━┩\n",
       "│ conv1d_28 (\u001b[38;5;33mConv1D\u001b[0m)              │ (\u001b[38;5;45mNone\u001b[0m, \u001b[38;5;34m996\u001b[0m, \u001b[38;5;34m64\u001b[0m)        │         \u001b[38;5;34m3,904\u001b[0m │\n",
       "├─────────────────────────────────┼────────────────────────┼───────────────┤\n",
       "│ batch_normalization_32          │ (\u001b[38;5;45mNone\u001b[0m, \u001b[38;5;34m996\u001b[0m, \u001b[38;5;34m64\u001b[0m)        │           \u001b[38;5;34m256\u001b[0m │\n",
       "│ (\u001b[38;5;33mBatchNormalization\u001b[0m)            │                        │               │\n",
       "├─────────────────────────────────┼────────────────────────┼───────────────┤\n",
       "│ leaky_re_lu (\u001b[38;5;33mLeakyReLU\u001b[0m)         │ (\u001b[38;5;45mNone\u001b[0m, \u001b[38;5;34m996\u001b[0m, \u001b[38;5;34m64\u001b[0m)        │             \u001b[38;5;34m0\u001b[0m │\n",
       "├─────────────────────────────────┼────────────────────────┼───────────────┤\n",
       "│ conv1d_29 (\u001b[38;5;33mConv1D\u001b[0m)              │ (\u001b[38;5;45mNone\u001b[0m, \u001b[38;5;34m994\u001b[0m, \u001b[38;5;34m128\u001b[0m)       │        \u001b[38;5;34m24,704\u001b[0m │\n",
       "├─────────────────────────────────┼────────────────────────┼───────────────┤\n",
       "│ batch_normalization_33          │ (\u001b[38;5;45mNone\u001b[0m, \u001b[38;5;34m994\u001b[0m, \u001b[38;5;34m128\u001b[0m)       │           \u001b[38;5;34m512\u001b[0m │\n",
       "│ (\u001b[38;5;33mBatchNormalization\u001b[0m)            │                        │               │\n",
       "├─────────────────────────────────┼────────────────────────┼───────────────┤\n",
       "│ leaky_re_lu_1 (\u001b[38;5;33mLeakyReLU\u001b[0m)       │ (\u001b[38;5;45mNone\u001b[0m, \u001b[38;5;34m994\u001b[0m, \u001b[38;5;34m128\u001b[0m)       │             \u001b[38;5;34m0\u001b[0m │\n",
       "├─────────────────────────────────┼────────────────────────┼───────────────┤\n",
       "│ max_pooling1d_27 (\u001b[38;5;33mMaxPooling1D\u001b[0m) │ (\u001b[38;5;45mNone\u001b[0m, \u001b[38;5;34m497\u001b[0m, \u001b[38;5;34m128\u001b[0m)       │             \u001b[38;5;34m0\u001b[0m │\n",
       "├─────────────────────────────────┼────────────────────────┼───────────────┤\n",
       "│ conv1d_30 (\u001b[38;5;33mConv1D\u001b[0m)              │ (\u001b[38;5;45mNone\u001b[0m, \u001b[38;5;34m495\u001b[0m, \u001b[38;5;34m256\u001b[0m)       │        \u001b[38;5;34m98,560\u001b[0m │\n",
       "├─────────────────────────────────┼────────────────────────┼───────────────┤\n",
       "│ batch_normalization_34          │ (\u001b[38;5;45mNone\u001b[0m, \u001b[38;5;34m495\u001b[0m, \u001b[38;5;34m256\u001b[0m)       │         \u001b[38;5;34m1,024\u001b[0m │\n",
       "│ (\u001b[38;5;33mBatchNormalization\u001b[0m)            │                        │               │\n",
       "├─────────────────────────────────┼────────────────────────┼───────────────┤\n",
       "│ leaky_re_lu_2 (\u001b[38;5;33mLeakyReLU\u001b[0m)       │ (\u001b[38;5;45mNone\u001b[0m, \u001b[38;5;34m495\u001b[0m, \u001b[38;5;34m256\u001b[0m)       │             \u001b[38;5;34m0\u001b[0m │\n",
       "├─────────────────────────────────┼────────────────────────┼───────────────┤\n",
       "│ max_pooling1d_28 (\u001b[38;5;33mMaxPooling1D\u001b[0m) │ (\u001b[38;5;45mNone\u001b[0m, \u001b[38;5;34m247\u001b[0m, \u001b[38;5;34m256\u001b[0m)       │             \u001b[38;5;34m0\u001b[0m │\n",
       "├─────────────────────────────────┼────────────────────────┼───────────────┤\n",
       "│ conv1d_31 (\u001b[38;5;33mConv1D\u001b[0m)              │ (\u001b[38;5;45mNone\u001b[0m, \u001b[38;5;34m245\u001b[0m, \u001b[38;5;34m512\u001b[0m)       │       \u001b[38;5;34m393,728\u001b[0m │\n",
       "├─────────────────────────────────┼────────────────────────┼───────────────┤\n",
       "│ batch_normalization_35          │ (\u001b[38;5;45mNone\u001b[0m, \u001b[38;5;34m245\u001b[0m, \u001b[38;5;34m512\u001b[0m)       │         \u001b[38;5;34m2,048\u001b[0m │\n",
       "│ (\u001b[38;5;33mBatchNormalization\u001b[0m)            │                        │               │\n",
       "├─────────────────────────────────┼────────────────────────┼───────────────┤\n",
       "│ leaky_re_lu_3 (\u001b[38;5;33mLeakyReLU\u001b[0m)       │ (\u001b[38;5;45mNone\u001b[0m, \u001b[38;5;34m245\u001b[0m, \u001b[38;5;34m512\u001b[0m)       │             \u001b[38;5;34m0\u001b[0m │\n",
       "├─────────────────────────────────┼────────────────────────┼───────────────┤\n",
       "│ max_pooling1d_29 (\u001b[38;5;33mMaxPooling1D\u001b[0m) │ (\u001b[38;5;45mNone\u001b[0m, \u001b[38;5;34m122\u001b[0m, \u001b[38;5;34m512\u001b[0m)       │             \u001b[38;5;34m0\u001b[0m │\n",
       "├─────────────────────────────────┼────────────────────────┼───────────────┤\n",
       "│ global_average_pooling1d_1      │ (\u001b[38;5;45mNone\u001b[0m, \u001b[38;5;34m512\u001b[0m)            │             \u001b[38;5;34m0\u001b[0m │\n",
       "│ (\u001b[38;5;33mGlobalAveragePooling1D\u001b[0m)        │                        │               │\n",
       "├─────────────────────────────────┼────────────────────────┼───────────────┤\n",
       "│ dense_21 (\u001b[38;5;33mDense\u001b[0m)                │ (\u001b[38;5;45mNone\u001b[0m, \u001b[38;5;34m256\u001b[0m)            │       \u001b[38;5;34m131,328\u001b[0m │\n",
       "├─────────────────────────────────┼────────────────────────┼───────────────┤\n",
       "│ dropout_31 (\u001b[38;5;33mDropout\u001b[0m)            │ (\u001b[38;5;45mNone\u001b[0m, \u001b[38;5;34m256\u001b[0m)            │             \u001b[38;5;34m0\u001b[0m │\n",
       "├─────────────────────────────────┼────────────────────────┼───────────────┤\n",
       "│ dense_22 (\u001b[38;5;33mDense\u001b[0m)                │ (\u001b[38;5;45mNone\u001b[0m, \u001b[38;5;34m128\u001b[0m)            │        \u001b[38;5;34m32,896\u001b[0m │\n",
       "├─────────────────────────────────┼────────────────────────┼───────────────┤\n",
       "│ dropout_32 (\u001b[38;5;33mDropout\u001b[0m)            │ (\u001b[38;5;45mNone\u001b[0m, \u001b[38;5;34m128\u001b[0m)            │             \u001b[38;5;34m0\u001b[0m │\n",
       "├─────────────────────────────────┼────────────────────────┼───────────────┤\n",
       "│ dense_23 (\u001b[38;5;33mDense\u001b[0m)                │ (\u001b[38;5;45mNone\u001b[0m, \u001b[38;5;34m1\u001b[0m)              │           \u001b[38;5;34m129\u001b[0m │\n",
       "└─────────────────────────────────┴────────────────────────┴───────────────┘\n"
      ]
     },
     "metadata": {},
     "output_type": "display_data"
    },
    {
     "data": {
      "text/html": [
       "<pre style=\"white-space:pre;overflow-x:auto;line-height:normal;font-family:Menlo,'DejaVu Sans Mono',consolas,'Courier New',monospace\"><span style=\"font-weight: bold\"> Total params: </span><span style=\"color: #00af00; text-decoration-color: #00af00\">689,089</span> (2.63 MB)\n",
       "</pre>\n"
      ],
      "text/plain": [
       "\u001b[1m Total params: \u001b[0m\u001b[38;5;34m689,089\u001b[0m (2.63 MB)\n"
      ]
     },
     "metadata": {},
     "output_type": "display_data"
    },
    {
     "data": {
      "text/html": [
       "<pre style=\"white-space:pre;overflow-x:auto;line-height:normal;font-family:Menlo,'DejaVu Sans Mono',consolas,'Courier New',monospace\"><span style=\"font-weight: bold\"> Trainable params: </span><span style=\"color: #00af00; text-decoration-color: #00af00\">687,169</span> (2.62 MB)\n",
       "</pre>\n"
      ],
      "text/plain": [
       "\u001b[1m Trainable params: \u001b[0m\u001b[38;5;34m687,169\u001b[0m (2.62 MB)\n"
      ]
     },
     "metadata": {},
     "output_type": "display_data"
    },
    {
     "data": {
      "text/html": [
       "<pre style=\"white-space:pre;overflow-x:auto;line-height:normal;font-family:Menlo,'DejaVu Sans Mono',consolas,'Courier New',monospace\"><span style=\"font-weight: bold\"> Non-trainable params: </span><span style=\"color: #00af00; text-decoration-color: #00af00\">1,920</span> (7.50 KB)\n",
       "</pre>\n"
      ],
      "text/plain": [
       "\u001b[1m Non-trainable params: \u001b[0m\u001b[38;5;34m1,920\u001b[0m (7.50 KB)\n"
      ]
     },
     "metadata": {},
     "output_type": "display_data"
    },
    {
     "name": "stdout",
     "output_type": "stream",
     "text": [
      "Epoch 1/100\n",
      "\u001b[1m160/160\u001b[0m \u001b[32m━━━━━━━━━━━━━━━━━━━━\u001b[0m\u001b[37m\u001b[0m \u001b[1m13s\u001b[0m 27ms/step - accuracy: 0.7559 - loss: 0.9054 - val_accuracy: 0.7430 - val_loss: 0.6963 - learning_rate: 0.0010\n",
      "Epoch 2/100\n",
      "\u001b[1m160/160\u001b[0m \u001b[32m━━━━━━━━━━━━━━━━━━━━\u001b[0m\u001b[37m\u001b[0m \u001b[1m3s\u001b[0m 22ms/step - accuracy: 0.8196 - loss: 0.5996 - val_accuracy: 0.8094 - val_loss: 0.5368 - learning_rate: 0.0010\n",
      "Epoch 3/100\n",
      "\u001b[1m160/160\u001b[0m \u001b[32m━━━━━━━━━━━━━━━━━━━━\u001b[0m\u001b[37m\u001b[0m \u001b[1m3s\u001b[0m 22ms/step - accuracy: 0.8392 - loss: 0.4949 - val_accuracy: 0.8305 - val_loss: 0.4785 - learning_rate: 0.0010\n",
      "Epoch 4/100\n",
      "\u001b[1m160/160\u001b[0m \u001b[32m━━━━━━━━━━━━━━━━━━━━\u001b[0m\u001b[37m\u001b[0m \u001b[1m3s\u001b[0m 22ms/step - accuracy: 0.8528 - loss: 0.4404 - val_accuracy: 0.8492 - val_loss: 0.4180 - learning_rate: 0.0010\n",
      "Epoch 5/100\n",
      "\u001b[1m160/160\u001b[0m \u001b[32m━━━━━━━━━━━━━━━━━━━━\u001b[0m\u001b[37m\u001b[0m \u001b[1m3s\u001b[0m 22ms/step - accuracy: 0.8650 - loss: 0.3844 - val_accuracy: 0.8602 - val_loss: 0.3751 - learning_rate: 0.0010\n",
      "Epoch 6/100\n",
      "\u001b[1m160/160\u001b[0m \u001b[32m━━━━━━━━━━━━━━━━━━━━\u001b[0m\u001b[37m\u001b[0m \u001b[1m3s\u001b[0m 22ms/step - accuracy: 0.8666 - loss: 0.3683 - val_accuracy: 0.8398 - val_loss: 0.3843 - learning_rate: 0.0010\n",
      "Epoch 7/100\n",
      "\u001b[1m160/160\u001b[0m \u001b[32m━━━━━━━━━━━━━━━━━━━━\u001b[0m\u001b[37m\u001b[0m \u001b[1m3s\u001b[0m 22ms/step - accuracy: 0.8648 - loss: 0.3544 - val_accuracy: 0.8477 - val_loss: 0.3659 - learning_rate: 0.0010\n",
      "Epoch 8/100\n",
      "\u001b[1m160/160\u001b[0m \u001b[32m━━━━━━━━━━━━━━━━━━━━\u001b[0m\u001b[37m\u001b[0m \u001b[1m3s\u001b[0m 22ms/step - accuracy: 0.8753 - loss: 0.3269 - val_accuracy: 0.8508 - val_loss: 0.3445 - learning_rate: 0.0010\n",
      "Epoch 9/100\n",
      "\u001b[1m160/160\u001b[0m \u001b[32m━━━━━━━━━━━━━━━━━━━━\u001b[0m\u001b[37m\u001b[0m \u001b[1m3s\u001b[0m 22ms/step - accuracy: 0.8765 - loss: 0.3179 - val_accuracy: 0.8117 - val_loss: 0.4099 - learning_rate: 0.0010\n",
      "Epoch 10/100\n",
      "\u001b[1m160/160\u001b[0m \u001b[32m━━━━━━━━━━━━━━━━━━━━\u001b[0m\u001b[37m\u001b[0m \u001b[1m3s\u001b[0m 22ms/step - accuracy: 0.8699 - loss: 0.3325 - val_accuracy: 0.8570 - val_loss: 0.3176 - learning_rate: 0.0010\n",
      "Epoch 11/100\n",
      "\u001b[1m160/160\u001b[0m \u001b[32m━━━━━━━━━━━━━━━━━━━━\u001b[0m\u001b[37m\u001b[0m \u001b[1m3s\u001b[0m 22ms/step - accuracy: 0.8828 - loss: 0.3002 - val_accuracy: 0.8586 - val_loss: 0.3173 - learning_rate: 0.0010\n",
      "Epoch 12/100\n",
      "\u001b[1m160/160\u001b[0m \u001b[32m━━━━━━━━━━━━━━━━━━━━\u001b[0m\u001b[37m\u001b[0m \u001b[1m3s\u001b[0m 22ms/step - accuracy: 0.8851 - loss: 0.2904 - val_accuracy: 0.8523 - val_loss: 0.3297 - learning_rate: 0.0010\n",
      "Epoch 13/100\n",
      "\u001b[1m160/160\u001b[0m \u001b[32m━━━━━━━━━━━━━━━━━━━━\u001b[0m\u001b[37m\u001b[0m \u001b[1m3s\u001b[0m 21ms/step - accuracy: 0.8850 - loss: 0.2947 - val_accuracy: 0.8539 - val_loss: 0.3221 - learning_rate: 0.0010\n",
      "Epoch 14/100\n",
      "\u001b[1m160/160\u001b[0m \u001b[32m━━━━━━━━━━━━━━━━━━━━\u001b[0m\u001b[37m\u001b[0m \u001b[1m3s\u001b[0m 22ms/step - accuracy: 0.8867 - loss: 0.2846 - val_accuracy: 0.8594 - val_loss: 0.3090 - learning_rate: 0.0010\n",
      "Epoch 15/100\n",
      "\u001b[1m160/160\u001b[0m \u001b[32m━━━━━━━━━━━━━━━━━━━━\u001b[0m\u001b[37m\u001b[0m \u001b[1m3s\u001b[0m 22ms/step - accuracy: 0.8781 - loss: 0.2953 - val_accuracy: 0.8555 - val_loss: 0.3032 - learning_rate: 0.0010\n",
      "Epoch 16/100\n",
      "\u001b[1m160/160\u001b[0m \u001b[32m━━━━━━━━━━━━━━━━━━━━\u001b[0m\u001b[37m\u001b[0m \u001b[1m3s\u001b[0m 22ms/step - accuracy: 0.8829 - loss: 0.2829 - val_accuracy: 0.8633 - val_loss: 0.3358 - learning_rate: 0.0010\n",
      "Epoch 17/100\n",
      "\u001b[1m160/160\u001b[0m \u001b[32m━━━━━━━━━━━━━━━━━━━━\u001b[0m\u001b[37m\u001b[0m \u001b[1m3s\u001b[0m 22ms/step - accuracy: 0.8869 - loss: 0.2768 - val_accuracy: 0.8586 - val_loss: 0.3135 - learning_rate: 0.0010\n",
      "Epoch 18/100\n",
      "\u001b[1m160/160\u001b[0m \u001b[32m━━━━━━━━━━━━━━━━━━━━\u001b[0m\u001b[37m\u001b[0m \u001b[1m3s\u001b[0m 22ms/step - accuracy: 0.8956 - loss: 0.2693 - val_accuracy: 0.8555 - val_loss: 0.3100 - learning_rate: 0.0010\n",
      "Epoch 19/100\n",
      "\u001b[1m160/160\u001b[0m \u001b[32m━━━━━━━━━━━━━━━━━━━━\u001b[0m\u001b[37m\u001b[0m \u001b[1m3s\u001b[0m 21ms/step - accuracy: 0.8934 - loss: 0.2586 - val_accuracy: 0.8625 - val_loss: 0.3180 - learning_rate: 0.0010\n",
      "Epoch 20/100\n",
      "\u001b[1m160/160\u001b[0m \u001b[32m━━━━━━━━━━━━━━━━━━━━\u001b[0m\u001b[37m\u001b[0m \u001b[1m3s\u001b[0m 22ms/step - accuracy: 0.8959 - loss: 0.2608 - val_accuracy: 0.8695 - val_loss: 0.2967 - learning_rate: 0.0010\n",
      "Epoch 21/100\n",
      "\u001b[1m160/160\u001b[0m \u001b[32m━━━━━━━━━━━━━━━━━━━━\u001b[0m\u001b[37m\u001b[0m \u001b[1m5s\u001b[0m 22ms/step - accuracy: 0.8895 - loss: 0.2699 - val_accuracy: 0.8672 - val_loss: 0.3165 - learning_rate: 0.0010\n",
      "Epoch 22/100\n",
      "\u001b[1m160/160\u001b[0m \u001b[32m━━━━━━━━━━━━━━━━━━━━\u001b[0m\u001b[37m\u001b[0m \u001b[1m3s\u001b[0m 21ms/step - accuracy: 0.8959 - loss: 0.2445 - val_accuracy: 0.8633 - val_loss: 0.3193 - learning_rate: 0.0010\n",
      "Epoch 23/100\n",
      "\u001b[1m160/160\u001b[0m \u001b[32m━━━━━━━━━━━━━━━━━━━━\u001b[0m\u001b[37m\u001b[0m \u001b[1m3s\u001b[0m 22ms/step - accuracy: 0.8973 - loss: 0.2507 - val_accuracy: 0.8562 - val_loss: 0.3329 - learning_rate: 0.0010\n",
      "Epoch 24/100\n",
      "\u001b[1m160/160\u001b[0m \u001b[32m━━━━━━━━━━━━━━━━━━━━\u001b[0m\u001b[37m\u001b[0m \u001b[1m3s\u001b[0m 22ms/step - accuracy: 0.8921 - loss: 0.2630 - val_accuracy: 0.8594 - val_loss: 0.3373 - learning_rate: 0.0010\n",
      "Epoch 25/100\n",
      "\u001b[1m160/160\u001b[0m \u001b[32m━━━━━━━━━━━━━━━━━━━━\u001b[0m\u001b[37m\u001b[0m \u001b[1m3s\u001b[0m 22ms/step - accuracy: 0.8962 - loss: 0.2454 - val_accuracy: 0.8578 - val_loss: 0.3184 - learning_rate: 0.0010\n",
      "Epoch 26/100\n",
      "\u001b[1m160/160\u001b[0m \u001b[32m━━━━━━━━━━━━━━━━━━━━\u001b[0m\u001b[37m\u001b[0m \u001b[1m5s\u001b[0m 21ms/step - accuracy: 0.9058 - loss: 0.2291 - val_accuracy: 0.8438 - val_loss: 0.3516 - learning_rate: 5.0000e-04\n",
      "Epoch 27/100\n",
      "\u001b[1m160/160\u001b[0m \u001b[32m━━━━━━━━━━━━━━━━━━━━\u001b[0m\u001b[37m\u001b[0m \u001b[1m3s\u001b[0m 22ms/step - accuracy: 0.9155 - loss: 0.2124 - val_accuracy: 0.8680 - val_loss: 0.2964 - learning_rate: 5.0000e-04\n",
      "Epoch 28/100\n",
      "\u001b[1m160/160\u001b[0m \u001b[32m━━━━━━━━━━━━━━━━━━━━\u001b[0m\u001b[37m\u001b[0m \u001b[1m3s\u001b[0m 22ms/step - accuracy: 0.9066 - loss: 0.2262 - val_accuracy: 0.8680 - val_loss: 0.2968 - learning_rate: 5.0000e-04\n",
      "Epoch 29/100\n",
      "\u001b[1m160/160\u001b[0m \u001b[32m━━━━━━━━━━━━━━━━━━━━\u001b[0m\u001b[37m\u001b[0m \u001b[1m3s\u001b[0m 21ms/step - accuracy: 0.9157 - loss: 0.2120 - val_accuracy: 0.8672 - val_loss: 0.3167 - learning_rate: 5.0000e-04\n",
      "Epoch 30/100\n",
      "\u001b[1m160/160\u001b[0m \u001b[32m━━━━━━━━━━━━━━━━━━━━\u001b[0m\u001b[37m\u001b[0m \u001b[1m3s\u001b[0m 22ms/step - accuracy: 0.9128 - loss: 0.2236 - val_accuracy: 0.8453 - val_loss: 0.3491 - learning_rate: 5.0000e-04\n",
      "Epoch 31/100\n",
      "\u001b[1m160/160\u001b[0m \u001b[32m━━━━━━━━━━━━━━━━━━━━\u001b[0m\u001b[37m\u001b[0m \u001b[1m3s\u001b[0m 21ms/step - accuracy: 0.9212 - loss: 0.2015 - val_accuracy: 0.8727 - val_loss: 0.3177 - learning_rate: 5.0000e-04\n",
      "Epoch 32/100\n",
      "\u001b[1m160/160\u001b[0m \u001b[32m━━━━━━━━━━━━━━━━━━━━\u001b[0m\u001b[37m\u001b[0m \u001b[1m3s\u001b[0m 22ms/step - accuracy: 0.9240 - loss: 0.1901 - val_accuracy: 0.8516 - val_loss: 0.3408 - learning_rate: 5.0000e-04\n",
      "Epoch 33/100\n",
      "\u001b[1m160/160\u001b[0m \u001b[32m━━━━━━━━━━━━━━━━━━━━\u001b[0m\u001b[37m\u001b[0m \u001b[1m3s\u001b[0m 21ms/step - accuracy: 0.9204 - loss: 0.1956 - val_accuracy: 0.8773 - val_loss: 0.2999 - learning_rate: 2.5000e-04\n",
      "Epoch 34/100\n",
      "\u001b[1m160/160\u001b[0m \u001b[32m━━━━━━━━━━━━━━━━━━━━\u001b[0m\u001b[37m\u001b[0m \u001b[1m3s\u001b[0m 22ms/step - accuracy: 0.9247 - loss: 0.1836 - val_accuracy: 0.8703 - val_loss: 0.3088 - learning_rate: 2.5000e-04\n",
      "Epoch 35/100\n",
      "\u001b[1m160/160\u001b[0m \u001b[32m━━━━━━━━━━━━━━━━━━━━\u001b[0m\u001b[37m\u001b[0m \u001b[1m3s\u001b[0m 22ms/step - accuracy: 0.9277 - loss: 0.1783 - val_accuracy: 0.8648 - val_loss: 0.3304 - learning_rate: 2.5000e-04\n",
      "Epoch 36/100\n",
      "\u001b[1m160/160\u001b[0m \u001b[32m━━━━━━━━━━━━━━━━━━━━\u001b[0m\u001b[37m\u001b[0m \u001b[1m3s\u001b[0m 21ms/step - accuracy: 0.9317 - loss: 0.1734 - val_accuracy: 0.8758 - val_loss: 0.3206 - learning_rate: 2.5000e-04\n",
      "Epoch 37/100\n",
      "\u001b[1m160/160\u001b[0m \u001b[32m━━━━━━━━━━━━━━━━━━━━\u001b[0m\u001b[37m\u001b[0m \u001b[1m3s\u001b[0m 22ms/step - accuracy: 0.9311 - loss: 0.1711 - val_accuracy: 0.8641 - val_loss: 0.3430 - learning_rate: 2.5000e-04\n"
     ]
    },
    {
     "data": {
      "text/plain": [
       "<keras.src.callbacks.history.History at 0x797c54f48550>"
      ]
     },
     "execution_count": 59,
     "metadata": {},
     "output_type": "execute_result"
    }
   ],
   "source": [
    "import tensorflow as tf\n",
    "from tensorflow.keras import layers, models, regularizers, callbacks\n",
    "\n",
    "def create_ecg_cnn_model(input_shape):\n",
    "    model = models.Sequential()\n",
    "    \n",
    "    model.add(layers.Conv1D(filters=64, kernel_size=5, activation=None, input_shape=input_shape))\n",
    "    model.add(layers.BatchNormalization())\n",
    "    model.add(layers.LeakyReLU(alpha=0.1))  # Use LeakyReLU\n",
    "    \n",
    "    model.add(layers.Conv1D(filters=128, kernel_size=3, activation=None))\n",
    "    model.add(layers.BatchNormalization())\n",
    "    model.add(layers.LeakyReLU(alpha=0.1))\n",
    "    model.add(layers.MaxPooling1D(pool_size=2))\n",
    "    \n",
    "    model.add(layers.Conv1D(filters=256, kernel_size=3, activation=None))\n",
    "    model.add(layers.BatchNormalization())\n",
    "    model.add(layers.LeakyReLU(alpha=0.1))\n",
    "    model.add(layers.MaxPooling1D(pool_size=2))\n",
    "    \n",
    "    model.add(layers.Conv1D(filters=512, kernel_size=3, activation=None))\n",
    "    model.add(layers.BatchNormalization())\n",
    "    model.add(layers.LeakyReLU(alpha=0.1))\n",
    "    model.add(layers.MaxPooling1D(pool_size=2))\n",
    "    \n",
    "    model.add(layers.GlobalAveragePooling1D())\n",
    "    \n",
    "    model.add(layers.Dense(256, activation='relu', kernel_regularizer=regularizers.l2(0.001)))\n",
    "    model.add(layers.Dropout(0.5))\n",
    "    \n",
    "    model.add(layers.Dense(128, activation='relu', kernel_regularizer=regularizers.l2(0.001)))\n",
    "    model.add(layers.Dropout(0.5))\n",
    "    \n",
    "    model.add(layers.Dense(1, activation='sigmoid'))\n",
    "    model.compile(optimizer='adam', loss='binary_crossentropy', metrics=['accuracy'])\n",
    "    \n",
    "    return model\n",
    "\n",
    "input_shape = (1000, 12)\n",
    "model = create_ecg_cnn_model(input_shape)\n",
    "\n",
    "model.summary()\n",
    "\n",
    "early_stopping = callbacks.EarlyStopping(monitor='val_loss', patience=10, restore_best_weights=True)\n",
    "reduce_lr = callbacks.ReduceLROnPlateau(monitor='val_loss', factor=0.5, patience=5, min_lr=1e-6)\n",
    "\n",
    "model.fit(x_train, y_train, epochs=100, batch_size=32, validation_split=0.2, callbacks=[early_stopping, reduce_lr])\n"
   ]
  },
  {
   "cell_type": "code",
   "execution_count": null,
   "metadata": {},
   "outputs": [],
   "source": []
  },
  {
   "cell_type": "code",
   "execution_count": 60,
   "metadata": {
    "execution": {
     "iopub.execute_input": "2024-11-05T18:46:16.684853Z",
     "iopub.status.busy": "2024-11-05T18:46:16.683973Z",
     "iopub.status.idle": "2024-11-05T18:47:45.000550Z",
     "shell.execute_reply": "2024-11-05T18:47:44.999660Z",
     "shell.execute_reply.started": "2024-11-05T18:46:16.684816Z"
    },
    "trusted": true
   },
   "outputs": [
    {
     "name": "stdout",
     "output_type": "stream",
     "text": [
      "Epoch 1/100\n",
      "\u001b[1m200/200\u001b[0m \u001b[32m━━━━━━━━━━━━━━━━━━━━\u001b[0m\u001b[37m\u001b[0m \u001b[1m5s\u001b[0m 23ms/step - accuracy: 0.8941 - loss: 0.2766 - val_accuracy: 0.8913 - val_loss: 0.2611\n",
      "Epoch 2/100\n",
      "\u001b[1m200/200\u001b[0m \u001b[32m━━━━━━━━━━━━━━━━━━━━\u001b[0m\u001b[37m\u001b[0m \u001b[1m4s\u001b[0m 22ms/step - accuracy: 0.8922 - loss: 0.2579 - val_accuracy: 0.8931 - val_loss: 0.2550\n",
      "Epoch 3/100\n",
      "\u001b[1m200/200\u001b[0m \u001b[32m━━━━━━━━━━━━━━━━━━━━\u001b[0m\u001b[37m\u001b[0m \u001b[1m4s\u001b[0m 22ms/step - accuracy: 0.9041 - loss: 0.2530 - val_accuracy: 0.8913 - val_loss: 0.2602\n",
      "Epoch 4/100\n",
      "\u001b[1m200/200\u001b[0m \u001b[32m━━━━━━━━━━━━━━━━━━━━\u001b[0m\u001b[37m\u001b[0m \u001b[1m4s\u001b[0m 21ms/step - accuracy: 0.8984 - loss: 0.2542 - val_accuracy: 0.8931 - val_loss: 0.2563\n",
      "Epoch 5/100\n",
      "\u001b[1m200/200\u001b[0m \u001b[32m━━━━━━━━━━━━━━━━━━━━\u001b[0m\u001b[37m\u001b[0m \u001b[1m4s\u001b[0m 22ms/step - accuracy: 0.8998 - loss: 0.2523 - val_accuracy: 0.8994 - val_loss: 0.2501\n",
      "Epoch 6/100\n",
      "\u001b[1m200/200\u001b[0m \u001b[32m━━━━━━━━━━━━━━━━━━━━\u001b[0m\u001b[37m\u001b[0m \u001b[1m4s\u001b[0m 22ms/step - accuracy: 0.8897 - loss: 0.2673 - val_accuracy: 0.8950 - val_loss: 0.2515\n",
      "Epoch 7/100\n",
      "\u001b[1m200/200\u001b[0m \u001b[32m━━━━━━━━━━━━━━━━━━━━\u001b[0m\u001b[37m\u001b[0m \u001b[1m4s\u001b[0m 22ms/step - accuracy: 0.8983 - loss: 0.2539 - val_accuracy: 0.8913 - val_loss: 0.2630\n",
      "Epoch 8/100\n",
      "\u001b[1m200/200\u001b[0m \u001b[32m━━━━━━━━━━━━━━━━━━━━\u001b[0m\u001b[37m\u001b[0m \u001b[1m4s\u001b[0m 22ms/step - accuracy: 0.9014 - loss: 0.2425 - val_accuracy: 0.8975 - val_loss: 0.2507\n",
      "Epoch 9/100\n",
      "\u001b[1m200/200\u001b[0m \u001b[32m━━━━━━━━━━━━━━━━━━━━\u001b[0m\u001b[37m\u001b[0m \u001b[1m4s\u001b[0m 21ms/step - accuracy: 0.9028 - loss: 0.2430 - val_accuracy: 0.8969 - val_loss: 0.2511\n",
      "Epoch 10/100\n",
      "\u001b[1m200/200\u001b[0m \u001b[32m━━━━━━━━━━━━━━━━━━━━\u001b[0m\u001b[37m\u001b[0m \u001b[1m4s\u001b[0m 22ms/step - accuracy: 0.9075 - loss: 0.2338 - val_accuracy: 0.8975 - val_loss: 0.2496\n",
      "Epoch 11/100\n",
      "\u001b[1m200/200\u001b[0m \u001b[32m━━━━━━━━━━━━━━━━━━━━\u001b[0m\u001b[37m\u001b[0m \u001b[1m4s\u001b[0m 22ms/step - accuracy: 0.8983 - loss: 0.2484 - val_accuracy: 0.8931 - val_loss: 0.2551\n",
      "Epoch 12/100\n",
      "\u001b[1m200/200\u001b[0m \u001b[32m━━━━━━━━━━━━━━━━━━━━\u001b[0m\u001b[37m\u001b[0m \u001b[1m4s\u001b[0m 21ms/step - accuracy: 0.9113 - loss: 0.2270 - val_accuracy: 0.8981 - val_loss: 0.2596\n",
      "Epoch 13/100\n",
      "\u001b[1m200/200\u001b[0m \u001b[32m━━━━━━━━━━━━━━━━━━━━\u001b[0m\u001b[37m\u001b[0m \u001b[1m4s\u001b[0m 21ms/step - accuracy: 0.9083 - loss: 0.2279 - val_accuracy: 0.9000 - val_loss: 0.2512\n",
      "Epoch 14/100\n",
      "\u001b[1m200/200\u001b[0m \u001b[32m━━━━━━━━━━━━━━━━━━━━\u001b[0m\u001b[37m\u001b[0m \u001b[1m4s\u001b[0m 21ms/step - accuracy: 0.9132 - loss: 0.2203 - val_accuracy: 0.9019 - val_loss: 0.2507\n",
      "Epoch 15/100\n",
      "\u001b[1m200/200\u001b[0m \u001b[32m━━━━━━━━━━━━━━━━━━━━\u001b[0m\u001b[37m\u001b[0m \u001b[1m4s\u001b[0m 21ms/step - accuracy: 0.9097 - loss: 0.2324 - val_accuracy: 0.9013 - val_loss: 0.2499\n",
      "Epoch 16/100\n",
      "\u001b[1m200/200\u001b[0m \u001b[32m━━━━━━━━━━━━━━━━━━━━\u001b[0m\u001b[37m\u001b[0m \u001b[1m4s\u001b[0m 21ms/step - accuracy: 0.9152 - loss: 0.2153 - val_accuracy: 0.8938 - val_loss: 0.2530\n",
      "Epoch 17/100\n",
      "\u001b[1m200/200\u001b[0m \u001b[32m━━━━━━━━━━━━━━━━━━━━\u001b[0m\u001b[37m\u001b[0m \u001b[1m4s\u001b[0m 21ms/step - accuracy: 0.9132 - loss: 0.2267 - val_accuracy: 0.8981 - val_loss: 0.2549\n",
      "Epoch 18/100\n",
      "\u001b[1m200/200\u001b[0m \u001b[32m━━━━━━━━━━━━━━━━━━━━\u001b[0m\u001b[37m\u001b[0m \u001b[1m4s\u001b[0m 21ms/step - accuracy: 0.9108 - loss: 0.2212 - val_accuracy: 0.9019 - val_loss: 0.2558\n",
      "Epoch 19/100\n",
      "\u001b[1m200/200\u001b[0m \u001b[32m━━━━━━━━━━━━━━━━━━━━\u001b[0m\u001b[37m\u001b[0m \u001b[1m4s\u001b[0m 21ms/step - accuracy: 0.9162 - loss: 0.2122 - val_accuracy: 0.9006 - val_loss: 0.2574\n",
      "Epoch 20/100\n",
      "\u001b[1m200/200\u001b[0m \u001b[32m━━━━━━━━━━━━━━━━━━━━\u001b[0m\u001b[37m\u001b[0m \u001b[1m4s\u001b[0m 21ms/step - accuracy: 0.9174 - loss: 0.2107 - val_accuracy: 0.8969 - val_loss: 0.2555\n"
     ]
    }
   ],
   "source": [
    "indices_0 = np.where(y_train_encoded['CD'] == 0)[0] \n",
    "indices_1 = np.where(y_train_encoded['CD'] == 1)[0]\n",
    "selected_indices_0=np.random.choice(indices_0, 4000, replace=False)\n",
    "selected_indices_1=np.random.choice(indices_1, 4000, replace=False)\n",
    "x_train_norm0=X_train[selected_indices_0]\n",
    "x_train_norm1=X_train[selected_indices_1]\n",
    "y_train_norm0=y_train_encoded.iloc[selected_indices_0,3]\n",
    "y_train_norm1=y_train_encoded.iloc[selected_indices_1,3]\n",
    "x_train= np.concatenate([x_train_norm0, x_train_norm1], axis=0)\n",
    "y_train=np.concatenate([y_train_norm0, y_train_norm1], axis=0)\n",
    "x_train, val_data, y_train, val_labels = train_test_split(\n",
    "    x_train, y_train, test_size=0.2, random_state=42\n",
    ")\n",
    "\n",
    "# Training the model\n",
    "history = model.fit(\n",
    "    x_train, y_train,\n",
    "    epochs=100, \n",
    "    batch_size=32, \n",
    "    validation_data=(val_data, val_labels), \n",
    "    callbacks=[early_stopping]\n",
    ")"
   ]
  },
  {
   "cell_type": "code",
   "execution_count": 61,
   "metadata": {
    "execution": {
     "iopub.execute_input": "2024-11-05T18:47:45.002641Z",
     "iopub.status.busy": "2024-11-05T18:47:45.002341Z",
     "iopub.status.idle": "2024-11-05T18:48:51.754704Z",
     "shell.execute_reply": "2024-11-05T18:48:51.753889Z",
     "shell.execute_reply.started": "2024-11-05T18:47:45.002616Z"
    },
    "trusted": true
   },
   "outputs": [
    {
     "name": "stdout",
     "output_type": "stream",
     "text": [
      "Epoch 1/100\n",
      "\u001b[1m200/200\u001b[0m \u001b[32m━━━━━━━━━━━━━━━━━━━━\u001b[0m\u001b[37m\u001b[0m \u001b[1m5s\u001b[0m 23ms/step - accuracy: 0.8941 - loss: 0.2596 - val_accuracy: 0.8963 - val_loss: 0.2441\n",
      "Epoch 2/100\n",
      "\u001b[1m200/200\u001b[0m \u001b[32m━━━━━━━━━━━━━━━━━━━━\u001b[0m\u001b[37m\u001b[0m \u001b[1m4s\u001b[0m 22ms/step - accuracy: 0.9092 - loss: 0.2321 - val_accuracy: 0.9006 - val_loss: 0.2419\n",
      "Epoch 3/100\n",
      "\u001b[1m200/200\u001b[0m \u001b[32m━━━━━━━━━━━━━━━━━━━━\u001b[0m\u001b[37m\u001b[0m \u001b[1m4s\u001b[0m 22ms/step - accuracy: 0.9109 - loss: 0.2339 - val_accuracy: 0.8994 - val_loss: 0.2431\n",
      "Epoch 4/100\n",
      "\u001b[1m200/200\u001b[0m \u001b[32m━━━━━━━━━━━━━━━━━━━━\u001b[0m\u001b[37m\u001b[0m \u001b[1m4s\u001b[0m 22ms/step - accuracy: 0.9144 - loss: 0.2203 - val_accuracy: 0.9019 - val_loss: 0.2360\n",
      "Epoch 5/100\n",
      "\u001b[1m200/200\u001b[0m \u001b[32m━━━━━━━━━━━━━━━━━━━━\u001b[0m\u001b[37m\u001b[0m \u001b[1m4s\u001b[0m 22ms/step - accuracy: 0.9103 - loss: 0.2282 - val_accuracy: 0.8981 - val_loss: 0.2352\n",
      "Epoch 6/100\n",
      "\u001b[1m200/200\u001b[0m \u001b[32m━━━━━━━━━━━━━━━━━━━━\u001b[0m\u001b[37m\u001b[0m \u001b[1m4s\u001b[0m 21ms/step - accuracy: 0.9129 - loss: 0.2182 - val_accuracy: 0.8981 - val_loss: 0.2376\n",
      "Epoch 7/100\n",
      "\u001b[1m200/200\u001b[0m \u001b[32m━━━━━━━━━━━━━━━━━━━━\u001b[0m\u001b[37m\u001b[0m \u001b[1m4s\u001b[0m 21ms/step - accuracy: 0.9117 - loss: 0.2325 - val_accuracy: 0.8963 - val_loss: 0.2372\n",
      "Epoch 8/100\n",
      "\u001b[1m200/200\u001b[0m \u001b[32m━━━━━━━━━━━━━━━━━━━━\u001b[0m\u001b[37m\u001b[0m \u001b[1m4s\u001b[0m 21ms/step - accuracy: 0.9179 - loss: 0.2165 - val_accuracy: 0.8981 - val_loss: 0.2375\n",
      "Epoch 9/100\n",
      "\u001b[1m200/200\u001b[0m \u001b[32m━━━━━━━━━━━━━━━━━━━━\u001b[0m\u001b[37m\u001b[0m \u001b[1m4s\u001b[0m 22ms/step - accuracy: 0.9159 - loss: 0.2229 - val_accuracy: 0.8931 - val_loss: 0.2405\n",
      "Epoch 10/100\n",
      "\u001b[1m200/200\u001b[0m \u001b[32m━━━━━━━━━━━━━━━━━━━━\u001b[0m\u001b[37m\u001b[0m \u001b[1m4s\u001b[0m 21ms/step - accuracy: 0.9138 - loss: 0.2181 - val_accuracy: 0.9006 - val_loss: 0.2424\n",
      "Epoch 11/100\n",
      "\u001b[1m200/200\u001b[0m \u001b[32m━━━━━━━━━━━━━━━━━━━━\u001b[0m\u001b[37m\u001b[0m \u001b[1m4s\u001b[0m 21ms/step - accuracy: 0.9157 - loss: 0.2185 - val_accuracy: 0.8950 - val_loss: 0.2418\n",
      "Epoch 12/100\n",
      "\u001b[1m200/200\u001b[0m \u001b[32m━━━━━━━━━━━━━━━━━━━━\u001b[0m\u001b[37m\u001b[0m \u001b[1m4s\u001b[0m 22ms/step - accuracy: 0.9142 - loss: 0.2198 - val_accuracy: 0.8956 - val_loss: 0.2468\n",
      "Epoch 13/100\n",
      "\u001b[1m200/200\u001b[0m \u001b[32m━━━━━━━━━━━━━━━━━━━━\u001b[0m\u001b[37m\u001b[0m \u001b[1m4s\u001b[0m 21ms/step - accuracy: 0.9213 - loss: 0.2022 - val_accuracy: 0.8988 - val_loss: 0.2426\n",
      "Epoch 14/100\n",
      "\u001b[1m200/200\u001b[0m \u001b[32m━━━━━━━━━━━━━━━━━━━━\u001b[0m\u001b[37m\u001b[0m \u001b[1m4s\u001b[0m 21ms/step - accuracy: 0.9208 - loss: 0.2051 - val_accuracy: 0.8956 - val_loss: 0.2494\n",
      "Epoch 15/100\n",
      "\u001b[1m200/200\u001b[0m \u001b[32m━━━━━━━━━━━━━━━━━━━━\u001b[0m\u001b[37m\u001b[0m \u001b[1m4s\u001b[0m 21ms/step - accuracy: 0.9231 - loss: 0.2085 - val_accuracy: 0.8925 - val_loss: 0.2515\n"
     ]
    }
   ],
   "source": [
    "indices_0 = np.where(y_train_encoded['STTC'] == 0)[0] \n",
    "indices_1 = np.where(y_train_encoded['STTC'] == 1)[0]\n",
    "selected_indices_0=np.random.choice(indices_0, 4000, replace=False)\n",
    "selected_indices_1=np.random.choice(indices_1, 4000, replace=False)\n",
    "x_train_norm0=X_train[selected_indices_0]\n",
    "x_train_norm1=X_train[selected_indices_1]\n",
    "y_train_norm0=y_train_encoded.iloc[selected_indices_0,3]\n",
    "y_train_norm1=y_train_encoded.iloc[selected_indices_1,3]\n",
    "x_train= np.concatenate([x_train_norm0, x_train_norm1], axis=0)\n",
    "y_train=np.concatenate([y_train_norm0, y_train_norm1], axis=0)\n",
    "x_train, val_data, y_train, val_labels = train_test_split(\n",
    "    x_train, y_train, test_size=0.2, random_state=42\n",
    ")\n",
    "\n",
    "# Training the model\n",
    "history = model.fit(\n",
    "    x_train, y_train,\n",
    "    epochs=100, \n",
    "    batch_size=32, \n",
    "    validation_data=(val_data, val_labels), \n",
    "    callbacks=[early_stopping]\n",
    ")"
   ]
  },
  {
   "cell_type": "code",
   "execution_count": 62,
   "metadata": {
    "execution": {
     "iopub.execute_input": "2024-11-05T18:48:51.756544Z",
     "iopub.status.busy": "2024-11-05T18:48:51.756259Z",
     "iopub.status.idle": "2024-11-05T18:49:36.785279Z",
     "shell.execute_reply": "2024-11-05T18:49:36.784349Z",
     "shell.execute_reply.started": "2024-11-05T18:48:51.756519Z"
    },
    "trusted": true
   },
   "outputs": [
    {
     "name": "stdout",
     "output_type": "stream",
     "text": [
      "Epoch 1/100\n",
      "\u001b[1m200/200\u001b[0m \u001b[32m━━━━━━━━━━━━━━━━━━━━\u001b[0m\u001b[37m\u001b[0m \u001b[1m5s\u001b[0m 23ms/step - accuracy: 0.8987 - loss: 0.2477 - val_accuracy: 0.9031 - val_loss: 0.2405\n",
      "Epoch 2/100\n",
      "\u001b[1m200/200\u001b[0m \u001b[32m━━━━━━━━━━━━━━━━━━━━\u001b[0m\u001b[37m\u001b[0m \u001b[1m4s\u001b[0m 22ms/step - accuracy: 0.9037 - loss: 0.2366 - val_accuracy: 0.9031 - val_loss: 0.2367\n",
      "Epoch 3/100\n",
      "\u001b[1m200/200\u001b[0m \u001b[32m━━━━━━━━━━━━━━━━━━━━\u001b[0m\u001b[37m\u001b[0m \u001b[1m4s\u001b[0m 21ms/step - accuracy: 0.9060 - loss: 0.2324 - val_accuracy: 0.8956 - val_loss: 0.2413\n",
      "Epoch 4/100\n",
      "\u001b[1m200/200\u001b[0m \u001b[32m━━━━━━━━━━━━━━━━━━━━\u001b[0m\u001b[37m\u001b[0m \u001b[1m4s\u001b[0m 21ms/step - accuracy: 0.9093 - loss: 0.2299 - val_accuracy: 0.8850 - val_loss: 0.2494\n",
      "Epoch 5/100\n",
      "\u001b[1m200/200\u001b[0m \u001b[32m━━━━━━━━━━━━━━━━━━━━\u001b[0m\u001b[37m\u001b[0m \u001b[1m4s\u001b[0m 21ms/step - accuracy: 0.9181 - loss: 0.2217 - val_accuracy: 0.9006 - val_loss: 0.2373\n",
      "Epoch 6/100\n",
      "\u001b[1m200/200\u001b[0m \u001b[32m━━━━━━━━━━━━━━━━━━━━\u001b[0m\u001b[37m\u001b[0m \u001b[1m4s\u001b[0m 21ms/step - accuracy: 0.9112 - loss: 0.2172 - val_accuracy: 0.8956 - val_loss: 0.2385\n",
      "Epoch 7/100\n",
      "\u001b[1m200/200\u001b[0m \u001b[32m━━━━━━━━━━━━━━━━━━━━\u001b[0m\u001b[37m\u001b[0m \u001b[1m4s\u001b[0m 21ms/step - accuracy: 0.9069 - loss: 0.2261 - val_accuracy: 0.8919 - val_loss: 0.2383\n",
      "Epoch 8/100\n",
      "\u001b[1m200/200\u001b[0m \u001b[32m━━━━━━━━━━━━━━━━━━━━\u001b[0m\u001b[37m\u001b[0m \u001b[1m4s\u001b[0m 22ms/step - accuracy: 0.9131 - loss: 0.2136 - val_accuracy: 0.8994 - val_loss: 0.2441\n",
      "Epoch 9/100\n",
      "\u001b[1m200/200\u001b[0m \u001b[32m━━━━━━━━━━━━━━━━━━━━\u001b[0m\u001b[37m\u001b[0m \u001b[1m4s\u001b[0m 22ms/step - accuracy: 0.9131 - loss: 0.2183 - val_accuracy: 0.8988 - val_loss: 0.2416\n",
      "Epoch 10/100\n",
      "\u001b[1m200/200\u001b[0m \u001b[32m━━━━━━━━━━━━━━━━━━━━\u001b[0m\u001b[37m\u001b[0m \u001b[1m4s\u001b[0m 21ms/step - accuracy: 0.9181 - loss: 0.2090 - val_accuracy: 0.8888 - val_loss: 0.2495\n"
     ]
    }
   ],
   "source": [
    "indices_0 = np.where(y_train_encoded['MI'] == 0)[0] \n",
    "indices_1 = np.where(y_train_encoded['MI'] == 1)[0]\n",
    "selected_indices_0=np.random.choice(indices_0, 4000, replace=False)\n",
    "selected_indices_1=np.random.choice(indices_1, 4000, replace=False)\n",
    "x_train_norm0=X_train[selected_indices_0]\n",
    "x_train_norm1=X_train[selected_indices_1]\n",
    "y_train_norm0=y_train_encoded.iloc[selected_indices_0,3]\n",
    "y_train_norm1=y_train_encoded.iloc[selected_indices_1,3]\n",
    "x_train= np.concatenate([x_train_norm0, x_train_norm1], axis=0)\n",
    "y_train=np.concatenate([y_train_norm0, y_train_norm1], axis=0)\n",
    "x_train, val_data, y_train, val_labels = train_test_split(\n",
    "    x_train, y_train, test_size=0.2, random_state=42\n",
    ")\n",
    "\n",
    "# Training the model\n",
    "history = model.fit(\n",
    "    x_train, y_train,\n",
    "    epochs=100, \n",
    "    batch_size=32, \n",
    "    validation_data=(val_data, val_labels), \n",
    "    callbacks=[early_stopping]\n",
    ")"
   ]
  },
  {
   "cell_type": "code",
   "execution_count": 63,
   "metadata": {
    "execution": {
     "iopub.execute_input": "2024-11-05T18:49:36.788117Z",
     "iopub.status.busy": "2024-11-05T18:49:36.787736Z",
     "iopub.status.idle": "2024-11-05T18:50:06.104165Z",
     "shell.execute_reply": "2024-11-05T18:50:06.103196Z",
     "shell.execute_reply.started": "2024-11-05T18:49:36.788081Z"
    },
    "trusted": true
   },
   "outputs": [
    {
     "name": "stdout",
     "output_type": "stream",
     "text": [
      "Epoch 1/100\n",
      "\u001b[1m100/100\u001b[0m \u001b[32m━━━━━━━━━━━━━━━━━━━━\u001b[0m\u001b[37m\u001b[0m \u001b[1m2s\u001b[0m 22ms/step - accuracy: 0.8914 - loss: 0.2538 - val_accuracy: 0.8800 - val_loss: 0.2790\n",
      "Epoch 2/100\n",
      "\u001b[1m100/100\u001b[0m \u001b[32m━━━━━━━━━━━━━━━━━━━━\u001b[0m\u001b[37m\u001b[0m \u001b[1m2s\u001b[0m 22ms/step - accuracy: 0.9166 - loss: 0.2153 - val_accuracy: 0.9025 - val_loss: 0.2360\n",
      "Epoch 3/100\n",
      "\u001b[1m100/100\u001b[0m \u001b[32m━━━━━━━━━━━━━━━━━━━━\u001b[0m\u001b[37m\u001b[0m \u001b[1m2s\u001b[0m 22ms/step - accuracy: 0.9104 - loss: 0.2217 - val_accuracy: 0.9100 - val_loss: 0.2269\n",
      "Epoch 4/100\n",
      "\u001b[1m100/100\u001b[0m \u001b[32m━━━━━━━━━━━━━━━━━━━━\u001b[0m\u001b[37m\u001b[0m \u001b[1m2s\u001b[0m 22ms/step - accuracy: 0.9180 - loss: 0.2060 - val_accuracy: 0.9100 - val_loss: 0.2284\n",
      "Epoch 5/100\n",
      "\u001b[1m100/100\u001b[0m \u001b[32m━━━━━━━━━━━━━━━━━━━━\u001b[0m\u001b[37m\u001b[0m \u001b[1m2s\u001b[0m 22ms/step - accuracy: 0.9105 - loss: 0.2189 - val_accuracy: 0.9050 - val_loss: 0.2330\n",
      "Epoch 6/100\n",
      "\u001b[1m100/100\u001b[0m \u001b[32m━━━━━━━━━━━━━━━━━━━━\u001b[0m\u001b[37m\u001b[0m \u001b[1m2s\u001b[0m 22ms/step - accuracy: 0.9155 - loss: 0.2003 - val_accuracy: 0.9038 - val_loss: 0.2321\n",
      "Epoch 7/100\n",
      "\u001b[1m100/100\u001b[0m \u001b[32m━━━━━━━━━━━━━━━━━━━━\u001b[0m\u001b[37m\u001b[0m \u001b[1m2s\u001b[0m 22ms/step - accuracy: 0.9250 - loss: 0.2025 - val_accuracy: 0.8975 - val_loss: 0.2392\n",
      "Epoch 8/100\n",
      "\u001b[1m100/100\u001b[0m \u001b[32m━━━━━━━━━━━━━━━━━━━━\u001b[0m\u001b[37m\u001b[0m \u001b[1m2s\u001b[0m 22ms/step - accuracy: 0.9261 - loss: 0.1882 - val_accuracy: 0.8988 - val_loss: 0.2392\n",
      "Epoch 9/100\n",
      "\u001b[1m100/100\u001b[0m \u001b[32m━━━━━━━━━━━━━━━━━━━━\u001b[0m\u001b[37m\u001b[0m \u001b[1m2s\u001b[0m 22ms/step - accuracy: 0.9170 - loss: 0.1926 - val_accuracy: 0.8988 - val_loss: 0.2447\n",
      "Epoch 10/100\n",
      "\u001b[1m100/100\u001b[0m \u001b[32m━━━━━━━━━━━━━━━━━━━━\u001b[0m\u001b[37m\u001b[0m \u001b[1m2s\u001b[0m 22ms/step - accuracy: 0.9237 - loss: 0.1918 - val_accuracy: 0.8938 - val_loss: 0.2491\n",
      "Epoch 11/100\n",
      "\u001b[1m100/100\u001b[0m \u001b[32m━━━━━━━━━━━━━━━━━━━━\u001b[0m\u001b[37m\u001b[0m \u001b[1m2s\u001b[0m 22ms/step - accuracy: 0.9328 - loss: 0.1715 - val_accuracy: 0.8975 - val_loss: 0.2412\n",
      "Epoch 12/100\n",
      "\u001b[1m100/100\u001b[0m \u001b[32m━━━━━━━━━━━━━━━━━━━━\u001b[0m\u001b[37m\u001b[0m \u001b[1m2s\u001b[0m 22ms/step - accuracy: 0.9314 - loss: 0.1672 - val_accuracy: 0.8900 - val_loss: 0.2566\n",
      "Epoch 13/100\n",
      "\u001b[1m100/100\u001b[0m \u001b[32m━━━━━━━━━━━━━━━━━━━━\u001b[0m\u001b[37m\u001b[0m \u001b[1m2s\u001b[0m 22ms/step - accuracy: 0.9292 - loss: 0.1767 - val_accuracy: 0.8913 - val_loss: 0.2550\n"
     ]
    }
   ],
   "source": [
    "indices_0 = np.where(y_train_encoded['HYP'] == 0)[0] \n",
    "indices_1 = np.where(y_train_encoded['HYP'] == 1)[0]\n",
    "selected_indices_0=np.random.choice(indices_0, 2000, replace=False)\n",
    "selected_indices_1=np.random.choice(indices_1, 2000, replace=False)\n",
    "x_train_norm0=X_train[selected_indices_0]\n",
    "x_train_norm1=X_train[selected_indices_1]\n",
    "y_train_norm0=y_train_encoded.iloc[selected_indices_0,3]\n",
    "y_train_norm1=y_train_encoded.iloc[selected_indices_1,3]\n",
    "x_train= np.concatenate([x_train_norm0, x_train_norm1], axis=0)\n",
    "y_train=np.concatenate([y_train_norm0, y_train_norm1], axis=0)\n",
    "x_train, val_data, y_train, val_labels = train_test_split(\n",
    "    x_train, y_train, test_size=0.2, random_state=42\n",
    ")\n",
    "\n",
    "# Training the model\n",
    "history = model.fit(\n",
    "    x_train, y_train,\n",
    "    epochs=100, \n",
    "    batch_size=32, \n",
    "    validation_data=(val_data, val_labels), \n",
    "    callbacks=[early_stopping]\n",
    ")"
   ]
  },
  {
   "cell_type": "code",
   "execution_count": null,
   "metadata": {},
   "outputs": [],
   "source": []
  },
  {
   "cell_type": "code",
   "execution_count": null,
   "metadata": {},
   "outputs": [],
   "source": []
  }
 ],
 "metadata": {
  "colab": {
   "provenance": []
  },
  "kaggle": {
   "accelerator": "nvidiaTeslaT4",
   "dataSources": [
    {
     "datasetId": 5505348,
     "sourceId": 9120047,
     "sourceType": "datasetVersion"
    }
   ],
   "dockerImageVersionId": 30746,
   "isGpuEnabled": true,
   "isInternetEnabled": true,
   "language": "python",
   "sourceType": "notebook"
  },
  "kernelspec": {
   "display_name": "Python 3",
   "language": "python",
   "name": "python3"
  },
  "language_info": {
   "codemirror_mode": {
    "name": "ipython",
    "version": 3
   },
   "file_extension": ".py",
   "mimetype": "text/x-python",
   "name": "python",
   "nbconvert_exporter": "python",
   "pygments_lexer": "ipython3",
   "version": "3.10.13"
  },
  "papermill": {
   "default_parameters": {},
   "duration": 415.766062,
   "end_time": "2024-08-07T05:40:01.516582",
   "environment_variables": {},
   "exception": null,
   "input_path": "__notebook__.ipynb",
   "output_path": "__notebook__.ipynb",
   "parameters": {},
   "start_time": "2024-08-07T05:33:05.750520",
   "version": "2.5.0"
  }
 },
 "nbformat": 4,
 "nbformat_minor": 5
}
